{
 "cells": [
  {
   "cell_type": "code",
   "execution_count": null,
   "metadata": {},
   "outputs": [],
   "source": [
    "import pandas as pd\n"
   ]
  },
  {
   "cell_type": "code",
   "execution_count": null,
   "metadata": {},
   "outputs": [],
   "source": [
    "conda activate qiime2-2021.11\n"
   ]
  },
  {
   "cell_type": "markdown",
   "metadata": {},
   "source": [
    "# Import FASTQ data - Re-run plates"
   ]
  },
  {
   "cell_type": "markdown",
   "metadata": {},
   "source": [
    "## Original data"
   ]
  },
  {
   "cell_type": "markdown",
   "metadata": {},
   "source": [
    "Plates 1-6"
   ]
  },
  {
   "cell_type": "code",
   "execution_count": null,
   "metadata": {},
   "outputs": [],
   "source": [
    "cp /sequencing/ucsd/complete_runs/190404_M05314_0165_000000000-CCHK7/*.fastq.gz /projects/dna_extraction_12201/round_02_six_kit_comparison/data/ITS/01_raw_fastq/original_run1_plates1-6_190404_M05314_0165_000000000-CCHK7/emp-paired-end-sequences/\n"
   ]
  },
  {
   "cell_type": "code",
   "execution_count": null,
   "metadata": {},
   "outputs": [],
   "source": [
    "qiime tools import \\\n",
    "  --type EMPPairedEndSequences \\\n",
    "  --input-path /projects/dna_extraction_12201/round_02_six_kit_comparison/data/ITS/01_raw_fastq/original_run1_plates1-6_190404_M05314_0165_000000000-CCHK7/emp-paired-end-sequences \\\n",
    "  --output-path /projects/dna_extraction_12201/round_02_six_kit_comparison/data/ITS/02_imported_seqs/dna_og_ITS_plates1_6_seqs.qza\n"
   ]
  },
  {
   "cell_type": "markdown",
   "metadata": {},
   "source": [
    "Plates 7-12"
   ]
  },
  {
   "cell_type": "code",
   "execution_count": null,
   "metadata": {},
   "outputs": [],
   "source": [
    "cp /sequencing/ucsd/complete_runs/190409_M05314_0168_000000000-CCHKC/*.fastq.gz /projects/dna_extraction_12201/round_02_six_kit_comparison/data/ITS/01_raw_fastq/original_run2_plates7-12_190409_M05314_0168_000000000-CCHKC/emp-paired-end-sequences/\n"
   ]
  },
  {
   "cell_type": "code",
   "execution_count": null,
   "metadata": {},
   "outputs": [],
   "source": [
    "qiime tools import \\\n",
    "  --type EMPPairedEndSequences \\\n",
    "  --input-path /projects/dna_extraction_12201/round_02_six_kit_comparison/data/ITS/01_raw_fastq/original_run2_plates7-12_190409_M05314_0168_000000000-CCHKC/emp-paired-end-sequences \\\n",
    "  --output-path /projects/dna_extraction_12201/round_02_six_kit_comparison/data/ITS/02_imported_seqs/dna_og_ITS_plates7_12_seqs.qza\n"
   ]
  },
  {
   "cell_type": "markdown",
   "metadata": {},
   "source": [
    "Re-run on eight samples"
   ]
  },
  {
   "cell_type": "code",
   "execution_count": null,
   "metadata": {},
   "outputs": [],
   "source": [
    "cp /sequencing/ucsd/complete_runs/190416_M05314_0171_000000000-CCGYH/*fastq.gz /projects/dna_extraction_12201/round_02_six_kit_comparison/data/ITS/01_raw_fastq/original_run3_eight_sample_redo_190416_M05314_0171_000000000-CCGYH/emp-paired-end-sequences/\n"
   ]
  },
  {
   "cell_type": "code",
   "execution_count": null,
   "metadata": {},
   "outputs": [],
   "source": [
    "qiime tools import \\\n",
    "  --type EMPPairedEndSequences \\\n",
    "  --input-path /projects/dna_extraction_12201/round_02_six_kit_comparison/data/ITS/01_raw_fastq/original_run3_eight_sample_redo_190416_M05314_0171_000000000-CCGYH/emp-paired-end-sequences \\\n",
    "  --output-path /projects/dna_extraction_12201/round_02_six_kit_comparison/data/ITS/02_imported_seqs/dna_og_ITS_plates1_6_8redos_seqs.qza\n"
   ]
  },
  {
   "cell_type": "markdown",
   "metadata": {},
   "source": [
    "## Re-run for four kits"
   ]
  },
  {
   "cell_type": "markdown",
   "metadata": {},
   "source": [
    "High biomass"
   ]
  },
  {
   "cell_type": "code",
   "execution_count": null,
   "metadata": {},
   "outputs": [],
   "source": [
    "cp /sequencing/ucsd_2/complete_runs/200622_M05314_0250_000000000-CVWTM/*.fastq.gz /projects/dna_extraction_12201/round_02_six_kit_comparison/data/ITS/01_raw_fastq/rerun_run1_high_biomass_200622_M05314_0250_000000000-CVWTM/emp-paired-end-sequences/\n"
   ]
  },
  {
   "cell_type": "code",
   "execution_count": null,
   "metadata": {},
   "outputs": [],
   "source": [
    "qiime tools import \\\n",
    "  --type EMPPairedEndSequences \\\n",
    "  --input-path /projects/dna_extraction_12201/round_02_six_kit_comparison/data/ITS/01_raw_fastq/rerun_run1_high_biomass_200622_M05314_0250_000000000-CVWTM/emp-paired-end-sequences \\\n",
    "  --output-path /projects/dna_extraction_12201/round_02_six_kit_comparison/data/ITS/02_imported_seqs/dna_rerun_ITS_hbm_seqs.qza\n"
   ]
  },
  {
   "cell_type": "markdown",
   "metadata": {},
   "source": [
    "Low biomass"
   ]
  },
  {
   "cell_type": "code",
   "execution_count": null,
   "metadata": {},
   "outputs": [],
   "source": [
    "cp /sequencing/ucsd_2/complete_runs/200625_M05314_0252_000000000-J5HP8/*.fastq.gz /projects/dna_extraction_12201/round_02_six_kit_comparison/data/ITS/01_raw_fastq/rerun_run2_low_biomass_200625_M05314_0252_000000000-J5HP8/emp-paired-end-sequences/\n"
   ]
  },
  {
   "cell_type": "code",
   "execution_count": null,
   "metadata": {},
   "outputs": [],
   "source": [
    "qiime tools import \\\n",
    "  --type EMPPairedEndSequences \\\n",
    "  --input-path /projects/dna_extraction_12201/round_02_six_kit_comparison/data/ITS/01_raw_fastq/rerun_run2_low_biomass_200625_M05314_0252_000000000-J5HP8/emp-paired-end-sequences \\\n",
    "  --output-path /projects/dna_extraction_12201/round_02_six_kit_comparison/data/ITS/02_imported_seqs/dna_rerun_ITS_lbm_seqs.qza\n"
   ]
  },
  {
   "cell_type": "markdown",
   "metadata": {},
   "source": [
    "# Demultiplex"
   ]
  },
  {
   "cell_type": "markdown",
   "metadata": {},
   "source": [
    "## Original data"
   ]
  },
  {
   "cell_type": "markdown",
   "metadata": {},
   "source": [
    "Plates 1-6"
   ]
  },
  {
   "cell_type": "code",
   "execution_count": null,
   "metadata": {},
   "outputs": [],
   "source": [
    "qiime demux emp-paired \\\n",
    "  --i-seqs /projects/dna_extraction_12201/round_02_six_kit_comparison/data/ITS/02_imported_seqs/dna_og_ITS_plates1_6_seqs.qza \\\n",
    "  --m-barcodes-file /projects/dna_extraction_12201/round_02_six_kit_comparison/prep_info_files/12201_prep_info_its_plates1_6_excluding_8redos.txt \\\n",
    "  --m-barcodes-column 'barcode' \\\n",
    "  --p-rev-comp-mapping-barcodes \\\n",
    "  --o-error-correction-details /projects/dna_extraction_12201/round_02_six_kit_comparison/data/ITS/03_demux/dna_og_ITS_plates1_6_excluding_8redos_demux_info.qza \\\n",
    "  --o-per-sample-sequences /projects/dna_extraction_12201/round_02_six_kit_comparison/data/ITS/03_demux/dna_og_ITS_plates1_6_excluding_8redos_demux.qza\n",
    "\n",
    "qiime demux summarize \\\n",
    "  --i-data /projects/dna_extraction_12201/round_02_six_kit_comparison/data/ITS/03_demux/dna_og_ITS_plates1_6_excluding_8redos_demux.qza \\\n",
    "  --o-visualization /projects/dna_extraction_12201/round_02_six_kit_comparison/data/ITS/03_demux/dna_og_ITS_plates1_6_excluding_8redos_demux.qzv\n"
   ]
  },
  {
   "cell_type": "markdown",
   "metadata": {},
   "source": [
    "Plates 7-12"
   ]
  },
  {
   "cell_type": "code",
   "execution_count": null,
   "metadata": {},
   "outputs": [],
   "source": [
    "qiime demux emp-paired \\\n",
    "  --i-seqs /projects/dna_extraction_12201/round_02_six_kit_comparison/data/ITS/02_imported_seqs/dna_og_ITS_plates7_12_seqs.qza \\\n",
    "  --m-barcodes-file /projects/dna_extraction_12201/round_02_six_kit_comparison/prep_info_files/12201_prep_info_its_plates7_12.txt \\\n",
    "  --m-barcodes-column 'barcode' \\\n",
    "  --p-rev-comp-mapping-barcodes \\\n",
    "  --o-error-correction-details /projects/dna_extraction_12201/round_02_six_kit_comparison/data/ITS/03_demux/dna_og_ITS_plates7_12_demux_info.qza \\\n",
    "  --o-per-sample-sequences /projects/dna_extraction_12201/round_02_six_kit_comparison/data/ITS/03_demux/dna_og_ITS_plates7_12_demux.qza\n",
    "\n",
    "qiime demux summarize \\\n",
    "  --i-data /projects/dna_extraction_12201/round_02_six_kit_comparison/data/ITS/03_demux/dna_og_ITS_plates7_12_demux.qza \\\n",
    "  --o-visualization /projects/dna_extraction_12201/round_02_six_kit_comparison/data/ITS/03_demux/dna_og_ITS_plates7_12_demux.qzv\n"
   ]
  },
  {
   "cell_type": "markdown",
   "metadata": {},
   "source": [
    "Plates 1-6, eight sample re-run"
   ]
  },
  {
   "cell_type": "code",
   "execution_count": null,
   "metadata": {},
   "outputs": [],
   "source": [
    "qiime demux emp-paired \\\n",
    "  --i-seqs /projects/dna_extraction_12201/round_02_six_kit_comparison/data/ITS/02_imported_seqs/dna_og_ITS_plates1_6_8redos_seqs.qza \\\n",
    "  --m-barcodes-file /projects/dna_extraction_12201/round_02_six_kit_comparison/prep_info_files/12201_prep_info_its_plates1_6_8redos.txt \\\n",
    "  --m-barcodes-column 'barcode' \\\n",
    "  --p-rev-comp-mapping-barcodes \\\n",
    "  --o-error-correction-details /projects/dna_extraction_12201/round_02_six_kit_comparison/data/ITS/03_demux/dna_og_ITS_plates1_6_8redos_demux_info.qza \\\n",
    "  --o-per-sample-sequences /projects/dna_extraction_12201/round_02_six_kit_comparison/data/ITS/03_demux/dna_og_ITS_plates1_6_8redos_demux.qza\n",
    "\n",
    "qiime demux summarize \\\n",
    "  --i-data /projects/dna_extraction_12201/round_02_six_kit_comparison/data/ITS/03_demux/dna_og_ITS_plates1_6_8redos_demux.qza \\\n",
    "  --o-visualization /projects/dna_extraction_12201/round_02_six_kit_comparison/data/ITS/03_demux/dna_og_ITS_plates1_6_8redos_demux.qzv\n"
   ]
  },
  {
   "cell_type": "markdown",
   "metadata": {},
   "source": [
    "## Re-run for four kits"
   ]
  },
  {
   "cell_type": "markdown",
   "metadata": {},
   "source": [
    "High biomass"
   ]
  },
  {
   "cell_type": "code",
   "execution_count": null,
   "metadata": {},
   "outputs": [],
   "source": [
    "qiime demux emp-paired \\\n",
    "  --i-seqs /projects/dna_extraction_12201/round_02_six_kit_comparison/data/ITS/02_imported_seqs/dna_rerun_ITS_hbm_seqs.qza \\\n",
    "  --m-barcodes-file /projects/dna_extraction_12201/round_02_six_kit_comparison/prep_info_files/12201_prep_info_its_rerun_hbm_11606_20210901-184822.txt \\\n",
    "  --m-barcodes-column 'barcode' \\\n",
    "  --p-rev-comp-mapping-barcodes \\\n",
    "  --o-error-correction-details /projects/dna_extraction_12201/round_02_six_kit_comparison/data/ITS/03_demux/dna_rerun_ITS_hbm_seqs_demux_info.qza \\\n",
    "  --o-per-sample-sequences /projects/dna_extraction_12201/round_02_six_kit_comparison/data/ITS/03_demux/dna_rerun_ITS_hbm_seqs_demux.qza\n",
    "\n",
    "qiime demux summarize \\\n",
    "  --i-data /projects/dna_extraction_12201/round_02_six_kit_comparison/data/ITS/03_demux/dna_rerun_ITS_hbm_seqs_demux.qza \\\n",
    "  --o-visualization /projects/dna_extraction_12201/round_02_six_kit_comparison/data/ITS/03_demux/dna_rerun_ITS_hbm_seqs_demux.qzv\n"
   ]
  },
  {
   "cell_type": "markdown",
   "metadata": {},
   "source": [
    "Low biomass"
   ]
  },
  {
   "cell_type": "code",
   "execution_count": null,
   "metadata": {},
   "outputs": [],
   "source": [
    "qiime demux emp-paired \\\n",
    "  --i-seqs /projects/dna_extraction_12201/round_02_six_kit_comparison/data/ITS/02_imported_seqs/dna_rerun_ITS_lbm_seqs.qza \\\n",
    "  --m-barcodes-file /projects/dna_extraction_12201/round_02_six_kit_comparison/prep_info_files/12201_prep_info_its_rerun_lbm_11607_20210901-184822.txt \\\n",
    "  --m-barcodes-column 'barcode' \\\n",
    "  --p-rev-comp-mapping-barcodes \\\n",
    "  --o-error-correction-details /projects/dna_extraction_12201/round_02_six_kit_comparison/data/ITS/03_demux/dna_rerun_ITS_lbm_seqs_demux_info.qza \\\n",
    "  --o-per-sample-sequences /projects/dna_extraction_12201/round_02_six_kit_comparison/data/ITS/03_demux/dna_rerun_ITS_lbm_seqs_demux.qza\n",
    "\n",
    "qiime demux summarize \\\n",
    "  --i-data /projects/dna_extraction_12201/round_02_six_kit_comparison/data/ITS/03_demux/dna_rerun_ITS_lbm_seqs_demux.qza \\\n",
    "  --o-visualization /projects/dna_extraction_12201/round_02_six_kit_comparison/data/ITS/03_demux/dna_rerun_ITS_lbm_seqs_demux.qzv\n"
   ]
  },
  {
   "cell_type": "markdown",
   "metadata": {},
   "source": [
    "# Denoise with deblur"
   ]
  },
  {
   "cell_type": "markdown",
   "metadata": {},
   "source": [
    "## Original data"
   ]
  },
  {
   "cell_type": "markdown",
   "metadata": {},
   "source": [
    "Plates 1-6"
   ]
  },
  {
   "cell_type": "code",
   "execution_count": null,
   "metadata": {},
   "outputs": [],
   "source": [
    "#!/bin/bash\n",
    "#PBS -V\n",
    "#PBS -l nodes=1:ppn=16\n",
    "#PBS -l walltime=12:00:00\n",
    "#PBS -l mem=128gb\n",
    "#PBS -M justinparkshaffer@gmail.com\n",
    "#PBS -m abe\n",
    "\n",
    "source activate qiime2-2021.11\n",
    "\n",
    "qiime deblur denoise-other \\\n",
    "  --i-demultiplexed-seqs /projects/dna_extraction_12201/round_02_six_kit_comparison/data/ITS/03_demux/dna_og_ITS_plates1_6_excluding_8redos_demux.qza \\\n",
    "  --i-reference-seqs /home/jpshaffer/mapping_db/unite_10.05.2021/sh_refs_qiime_ver8_dynamic_s_10.05.2021_dev.qza \\\n",
    "  --p-trim-length 150 \\\n",
    "  --p-jobs-to-start 16 \\\n",
    "  --p-sample-stats \\\n",
    "  --p-no-hashed-feature-ids \\\n",
    "  --o-table /projects/dna_extraction_12201/round_02_six_kit_comparison/data/ITS/04_denoise/dna_og_ITS_plates1_6_excluding_8redos_deblur_biom.qza \\\n",
    "  --o-representative-sequences /projects/dna_extraction_12201/round_02_six_kit_comparison/data/ITS/04_denoise/dna_og_ITS_plates1_6_excluding_8redos_deblur_seqs.qza \\\n",
    "  --o-stats /projects/dna_extraction_12201/round_02_six_kit_comparison/data/ITS/04_denoise/dna_og_ITS_plates1_6_excluding_8redos_deblur_stats.qza\n",
    "\n",
    "qiime feature-table summarize \\\n",
    "  --i-table /projects/dna_extraction_12201/round_02_six_kit_comparison/data/ITS/04_denoise/dna_og_ITS_plates1_6_excluding_8redos_deblur_biom.qza \\\n",
    "  --o-visualization /projects/dna_extraction_12201/round_02_six_kit_comparison/data/ITS/04_denoise/dna_og_ITS_plates1_6_excluding_8redos_deblur_biom.qzv\n"
   ]
  },
  {
   "cell_type": "markdown",
   "metadata": {},
   "source": [
    "Plates 7-12"
   ]
  },
  {
   "cell_type": "code",
   "execution_count": null,
   "metadata": {},
   "outputs": [],
   "source": [
    "#!/bin/bash\n",
    "#PBS -V\n",
    "#PBS -l nodes=1:ppn=16\n",
    "#PBS -l walltime=12:00:00\n",
    "#PBS -l mem=128gb\n",
    "#PBS -M justinparkshaffer@gmail.com\n",
    "#PBS -m abe\n",
    "\n",
    "source activate qiime2-2021.11\n",
    "\n",
    "qiime deblur denoise-other \\\n",
    "  --i-demultiplexed-seqs /projects/dna_extraction_12201/round_02_six_kit_comparison/data/ITS/03_demux/dna_og_ITS_plates7_12_demux.qza \\\n",
    "  --i-reference-seqs /home/jpshaffer/mapping_db/unite_10.05.2021/sh_refs_qiime_ver8_dynamic_s_10.05.2021_dev.qza \\\n",
    "  --p-trim-length 150 \\\n",
    "  --p-jobs-to-start 16 \\\n",
    "  --p-sample-stats \\\n",
    "  --p-no-hashed-feature-ids \\\n",
    "  --o-table /projects/dna_extraction_12201/round_02_six_kit_comparison/data/ITS/04_denoise/dna_og_ITS_plates7_12_deblur_biom.qza \\\n",
    "  --o-representative-sequences /projects/dna_extraction_12201/round_02_six_kit_comparison/data/ITS/04_denoise/dna_og_ITS_plates7_12_deblur_seqs.qza \\\n",
    "  --o-stats /projects/dna_extraction_12201/round_02_six_kit_comparison/data/ITS/04_denoise/dna_og_ITS_plates7_12_deblur_stats.qza\n",
    "\n",
    "qiime feature-table summarize \\\n",
    "  --i-table /projects/dna_extraction_12201/round_02_six_kit_comparison/data/ITS/04_denoise/dna_og_ITS_plates7_12_deblur_biom.qza \\\n",
    "  --o-visualization /projects/dna_extraction_12201/round_02_six_kit_comparison/data/ITS/04_denoise/dna_og_ITS_plates7_12_deblur_biom.qzv\n"
   ]
  },
  {
   "cell_type": "markdown",
   "metadata": {},
   "source": [
    "Plates 1-6, eight sample re-run"
   ]
  },
  {
   "cell_type": "code",
   "execution_count": null,
   "metadata": {},
   "outputs": [],
   "source": [
    "#!/bin/bash\n",
    "#PBS -V\n",
    "#PBS -l nodes=1:ppn=16\n",
    "#PBS -l walltime=12:00:00\n",
    "#PBS -l mem=128gb\n",
    "#PBS -M justinparkshaffer@gmail.com\n",
    "#PBS -m abe\n",
    "\n",
    "source activate qiime2-2021.11\n",
    "\n",
    "qiime deblur denoise-other \\\n",
    "  --i-demultiplexed-seqs /projects/dna_extraction_12201/round_02_six_kit_comparison/data/ITS/03_demux/dna_og_ITS_plates1_6_8redos_demux.qza \\\n",
    "  --i-reference-seqs /home/jpshaffer/mapping_db/unite_10.05.2021/sh_refs_qiime_ver8_dynamic_s_10.05.2021_dev.qza \\\n",
    "  --p-trim-length 150 \\\n",
    "  --p-jobs-to-start 16 \\\n",
    "  --p-sample-stats \\\n",
    "  --p-no-hashed-feature-ids \\\n",
    "  --o-table /projects/dna_extraction_12201/round_02_six_kit_comparison/data/ITS/04_denoise/dna_og_ITS_plates1_6_8redos_deblur_biom.qza \\\n",
    "  --o-representative-sequences /projects/dna_extraction_12201/round_02_six_kit_comparison/data/ITS/04_denoise/dna_og_ITS_plates1_6_8redos_deblur_seqs.qza \\\n",
    "  --o-stats /projects/dna_extraction_12201/round_02_six_kit_comparison/data/ITS/04_denoise/dna_og_ITS_plates1_6_8redos_deblur_stats.qza\n",
    "\n",
    "qiime feature-table summarize \\\n",
    "  --i-table /projects/dna_extraction_12201/round_02_six_kit_comparison/data/ITS/04_denoise/dna_og_ITS_plates1_6_8redos_deblur_biom.qza \\\n",
    "  --o-visualization /projects/dna_extraction_12201/round_02_six_kit_comparison/data/ITS/04_denoise/dna_og_ITS_plates1_6_8redos_deblur_biom.qzv\n"
   ]
  },
  {
   "cell_type": "markdown",
   "metadata": {},
   "source": [
    "## Re-run with four kits"
   ]
  },
  {
   "cell_type": "markdown",
   "metadata": {},
   "source": [
    "High biomass"
   ]
  },
  {
   "cell_type": "code",
   "execution_count": null,
   "metadata": {},
   "outputs": [],
   "source": [
    "#!/bin/bash\n",
    "#PBS -V\n",
    "#PBS -l nodes=1:ppn=16\n",
    "#PBS -l walltime=12:00:00\n",
    "#PBS -l mem=128gb\n",
    "#PBS -M justinparkshaffer@gmail.com\n",
    "#PBS -m abe\n",
    "\n",
    "source activate qiime2-2021.11\n",
    "\n",
    "qiime deblur denoise-other \\\n",
    "  --i-demultiplexed-seqs /projects/dna_extraction_12201/round_02_six_kit_comparison/data/ITS/03_demux/dna_rerun_ITS_hbm_seqs_demux.qza \\\n",
    "  --i-reference-seqs /home/jpshaffer/mapping_db/unite_10.05.2021/sh_refs_qiime_ver8_dynamic_s_10.05.2021_dev.qza \\\n",
    "  --p-trim-length 150 \\\n",
    "  --p-jobs-to-start 16 \\\n",
    "  --p-sample-stats \\\n",
    "  --p-no-hashed-feature-ids \\\n",
    "  --o-table /projects/dna_extraction_12201/round_02_six_kit_comparison/data/ITS/04_denoise/dna_rerun_ITS_hbm_deblur_biom.qza \\\n",
    "  --o-representative-sequences /projects/dna_extraction_12201/round_02_six_kit_comparison/data/ITS/04_denoise/dna_rerun_ITS_hbm_deblur_seqs.qza \\\n",
    "  --o-stats /projects/dna_extraction_12201/round_02_six_kit_comparison/data/ITS/04_denoise/dna_rerun_ITS_hbm_deblur_stats.qza\n",
    "\n",
    "qiime feature-table summarize \\\n",
    "  --i-table /projects/dna_extraction_12201/round_02_six_kit_comparison/data/ITS/04_denoise/dna_rerun_ITS_hbm_deblur_biom.qza \\\n",
    "  --o-visualization /projects/dna_extraction_12201/round_02_six_kit_comparison/data/ITS/04_denoise/dna_rerun_ITS_hbm_deblur_biom.qzv\n"
   ]
  },
  {
   "cell_type": "markdown",
   "metadata": {},
   "source": [
    "Low biomass"
   ]
  },
  {
   "cell_type": "code",
   "execution_count": null,
   "metadata": {},
   "outputs": [],
   "source": [
    "#!/bin/bash\n",
    "#PBS -V\n",
    "#PBS -l nodes=1:ppn=16\n",
    "#PBS -l walltime=12:00:00\n",
    "#PBS -l mem=128gb\n",
    "#PBS -M justinparkshaffer@gmail.com\n",
    "#PBS -m abe\n",
    "\n",
    "source activate qiime2-2021.11\n",
    "\n",
    "qiime deblur denoise-other \\\n",
    "  --i-demultiplexed-seqs /projects/dna_extraction_12201/round_02_six_kit_comparison/data/ITS/03_demux/dna_rerun_ITS_lbm_seqs_demux.qza \\\n",
    "  --i-reference-seqs /home/jpshaffer/mapping_db/unite_10.05.2021/sh_refs_qiime_ver8_dynamic_s_10.05.2021_dev.qza \\\n",
    "  --p-trim-length 150 \\\n",
    "  --p-jobs-to-start 16 \\\n",
    "  --p-sample-stats \\\n",
    "  --p-no-hashed-feature-ids \\\n",
    "  --o-table /projects/dna_extraction_12201/round_02_six_kit_comparison/data/ITS/04_denoise/dna_rerun_ITS_lbm_deblur_biom.qza \\\n",
    "  --o-representative-sequences /projects/dna_extraction_12201/round_02_six_kit_comparison/data/ITS/04_denoise/dna_rerun_ITS_lbm_deblur_seqs.qza \\\n",
    "  --o-stats /projects/dna_extraction_12201/round_02_six_kit_comparison/data/ITS/04_denoise/dna_rerun_ITS_lbm_deblur_stats.qza\n",
    "\n",
    "qiime feature-table summarize \\\n",
    "  --i-table /projects/dna_extraction_12201/round_02_six_kit_comparison/data/ITS/04_denoise/dna_rerun_ITS_lbm_deblur_biom.qza \\\n",
    "  --o-visualization /projects/dna_extraction_12201/round_02_six_kit_comparison/data/ITS/04_denoise/dna_rerun_ITS_lbm_deblur_biom.qzv\n"
   ]
  },
  {
   "cell_type": "markdown",
   "metadata": {},
   "source": [
    "# Merge tables"
   ]
  },
  {
   "cell_type": "markdown",
   "metadata": {},
   "source": [
    "NOTE: 8 sample re-run from plates 1-6 did not pass deblur"
   ]
  },
  {
   "cell_type": "markdown",
   "metadata": {},
   "source": [
    "Round 1"
   ]
  },
  {
   "cell_type": "code",
   "execution_count": null,
   "metadata": {},
   "outputs": [],
   "source": [
    "qiime feature-table merge \\\n",
    "  --i-tables /projects/dna_extraction_12201/round_02_six_kit_comparison/data/ITS/04_denoise/dna_og_ITS_plates1_6_excluding_8redos_deblur_biom.qza \\\n",
    "  --i-tables /projects/dna_extraction_12201/round_02_six_kit_comparison/data/ITS/04_denoise/dna_og_ITS_plates7_12_deblur_biom.qza \\\n",
    "  --o-merged-table /projects/dna_extraction_12201/round_02_six_kit_comparison/data/ITS/05_merged_data/dna_og_ITS_deblur_biom.qza\n",
    "\n",
    "qiime feature-table summarize \\\n",
    "  --i-table /projects/dna_extraction_12201/round_02_six_kit_comparison/data/ITS/05_merged_data/dna_og_ITS_deblur_biom.qza \\\n",
    "  --o-visualization /projects/dna_extraction_12201/round_02_six_kit_comparison/data/ITS/05_merged_data/dna_og_ITS_deblur_biom.qzv\n",
    "\n",
    "# There are 1097 samples and 5342 features\n"
   ]
  },
  {
   "cell_type": "markdown",
   "metadata": {},
   "source": [
    "Round 2"
   ]
  },
  {
   "cell_type": "code",
   "execution_count": null,
   "metadata": {},
   "outputs": [],
   "source": [
    "qiime feature-table merge \\\n",
    "  --i-tables /projects/dna_extraction_12201/round_02_six_kit_comparison/data/ITS/04_denoise/dna_rerun_ITS_hbm_deblur_biom.qza \\\n",
    "  --i-tables /projects/dna_extraction_12201/round_02_six_kit_comparison/data/ITS/04_denoise/dna_rerun_ITS_lbm_deblur_biom.qza \\\n",
    "  --o-merged-table /projects/dna_extraction_12201/round_02_six_kit_comparison/data/ITS/05_merged_data/dna_rerun_ITS_deblur_biom.qza\n",
    "\n",
    "qiime feature-table summarize \\\n",
    "  --i-table /projects/dna_extraction_12201/round_02_six_kit_comparison/data/ITS/05_merged_data/dna_rerun_ITS_deblur_biom.qza \\\n",
    "  --o-visualization /projects/dna_extraction_12201/round_02_six_kit_comparison/data/ITS/05_merged_data/dna_rerun_ITS_deblur_biom.qzv\n",
    "\n",
    "# There are 737 samples and 3131 features\n"
   ]
  },
  {
   "cell_type": "markdown",
   "metadata": {},
   "source": [
    "## Exclude Zymo kit from round 1"
   ]
  },
  {
   "cell_type": "code",
   "execution_count": null,
   "metadata": {},
   "outputs": [],
   "source": [
    "qiime feature-table filter-samples \\\n",
    "  --i-table /projects/dna_extraction_12201/round_02_six_kit_comparison/data/ITS/05_merged_data/dna_og_ITS_deblur_biom.qza \\\n",
    "  --m-metadata-file /projects/dna_extraction_12201/round_02_six_kit_comparison/sample_metadata/12201_metadata.txt \\\n",
    "  --p-where \"[extraction_kit]!='Zymo MagBead'\" \\\n",
    "  --o-filtered-table /projects/dna_extraction_12201/round_02_six_kit_comparison/data/ITS/05_merged_data/dna_og_good_ITS_deblur_biom.qza\n",
    "\n",
    "qiime feature-table summarize \\\n",
    "  --i-table /projects/dna_extraction_12201/round_02_six_kit_comparison/data/ITS/05_merged_data/dna_og_good_ITS_deblur_biom.qza \\\n",
    "  --o-visualization /projects/dna_extraction_12201/round_02_six_kit_comparison/data/ITS/05_merged_data/dna_og_good_ITS_deblur_biom.qzv\n",
    "\n",
    "# There are 905 samples and 4834 features\n"
   ]
  },
  {
   "cell_type": "markdown",
   "metadata": {},
   "source": [
    "## Merge round 1 excluding Zymo with round 2"
   ]
  },
  {
   "cell_type": "code",
   "execution_count": null,
   "metadata": {},
   "outputs": [],
   "source": [
    "qiime feature-table merge \\\n",
    "  --i-tables /projects/dna_extraction_12201/round_02_six_kit_comparison/data/ITS/05_merged_data/dna_og_good_ITS_deblur_biom.qza \\\n",
    "  --i-tables /projects/dna_extraction_12201/round_02_six_kit_comparison/data/ITS/05_merged_data/dna_rerun_ITS_deblur_biom.qza \\\n",
    "  --o-merged-table /projects/dna_extraction_12201/round_02_six_kit_comparison/data/ITS/05_merged_data/dna_all_ITS_deblur_biom.qza\n",
    "\n",
    "qiime feature-table summarize \\\n",
    "  --i-table /projects/dna_extraction_12201/round_02_six_kit_comparison/data/ITS/05_merged_data/dna_all_ITS_deblur_biom.qza \\\n",
    "  --o-visualization /projects/dna_extraction_12201/round_02_six_kit_comparison/data/ITS/05_merged_data/dna_all_ITS_deblur_biom.qzv\n",
    "\n",
    "# There are 1642 samples and 6373 features\n"
   ]
  },
  {
   "cell_type": "markdown",
   "metadata": {},
   "source": [
    "# Merge sequences"
   ]
  },
  {
   "cell_type": "code",
   "execution_count": null,
   "metadata": {},
   "outputs": [],
   "source": [
    "qiime feature-table merge-seqs \\\n",
    "  --i-data /projects/dna_extraction_12201/round_02_six_kit_comparison/data/ITS/04_denoise/dna_og_ITS_plates1_6_excluding_8redos_deblur_seqs.qza \\\n",
    "  --i-data /projects/dna_extraction_12201/round_02_six_kit_comparison/data/ITS/04_denoise/dna_og_ITS_plates7_12_deblur_seqs.qza \\\n",
    "  --i-data /projects/dna_extraction_12201/round_02_six_kit_comparison/data/ITS/04_denoise/dna_rerun_ITS_hbm_deblur_seqs.qza \\\n",
    "  --i-data /projects/dna_extraction_12201/round_02_six_kit_comparison/data/ITS/04_denoise/dna_rerun_ITS_lbm_deblur_seqs.qza \\\n",
    "  --o-merged-data /projects/dna_extraction_12201/round_02_six_kit_comparison/data/ITS/05_merged_data/dna_all_ITS_deblur_seqs.qza \\\n"
   ]
  },
  {
   "cell_type": "markdown",
   "metadata": {},
   "source": [
    "# Profile taxonomy"
   ]
  },
  {
   "cell_type": "code",
   "execution_count": null,
   "metadata": {},
   "outputs": [],
   "source": [
    "#!/bin/bash\n",
    "#PBS -V\n",
    "#PBS -l nodes=1:ppn=30\n",
    "#PBS -l walltime=48:00:00\n",
    "#PBS -l mem=240gb\n",
    "#PBS -M justinparkshaffer@gmail.com\n",
    "#PBS -m abe\n",
    "\n",
    "source activate qiime2-2021.11\n",
    "\n",
    "qiime feature-classifier classify-sklearn \\\n",
    "  --i-classifier /home/jpshaffer/mapping_db/unite_10.05.2021/unite_qiime_nb_classifier_dynamic_s_10.05.2021_dev.qza \\\n",
    "  --i-reads /projects/dna_extraction_12201/round_02_six_kit_comparison/data/ITS/05_merged_data/dna_all_ITS_deblur_seqs.qza \\\n",
    "  --p-n-jobs 30 \\\n",
    "  --o-classification /projects/dna_extraction_12201/round_02_six_kit_comparison/data/ITS/06_taxonomy/dna_all_ITS_deblur_seqs_taxonomy_unite8.qza\n"
   ]
  },
  {
   "cell_type": "markdown",
   "metadata": {},
   "source": [
    "Generate barplot for merged table"
   ]
  },
  {
   "cell_type": "code",
   "execution_count": null,
   "metadata": {},
   "outputs": [],
   "source": [
    "qiime taxa barplot \\\n",
    "  --i-table /projects/dna_extraction_12201/round_02_six_kit_comparison/data/ITS/05_merged_data/dna_all_ITS_deblur_biom.qza \\\n",
    "  --i-taxonomy /projects/dna_extraction_12201/round_02_six_kit_comparison/data/ITS/06_taxonomy/dna_all_ITS_deblur_seqs_taxonomy_unite8.qza \\\n",
    "  --m-metadata-file /projects/dna_extraction_12201/round_02_six_kit_comparison/sample_metadata/12201_metadata.txt \\\n",
    "  --o-visualization /projects/dna_extraction_12201/round_02_six_kit_comparison/data/ITS/05_merged_data/dna_all_ITS_deblur_biom_taxa_barplot_unite8.qzv\n"
   ]
  },
  {
   "cell_type": "markdown",
   "metadata": {},
   "source": [
    "# NOTE: At this point Katharoseq analysis was performed and the resultant filtered table is used from this point forward. Preliminary analysis of the full dataset indicated that PowerSoil - Round 1 samples can be excluded, so they were."
   ]
  },
  {
   "cell_type": "markdown",
   "metadata": {},
   "source": [
    "# Filter negative controls (blanks)"
   ]
  },
  {
   "cell_type": "markdown",
   "metadata": {},
   "source": [
    "## Table excluding round 1 PowerSoil, MagMAX Beta, and Homebrew (for beta-diversity analyses)"
   ]
  },
  {
   "cell_type": "code",
   "execution_count": null,
   "metadata": {},
   "outputs": [],
   "source": [
    "qiime feature-table filter-samples \\\n",
    "  --i-table /projects/dna_extraction_12201/round_02_six_kit_comparison/data/ITS/07_lod/dna_all_ITS_deblur_biom_lod.qza \\\n",
    "  --m-metadata-file /projects/dna_extraction_12201/round_02_six_kit_comparison/sample_metadata/12201_metadata.txt \\\n",
    "  --p-where \"[sample_type]!='control blank'\" \\\n",
    "  --o-filtered-table /projects/dna_extraction_12201/round_02_six_kit_comparison/data/ITS/08_filtered_data/dna_all_ITS_deblur_biom_lod_noNTCs.qza\n",
    "\n",
    "qiime feature-table summarize \\\n",
    "  --i-table /projects/dna_extraction_12201/round_02_six_kit_comparison/data/ITS/08_filtered_data/dna_all_ITS_deblur_biom_lod_noNTCs.qza \\\n",
    "  --o-visualization /projects/dna_extraction_12201/round_02_six_kit_comparison/data/ITS/08_filtered_data/dna_all_ITS_deblur_biom_lod_noNTCs.qzv\n",
    "\n",
    "# There are 1016 samples and 4402 features\n"
   ]
  },
  {
   "cell_type": "markdown",
   "metadata": {},
   "source": [
    "## Table including round 1 PowerSoil (for alpha-diversity analyses)"
   ]
  },
  {
   "cell_type": "code",
   "execution_count": null,
   "metadata": {},
   "outputs": [],
   "source": [
    "qiime feature-table filter-samples \\\n",
    "  --i-table /projects/dna_extraction_12201/round_02_six_kit_comparison/data/ITS/07_lod/dna_bothPS_ITS_deblur_biom_lod.qza \\\n",
    "  --m-metadata-file /projects/dna_extraction_12201/round_02_six_kit_comparison/sample_metadata/12201_metadata.txt \\\n",
    "  --p-where \"[sample_type]!='control blank'\" \\\n",
    "  --o-filtered-table /projects/dna_extraction_12201/round_02_six_kit_comparison/data/ITS/08_filtered_data/dna_bothPS_ITS_deblur_biom_lod_noNTCs.qza\n",
    "\n",
    "qiime feature-table summarize \\\n",
    "  --i-table /projects/dna_extraction_12201/round_02_six_kit_comparison/data/ITS/08_filtered_data/dna_bothPS_ITS_deblur_biom_lod_noNTCs.qza \\\n",
    "  --o-visualization /projects/dna_extraction_12201/round_02_six_kit_comparison/data/ITS/08_filtered_data/dna_bothPS_ITS_deblur_biom_lod_noNTCs.qzv\n",
    "\n",
    "# There are 1185 samples and 4892 features\n"
   ]
  },
  {
   "cell_type": "markdown",
   "metadata": {},
   "source": [
    "# Filter mock community samples (positive controls)"
   ]
  },
  {
   "cell_type": "markdown",
   "metadata": {},
   "source": [
    "## Table excluding round 1 PowerSoil, MagMAX Beta, and Homebrew (for beta-diversity analyses)"
   ]
  },
  {
   "cell_type": "code",
   "execution_count": null,
   "metadata": {},
   "outputs": [],
   "source": [
    "qiime feature-table filter-samples \\\n",
    "  --i-table /projects/dna_extraction_12201/round_02_six_kit_comparison/data/ITS/08_filtered_data/dna_all_ITS_deblur_biom_lod_noNTCs.qza \\\n",
    "  --m-metadata-file /projects/dna_extraction_12201/round_02_six_kit_comparison/sample_metadata/12201_metadata.txt \\\n",
    "  --p-where \"[sample_type]!='mock community'\" \\\n",
    "  --o-filtered-table /projects/dna_extraction_12201/round_02_six_kit_comparison/data/ITS/08_filtered_data/dna_all_ITS_deblur_biom_lod_noNTCs_noMock.qza\n",
    "\n",
    "qiime feature-table summarize \\\n",
    "  --i-table /projects/dna_extraction_12201/round_02_six_kit_comparison/data/ITS/08_filtered_data/dna_all_ITS_deblur_biom_lod_noNTCs_noMock.qza \\\n",
    "  --o-visualization /projects/dna_extraction_12201/round_02_six_kit_comparison/data/ITS/08_filtered_data/dna_all_ITS_deblur_biom_lod_noNTCs_noMock.qzv\n",
    "\n",
    "# There are 841 samples and 4323 features\n"
   ]
  },
  {
   "cell_type": "markdown",
   "metadata": {},
   "source": [
    "Make table including ONLY mock community samples"
   ]
  },
  {
   "cell_type": "code",
   "execution_count": null,
   "metadata": {},
   "outputs": [],
   "source": [
    "qiime feature-table filter-samples \\\n",
    "  --i-table /projects/dna_extraction_12201/round_02_six_kit_comparison/data/ITS/08_filtered_data/dna_all_ITS_deblur_biom_lod_noNTCs.qza \\\n",
    "  --m-metadata-file /projects/dna_extraction_12201/round_02_six_kit_comparison/sample_metadata/12201_metadata.txt \\\n",
    "  --p-where \"[sample_type]='mock community'\" \\\n",
    "  --o-filtered-table /projects/dna_extraction_12201/round_02_six_kit_comparison/data/ITS/08_filtered_data/dna_all_ITS_deblur_biom_lod_onlyMock.qza\n",
    "\n",
    "qiime feature-table summarize \\\n",
    "  --i-table /projects/dna_extraction_12201/round_02_six_kit_comparison/data/ITS/08_filtered_data/dna_all_ITS_deblur_biom_lod_onlyMock.qza \\\n",
    "  --o-visualization /projects/dna_extraction_12201/round_02_six_kit_comparison/data/ITS/08_filtered_data/dna_all_ITS_deblur_biom_lod_onlyMock.qzv\n",
    "\n",
    "# There are 984 samples and 5255 features\n"
   ]
  },
  {
   "cell_type": "markdown",
   "metadata": {},
   "source": [
    "## Table including round 1 PowerSoil (for alpha-diversity analyses)"
   ]
  },
  {
   "cell_type": "code",
   "execution_count": null,
   "metadata": {},
   "outputs": [],
   "source": [
    "qiime feature-table filter-samples \\\n",
    "  --i-table /projects/dna_extraction_12201/round_02_six_kit_comparison/data/ITS/08_filtered_data/dna_bothPS_ITS_deblur_biom_lod_noNTCs.qza \\\n",
    "  --m-metadata-file /projects/dna_extraction_12201/round_02_six_kit_comparison/sample_metadata/12201_metadata.txt \\\n",
    "  --p-where \"[sample_type]!='mock community'\" \\\n",
    "  --o-filtered-table /projects/dna_extraction_12201/round_02_six_kit_comparison/data/ITS/08_filtered_data/dna_bothPS_ITS_deblur_biom_lod_noNTCs_noMock.qza\n",
    "\n",
    "qiime feature-table summarize \\\n",
    "  --i-table /projects/dna_extraction_12201/round_02_six_kit_comparison/data/ITS/08_filtered_data/dna_bothPS_ITS_deblur_biom_lod_noNTCs_noMock.qza \\\n",
    "  --o-visualization /projects/dna_extraction_12201/round_02_six_kit_comparison/data/ITS/08_filtered_data/dna_bothPS_ITS_deblur_biom_lod_noNTCs_noMock.qzv\n",
    "\n",
    "# There are 978 samples and 4810 features\n"
   ]
  },
  {
   "cell_type": "markdown",
   "metadata": {},
   "source": [
    "# Separate high- and low-biomass samples"
   ]
  },
  {
   "cell_type": "markdown",
   "metadata": {},
   "source": [
    "## Table excluding round 1 PowerSoil, MagMAX Beta, and Homebrew (for beta-diversity analyses)"
   ]
  },
  {
   "cell_type": "markdown",
   "metadata": {},
   "source": [
    "High-biomass"
   ]
  },
  {
   "cell_type": "code",
   "execution_count": null,
   "metadata": {},
   "outputs": [],
   "source": [
    "qiime feature-table filter-samples \\\n",
    "  --i-table /projects/dna_extraction_12201/round_02_six_kit_comparison/data/ITS/08_filtered_data/dna_all_ITS_deblur_biom_lod_noNTCs_noMock.qza \\\n",
    "  --m-metadata-file /projects/dna_extraction_12201/round_02_six_kit_comparison/sample_metadata/12201_metadata.txt \\\n",
    "  --p-where \"[biomass_plate]='high'\" \\\n",
    "  --o-filtered-table /projects/dna_extraction_12201/round_02_six_kit_comparison/data/ITS/08_filtered_data/dna_all_ITS_deblur_biom_lod_noNTCs_noMock_hbm.qza\n",
    "\n",
    "qiime feature-table summarize \\\n",
    "  --i-table /projects/dna_extraction_12201/round_02_six_kit_comparison/data/ITS/08_filtered_data/dna_all_ITS_deblur_biom_lod_noNTCs_noMock_hbm.qza \\\n",
    "  --o-visualization /projects/dna_extraction_12201/round_02_six_kit_comparison/data/ITS/08_filtered_data/dna_all_ITS_deblur_biom_lod_noNTCs_noMock_hbm.qzv\n",
    "\n",
    "# There are 479 samples and 2229 features\n"
   ]
  },
  {
   "cell_type": "markdown",
   "metadata": {},
   "source": [
    "Low-biomass"
   ]
  },
  {
   "cell_type": "code",
   "execution_count": null,
   "metadata": {},
   "outputs": [],
   "source": [
    "qiime feature-table filter-samples \\\n",
    "  --i-table /projects/dna_extraction_12201/round_02_six_kit_comparison/data/ITS/08_filtered_data/dna_all_ITS_deblur_biom_lod_noNTCs_noMock.qza \\\n",
    "  --m-metadata-file /projects/dna_extraction_12201/round_02_six_kit_comparison/sample_metadata/12201_metadata.txt \\\n",
    "  --p-where \"[biomass_plate]='low'\" \\\n",
    "  --o-filtered-table /projects/dna_extraction_12201/round_02_six_kit_comparison/data/ITS/08_filtered_data/dna_all_ITS_deblur_biom_lod_noNTCs_noMock_lbm.qza\n",
    "\n",
    "qiime feature-table summarize \\\n",
    "  --i-table /projects/dna_extraction_12201/round_02_six_kit_comparison/data/ITS/08_filtered_data/dna_all_ITS_deblur_biom_lod_noNTCs_noMock_lbm.qza \\\n",
    "  --o-visualization /projects/dna_extraction_12201/round_02_six_kit_comparison/data/ITS/08_filtered_data/dna_all_ITS_deblur_biom_lod_noNTCs_noMock_lbm.qzv\n",
    "\n",
    "# There are 362 samples and 2669 features\n"
   ]
  },
  {
   "cell_type": "markdown",
   "metadata": {},
   "source": [
    "## Table including round 1 PowerSoil (for alpha-diversity analyses)"
   ]
  },
  {
   "cell_type": "markdown",
   "metadata": {},
   "source": [
    "High-biomass - including controls"
   ]
  },
  {
   "cell_type": "code",
   "execution_count": null,
   "metadata": {},
   "outputs": [],
   "source": [
    "qiime feature-table filter-samples \\\n",
    "  --i-table /projects/dna_extraction_12201/round_02_six_kit_comparison/data/ITS/07_lod/dna_bothPS_ITS_deblur_biom_lod.qza \\\n",
    "  --m-metadata-file /projects/dna_extraction_12201/round_02_six_kit_comparison/sample_metadata/12201_metadata.txt \\\n",
    "  --p-where \"[biomass_plate]='high'\" \\\n",
    "  --o-filtered-table /projects/dna_extraction_12201/round_02_six_kit_comparison/data/ITS/08_filtered_data/dna_bothPS_ITS_deblur_biom_lod_hbm.qza\n",
    "\n",
    "qiime feature-table summarize \\\n",
    "  --i-table /projects/dna_extraction_12201/round_02_six_kit_comparison/data/ITS/08_filtered_data/dna_bothPS_ITS_deblur_biom_lod_hbm.qza \\\n",
    "  --o-visualization /projects/dna_extraction_12201/round_02_six_kit_comparison/data/ITS/08_filtered_data/dna_bothPS_ITS_deblur_biom_lod_hbm.qzv\n",
    "\n",
    "# There are 627 samples and 2416 features\n"
   ]
  },
  {
   "cell_type": "markdown",
   "metadata": {},
   "source": [
    "High biomass - excluding controls"
   ]
  },
  {
   "cell_type": "code",
   "execution_count": null,
   "metadata": {},
   "outputs": [],
   "source": [
    "qiime feature-table filter-samples \\\n",
    "  --i-table /projects/dna_extraction_12201/round_02_six_kit_comparison/data/ITS/08_filtered_data/dna_bothPS_ITS_deblur_biom_lod_noNTCs_noMock.qza \\\n",
    "  --m-metadata-file /projects/dna_extraction_12201/round_02_six_kit_comparison/sample_metadata/12201_metadata.txt \\\n",
    "  --p-where \"[biomass_plate]='high'\" \\\n",
    "  --o-filtered-table /projects/dna_extraction_12201/round_02_six_kit_comparison/data/ITS/08_filtered_data/dna_bothPS_ITS_deblur_biom_lod_noNTCs_noMock_hbm.qza\n",
    "\n",
    "qiime feature-table summarize \\\n",
    "  --i-table /projects/dna_extraction_12201/round_02_six_kit_comparison/data/ITS/08_filtered_data/dna_bothPS_ITS_deblur_biom_lod_noNTCs_noMock_hbm.qza \\\n",
    "  --o-visualization /projects/dna_extraction_12201/round_02_six_kit_comparison/data/ITS/08_filtered_data/dna_bothPS_ITS_deblur_biom_lod_noNTCs_noMock_hbm.qzv\n",
    "\n",
    "# There are 551 samples and 2391 features\n"
   ]
  },
  {
   "cell_type": "markdown",
   "metadata": {},
   "source": [
    "Low-biomass - including controls"
   ]
  },
  {
   "cell_type": "code",
   "execution_count": null,
   "metadata": {},
   "outputs": [],
   "source": [
    "qiime feature-table filter-samples \\\n",
    "  --i-table /projects/dna_extraction_12201/round_02_six_kit_comparison/data/ITS/07_lod/dna_bothPS_ITS_deblur_biom_lod.qza \\\n",
    "  --m-metadata-file /projects/dna_extraction_12201/round_02_six_kit_comparison/sample_metadata/12201_metadata.txt \\\n",
    "  --p-where \"[biomass_plate]='low'\" \\\n",
    "  --o-filtered-table /projects/dna_extraction_12201/round_02_six_kit_comparison/data/ITS/08_filtered_data/dna_bothPS_ITS_deblur_biom_lod_lbm.qza\n",
    "\n",
    "qiime feature-table summarize \\\n",
    "  --i-table /projects/dna_extraction_12201/round_02_six_kit_comparison/data/ITS/08_filtered_data/dna_bothPS_ITS_deblur_biom_lod_lbm.qza \\\n",
    "  --o-visualization /projects/dna_extraction_12201/round_02_six_kit_comparison/data/ITS/08_filtered_data/dna_bothPS_ITS_deblur_biom_lod_lbm.qzv\n",
    "\n",
    "# There are 613 samples and 3281 features\n"
   ]
  },
  {
   "cell_type": "markdown",
   "metadata": {},
   "source": [
    "Low biomass - excluding controls"
   ]
  },
  {
   "cell_type": "code",
   "execution_count": null,
   "metadata": {},
   "outputs": [],
   "source": [
    "qiime feature-table filter-samples \\\n",
    "  --i-table /projects/dna_extraction_12201/round_02_six_kit_comparison/data/ITS/08_filtered_data/dna_bothPS_ITS_deblur_biom_lod_noNTCs_noMock.qza \\\n",
    "  --m-metadata-file /projects/dna_extraction_12201/round_02_six_kit_comparison/sample_metadata/12201_metadata.txt \\\n",
    "  --p-where \"[biomass_plate]='low'\" \\\n",
    "  --o-filtered-table /projects/dna_extraction_12201/round_02_six_kit_comparison/data/ITS/08_filtered_data/dna_bothPS_ITS_deblur_biom_lod_noNTCs_noMock_lbm.qza\n",
    "\n",
    "qiime feature-table summarize \\\n",
    "  --i-table /projects/dna_extraction_12201/round_02_six_kit_comparison/data/ITS/08_filtered_data/dna_bothPS_ITS_deblur_biom_lod_noNTCs_noMock_lbm.qza \\\n",
    "  --o-visualization /projects/dna_extraction_12201/round_02_six_kit_comparison/data/ITS/08_filtered_data/dna_bothPS_ITS_deblur_biom_lod_noNTCs_noMock_lbm.qzv\n",
    "\n",
    "# There are 427 samples and 3103 features\n"
   ]
  },
  {
   "cell_type": "markdown",
   "metadata": {},
   "source": [
    "# Normalize sampling depth"
   ]
  },
  {
   "cell_type": "markdown",
   "metadata": {},
   "source": [
    "## Table excluding round 1 PowerSoil, MagMAX Beta, and Homebrew (for beta-diversity analyses)"
   ]
  },
  {
   "cell_type": "markdown",
   "metadata": {},
   "source": [
    "### Rarefy"
   ]
  },
  {
   "cell_type": "markdown",
   "metadata": {},
   "source": [
    "High-biomass"
   ]
  },
  {
   "cell_type": "code",
   "execution_count": null,
   "metadata": {},
   "outputs": [],
   "source": [
    "qiime feature-table rarefy \\\n",
    "  --i-table /projects/dna_extraction_12201/round_02_six_kit_comparison/data/ITS/08_filtered_data/dna_all_ITS_deblur_biom_lod_noNTCs_noMock_hbm.qza \\\n",
    "  --p-sampling-depth 1674 \\\n",
    "  --o-rarefied-table /projects/dna_extraction_12201/round_02_six_kit_comparison/data/ITS/09_normalized_data/dna_all_ITS_deblur_biom_lod_noNTCs_noMock_hbm_rar1674.qza\n",
    "\n",
    "qiime feature-table summarize \\\n",
    "  --i-table /projects/dna_extraction_12201/round_02_six_kit_comparison/data/ITS/09_normalized_data/dna_all_ITS_deblur_biom_lod_noNTCs_noMock_hbm_rar1674.qza \\\n",
    "  --o-visualization /projects/dna_extraction_12201/round_02_six_kit_comparison/data/ITS/09_normalized_data/dna_all_ITS_deblur_biom_lod_noNTCs_noMock_hbm_rar1674.qzv\n",
    "\n",
    "# There are 240 samples and 1625 features\n"
   ]
  },
  {
   "cell_type": "markdown",
   "metadata": {},
   "source": [
    "Low-biomass"
   ]
  },
  {
   "cell_type": "code",
   "execution_count": null,
   "metadata": {},
   "outputs": [],
   "source": [
    "qiime feature-table rarefy \\\n",
    "  --i-table /projects/dna_extraction_12201/round_02_six_kit_comparison/data/ITS/08_filtered_data/dna_all_ITS_deblur_biom_lod_noNTCs_noMock_lbm.qza \\\n",
    "  --p-sampling-depth 381 \\\n",
    "  --o-rarefied-table /projects/dna_extraction_12201/round_02_six_kit_comparison/data/ITS/09_normalized_data/dna_all_ITS_deblur_biom_lod_noNTCs_noMock_lbm_rar381.qza\n",
    "\n",
    "qiime feature-table summarize \\\n",
    "  --i-table /projects/dna_extraction_12201/round_02_six_kit_comparison/data/ITS/09_normalized_data/dna_all_ITS_deblur_biom_lod_noNTCs_noMock_lbm_rar381.qza \\\n",
    "  --o-visualization /projects/dna_extraction_12201/round_02_six_kit_comparison/data/ITS/09_normalized_data/dna_all_ITS_deblur_biom_lod_noNTCs_noMock_lbm_rar381.qzv\n",
    "\n",
    "# There are 181 samples and 1925 features\n"
   ]
  },
  {
   "cell_type": "markdown",
   "metadata": {},
   "source": [
    "### Remove low-abundnace samples"
   ]
  },
  {
   "cell_type": "markdown",
   "metadata": {},
   "source": [
    "High-biomass"
   ]
  },
  {
   "cell_type": "code",
   "execution_count": null,
   "metadata": {},
   "outputs": [],
   "source": [
    "qiime feature-table filter-samples \\\n",
    "  --i-table /projects/dna_extraction_12201/round_02_six_kit_comparison/data/ITS/08_filtered_data/dna_all_ITS_deblur_biom_lod_noNTCs_noMock_hbm.qza \\\n",
    "  --p-min-frequency 1674 \\\n",
    "  --o-filtered-table /projects/dna_extraction_12201/round_02_six_kit_comparison/data/ITS/09_normalized_data/dna_all_ITS_deblur_biom_lod_noNTCs_noMock_hbm_min1674.qza\n",
    "\n",
    "qiime feature-table summarize \\\n",
    "  --i-table /projects/dna_extraction_12201/round_02_six_kit_comparison/data/ITS/09_normalized_data/dna_all_ITS_deblur_biom_lod_noNTCs_noMock_hbm_min1674.qza \\\n",
    "  --o-visualization /projects/dna_extraction_12201/round_02_six_kit_comparison/data/ITS/09_normalized_data/dna_all_ITS_deblur_biom_lod_noNTCs_noMock_hbm_min1674.qzv\n",
    "\n",
    "# There are 240 samples and 2148 features\n"
   ]
  },
  {
   "cell_type": "markdown",
   "metadata": {},
   "source": [
    "Low-biomass"
   ]
  },
  {
   "cell_type": "code",
   "execution_count": null,
   "metadata": {},
   "outputs": [],
   "source": [
    "qiime feature-table filter-samples \\\n",
    "  --i-table /projects/dna_extraction_12201/round_02_six_kit_comparison/data/ITS/08_filtered_data/dna_all_ITS_deblur_biom_lod_noNTCs_noMock_lbm.qza \\\n",
    "  --p-min-frequency 381 \\\n",
    "  --o-filtered-table /projects/dna_extraction_12201/round_02_six_kit_comparison/data/ITS/09_normalized_data/dna_all_ITS_deblur_biom_lod_noNTCs_noMock_lbm_min381.qza\n",
    "\n",
    "qiime feature-table summarize \\\n",
    "  --i-table /projects/dna_extraction_12201/round_02_six_kit_comparison/data/ITS/09_normalized_data/dna_all_ITS_deblur_biom_lod_noNTCs_noMock_lbm_min381.qza \\\n",
    "  --o-visualization /projects/dna_extraction_12201/round_02_six_kit_comparison/data/ITS/09_normalized_data/dna_all_ITS_deblur_biom_lod_noNTCs_noMock_lbm_min381.qzv\n",
    "\n",
    "# There are 181 samples and 2623 features\n"
   ]
  },
  {
   "cell_type": "markdown",
   "metadata": {},
   "source": [
    "## Table including round 1 PowerSoil (for alpha-diversity analyses)"
   ]
  },
  {
   "cell_type": "markdown",
   "metadata": {},
   "source": [
    "### Rarefy"
   ]
  },
  {
   "cell_type": "markdown",
   "metadata": {},
   "source": [
    "High-biomass - including controls"
   ]
  },
  {
   "cell_type": "code",
   "execution_count": null,
   "metadata": {},
   "outputs": [],
   "source": [
    "qiime feature-table rarefy \\\n",
    "  --i-table /projects/dna_extraction_12201/round_02_six_kit_comparison/data/ITS/08_filtered_data/dna_bothPS_ITS_deblur_biom_lod_hbm.qza \\\n",
    "  --p-sampling-depth 1171 \\\n",
    "  --o-rarefied-table /projects/dna_extraction_12201/round_02_six_kit_comparison/data/ITS/09_normalized_data/dna_bothPS_ITS_deblur_biom_lod_hbm_rar1171.qza\n",
    "\n",
    "qiime feature-table summarize \\\n",
    "  --i-table /projects/dna_extraction_12201/round_02_six_kit_comparison/data/ITS/09_normalized_data/dna_bothPS_ITS_deblur_biom_lod_hbm_rar1171.qza \\\n",
    "  --o-visualization /projects/dna_extraction_12201/round_02_six_kit_comparison/data/ITS/09_normalized_data/dna_bothPS_ITS_deblur_biom_lod_hbm_rar1171.qzv\n",
    "\n",
    "# There are 314 samples and 1739 features\n"
   ]
  },
  {
   "cell_type": "markdown",
   "metadata": {},
   "source": [
    "High-biomass - excluding controls"
   ]
  },
  {
   "cell_type": "code",
   "execution_count": null,
   "metadata": {},
   "outputs": [],
   "source": [
    "qiime feature-table rarefy \\\n",
    "  --i-table /projects/dna_extraction_12201/round_02_six_kit_comparison/data/ITS/08_filtered_data/dna_bothPS_ITS_deblur_biom_lod_noNTCs_noMock_hbm.qza \\\n",
    "  --p-sampling-depth 1491 \\\n",
    "  --o-rarefied-table /projects/dna_extraction_12201/round_02_six_kit_comparison/data/ITS/09_normalized_data/dna_bothPS_ITS_deblur_biom_lod_noNTCs_noMock_hbm_rar1491.qza\n",
    "\n",
    "qiime feature-table summarize \\\n",
    "  --i-table /projects/dna_extraction_12201/round_02_six_kit_comparison/data/ITS/09_normalized_data/dna_bothPS_ITS_deblur_biom_lod_noNTCs_noMock_hbm_rar1491.qza \\\n",
    "  --o-visualization /projects/dna_extraction_12201/round_02_six_kit_comparison/data/ITS/09_normalized_data/dna_bothPS_ITS_deblur_biom_lod_noNTCs_noMock_hbm_rar1491.qzv\n",
    "\n",
    "# There are 276 samples and 1798 features\n"
   ]
  },
  {
   "cell_type": "markdown",
   "metadata": {},
   "source": [
    "Low-biomass - including controls"
   ]
  },
  {
   "cell_type": "code",
   "execution_count": null,
   "metadata": {},
   "outputs": [],
   "source": [
    "qiime feature-table rarefy \\\n",
    "  --i-table /projects/dna_extraction_12201/round_02_six_kit_comparison/data/ITS/08_filtered_data/dna_bothPS_ITS_deblur_biom_lod_lbm.qza \\\n",
    "  --p-sampling-depth 456 \\\n",
    "  --o-rarefied-table /projects/dna_extraction_12201/round_02_six_kit_comparison/data/ITS/09_normalized_data/dna_bothPS_ITS_deblur_biom_lod_lbm_rar456.qza\n",
    "\n",
    "qiime feature-table summarize \\\n",
    "  --i-table /projects/dna_extraction_12201/round_02_six_kit_comparison/data/ITS/09_normalized_data/dna_bothPS_ITS_deblur_biom_lod_lbm_rar456.qza \\\n",
    "  --o-visualization /projects/dna_extraction_12201/round_02_six_kit_comparison/data/ITS/09_normalized_data/dna_bothPS_ITS_deblur_biom_lod_lbm_rar456.qzv\n",
    "\n",
    "# There are 307 samples and 2327 features\n"
   ]
  },
  {
   "cell_type": "markdown",
   "metadata": {},
   "source": [
    "Low-biomass - including controls"
   ]
  },
  {
   "cell_type": "code",
   "execution_count": null,
   "metadata": {},
   "outputs": [],
   "source": [
    "qiime feature-table rarefy \\\n",
    "  --i-table /projects/dna_extraction_12201/round_02_six_kit_comparison/data/ITS/08_filtered_data/dna_bothPS_ITS_deblur_biom_lod_noNTCs_noMock_lbm.qza \\\n",
    "  --p-sampling-depth 344 \\\n",
    "  --o-rarefied-table /projects/dna_extraction_12201/round_02_six_kit_comparison/data/ITS/09_normalized_data/dna_bothPS_ITS_deblur_biom_lod_noNTCs_noMock_lbm_rar344.qza\n",
    "\n",
    "qiime feature-table summarize \\\n",
    "  --i-table /projects/dna_extraction_12201/round_02_six_kit_comparison/data/ITS/09_normalized_data/dna_bothPS_ITS_deblur_biom_lod_noNTCs_noMock_lbm_rar344.qza \\\n",
    "  --o-visualization /projects/dna_extraction_12201/round_02_six_kit_comparison/data/ITS/09_normalized_data/dna_bothPS_ITS_deblur_biom_lod_noNTCs_noMock_lbm_rar344.qzv\n",
    "\n",
    "# There are 214 samples and 2120 features\n"
   ]
  },
  {
   "cell_type": "markdown",
   "metadata": {},
   "source": [
    "# Alpha-diversity"
   ]
  },
  {
   "cell_type": "markdown",
   "metadata": {},
   "source": [
    "## Table excluding round 1 PowerSoil, MagMAX Beta, and Homebrew (for comparison with sample set used for beta-diversity analyses)"
   ]
  },
  {
   "cell_type": "markdown",
   "metadata": {},
   "source": [
    "High-biomass"
   ]
  },
  {
   "cell_type": "code",
   "execution_count": null,
   "metadata": {},
   "outputs": [],
   "source": [
    "qiime diversity alpha \\\n",
    "  --i-table /projects/dna_extraction_12201/round_02_six_kit_comparison/data/ITS/09_normalized_data/dna_all_ITS_deblur_biom_lod_noNTCs_noMock_hbm_rar1674.qza \\\n",
    "  --p-metric 'observed_features' \\\n",
    "  --o-alpha-diversity /projects/dna_extraction_12201/round_02_six_kit_comparison/data/ITS/10_alpha_diversity/dna_all_ITS_deblur_biom_lod_noNTCs_noMock_hbm_rar1674_alpha_richness.qza\n",
    "\n",
    "qiime diversity alpha \\\n",
    "  --i-table /projects/dna_extraction_12201/round_02_six_kit_comparison/data/ITS/09_normalized_data/dna_all_ITS_deblur_biom_lod_noNTCs_noMock_hbm_rar1674.qza \\\n",
    "  --p-metric 'shannon' \\\n",
    "  --o-alpha-diversity /projects/dna_extraction_12201/round_02_six_kit_comparison/data/ITS/10_alpha_diversity/dna_all_ITS_deblur_biom_lod_noNTCs_noMock_hbm_rar1674_alpha_shannon.qza\n",
    "\n",
    "qiime diversity alpha \\\n",
    "  --i-table /projects/dna_extraction_12201/round_02_six_kit_comparison/data/ITS/09_normalized_data/dna_all_ITS_deblur_biom_lod_noNTCs_noMock_hbm_rar1674.qza \\\n",
    "  --p-metric 'fisher_alpha' \\\n",
    "  --o-alpha-diversity /projects/dna_extraction_12201/round_02_six_kit_comparison/data/ITS/10_alpha_diversity/dna_all_ITS_deblur_biom_lod_noNTCs_noMock_hbm_rar1674_alpha_fishersalpha.qza\n"
   ]
  },
  {
   "cell_type": "markdown",
   "metadata": {},
   "source": [
    "Low-biomass"
   ]
  },
  {
   "cell_type": "code",
   "execution_count": null,
   "metadata": {},
   "outputs": [],
   "source": [
    "qiime diversity alpha \\\n",
    "  --i-table /projects/dna_extraction_12201/round_02_six_kit_comparison/data/ITS/09_normalized_data/dna_all_ITS_deblur_biom_lod_noNTCs_noMock_lbm_rar381.qza \\\n",
    "  --p-metric 'observed_features' \\\n",
    "  --o-alpha-diversity /projects/dna_extraction_12201/round_02_six_kit_comparison/data/ITS/10_alpha_diversity/dna_all_ITS_deblur_biom_lod_noNTCs_noMock_lbm_rar381_alpha_richness.qza\n",
    "\n",
    "qiime diversity alpha \\\n",
    "  --i-table /projects/dna_extraction_12201/round_02_six_kit_comparison/data/ITS/09_normalized_data/dna_all_ITS_deblur_biom_lod_noNTCs_noMock_lbm_rar381.qza \\\n",
    "  --p-metric 'shannon' \\\n",
    "  --o-alpha-diversity /projects/dna_extraction_12201/round_02_six_kit_comparison/data/ITS/10_alpha_diversity/dna_all_ITS_deblur_biom_lod_noNTCs_noMock_lbm_rar381_alpha_shannon.qza\n",
    "\n",
    "qiime diversity alpha \\\n",
    "  --i-table /projects/dna_extraction_12201/round_02_six_kit_comparison/data/ITS/09_normalized_data/dna_all_ITS_deblur_biom_lod_noNTCs_noMock_lbm_rar381.qza \\\n",
    "  --p-metric 'fisher_alpha' \\\n",
    "  --o-alpha-diversity /projects/dna_extraction_12201/round_02_six_kit_comparison/data/ITS/10_alpha_diversity/dna_all_ITS_deblur_biom_lod_noNTCs_noMock_lbm_rar381_alpha_fishersalpha.qza\n"
   ]
  },
  {
   "cell_type": "markdown",
   "metadata": {},
   "source": [
    "## Table including round 1 PowerSoil (for alpha-diversity analyses)"
   ]
  },
  {
   "cell_type": "markdown",
   "metadata": {},
   "source": [
    "High-biomass"
   ]
  },
  {
   "cell_type": "code",
   "execution_count": null,
   "metadata": {},
   "outputs": [],
   "source": [
    "qiime diversity alpha \\\n",
    "  --i-table /projects/dna_extraction_12201/round_02_six_kit_comparison/data/ITS/09_normalized_data/dna_bothPS_ITS_deblur_biom_lod_hbm_rar1171.qza \\\n",
    "  --p-metric 'observed_features' \\\n",
    "  --o-alpha-diversity /projects/dna_extraction_12201/round_02_six_kit_comparison/data/ITS/10_alpha_diversity/dna_bothPS_ITS_deblur_biom_lod_hbm_rar1171_alpha_richness.qza\n",
    "\n",
    "qiime diversity alpha \\\n",
    "  --i-table /projects/dna_extraction_12201/round_02_six_kit_comparison/data/ITS/09_normalized_data/dna_bothPS_ITS_deblur_biom_lod_hbm_rar1171.qza \\\n",
    "  --p-metric 'shannon' \\\n",
    "  --o-alpha-diversity /projects/dna_extraction_12201/round_02_six_kit_comparison/data/ITS/10_alpha_diversity/dna_bothPS_ITS_deblur_biom_lod_hbm_rar1171_alpha_shannon.qza\n",
    "\n",
    "qiime diversity alpha \\\n",
    "  --i-table /projects/dna_extraction_12201/round_02_six_kit_comparison/data/ITS/09_normalized_data/dna_bothPS_ITS_deblur_biom_lod_hbm_rar1171.qza \\\n",
    "  --p-metric 'fisher_alpha' \\\n",
    "  --o-alpha-diversity /projects/dna_extraction_12201/round_02_six_kit_comparison/data/ITS/10_alpha_diversity/dna_bothPS_ITS_deblur_biom_lod_hbm_rar1171_alpha_fishersalpha.qza\n"
   ]
  },
  {
   "cell_type": "markdown",
   "metadata": {},
   "source": [
    "Low-biomass"
   ]
  },
  {
   "cell_type": "code",
   "execution_count": null,
   "metadata": {},
   "outputs": [],
   "source": [
    "qiime diversity alpha \\\n",
    "  --i-table /projects/dna_extraction_12201/round_02_six_kit_comparison/data/ITS/09_normalized_data/dna_bothPS_ITS_deblur_biom_lod_lbm_rar456.qza \\\n",
    "  --p-metric 'observed_features' \\\n",
    "  --o-alpha-diversity /projects/dna_extraction_12201/round_02_six_kit_comparison/data/ITS/10_alpha_diversity/dna_bothPS_ITS_deblur_biom_lod_lbm_rar456_alpha_richness.qza\n",
    "\n",
    "qiime diversity alpha \\\n",
    "  --i-table /projects/dna_extraction_12201/round_02_six_kit_comparison/data/ITS/09_normalized_data/dna_bothPS_ITS_deblur_biom_lod_lbm_rar456.qza \\\n",
    "  --p-metric 'shannon' \\\n",
    "  --o-alpha-diversity /projects/dna_extraction_12201/round_02_six_kit_comparison/data/ITS/10_alpha_diversity/dna_bothPS_ITS_deblur_biom_lod_lbm_rar456_alpha_shannon.qza\n",
    "\n",
    "qiime diversity alpha \\\n",
    "  --i-table /projects/dna_extraction_12201/round_02_six_kit_comparison/data/ITS/09_normalized_data/dna_bothPS_ITS_deblur_biom_lod_lbm_rar456.qza \\\n",
    "  --p-metric 'fisher_alpha' \\\n",
    "  --o-alpha-diversity /projects/dna_extraction_12201/round_02_six_kit_comparison/data/ITS/10_alpha_diversity/dna_bothPS_ITS_deblur_biom_lod_lbm_rar456_alpha_fishersalpha.qza\n"
   ]
  },
  {
   "cell_type": "markdown",
   "metadata": {},
   "source": [
    "# Beta-diversity"
   ]
  },
  {
   "cell_type": "markdown",
   "metadata": {},
   "source": [
    "## Generate distance matrices"
   ]
  },
  {
   "cell_type": "markdown",
   "metadata": {},
   "source": [
    "High-biomass"
   ]
  },
  {
   "cell_type": "code",
   "execution_count": null,
   "metadata": {},
   "outputs": [],
   "source": [
    "qiime diversity beta \\\n",
    "  --i-table /projects/dna_extraction_12201/round_02_six_kit_comparison/data/ITS/09_normalized_data/dna_all_ITS_deblur_biom_lod_noNTCs_noMock_hbm_rar1674.qza \\\n",
    "  --p-metric 'jaccard' \\\n",
    "  --o-distance-matrix /projects/dna_extraction_12201/round_02_six_kit_comparison/data/ITS/11_beta_diversity/dna_all_ITS_deblur_biom_lod_noNTCs_noMock_hbm_rar1674_dist_jaccard.qza\n"
   ]
  },
  {
   "cell_type": "code",
   "execution_count": null,
   "metadata": {},
   "outputs": [],
   "source": [
    "qiime diversity beta \\\n",
    "  --i-table /projects/dna_extraction_12201/round_02_six_kit_comparison/data/ITS/09_normalized_data/dna_all_ITS_deblur_biom_lod_noNTCs_noMock_hbm_rar1674.qza \\\n",
    "  --p-metric 'braycurtis' \\\n",
    "  --o-distance-matrix /projects/dna_extraction_12201/round_02_six_kit_comparison/data/ITS/11_beta_diversity/dna_all_ITS_deblur_biom_lod_noNTCs_noMock_hbm_rar1674_dist_braycurtis.qza\n"
   ]
  },
  {
   "cell_type": "markdown",
   "metadata": {},
   "source": [
    "Low-biomass"
   ]
  },
  {
   "cell_type": "code",
   "execution_count": null,
   "metadata": {},
   "outputs": [],
   "source": [
    "qiime diversity beta \\\n",
    "  --i-table /projects/dna_extraction_12201/round_02_six_kit_comparison/data/ITS/09_normalized_data/dna_all_ITS_deblur_biom_lod_noNTCs_noMock_lbm_rar381.qza \\\n",
    "  --p-metric 'jaccard' \\\n",
    "  --o-distance-matrix /projects/dna_extraction_12201/round_02_six_kit_comparison/data/ITS/11_beta_diversity/dna_all_ITS_deblur_biom_lod_noNTCs_noMock_lbm_rar381_dist_jaccard.qza\n"
   ]
  },
  {
   "cell_type": "code",
   "execution_count": null,
   "metadata": {},
   "outputs": [],
   "source": [
    "qiime diversity beta \\\n",
    "  --i-table /projects/dna_extraction_12201/round_02_six_kit_comparison/data/ITS/09_normalized_data/dna_all_ITS_deblur_biom_lod_noNTCs_noMock_lbm_rar381.qza \\\n",
    "  --p-metric 'braycurtis' \\\n",
    "  --o-distance-matrix /projects/dna_extraction_12201/round_02_six_kit_comparison/data/ITS/11_beta_diversity/dna_all_ITS_deblur_biom_lod_noNTCs_noMock_lbm_rar381_dist_braycurtis.qza\n"
   ]
  },
  {
   "cell_type": "markdown",
   "metadata": {},
   "source": [
    "## Generate PCoA"
   ]
  },
  {
   "cell_type": "markdown",
   "metadata": {},
   "source": [
    "High-biomass"
   ]
  },
  {
   "cell_type": "code",
   "execution_count": null,
   "metadata": {},
   "outputs": [],
   "source": [
    "qiime diversity pcoa \\\n",
    "  --i-distance-matrix /projects/dna_extraction_12201/round_02_six_kit_comparison/data/ITS/11_beta_diversity/dna_all_ITS_deblur_biom_lod_noNTCs_noMock_hbm_rar1674_dist_jaccard.qza \\\n",
    "  --o-pcoa /projects/dna_extraction_12201/round_02_six_kit_comparison/data/ITS/11_beta_diversity/dna_all_ITS_deblur_biom_lod_noNTCs_noMock_hbm_rar1674_pcoa_jaccard.qza\n",
    "\n",
    "qiime diversity pcoa \\\n",
    "  --i-distance-matrix /projects/dna_extraction_12201/round_02_six_kit_comparison/data/ITS/11_beta_diversity/dna_all_ITS_deblur_biom_lod_noNTCs_noMock_hbm_rar1674_dist_braycurtis.qza \\\n",
    "  --o-pcoa /projects/dna_extraction_12201/round_02_six_kit_comparison/data/ITS/11_beta_diversity/dna_all_ITS_deblur_biom_lod_noNTCs_noMock_hbm_rar1674_pcoa_braycurtis.qza\n"
   ]
  },
  {
   "cell_type": "markdown",
   "metadata": {},
   "source": [
    "Low-biomass"
   ]
  },
  {
   "cell_type": "code",
   "execution_count": null,
   "metadata": {},
   "outputs": [],
   "source": [
    "qiime diversity pcoa \\\n",
    "  --i-distance-matrix /projects/dna_extraction_12201/round_02_six_kit_comparison/data/ITS/11_beta_diversity/dna_all_ITS_deblur_biom_lod_noNTCs_noMock_lbm_rar381_dist_jaccard.qza \\\n",
    "  --o-pcoa /projects/dna_extraction_12201/round_02_six_kit_comparison/data/ITS/11_beta_diversity/dna_all_ITS_deblur_biom_lod_noNTCs_noMock_lbm_rar381_pcoa_jaccard.qza\n",
    "\n",
    "qiime diversity pcoa \\\n",
    "  --i-distance-matrix /projects/dna_extraction_12201/round_02_six_kit_comparison/data/ITS/11_beta_diversity/dna_all_ITS_deblur_biom_lod_noNTCs_noMock_lbm_rar381_dist_braycurtis.qza \\\n",
    "  --o-pcoa /projects/dna_extraction_12201/round_02_six_kit_comparison/data/ITS/11_beta_diversity/dna_all_ITS_deblur_biom_lod_noNTCs_noMock_lbm_rar381_pcoa_braycurtis.qza\n"
   ]
  },
  {
   "cell_type": "markdown",
   "metadata": {},
   "source": [
    "## Plot PCoA"
   ]
  },
  {
   "cell_type": "markdown",
   "metadata": {},
   "source": [
    "High-biomass"
   ]
  },
  {
   "cell_type": "code",
   "execution_count": null,
   "metadata": {},
   "outputs": [],
   "source": [
    "qiime emperor plot \\\n",
    "  --i-pcoa /projects/dna_extraction_12201/round_02_six_kit_comparison/data/ITS/11_beta_diversity/dna_all_ITS_deblur_biom_lod_noNTCs_noMock_hbm_rar1674_pcoa_jaccard.qza \\\n",
    "  --m-metadata-file /projects/dna_extraction_12201/round_02_six_kit_comparison/sample_metadata/12201_metadata.txt \\\n",
    "  --o-visualization /projects/dna_extraction_12201/round_02_six_kit_comparison/data/ITS/11_beta_diversity/dna_all_ITS_deblur_biom_lod_noNTCs_noMock_hbm_rar1674_pcoa_jaccard.qzv\n",
    "\n",
    "qiime emperor plot \\\n",
    "  --i-pcoa /projects/dna_extraction_12201/round_02_six_kit_comparison/data/ITS/11_beta_diversity/dna_all_ITS_deblur_biom_lod_noNTCs_noMock_hbm_rar1674_pcoa_braycurtis.qza \\\n",
    "  --m-metadata-file /projects/dna_extraction_12201/round_02_six_kit_comparison/sample_metadata/12201_metadata.txt \\\n",
    "  --o-visualization /projects/dna_extraction_12201/round_02_six_kit_comparison/data/ITS/11_beta_diversity/dna_all_ITS_deblur_biom_lod_noNTCs_noMock_hbm_rar1674_pcoa_braycurtis.qzv\n"
   ]
  },
  {
   "cell_type": "markdown",
   "metadata": {},
   "source": [
    "Low-biomass"
   ]
  },
  {
   "cell_type": "code",
   "execution_count": null,
   "metadata": {},
   "outputs": [],
   "source": [
    "qiime emperor plot \\\n",
    "  --i-pcoa /projects/dna_extraction_12201/round_02_six_kit_comparison/data/ITS/11_beta_diversity/dna_all_ITS_deblur_biom_lod_noNTCs_noMock_lbm_rar381_pcoa_jaccard.qza \\\n",
    "  --m-metadata-file /projects/dna_extraction_12201/round_02_six_kit_comparison/sample_metadata/12201_metadata.txt \\\n",
    "  --o-visualization /projects/dna_extraction_12201/round_02_six_kit_comparison/data/ITS/11_beta_diversity/dna_all_ITS_deblur_biom_lod_noNTCs_noMock_lbm_rar381_pcoa_jaccard.qzv\n",
    "\n",
    "qiime emperor plot \\\n",
    "  --i-pcoa /projects/dna_extraction_12201/round_02_six_kit_comparison/data/ITS/11_beta_diversity/dna_all_ITS_deblur_biom_lod_noNTCs_noMock_lbm_rar381_pcoa_braycurtis.qza \\\n",
    "  --m-metadata-file /projects/dna_extraction_12201/round_02_six_kit_comparison/sample_metadata/12201_metadata.txt \\\n",
    "  --o-visualization /projects/dna_extraction_12201/round_02_six_kit_comparison/data/ITS/11_beta_diversity/dna_all_ITS_deblur_biom_lod_noNTCs_noMock_lbm_rar381_pcoa_braycurtis.qzv\n"
   ]
  },
  {
   "cell_type": "markdown",
   "metadata": {},
   "source": [
    "## Perform RPCA"
   ]
  },
  {
   "cell_type": "markdown",
   "metadata": {},
   "source": [
    "High-biomass"
   ]
  },
  {
   "cell_type": "code",
   "execution_count": null,
   "metadata": {},
   "outputs": [],
   "source": [
    "qiime deicode rpca \\\n",
    "  --i-table /projects/dna_extraction_12201/round_02_six_kit_comparison/data/ITS/09_normalized_data/dna_all_ITS_deblur_biom_lod_noNTCs_noMock_hbm_min1674.qza \\\n",
    "  --p-min-feature-count 0 \\\n",
    "  --p-min-sample-count 0 \\\n",
    "  --p-min-feature-frequency 10 \\\n",
    "  --o-biplot /projects/dna_extraction_12201/round_02_six_kit_comparison/data/ITS/11_beta_diversity/dna_all_ITS_deblur_biom_lod_noNTCs_noMock_hbm_min1674_rpca_biplot.qza \\\n",
    "  --o-distance-matrix /projects/dna_extraction_12201/round_02_six_kit_comparison/data/ITS/11_beta_diversity/dna_all_ITS_deblur_biom_lod_noNTCs_noMock_hbm_min1674_rpca_dist.qza \\\n",
    "  --verbose\n",
    "\n",
    "qiime emperor biplot \\\n",
    "  --i-biplot /projects/dna_extraction_12201/round_02_six_kit_comparison/data/ITS/11_beta_diversity/dna_all_ITS_deblur_biom_lod_noNTCs_noMock_hbm_min1674_rpca_biplot.qza \\\n",
    "  --m-sample-metadata-file /projects/dna_extraction_12201/round_02_six_kit_comparison/sample_metadata/12201_metadata.txt \\\n",
    "  --m-feature-metadata-file /projects/dna_extraction_12201/round_02_six_kit_comparison/data/ITS/06_taxonomy/dna_all_ITS_deblur_seqs_taxonomy_unite8.qza \\\n",
    "  --p-number-of-features 10 \\\n",
    "  --o-visualization /projects/dna_extraction_12201/round_02_six_kit_comparison/data/ITS/11_beta_diversity/dna_all_ITS_deblur_biom_lod_noNTCs_noMock_hbm_min1674_rpca_biplot.qzv\n"
   ]
  },
  {
   "cell_type": "markdown",
   "metadata": {},
   "source": [
    "Low-biomass"
   ]
  },
  {
   "cell_type": "code",
   "execution_count": null,
   "metadata": {},
   "outputs": [],
   "source": [
    "qiime deicode rpca \\\n",
    "  --i-table /projects/dna_extraction_12201/round_02_six_kit_comparison/data/ITS/09_normalized_data/dna_all_ITS_deblur_biom_lod_noNTCs_noMock_lbm_min381.qza \\\n",
    "  --p-min-feature-count 0 \\\n",
    "  --p-min-sample-count 0 \\\n",
    "  --p-min-feature-frequency 10 \\\n",
    "  --o-biplot /projects/dna_extraction_12201/round_02_six_kit_comparison/data/ITS/11_beta_diversity/dna_all_ITS_deblur_biom_lod_noNTCs_noMock_lbm_min381_rpca_biplot.qza \\\n",
    "  --o-distance-matrix /projects/dna_extraction_12201/round_02_six_kit_comparison/data/ITS/11_beta_diversity/dna_all_ITS_deblur_biom_lod_noNTCs_noMock_lbm_min381_rpca_dist.qza \\\n",
    "  --verbose\n",
    "\n",
    "qiime emperor biplot \\\n",
    "  --i-biplot /projects/dna_extraction_12201/round_02_six_kit_comparison/data/ITS/11_beta_diversity/dna_all_ITS_deblur_biom_lod_noNTCs_noMock_lbm_min381_rpca_biplot.qza \\\n",
    "  --m-sample-metadata-file /projects/dna_extraction_12201/round_02_six_kit_comparison/sample_metadata/12201_metadata.txt \\\n",
    "  --m-feature-metadata-file /projects/dna_extraction_12201/round_02_six_kit_comparison/data/ITS/06_taxonomy/dna_all_ITS_deblur_seqs_taxonomy_unite8.qza \\\n",
    "  --p-number-of-features 10 \\\n",
    "  --o-visualization /projects/dna_extraction_12201/round_02_six_kit_comparison/data/ITS/11_beta_diversity/dna_all_ITS_deblur_biom_lod_noNTCs_noMock_lbm_min381_rpca_biplot.qzv\n"
   ]
  },
  {
   "cell_type": "code",
   "execution_count": null,
   "metadata": {},
   "outputs": [],
   "source": []
  }
 ],
 "metadata": {
  "kernelspec": {
   "display_name": "Python 3",
   "language": "python",
   "name": "python3"
  },
  "language_info": {
   "codemirror_mode": {
    "name": "ipython",
    "version": 3
   },
   "file_extension": ".py",
   "mimetype": "text/x-python",
   "name": "python",
   "nbconvert_exporter": "python",
   "pygments_lexer": "ipython3",
   "version": "3.8.5"
  }
 },
 "nbformat": 4,
 "nbformat_minor": 4
}
