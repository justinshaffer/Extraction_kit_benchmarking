{
 "cells": [
  {
   "cell_type": "markdown",
   "metadata": {},
   "source": [
    "# Set-up notebook environment\n",
    "## NOTE: Use a QIIME2 kernel"
   ]
  },
  {
   "cell_type": "code",
   "execution_count": 1,
   "metadata": {},
   "outputs": [],
   "source": [
    "import numpy as np\n",
    "import pandas as pd\n",
    "import seaborn as sns\n",
    "import scipy\n",
    "from scipy import stats\n",
    "import matplotlib.pyplot as plt\n",
    "import re\n",
    "from pandas import *\n",
    "import matplotlib.pyplot as plt\n",
    "%matplotlib inline\n",
    "from qiime2.plugins import feature_table\n",
    "from qiime2 import Artifact\n",
    "from qiime2 import Metadata\n",
    "import biom\n",
    "from biom.table import Table\n",
    "from qiime2.plugins import diversity\n",
    "from scipy.stats import ttest_ind\n",
    "from scipy.stats.stats import pearsonr\n",
    "%config InlineBackend.figure_formats = ['svg']\n",
    "from qiime2.plugins.feature_table.methods import relative_frequency\n",
    "import biom\n",
    "import qiime2 as q2\n",
    "import os\n",
    "import math\n"
   ]
  },
  {
   "cell_type": "markdown",
   "metadata": {},
   "source": [
    "# Import sample metadata"
   ]
  },
  {
   "cell_type": "code",
   "execution_count": 2,
   "metadata": {},
   "outputs": [],
   "source": [
    "meta = q2.Metadata.load('/Users/Justin/Mycelium/UCSD/00_Knight_Lab/03_Extraction_test_12201/round_02/sample_metadata/12201_metadata.txt').to_dataframe()\n"
   ]
  },
  {
   "cell_type": "markdown",
   "metadata": {},
   "source": [
    "Separate round 1 and round 2 and exclude round 1 Zymo, Homebrew, and MagMAX Beta"
   ]
  },
  {
   "cell_type": "code",
   "execution_count": 4,
   "metadata": {},
   "outputs": [],
   "source": [
    "meta_r1 = meta[meta['round'] == 1]\n",
    "meta_clean_r1_1 = meta_r1[meta_r1['extraction_kit'] != 'Zymo MagBead']\n",
    "meta_clean_r1_2 = meta_clean_r1_1[meta_clean_r1_1['extraction_kit'] != 'Homebrew']\n",
    "meta_clean_r1 = meta_clean_r1_2[meta_clean_r1_2['extraction_kit'] != 'MagMax Beta']\n",
    "meta_clean_r2 = meta[meta['round'] == 2]\n"
   ]
  },
  {
   "cell_type": "markdown",
   "metadata": {},
   "source": [
    "Remove PowerSoil samples from each round - these samples will be used as the baseline "
   ]
  },
  {
   "cell_type": "code",
   "execution_count": 5,
   "metadata": {},
   "outputs": [],
   "source": [
    "meta_clean_r1_noPS = meta_clean_r1[meta_clean_r1['extraction_kit'] != 'PowerSoil']\n",
    "meta_clean_r2_noPS = meta_clean_r2[meta_clean_r2['extraction_kit'] != 'PowerSoil']\n"
   ]
  },
  {
   "cell_type": "markdown",
   "metadata": {},
   "source": [
    "Create tables including only round 1 or round 2 PowerSoil samples"
   ]
  },
  {
   "cell_type": "code",
   "execution_count": 6,
   "metadata": {},
   "outputs": [],
   "source": [
    "meta_clean_r1_onlyPS = meta_clean_r1[meta_clean_r1['extraction_kit'] == 'PowerSoil']\n",
    "meta_clean_r2_onlyPS = meta_clean_r2[meta_clean_r2['extraction_kit'] == 'PowerSoil']\n"
   ]
  },
  {
   "cell_type": "markdown",
   "metadata": {},
   "source": [
    "Merge PowerSoil samples from round 2 with other samples from round 1, and vice versa - this will allow us to get the correlations between the two rounds of PowerSoil"
   ]
  },
  {
   "cell_type": "code",
   "execution_count": 7,
   "metadata": {},
   "outputs": [],
   "source": [
    "meta_clean_r1_with_r2_PS = pd.concat([meta_clean_r1_noPS, meta_clean_r2_onlyPS])\n",
    "meta_clean_r2_with_r1_PS = pd.concat([meta_clean_r2_noPS, meta_clean_r1_onlyPS])\n"
   ]
  },
  {
   "cell_type": "markdown",
   "metadata": {},
   "source": [
    "## Collapse feature-table to the desired level (e.g., genus)"
   ]
  },
  {
   "cell_type": "markdown",
   "metadata": {},
   "source": [
    "16S"
   ]
  },
  {
   "cell_type": "code",
   "execution_count": null,
   "metadata": {},
   "outputs": [],
   "source": [
    "qiime taxa collapse \\\n",
    "  --i-table /Users/Justin/Mycelium/UCSD/00_Knight_Lab/03_Extraction_test_12201/round_02/data/16S/10_filtered_data/dna_bothPS_16S_deblur_biom_lod_noChl_noMit_sepp_gg_noNTCs_noMock.qza \\\n",
    "  --i-taxonomy /Users/Justin/Mycelium/UCSD/00_Knight_Lab/03_Extraction_test_12201/round_02/data/16S/06_taxonomy/dna_all_16S_deblur_seqs_taxonomy_silva138.qza \\\n",
    "  --p-level 6 \\\n",
    "  --o-collapsed-table /Users/Justin/Mycelium/UCSD/00_Knight_Lab/03_Extraction_test_12201/round_02/data/16S/10_filtered_data/dna_bothPS_16S_deblur_biom_lod_noChl_noMit_sepp_gg_noNTCs_noMock_taxa_collapse_genus.qza\n",
    "\n",
    "qiime feature-table summarize \\\n",
    "  --i-table /Users/Justin/Mycelium/UCSD/00_Knight_Lab/03_Extraction_test_12201/round_02/data/16S/10_filtered_data/dna_bothPS_16S_deblur_biom_lod_noChl_noMit_sepp_gg_noNTCs_noMock_taxa_collapse_genus.qza \\\n",
    "  --o-visualization /Users/Justin/Mycelium/UCSD/00_Knight_Lab/03_Extraction_test_12201/round_02/data/16S/10_filtered_data/dna_bothPS_16S_deblur_biom_lod_noChl_noMit_sepp_gg_noNTCs_noMock_taxa_collapse_genus.qzv\n",
    "\n",
    "# There are 846 samples and 1660 features\n"
   ]
  },
  {
   "cell_type": "markdown",
   "metadata": {},
   "source": [
    "ITS"
   ]
  },
  {
   "cell_type": "code",
   "execution_count": null,
   "metadata": {},
   "outputs": [],
   "source": [
    "qiime taxa collapse \\\n",
    "  --i-table /Users/Justin/Mycelium/UCSD/00_Knight_Lab/03_Extraction_test_12201/round_02/data/ITS/08_filtered_data/dna_bothPS_ITS_deblur_biom_lod_noNTCs_noMock.qza \\\n",
    "  --i-taxonomy /Users/Justin/Mycelium/UCSD/00_Knight_Lab/03_Extraction_test_12201/round_02/data/ITS/06_taxonomy/dna_all_ITS_deblur_seqs_taxonomy_unite8.qza \\\n",
    "  --p-level 6 \\\n",
    "  --o-collapsed-table /Users/Justin/Mycelium/UCSD/00_Knight_Lab/03_Extraction_test_12201/round_02/data/ITS/08_filtered_data/dna_bothPS_ITS_deblur_biom_lod_noNTCs_noMock_taxa_collapse_genus.qza\n",
    "\n",
    "qiime feature-table summarize \\\n",
    "  --i-table /Users/Justin/Mycelium/UCSD/00_Knight_Lab/03_Extraction_test_12201/round_02/data/ITS/08_filtered_data/dna_bothPS_ITS_deblur_biom_lod_noNTCs_noMock_taxa_collapse_genus.qza \\\n",
    "  --o-visualization /Users/Justin/Mycelium/UCSD/00_Knight_Lab/03_Extraction_test_12201/round_02/data/ITS/08_filtered_data/dna_bothPS_ITS_deblur_biom_lod_noNTCs_noMock_taxa_collapse_genus.qzv\n",
    "\n",
    "# There are 978 samples and 791 features\n"
   ]
  },
  {
   "cell_type": "markdown",
   "metadata": {},
   "source": [
    "Shotgun"
   ]
  },
  {
   "cell_type": "code",
   "execution_count": null,
   "metadata": {},
   "outputs": [],
   "source": [
    "qiime taxa collapse \\\n",
    "  --i-table /Users/Justin/Mycelium/UCSD/00_Knight_Lab/03_Extraction_test_12201/round_02/data/shotgun/03_filtered_data/dna_bothPS_shotgun_woltka_wol_biom_noNTCs_noMock.qza \\\n",
    "  --i-taxonomy /Users/Justin/Mycelium/UCSD/00_Knight_Lab/03_Extraction_test_12201/round_02/data/shotgun/wol_taxonomy.qza \\\n",
    "  --p-level 6 \\\n",
    "  --o-collapsed-table /Users/Justin/Mycelium/UCSD/00_Knight_Lab/03_Extraction_test_12201/round_02/data/shotgun/03_filtered_data/dna_bothPS_shotgun_woltka_wol_biom_noNTCs_noMock_taxa_collapse_genus.qza\n",
    "\n",
    "qiime feature-table summarize \\\n",
    "  --i-table /Users/Justin/Mycelium/UCSD/00_Knight_Lab/03_Extraction_test_12201/round_02/data/shotgun/03_filtered_data/dna_bothPS_shotgun_woltka_wol_biom_noNTCs_noMock_taxa_collapse_genus.qza \\\n",
    "  --o-visualization /Users/Justin/Mycelium/UCSD/00_Knight_Lab/03_Extraction_test_12201/round_02/data/shotgun/03_filtered_data/dna_bothPS_shotgun_woltka_wol_biom_noNTCs_noMock_taxa_collapse_genus.qzv\n",
    "\n",
    "# There are 1044 samples and 2060 features\n"
   ]
  },
  {
   "cell_type": "markdown",
   "metadata": {},
   "source": [
    "# Import feature-tables"
   ]
  },
  {
   "cell_type": "code",
   "execution_count": 8,
   "metadata": {},
   "outputs": [],
   "source": [
    "dna_bothPS_16S_genus_qza = q2.Artifact.load('/Users/Justin/Mycelium/UCSD/00_Knight_Lab/03_Extraction_test_12201/round_02/data/16S/10_filtered_data/dna_bothPS_16S_deblur_biom_lod_noChl_noMit_sepp_gg_noNTCs_noMock_taxa_collapse_genus.qza')\n",
    "dna_bothPS_ITS_genus_qza = q2.Artifact.load('/Users/Justin/Mycelium/UCSD/00_Knight_Lab/03_Extraction_test_12201/round_02/data/ITS/08_filtered_data/dna_bothPS_ITS_deblur_biom_lod_noNTCs_noMock_taxa_collapse_genus.qza')\n",
    "dna_bothPS_shotgun_genus_qza = q2.Artifact.load('/Users/Justin/Mycelium/UCSD/00_Knight_Lab/03_Extraction_test_12201/round_02/data/shotgun/03_filtered_data/dna_bothPS_shotgun_woltka_wol_biom_noNTCs_noMock_taxa_collapse_genus.qza')\n"
   ]
  },
  {
   "cell_type": "markdown",
   "metadata": {},
   "source": [
    "# Convert QZA to a Pandas DataFrame"
   ]
  },
  {
   "cell_type": "code",
   "execution_count": 9,
   "metadata": {},
   "outputs": [],
   "source": [
    "dna_bothPS_16S_genus_df = dna_bothPS_16S_genus_qza.view(pd.DataFrame)\n",
    "dna_bothPS_ITS_genus_df = dna_bothPS_ITS_genus_qza.view(pd.DataFrame)\n",
    "dna_bothPS_shotgun_genus_df = dna_bothPS_shotgun_genus_qza.view(pd.DataFrame)\n"
   ]
  },
  {
   "cell_type": "markdown",
   "metadata": {},
   "source": [
    "# Melt dataframes"
   ]
  },
  {
   "cell_type": "code",
   "execution_count": 10,
   "metadata": {},
   "outputs": [],
   "source": [
    "dna_bothPS_16S_genus_df_melt = dna_bothPS_16S_genus_df.unstack()\n",
    "dna_bothPS_ITS_genus_df_melt = dna_bothPS_ITS_genus_df.unstack()\n",
    "dna_bothPS_shotgun_genus_df_melt = dna_bothPS_shotgun_genus_df.unstack()\n",
    "\n",
    "dna_bothPS_16S_genus = pd.DataFrame(dna_bothPS_16S_genus_df_melt)\n",
    "dna_bothPS_ITS_genus = pd.DataFrame(dna_bothPS_ITS_genus_df_melt)\n",
    "dna_bothPS_shotgun_genus = pd.DataFrame(dna_bothPS_shotgun_genus_df_melt)\n"
   ]
  },
  {
   "cell_type": "code",
   "execution_count": 11,
   "metadata": {},
   "outputs": [],
   "source": [
    "dna_bothPS_16S_genus.reset_index(inplace=True)\n",
    "dna_bothPS_16S_genus.rename(columns={'level_0':'taxa','level_1':'sample',0:'counts'}, inplace=True)\n",
    "\n",
    "dna_bothPS_ITS_genus.reset_index(inplace=True)\n",
    "dna_bothPS_ITS_genus.rename(columns={'level_0':'taxa','level_1':'sample',0:'counts'}, inplace=True)\n",
    "\n",
    "dna_bothPS_shotgun_genus.reset_index(inplace=True)\n",
    "dna_bothPS_shotgun_genus.rename(columns={'level_0':'taxa','level_1':'sample',0:'counts'}, inplace=True)\n"
   ]
  },
  {
   "cell_type": "markdown",
   "metadata": {},
   "source": [
    "# Wrangle data into long form for each kit"
   ]
  },
  {
   "cell_type": "markdown",
   "metadata": {},
   "source": [
    "Wrangle metadata"
   ]
  },
  {
   "cell_type": "code",
   "execution_count": 12,
   "metadata": {
    "scrolled": true
   },
   "outputs": [
    {
     "name": "stdout",
     "output_type": "stream",
     "text": [
      "Gathered data for Norgen\n",
      "Gathered data for PowerSoil Pro\n",
      "Gathered data for PowerSoil r2\n",
      "Gathered data for MagMAX Microbiome\n",
      "Gathered data for NucleoMag Food\n",
      "Gathered data for PowerSoil r1\n",
      "Gathered data for Zymo MagBead\n",
      "Merged data for Norgen\n",
      "Merged data for PowerSoil Pro\n",
      "Merged data for PowerSoil r2\n",
      "Merged data for MagMAX Microbiome\n",
      "Merged data for NucleoMag Food\n",
      "Merged data for PowerSoil r1\n",
      "Merged data for Zymo MagBead\n"
     ]
    }
   ],
   "source": [
    "# Create empty list of extraction kit IDs\n",
    "ext_kit_levels = [] \n",
    "\n",
    "\n",
    "# Create empty list of metadata subsets based on levels of variable of interest\n",
    "ext_kit = [] \n",
    "\n",
    "\n",
    "# Create empty list of baseline samples for each subset\n",
    "bl = []\n",
    "\n",
    "\n",
    "# Populate lists with round 1 data\n",
    "for ext_kit_level, ext_kit_level_df in meta_clean_r1_with_r2_PS.groupby('extraction_kit_round'):\n",
    "    ext_kit.append(ext_kit_level_df)\n",
    "    \n",
    "    powersoil_r1_bl = meta_clean_r1_onlyPS[meta_clean_r1_onlyPS.extraction_kit_round == 'PowerSoil r1']\n",
    "    bl.append(powersoil_r1_bl)\n",
    "    \n",
    "    ext_kit_levels.append(ext_kit_level)\n",
    "    \n",
    "    print('Gathered data for',ext_kit_level)\n",
    "\n",
    "\n",
    "# Populate lists with round 2 data\n",
    "for ext_kit_level, ext_kit_level_df in meta_clean_r2_with_r1_PS.groupby('extraction_kit_round'):\n",
    "    ext_kit.append(ext_kit_level_df)\n",
    "\n",
    "    powersoil_r2_bl = meta_clean_r2_onlyPS[meta_clean_r2_onlyPS['extraction_kit_round'] == 'PowerSoil r2']\n",
    "    bl.append(powersoil_r2_bl)\n",
    "\n",
    "    ext_kit_levels.append(ext_kit_level)\n",
    "\n",
    "    print('Gathered data for',ext_kit_level)\n",
    "\n",
    "\n",
    "# Create empty list for concatenated subset-baseline datasets\n",
    "subsets_w_bl = {}\n",
    "\n",
    "\n",
    "# Populate list with subset-baseline data\n",
    "for ext_kit_level, ext_kit_df, ext_kit_bl in zip(ext_kit_levels, ext_kit, bl):    \n",
    "\n",
    "        new_df = pd.concat([ext_kit_bl,ext_kit_df]) \n",
    "        subsets_w_bl[ext_kit_level] = new_df\n",
    "        \n",
    "        print('Merged data for',ext_kit_level)\n",
    "   "
   ]
  },
  {
   "cell_type": "markdown",
   "metadata": {},
   "source": [
    "16S"
   ]
  },
  {
   "cell_type": "code",
   "execution_count": 200,
   "metadata": {},
   "outputs": [],
   "source": [
    "list_of_lists = []\n",
    "\n",
    "for key, value in subsets_w_bl.items():\n",
    "    \n",
    "    string =  ''.join(key)\n",
    "    \n",
    "    #merge metadata subsets with baseline with taxonomy\n",
    "    meta_16S_genera = pd.merge(value, dna_bothPS_16S_genus, left_index=True, right_on='sample')\n",
    "\n",
    "    #create new column \n",
    "    meta_16S_genera['taxa_subject'] = meta_16S_genera['taxa'] + meta_16S_genera['host_subject_id']\n",
    "\n",
    "    #subtract out duplicates and pivot\n",
    "    meta_16S_genera_clean = meta_16S_genera.drop_duplicates(subset = ['taxa_subject', 'extraction_kit_round'], keep = 'first')\n",
    "    meta_16S_genera_pivot = meta_16S_genera_clean.pivot(index='taxa_subject', columns='extraction_kit_round', values='counts')\n",
    "    meta_16S_genera_pivot_clean = meta_16S_genera_pivot.dropna()\n",
    "    \n",
    "    # Export dataframe to file\n",
    "    meta_16S_genera_pivot_clean.to_csv('/Users/Justin/Mycelium/UCSD/00_Knight_Lab/03_Extraction_test_12201/round_02/results/feature_abundance_correlation_images/table_correlation_16S_genera_%s.txt'%string,\n",
    "         sep = '\\t',\n",
    "         index = False)\n",
    "   "
   ]
  },
  {
   "cell_type": "markdown",
   "metadata": {},
   "source": [
    "ITS"
   ]
  },
  {
   "cell_type": "code",
   "execution_count": 13,
   "metadata": {},
   "outputs": [],
   "source": [
    "list_of_lists = []\n",
    "\n",
    "for key, value in subsets_w_bl.items():\n",
    "    \n",
    "    string =  ''.join(key)\n",
    "    \n",
    "    #merge metadata subsets with baseline with taxonomy\n",
    "    meta_ITS_genera = pd.merge(value, dna_bothPS_ITS_genus, left_index=True, right_on='sample')\n",
    "\n",
    "    #create new column \n",
    "    meta_ITS_genera['taxa_subject'] = meta_ITS_genera['taxa'] + meta_ITS_genera['host_subject_id']\n",
    "\n",
    "    #subtract out duplicates and pivot\n",
    "    meta_ITS_genera_clean = meta_ITS_genera.drop_duplicates(subset = ['taxa_subject', 'extraction_kit_round'], keep = 'first')\n",
    "    meta_ITS_genera_pivot = meta_ITS_genera_clean.pivot(index='taxa_subject', columns='extraction_kit_round', values='counts')\n",
    "    meta_ITS_genera_pivot_clean = meta_ITS_genera_pivot.dropna()\n",
    "    \n",
    "    # Export dataframe to file\n",
    "    meta_ITS_genera_pivot_clean.to_csv('/Users/Justin/Mycelium/UCSD/00_Knight_Lab/03_Extraction_test_12201/round_02/results/feature_abundance_correlation_images/table_correlation_ITS_genera_%s.txt'%string,\n",
    "         sep = '\\t',\n",
    "         index = False)\n",
    "   "
   ]
  },
  {
   "cell_type": "markdown",
   "metadata": {},
   "source": [
    "Shotgun"
   ]
  },
  {
   "cell_type": "code",
   "execution_count": 14,
   "metadata": {},
   "outputs": [],
   "source": [
    "list_of_lists = []\n",
    "\n",
    "for key, value in subsets_w_bl.items():\n",
    "    \n",
    "    string =  ''.join(key)\n",
    "    \n",
    "    #merge metadata subsets with baseline with taxonomy\n",
    "    meta_shotgun_genera = pd.merge(value, dna_bothPS_shotgun_genus, left_index=True, right_on='sample')\n",
    "\n",
    "    #create new column \n",
    "    meta_shotgun_genera['taxa_subject'] = meta_shotgun_genera['taxa'] + meta_shotgun_genera['host_subject_id']\n",
    "\n",
    "    #subtract out duplicates and pivot\n",
    "    meta_shotgun_genera_clean = meta_shotgun_genera.drop_duplicates(subset = ['taxa_subject', 'extraction_kit_round'], keep = 'first')\n",
    "    meta_shotgun_genera_pivot = meta_shotgun_genera_clean.pivot(index='taxa_subject', columns='extraction_kit_round', values='counts')\n",
    "    meta_shotgun_genera_pivot_clean = meta_shotgun_genera_pivot.dropna()\n",
    "    \n",
    "    # Export dataframe to file\n",
    "    meta_shotgun_genera_pivot_clean.to_csv('/Users/Justin/Mycelium/UCSD/00_Knight_Lab/03_Extraction_test_12201/round_02/results/feature_abundance_correlation_images/table_correlation_shotgun_genera_%s.txt'%string,\n",
    "         sep = '\\t',\n",
    "         index = False)\n",
    "   "
   ]
  },
  {
   "cell_type": "markdown",
   "metadata": {},
   "source": [
    "# Code below is not used\n",
    "## NOTE: The first cell was originally appended to the cell above"
   ]
  },
  {
   "cell_type": "code",
   "execution_count": null,
   "metadata": {},
   "outputs": [],
   "source": [
    " # check pearson correlation\n",
    "    x = meta_16S_genera_pivot_clean.iloc[:,1]\n",
    "    y = meta_16S_genera_pivot_clean[key]\n",
    "    corr = stats.pearsonr(x, y)\n",
    "    int1, int2 = corr\n",
    "    corr_rounded = round(int1, 2)\n",
    "    corr_str = str(corr_rounded)\n",
    "    x_key = key[0]\n",
    "    y_key = key[1]\n",
    "    \n",
    "    list1 = []\n",
    "    \n",
    "    list1.append(corr_rounded)\n",
    "    list1.append(key)\n",
    "    list_of_lists.append(list1)\n",
    "        "
   ]
  },
  {
   "cell_type": "code",
   "execution_count": null,
   "metadata": {},
   "outputs": [],
   "source": [
    "list_of_lists"
   ]
  },
  {
   "cell_type": "code",
   "execution_count": 154,
   "metadata": {},
   "outputs": [],
   "source": [
    "df = pd.DataFrame(list_of_lists, columns = ['Correlation', 'Extraction kit']) \n"
   ]
  },
  {
   "cell_type": "code",
   "execution_count": 198,
   "metadata": {},
   "outputs": [],
   "source": [
    "df.to_csv('/Users/Justin/Mycelium/UCSD/00_Knight_Lab/03_Extraction_test_12201/round_02/results/feature_abundance_correlation_images/table_correlations_16S_genera.txt',\n",
    "         sep = '\\t',\n",
    "         index = False)\n"
   ]
  },
  {
   "cell_type": "code",
   "execution_count": null,
   "metadata": {
    "scrolled": true
   },
   "outputs": [],
   "source": [
    "splot = sns.catplot(y=\"Correlation\", \n",
    "                    x=\"Extraction kit\", \n",
    "                    hue= \"Extraction kit\", \n",
    "                    kind='bar',\n",
    "                    data=df,\n",
    "                   dodge = False)\n",
    "splot.set(ylim=(0, 1))\n",
    "plt.xticks(rotation=45,\n",
    "          horizontalalignment='right')\n",
    "\n",
    "#new_labels = ['−20C','−20C after 1 week', '4C','Ambient','Freeze-thaw','Heat']\n",
    "#for t, l in zip(splot._legend.texts, new_labels):\n",
    "#    t.set_text(l)\n",
    "        \n",
    "splot.savefig('correlation_16S_genera.png')\n",
    "splot.savefig('correlation_16S_genera.svg', format='svg', dpi=1200)\n"
   ]
  },
  {
   "cell_type": "markdown",
   "metadata": {},
   "source": [
    "### Individual correlation plots "
   ]
  },
  {
   "cell_type": "code",
   "execution_count": null,
   "metadata": {},
   "outputs": [],
   "source": [
    "for key, value in subsets_w_bl.items():\n",
    "    \n",
    "    string =  ''.join(key)\n",
    "    \n",
    "    #merge metadata subsets with baseline with taxonomy\n",
    "    meta_16S_genera = pd.merge(value, dna_bothPS_16S_genus, left_index=True, right_on='sample')\n",
    "\n",
    "    #create new column \n",
    "    meta_16S_genera['taxa_subject'] = meta_16S_genera['taxa'] + meta_16S_genera['host_subject_id']\n",
    "\n",
    "    #subtract out duplicates and pivot\n",
    "    meta_16S_genera_clean = meta_16S_genera.drop_duplicates(subset = ['taxa_subject', 'extraction_kit_round'], keep = 'first')\n",
    "    meta_16S_genera_pivot = meta_16S_genera_clean.pivot(index='taxa_subject', columns='extraction_kit_round', values='counts')\n",
    "    meta_16S_genera_pivot_clean = meta_16S_genera_pivot.dropna()\n",
    "\n",
    "    # check pearson correlation\n",
    "    x = meta_16S_genera_pivot_clean.iloc[:,1]\n",
    "    y = meta_16S_genera_pivot_clean[key]\n",
    "    corr = stats.pearsonr(x, y)\n",
    "    int1, int2 = corr\n",
    "    corr_rounded = round(int1, 2)\n",
    "    corr_str = str(corr_rounded)\n",
    "    \n",
    "    #make correlation plots\n",
    "    meta_16S_genera_pivot_clean['x1'] = meta_16S_genera_pivot_clean.iloc[:,1]\n",
    "    meta_16S_genera_pivot_clean['y1'] = meta_16S_genera_pivot_clean.iloc[:,0]\n",
    "    ax=sns.lmplot(x='x1',\n",
    "                  y='y1',\n",
    "                  data=meta_16S_genera_pivot_clean, \n",
    "                  height=3.8)\n",
    "    ax.set(yscale='log')\n",
    "    ax.set(xscale='log')\n",
    "    ax.set(xlabel='PowerSoil', ylabel=key)\n",
    "    #plt.xlim(0.00001, 10000000)\n",
    "    #plt.ylim(0.00001, 10000000)\n",
    "    plt.title(string + ' (%s)' %corr_str)\n",
    "\n",
    "    ax.savefig('/Users/Justin/Mycelium/UCSD/00_Knight_Lab/03_Extraction_test_12201/round_02/results/feature_abundance_correlation_images/figure_scatter_correlation_16S_genera_%s.png'%string)\n",
    "    ax.savefig('/Users/Justin/Mycelium/UCSD/00_Knight_Lab/03_Extraction_test_12201/round_02/results/feature_abundance_correlation_images/figure_scatter_correlation_16S_genera_%s.svg'%string, format='svg',dpi=1200)\n",
    "    "
   ]
  },
  {
   "cell_type": "code",
   "execution_count": null,
   "metadata": {},
   "outputs": [],
   "source": []
  }
 ],
 "metadata": {
  "kernelspec": {
   "display_name": "Python (qiime2-2021.11)",
   "language": "python",
   "name": "qiime2-2021.11"
  },
  "language_info": {
   "codemirror_mode": {
    "name": "ipython",
    "version": 3
   },
   "file_extension": ".py",
   "mimetype": "text/x-python",
   "name": "python",
   "nbconvert_exporter": "python",
   "pygments_lexer": "ipython3",
   "version": "3.8.12"
  }
 },
 "nbformat": 4,
 "nbformat_minor": 2
}
