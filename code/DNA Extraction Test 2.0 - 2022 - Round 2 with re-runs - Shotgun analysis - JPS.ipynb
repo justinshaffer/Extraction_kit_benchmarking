{
 "cells": [
  {
   "cell_type": "code",
   "execution_count": null,
   "metadata": {},
   "outputs": [],
   "source": [
    "import pandas as pd\n"
   ]
  },
  {
   "cell_type": "code",
   "execution_count": null,
   "metadata": {},
   "outputs": [],
   "source": [
    "conda activate qiime2-2021.11\n"
   ]
  },
  {
   "cell_type": "markdown",
   "metadata": {},
   "source": [
    "# Merge feature-tables from round 1 obtained from Qiita study 12201"
   ]
  },
  {
   "cell_type": "code",
   "execution_count": null,
   "metadata": {},
   "outputs": [],
   "source": [
    "qiime feature-table merge \\\n",
    "--i-tables /projects/dna_extraction_12201/round_02_six_kit_comparison/data/shotgun/01_raw_data/dna_og_shotgun_lane1_woltka_wol_biom.qza \\\n",
    "--i-tables /projects/dna_extraction_12201/round_02_six_kit_comparison/data/shotgun/01_raw_data/dna_og_shotgun_lane2_woltka_wol_biom.qza \\\n",
    "--i-tables /projects/dna_extraction_12201/round_02_six_kit_comparison/data/shotgun/01_raw_data/dna_og_shotgun_lane3_woltka_wol_biom.qza \\\n",
    "--o-merged-table /projects/dna_extraction_12201/round_02_six_kit_comparison/data/shotgun/01_raw_data/dna_og_shotgun_woltka_wol_biom.qza\n",
    "\n",
    "qiime feature-table summarize \\\n",
    "--i-table /projects/dna_extraction_12201/round_02_six_kit_comparison/data/shotgun/01_raw_data/dna_og_shotgun_woltka_wol_biom.qza \\\n",
    "--o-visualization /projects/dna_extraction_12201/round_02_six_kit_comparison/data/shotgun/01_raw_data/dna_og_shotgun_woltka_wol_biom.qzv\n",
    "\n",
    "# There are 1136 samples and 6765 features\n"
   ]
  },
  {
   "cell_type": "markdown",
   "metadata": {},
   "source": [
    "# Filter 'bad' samples (i.e., Zymo kit) from round 1 merged table"
   ]
  },
  {
   "cell_type": "code",
   "execution_count": null,
   "metadata": {},
   "outputs": [],
   "source": [
    "qiime feature-table filter-samples \\\n",
    "--i-table /projects/dna_extraction_12201/round_02_six_kit_comparison/data/shotgun/01_raw_data/dna_og_shotgun_woltka_wol_biom.qza \\\n",
    "  --m-metadata-file /projects/dna_extraction_12201/round_02_six_kit_comparison/sample_metadata/12201_metadata.txt \\\n",
    "  --p-where \"[extraction_kit]!='Zymo MagBead'\" \\\n",
    "  --o-filtered-table /projects/dna_extraction_12201/round_02_six_kit_comparison/data/shotgun/01_raw_data/dna_og_good_shotgun_woltka_wol_biom.qza\n",
    "\n",
    "qiime feature-table summarize \\\n",
    "  --i-table /projects/dna_extraction_12201/round_02_six_kit_comparison/data/shotgun/01_raw_data/dna_og_good_shotgun_woltka_wol_biom.qza \\\n",
    "  --o-visualization /projects/dna_extraction_12201/round_02_six_kit_comparison/data/shotgun/01_raw_data/dna_og_good_shotgun_woltka_wol_biom.qzv\n",
    "\n",
    "# There are 945 samples and 6530 features\n"
   ]
  },
  {
   "cell_type": "markdown",
   "metadata": {},
   "source": [
    "# Filter PowerSoil samples from round 1 merged table"
   ]
  },
  {
   "cell_type": "code",
   "execution_count": null,
   "metadata": {},
   "outputs": [],
   "source": [
    "qiime feature-table filter-samples \\\n",
    "--i-table /projects/dna_extraction_12201/round_02_six_kit_comparison/data/shotgun/01_raw_data/dna_og_good_shotgun_woltka_wol_biom.qza \\\n",
    "  --m-metadata-file /projects/dna_extraction_12201/round_02_six_kit_comparison/sample_metadata/12201_metadata.txt \\\n",
    "  --p-where \"[extraction_kit]!='PowerSoil'\" \\\n",
    "  --o-filtered-table /projects/dna_extraction_12201/round_02_six_kit_comparison/data/shotgun/01_raw_data/dna_og_good_noPS_shotgun_woltka_wol_biom.qza\n",
    "\n",
    "qiime feature-table summarize \\\n",
    "  --i-table /projects/dna_extraction_12201/round_02_six_kit_comparison/data/shotgun/01_raw_data/dna_og_good_noPS_shotgun_woltka_wol_biom.qza \\\n",
    "  --o-visualization /projects/dna_extraction_12201/round_02_six_kit_comparison/data/shotgun/01_raw_data/dna_og_good_noPS_shotgun_woltka_wol_biom.qzv\n",
    "\n",
    "# There are 755 samples and 6492 features\n"
   ]
  },
  {
   "cell_type": "markdown",
   "metadata": {},
   "source": [
    "# Filter MagMax Beta samples from round 1 merged table"
   ]
  },
  {
   "cell_type": "markdown",
   "metadata": {},
   "source": [
    "Table excluding round 1 PowerSoil (for beta-diversity analyses)"
   ]
  },
  {
   "cell_type": "code",
   "execution_count": null,
   "metadata": {},
   "outputs": [],
   "source": [
    "qiime feature-table filter-samples \\\n",
    "--i-table /projects/dna_extraction_12201/round_02_six_kit_comparison/data/shotgun/01_raw_data/dna_og_good_noPS_shotgun_woltka_wol_biom.qza \\\n",
    "  --m-metadata-file /projects/dna_extraction_12201/round_02_six_kit_comparison/sample_metadata/12201_metadata.txt \\\n",
    "  --p-where \"[extraction_kit]!='MagMax Beta'\" \\\n",
    "  --o-filtered-table /projects/dna_extraction_12201/round_02_six_kit_comparison/data/shotgun/01_raw_data/dna_og_good_noPSorMMB_shotgun_woltka_wol_biom.qza\n",
    "\n",
    "qiime feature-table summarize \\\n",
    "  --i-table /projects/dna_extraction_12201/round_02_six_kit_comparison/data/shotgun/01_raw_data/dna_og_good_noPSorMMB_shotgun_woltka_wol_biom.qza \\\n",
    "  --o-visualization /projects/dna_extraction_12201/round_02_six_kit_comparison/data/shotgun/01_raw_data/dna_og_good_noPSorMMB_shotgun_woltka_wol_biom.qzv\n",
    "\n",
    "# There are 565 samples and 6167 features\n"
   ]
  },
  {
   "cell_type": "markdown",
   "metadata": {},
   "source": [
    "Table including round 1 PowerSoil (for alpha-diversity analyses)"
   ]
  },
  {
   "cell_type": "code",
   "execution_count": null,
   "metadata": {},
   "outputs": [],
   "source": [
    "qiime feature-table filter-samples \\\n",
    "--i-table /projects/dna_extraction_12201/round_02_six_kit_comparison/data/shotgun/01_raw_data/dna_og_good_shotgun_woltka_wol_biom.qza \\\n",
    "  --m-metadata-file /projects/dna_extraction_12201/round_02_six_kit_comparison/sample_metadata/12201_metadata.txt \\\n",
    "  --p-where \"[extraction_kit]!='MagMax Beta'\" \\\n",
    "  --o-filtered-table /projects/dna_extraction_12201/round_02_six_kit_comparison/data/shotgun/01_raw_data/dna_og_good_noMMB_shotgun_woltka_wol_biom.qza\n",
    "\n",
    "qiime feature-table summarize \\\n",
    "  --i-table /projects/dna_extraction_12201/round_02_six_kit_comparison/data/shotgun/01_raw_data/dna_og_good_noMMB_shotgun_woltka_wol_biom.qza \\\n",
    "  --o-visualization /projects/dna_extraction_12201/round_02_six_kit_comparison/data/shotgun/01_raw_data/dna_og_good_noMMB_shotgun_woltka_wol_biom.qzv\n",
    "\n",
    "# There are 755 samples and 6223 features\n"
   ]
  },
  {
   "cell_type": "markdown",
   "metadata": {},
   "source": [
    "# Filter Homebrew samples from round 1 merged table"
   ]
  },
  {
   "cell_type": "markdown",
   "metadata": {},
   "source": [
    "Table excluding round 1 PowerSoil (for beta-diversity analyses)"
   ]
  },
  {
   "cell_type": "code",
   "execution_count": null,
   "metadata": {},
   "outputs": [],
   "source": [
    "qiime feature-table filter-samples \\\n",
    "--i-table /projects/dna_extraction_12201/round_02_six_kit_comparison/data/shotgun/01_raw_data/dna_og_good_noPSorMMB_shotgun_woltka_wol_biom.qza \\\n",
    "  --m-metadata-file /projects/dna_extraction_12201/round_02_six_kit_comparison/sample_metadata/12201_metadata.txt \\\n",
    "  --p-where \"[extraction_kit]!='Homebrew'\" \\\n",
    "  --o-filtered-table /projects/dna_extraction_12201/round_02_six_kit_comparison/data/shotgun/01_raw_data/dna_og_good_noPSorMMBorHB_shotgun_woltka_wol_biom.qza\n",
    "\n",
    "qiime feature-table summarize \\\n",
    "  --i-table /projects/dna_extraction_12201/round_02_six_kit_comparison/data/shotgun/01_raw_data/dna_og_good_noPSorMMBorHB_shotgun_woltka_wol_biom.qza \\\n",
    "  --o-visualization /projects/dna_extraction_12201/round_02_six_kit_comparison/data/shotgun/01_raw_data/dna_og_good_noPSorMMBorHB_shotgun_woltka_wol_biom.qzv\n",
    "\n",
    "# There are 376 samples and 5036 features\n"
   ]
  },
  {
   "cell_type": "markdown",
   "metadata": {},
   "source": [
    "Table including round 1 PowerSoil (for alpha-diversity analyses)"
   ]
  },
  {
   "cell_type": "code",
   "execution_count": null,
   "metadata": {},
   "outputs": [],
   "source": [
    "qiime feature-table filter-samples \\\n",
    "--i-table /projects/dna_extraction_12201/round_02_six_kit_comparison/data/shotgun/01_raw_data/dna_og_good_noMMB_shotgun_woltka_wol_biom.qza \\\n",
    "  --m-metadata-file /projects/dna_extraction_12201/round_02_six_kit_comparison/sample_metadata/12201_metadata.txt \\\n",
    "  --p-where \"[extraction_kit]!='Homebrew'\" \\\n",
    "  --o-filtered-table /projects/dna_extraction_12201/round_02_six_kit_comparison/data/shotgun/01_raw_data/dna_og_good_noMMBorHB_shotgun_woltka_wol_biom.qza\n",
    "\n",
    "qiime feature-table summarize \\\n",
    "  --i-table /projects/dna_extraction_12201/round_02_six_kit_comparison/data/shotgun/01_raw_data/dna_og_good_noMMBorHB_shotgun_woltka_wol_biom.qza \\\n",
    "  --o-visualization /projects/dna_extraction_12201/round_02_six_kit_comparison/data/shotgun/01_raw_data/dna_og_good_noMMBorHB_shotgun_woltka_wol_biom.qzv\n",
    "\n",
    "# There are 566 samples and 5420 features\n"
   ]
  },
  {
   "cell_type": "markdown",
   "metadata": {},
   "source": [
    "# Merge round 1 excluding Zymo with round 2"
   ]
  },
  {
   "cell_type": "markdown",
   "metadata": {},
   "source": [
    "All kits (for read counts)"
   ]
  },
  {
   "cell_type": "code",
   "execution_count": null,
   "metadata": {},
   "outputs": [],
   "source": [
    "qiime feature-table merge \\\n",
    "  --i-tables /projects/dna_extraction_12201/round_02_six_kit_comparison/data/shotgun/01_raw_data/dna_og_good_shotgun_woltka_wol_biom.qza \\\n",
    "  --i-tables /projects/dna_extraction_12201/round_02_six_kit_comparison/data/shotgun/01_raw_data/dna_rerun_shotgun_woltka_wol_biom.qza \\\n",
    "  --o-merged-table /projects/dna_extraction_12201/round_02_six_kit_comparison/data/shotgun/02_merged_data/00_all_kits/dna_all_shotgun_woltka_wol_biom.qza \\\n",
    "\n",
    "qiime feature-table summarize \\\n",
    "  --i-table /projects/dna_extraction_12201/round_02_six_kit_comparison/data/shotgun/02_merged_data/00_all_kits/dna_all_shotgun_woltka_wol_biom.qza \\\n",
    "  --o-visualization /projects/dna_extraction_12201/round_02_six_kit_comparison/data/shotgun/02_merged_data/00_all_kits/dna_all_shotgun_woltka_wol_biom.qzv\n",
    "\n",
    "# There are 1712 samples and 7594 features\n"
   ]
  },
  {
   "cell_type": "markdown",
   "metadata": {},
   "source": [
    "Table excluding round 1 PowerSoil, MagMAX Beta, and Homebrew (for beta-diversity analyses)"
   ]
  },
  {
   "cell_type": "code",
   "execution_count": null,
   "metadata": {},
   "outputs": [],
   "source": [
    "qiime feature-table merge \\\n",
    "  --i-tables /projects/dna_extraction_12201/round_02_six_kit_comparison/data/shotgun/01_raw_data/dna_og_good_noPSorMMBorHB_shotgun_woltka_wol_biom.qza \\\n",
    "  --i-tables /projects/dna_extraction_12201/round_02_six_kit_comparison/data/shotgun/01_raw_data/dna_rerun_shotgun_woltka_wol_biom.qza \\\n",
    "  --o-merged-table /projects/dna_extraction_12201/round_02_six_kit_comparison/data/shotgun/02_merged_data/dna_all_shotgun_woltka_wol_biom.qza \\\n",
    "\n",
    "qiime feature-table summarize \\\n",
    "  --i-table /projects/dna_extraction_12201/round_02_six_kit_comparison/data/shotgun/02_merged_data/dna_all_shotgun_woltka_wol_biom.qza \\\n",
    "  --o-visualization /projects/dna_extraction_12201/round_02_six_kit_comparison/data/shotgun/02_merged_data/dna_all_shotgun_woltka_wol_biom.qzv\n",
    "\n",
    "# There are 1143 samples and 7393 features\n"
   ]
  },
  {
   "cell_type": "markdown",
   "metadata": {},
   "source": [
    "Table including round 1 PowerSoil (for alpha-diversity analyses)"
   ]
  },
  {
   "cell_type": "code",
   "execution_count": null,
   "metadata": {},
   "outputs": [],
   "source": [
    "qiime feature-table merge \\\n",
    "  --i-tables /projects/dna_extraction_12201/round_02_six_kit_comparison/data/shotgun/01_raw_data/dna_og_good_noMMBorHB_shotgun_woltka_wol_biom.qza \\\n",
    "  --i-tables /projects/dna_extraction_12201/round_02_six_kit_comparison/data/shotgun/01_raw_data/dna_rerun_shotgun_woltka_wol_biom.qza \\\n",
    "  --o-merged-table /projects/dna_extraction_12201/round_02_six_kit_comparison/data/shotgun/02_merged_data/dna_bothPS_shotgun_woltka_wol_biom.qza \\\n",
    "\n",
    "qiime feature-table summarize \\\n",
    "  --i-table /projects/dna_extraction_12201/round_02_six_kit_comparison/data/shotgun/02_merged_data/dna_bothPS_shotgun_woltka_wol_biom.qza \\\n",
    "  --o-visualization /projects/dna_extraction_12201/round_02_six_kit_comparison/data/shotgun/02_merged_data/dna_bothPS_shotgun_woltka_wol_biom.qzv\n",
    "\n",
    "# There are 1333 samples and 7409 features\n"
   ]
  },
  {
   "cell_type": "markdown",
   "metadata": {},
   "source": [
    "# Filter negative controls (blanks)"
   ]
  },
  {
   "cell_type": "markdown",
   "metadata": {},
   "source": [
    "## Table excluding round 1 PowerSoil, MagMAX Beta, and Homebrew (for beta-diversity analyses)"
   ]
  },
  {
   "cell_type": "code",
   "execution_count": null,
   "metadata": {},
   "outputs": [],
   "source": [
    "qiime feature-table filter-samples \\\n",
    "  --i-table /projects/dna_extraction_12201/round_02_six_kit_comparison/data/shotgun/02_merged_data/dna_all_shotgun_woltka_wol_biom.qza \\\n",
    "  --m-metadata-file /projects/dna_extraction_12201/round_02_six_kit_comparison/sample_metadata/12201_metadata.txt \\\n",
    "  --p-where \"[sample_type]!='control blank'\" \\\n",
    "  --o-filtered-table /projects/dna_extraction_12201/round_02_six_kit_comparison/data/shotgun/03_filtered_data/dna_all_shotgun_woltka_wol_biom_noNTCs.qza\n",
    "\n",
    "qiime feature-table summarize \\\n",
    "  --i-table /projects/dna_extraction_12201/round_02_six_kit_comparison/data/shotgun/03_filtered_data/dna_all_shotgun_woltka_wol_biom_noNTCs.qza \\\n",
    "  --o-visualization /projects/dna_extraction_12201/round_02_six_kit_comparison/data/shotgun/03_filtered_data/dna_all_shotgun_woltka_wol_biom_noNTCs.qzv\n",
    "\n",
    "# There are 1085 samples and 7391 features\n"
   ]
  },
  {
   "cell_type": "markdown",
   "metadata": {},
   "source": [
    "## Table including round 1 PowerSoil (for alpha-diversity analyses)"
   ]
  },
  {
   "cell_type": "code",
   "execution_count": null,
   "metadata": {},
   "outputs": [],
   "source": [
    "qiime feature-table filter-samples \\\n",
    "  --i-table /projects/dna_extraction_12201/round_02_six_kit_comparison/data/shotgun/02_merged_data/dna_bothPS_shotgun_woltka_wol_biom.qza \\\n",
    "  --m-metadata-file /projects/dna_extraction_12201/round_02_six_kit_comparison/sample_metadata/12201_metadata.txt \\\n",
    "  --p-where \"[sample_type]!='control blank'\" \\\n",
    "  --o-filtered-table /projects/dna_extraction_12201/round_02_six_kit_comparison/data/shotgun/03_filtered_data/dna_bothPS_shotgun_woltka_wol_biom_noNTCs.qza\n",
    "\n",
    "qiime feature-table summarize \\\n",
    "  --i-table /projects/dna_extraction_12201/round_02_six_kit_comparison/data/shotgun/03_filtered_data/dna_bothPS_shotgun_woltka_wol_biom_noNTCs.qza \\\n",
    "  --o-visualization /projects/dna_extraction_12201/round_02_six_kit_comparison/data/shotgun/03_filtered_data/dna_bothPS_shotgun_woltka_wol_biom_noNTCs.qzv\n",
    "\n",
    "# There are 1265 samples and 7408 features\n"
   ]
  },
  {
   "cell_type": "markdown",
   "metadata": {},
   "source": [
    "# Filter mock community samples (positive controls)"
   ]
  },
  {
   "cell_type": "markdown",
   "metadata": {},
   "source": [
    "## Table excluding round 1 PowerSoil, MagMAX Beta, and Homebrew (for beta-diversity analyses)"
   ]
  },
  {
   "cell_type": "code",
   "execution_count": null,
   "metadata": {},
   "outputs": [],
   "source": [
    "qiime feature-table filter-samples \\\n",
    "  --i-table /projects/dna_extraction_12201/round_02_six_kit_comparison/data/shotgun/03_filtered_data/dna_all_shotgun_woltka_wol_biom_noNTCs.qza \\\n",
    "  --m-metadata-file /projects/dna_extraction_12201/round_02_six_kit_comparison/sample_metadata/12201_metadata.txt \\\n",
    "  --p-where \"[sample_type]!='mock community'\" \\\n",
    "  --o-filtered-table /projects/dna_extraction_12201/round_02_six_kit_comparison/data/shotgun/03_filtered_data/dna_all_shotgun_woltka_wol_biom_noNTCs_noMock.qza\n",
    "\n",
    "qiime feature-table summarize \\\n",
    "  --i-table /projects/dna_extraction_12201/round_02_six_kit_comparison/data/shotgun/03_filtered_data/dna_all_shotgun_woltka_wol_biom_noNTCs_noMock.qza \\\n",
    "  --o-visualization /projects/dna_extraction_12201/round_02_six_kit_comparison/data/shotgun/03_filtered_data/dna_all_shotgun_woltka_wol_biom_noNTCs_noMock.qzv\n",
    "\n",
    "# There are 896 samples and 7201 features\n"
   ]
  },
  {
   "cell_type": "markdown",
   "metadata": {},
   "source": [
    "## Table including round 1 PowerSoil (for alpha-diversity analyses)"
   ]
  },
  {
   "cell_type": "code",
   "execution_count": null,
   "metadata": {},
   "outputs": [],
   "source": [
    "qiime feature-table filter-samples \\\n",
    "  --i-table /projects/dna_extraction_12201/round_02_six_kit_comparison/data/shotgun/03_filtered_data/dna_bothPS_shotgun_woltka_wol_biom_noNTCs.qza \\\n",
    "  --m-metadata-file /projects/dna_extraction_12201/round_02_six_kit_comparison/sample_metadata/12201_metadata.txt \\\n",
    "  --p-where \"[sample_type]!='mock community'\" \\\n",
    "  --o-filtered-table /projects/dna_extraction_12201/round_02_six_kit_comparison/data/shotgun/03_filtered_data/dna_bothPS_shotgun_woltka_wol_biom_noNTCs_noMock.qza\n",
    "\n",
    "qiime feature-table summarize \\\n",
    "  --i-table /projects/dna_extraction_12201/round_02_six_kit_comparison/data/shotgun/03_filtered_data/dna_bothPS_shotgun_woltka_wol_biom_noNTCs_noMock.qza \\\n",
    "  --o-visualization /projects/dna_extraction_12201/round_02_six_kit_comparison/data/shotgun/03_filtered_data/dna_bothPS_shotgun_woltka_wol_biom_noNTCs_noMock.qzv\n",
    "\n",
    "# There are 1044 samples and 7220 features\n"
   ]
  },
  {
   "cell_type": "markdown",
   "metadata": {},
   "source": [
    "# Separate high- and low-biomass samples"
   ]
  },
  {
   "cell_type": "markdown",
   "metadata": {},
   "source": [
    "## Table excluding round 1 PowerSoil, MagMAX Beta, and Homebrew (for beta-diversity analyses)"
   ]
  },
  {
   "cell_type": "markdown",
   "metadata": {},
   "source": [
    "High-biomass"
   ]
  },
  {
   "cell_type": "code",
   "execution_count": null,
   "metadata": {},
   "outputs": [],
   "source": [
    "qiime feature-table filter-samples \\\n",
    "  --i-table /projects/dna_extraction_12201/round_02_six_kit_comparison/data/shotgun/03_filtered_data/dna_all_shotgun_woltka_wol_biom_noNTCs_noMock.qza \\\n",
    "  --m-metadata-file /projects/dna_extraction_12201/round_02_six_kit_comparison/sample_metadata/12201_metadata.txt \\\n",
    "  --p-where \"[biomass_plate]='high'\" \\\n",
    "  --o-filtered-table /projects/dna_extraction_12201/round_02_six_kit_comparison/data/shotgun/03_filtered_data/dna_all_shotgun_woltka_wol_biom_noNTCs_noMock_hbm.qza\n",
    "\n",
    "qiime feature-table summarize \\\n",
    "  --i-table /projects/dna_extraction_12201/round_02_six_kit_comparison/data/shotgun/03_filtered_data/dna_all_shotgun_woltka_wol_biom_noNTCs_noMock_hbm.qza \\\n",
    "  --o-visualization /projects/dna_extraction_12201/round_02_six_kit_comparison/data/shotgun/03_filtered_data/dna_all_shotgun_woltka_wol_biom_noNTCs_noMock_hbm.qzv\n",
    "\n",
    "# There are 504 samples and 6822 features\n"
   ]
  },
  {
   "cell_type": "markdown",
   "metadata": {},
   "source": [
    "Low-biomass"
   ]
  },
  {
   "cell_type": "code",
   "execution_count": null,
   "metadata": {},
   "outputs": [],
   "source": [
    "qiime feature-table filter-samples \\\n",
    "  --i-table /projects/dna_extraction_12201/round_02_six_kit_comparison/data/shotgun/03_filtered_data/dna_all_shotgun_woltka_wol_biom_noNTCs_noMock.qza \\\n",
    "  --m-metadata-file /projects/dna_extraction_12201/round_02_six_kit_comparison/sample_metadata/12201_metadata.txt \\\n",
    "  --p-where \"[biomass_plate]='low'\" \\\n",
    "  --o-filtered-table /projects/dna_extraction_12201/round_02_six_kit_comparison/data/shotgun/03_filtered_data/dna_all_shotgun_woltka_wol_biom_noNTCs_noMock_lbm.qza\n",
    "\n",
    "qiime feature-table summarize \\\n",
    "  --i-table /projects/dna_extraction_12201/round_02_six_kit_comparison/data/shotgun/03_filtered_data/dna_all_shotgun_woltka_wol_biom_noNTCs_noMock_lbm.qza \\\n",
    "  --o-visualization /projects/dna_extraction_12201/round_02_six_kit_comparison/data/shotgun/03_filtered_data/dna_all_shotgun_woltka_wol_biom_noNTCs_noMock_lbm.qzv\n",
    "\n",
    "# There are 392 samples and 5260 features\n"
   ]
  },
  {
   "cell_type": "markdown",
   "metadata": {},
   "source": [
    "## Table including round 1 PowerSoil (for alpha-diversity analyses)"
   ]
  },
  {
   "cell_type": "markdown",
   "metadata": {},
   "source": [
    "High-biomass - including controls"
   ]
  },
  {
   "cell_type": "code",
   "execution_count": null,
   "metadata": {},
   "outputs": [],
   "source": [
    "qiime feature-table filter-samples \\\n",
    "  --i-table /projects/dna_extraction_12201/round_02_six_kit_comparison/data/shotgun/02_merged_data/dna_bothPS_shotgun_woltka_wol_biom.qza \\\n",
    "  --m-metadata-file /projects/dna_extraction_12201/round_02_six_kit_comparison/sample_metadata/12201_metadata.txt \\\n",
    "  --p-where \"[biomass_plate]='high'\" \\\n",
    "  --o-filtered-table /projects/dna_extraction_12201/round_02_six_kit_comparison/data/shotgun/03_filtered_data/dna_bothPS_shotgun_woltka_wol_biom_hbm.qza\n",
    "\n",
    "qiime feature-table summarize \\\n",
    "  --i-table /projects/dna_extraction_12201/round_02_six_kit_comparison/data/shotgun/03_filtered_data/dna_bothPS_shotgun_woltka_wol_biom_hbm.qza \\\n",
    "  --o-visualization /projects/dna_extraction_12201/round_02_six_kit_comparison/data/shotgun/03_filtered_data/dna_bothPS_shotgun_woltka_wol_biom_hbm.qzv\n",
    "\n",
    "# There are 670 samples and 6929 features\n"
   ]
  },
  {
   "cell_type": "markdown",
   "metadata": {},
   "source": [
    "High-biomass - excluding controls"
   ]
  },
  {
   "cell_type": "code",
   "execution_count": null,
   "metadata": {},
   "outputs": [],
   "source": [
    "qiime feature-table filter-samples \\\n",
    "  --i-table /projects/dna_extraction_12201/round_02_six_kit_comparison/data/shotgun/03_filtered_data/dna_bothPS_shotgun_woltka_wol_biom_noNTCs_noMock.qza \\\n",
    "  --m-metadata-file /projects/dna_extraction_12201/round_02_six_kit_comparison/sample_metadata/12201_metadata.txt \\\n",
    "  --p-where \"[biomass_plate]='high'\" \\\n",
    "  --o-filtered-table /projects/dna_extraction_12201/round_02_six_kit_comparison/data/shotgun/03_filtered_data/dna_bothPS_shotgun_woltka_wol_biom_noNTCs_noMock_hbm.qza\n",
    "\n",
    "qiime feature-table summarize \\\n",
    "  --i-table /projects/dna_extraction_12201/round_02_six_kit_comparison/data/shotgun/03_filtered_data/dna_bothPS_shotgun_woltka_wol_biom_noNTCs_noMock_hbm.qza \\\n",
    "  --o-visualization /projects/dna_extraction_12201/round_02_six_kit_comparison/data/shotgun/03_filtered_data/dna_bothPS_shotgun_woltka_wol_biom_noNTCs_noMock_hbm.qzv\n",
    "\n",
    "# There are 587 samples and 6833 features\n"
   ]
  },
  {
   "cell_type": "markdown",
   "metadata": {},
   "source": [
    "Low-biomass - including controls"
   ]
  },
  {
   "cell_type": "code",
   "execution_count": null,
   "metadata": {},
   "outputs": [],
   "source": [
    "qiime feature-table filter-samples \\\n",
    "  --i-table /projects/dna_extraction_12201/round_02_six_kit_comparison/data/shotgun/02_merged_data/dna_bothPS_shotgun_woltka_wol_biom.qza \\\n",
    "  --m-metadata-file /projects/dna_extraction_12201/round_02_six_kit_comparison/sample_metadata/12201_metadata.txt \\\n",
    "  --p-where \"[biomass_plate]='low'\" \\\n",
    "  --o-filtered-table /projects/dna_extraction_12201/round_02_six_kit_comparison/data/shotgun/03_filtered_data/dna_bothPS_shotgun_woltka_wol_biom_lbm.qza\n",
    "\n",
    "qiime feature-table summarize \\\n",
    "  --i-table /projects/dna_extraction_12201/round_02_six_kit_comparison/data/shotgun/03_filtered_data/dna_bothPS_shotgun_woltka_wol_biom_lbm.qza \\\n",
    "  --o-visualization /projects/dna_extraction_12201/round_02_six_kit_comparison/data/shotgun/03_filtered_data/dna_bothPS_shotgun_woltka_wol_biom_lbm.qzv\n",
    "\n",
    "# There are 663 samples and 5820 features\n"
   ]
  },
  {
   "cell_type": "markdown",
   "metadata": {},
   "source": [
    "Low biomass - excluding controls"
   ]
  },
  {
   "cell_type": "code",
   "execution_count": null,
   "metadata": {},
   "outputs": [],
   "source": [
    "qiime feature-table filter-samples \\\n",
    "  --i-table /projects/dna_extraction_12201/round_02_six_kit_comparison/data/shotgun/03_filtered_data/dna_bothPS_shotgun_woltka_wol_biom_noNTCs_noMock.qza \\\n",
    "  --m-metadata-file /projects/dna_extraction_12201/round_02_six_kit_comparison/sample_metadata/12201_metadata.txt \\\n",
    "  --p-where \"[biomass_plate]='low'\" \\\n",
    "  --o-filtered-table /projects/dna_extraction_12201/round_02_six_kit_comparison/data/shotgun/03_filtered_data/dna_bothPS_shotgun_woltka_wol_biom_noNTCs_noMock_lbm.qza\n",
    "\n",
    "qiime feature-table summarize \\\n",
    "  --i-table /projects/dna_extraction_12201/round_02_six_kit_comparison/data/shotgun/03_filtered_data/dna_bothPS_shotgun_woltka_wol_biom_noNTCs_noMock_lbm.qza \\\n",
    "  --o-visualization /projects/dna_extraction_12201/round_02_six_kit_comparison/data/shotgun/03_filtered_data/dna_bothPS_shotgun_woltka_wol_biom_noNTCs_noMock_lbm.qzv\n",
    "\n",
    "# There are 457 samples and 5304 features\n"
   ]
  },
  {
   "cell_type": "markdown",
   "metadata": {},
   "source": [
    "# Normalize sampling depth"
   ]
  },
  {
   "cell_type": "markdown",
   "metadata": {},
   "source": [
    "## Table excluding round 1 PowerSoil, MagMAX Beta, and Homebrew (for beta-diversity analyses)"
   ]
  },
  {
   "cell_type": "markdown",
   "metadata": {},
   "source": [
    "### Rarefy"
   ]
  },
  {
   "cell_type": "markdown",
   "metadata": {},
   "source": [
    "High-biomass"
   ]
  },
  {
   "cell_type": "code",
   "execution_count": null,
   "metadata": {},
   "outputs": [],
   "source": [
    "qiime feature-table rarefy \\\n",
    "  --i-table /projects/dna_extraction_12201/round_02_six_kit_comparison/data/shotgun/03_filtered_data/dna_all_shotgun_woltka_wol_biom_noNTCs_noMock_hbm.qza \\\n",
    "  --p-sampling-depth 39000 \\\n",
    "  --o-rarefied-table /projects/dna_extraction_12201/round_02_six_kit_comparison/data/shotgun/04_normalized_data/dna_all_shotgun_woltka_wol_biom_noNTCs_noMock_hbm_rar39k.qza\n",
    "\n",
    "qiime feature-table summarize \\\n",
    "  --i-table /projects/dna_extraction_12201/round_02_six_kit_comparison/data/shotgun/04_normalized_data/dna_all_shotgun_woltka_wol_biom_noNTCs_noMock_hbm_rar39k.qza \\\n",
    "  --o-visualization /projects/dna_extraction_12201/round_02_six_kit_comparison/data/shotgun/04_normalized_data/dna_all_shotgun_woltka_wol_biom_noNTCs_noMock_hbm_rar39k.qzv\n",
    "\n",
    "# There are 378 samples and 5778 features\n"
   ]
  },
  {
   "cell_type": "markdown",
   "metadata": {},
   "source": [
    "Low-biomass"
   ]
  },
  {
   "cell_type": "code",
   "execution_count": null,
   "metadata": {},
   "outputs": [],
   "source": [
    "qiime feature-table rarefy \\\n",
    "  --i-table /projects/dna_extraction_12201/round_02_six_kit_comparison/data/shotgun/03_filtered_data/dna_all_shotgun_woltka_wol_biom_noNTCs_noMock_lbm.qza \\\n",
    "  --p-sampling-depth 725 \\\n",
    "  --o-rarefied-table /projects/dna_extraction_12201/round_02_six_kit_comparison/data/shotgun/04_normalized_data/dna_all_shotgun_woltka_wol_biom_noNTCs_noMock_lbm_rar725.qza\n",
    "\n",
    "qiime feature-table summarize \\\n",
    "  --i-table /projects/dna_extraction_12201/round_02_six_kit_comparison/data/shotgun/04_normalized_data/dna_all_shotgun_woltka_wol_biom_noNTCs_noMock_lbm_rar725.qza \\\n",
    "  --o-visualization /projects/dna_extraction_12201/round_02_six_kit_comparison/data/shotgun/04_normalized_data/dna_all_shotgun_woltka_wol_biom_noNTCs_noMock_lbm_rar725.qzv\n",
    "\n",
    "# There are 294 samples and 3124 features\n"
   ]
  },
  {
   "cell_type": "markdown",
   "metadata": {},
   "source": [
    "### Remove low-abundance samples"
   ]
  },
  {
   "cell_type": "markdown",
   "metadata": {},
   "source": [
    "High-biomass"
   ]
  },
  {
   "cell_type": "code",
   "execution_count": null,
   "metadata": {},
   "outputs": [],
   "source": [
    "qiime feature-table filter-samples \\\n",
    "  --i-table /projects/dna_extraction_12201/round_02_six_kit_comparison/data/shotgun/03_filtered_data/dna_all_shotgun_woltka_wol_biom_noNTCs_noMock_hbm.qza \\\n",
    "  --p-min-frequency 39000 \\\n",
    "  --o-filtered-table /projects/dna_extraction_12201/round_02_six_kit_comparison/data/shotgun/04_normalized_data/dna_all_shotgun_woltka_wol_biom_noNTCs_noMock_hbm_min39k.qza\n",
    "\n",
    "qiime feature-table summarize \\\n",
    "  --i-table /projects/dna_extraction_12201/round_02_six_kit_comparison/data/shotgun/04_normalized_data/dna_all_shotgun_woltka_wol_biom_noNTCs_noMock_hbm_min39k.qza \\\n",
    "  --o-visualization /projects/dna_extraction_12201/round_02_six_kit_comparison/data/shotgun/04_normalized_data/dna_all_shotgun_woltka_wol_biom_noNTCs_noMock_hbm_min39k.qzv\n",
    "\n",
    "# There are 378 samples and 6721 features\n"
   ]
  },
  {
   "cell_type": "markdown",
   "metadata": {},
   "source": [
    "Low-biomass"
   ]
  },
  {
   "cell_type": "code",
   "execution_count": null,
   "metadata": {},
   "outputs": [],
   "source": [
    "qiime feature-table filter-samples \\\n",
    "  --i-table /projects/dna_extraction_12201/round_02_six_kit_comparison/data/shotgun/03_filtered_data/dna_all_shotgun_woltka_wol_biom_noNTCs_noMock_lbm.qza \\\n",
    "  --p-min-frequency 725 \\\n",
    "  --o-filtered-table /projects/dna_extraction_12201/round_02_six_kit_comparison/data/shotgun/04_normalized_data/dna_all_shotgun_woltka_wol_biom_noNTCs_noMock_lbm_min725.qza\n",
    "\n",
    "qiime feature-table summarize \\\n",
    "  --i-table /projects/dna_extraction_12201/round_02_six_kit_comparison/data/shotgun/04_normalized_data/dna_all_shotgun_woltka_wol_biom_noNTCs_noMock_lbm_min725.qza \\\n",
    "  --o-visualization /projects/dna_extraction_12201/round_02_six_kit_comparison/data/shotgun/04_normalized_data/dna_all_shotgun_woltka_wol_biom_noNTCs_noMock_lbm_min725.qzv\n",
    "\n",
    "# There are 294 samples and 5236 features\n"
   ]
  },
  {
   "cell_type": "markdown",
   "metadata": {},
   "source": [
    "## Table including round 1 PowerSoil (for alpha-diversity analyses)"
   ]
  },
  {
   "cell_type": "markdown",
   "metadata": {},
   "source": [
    "### Rarefy"
   ]
  },
  {
   "cell_type": "markdown",
   "metadata": {},
   "source": [
    "High-biomass - including controls"
   ]
  },
  {
   "cell_type": "code",
   "execution_count": null,
   "metadata": {},
   "outputs": [],
   "source": [
    "qiime feature-table rarefy \\\n",
    "  --i-table /projects/dna_extraction_12201/round_02_six_kit_comparison/data/shotgun/03_filtered_data/dna_bothPS_shotgun_woltka_wol_biom_hbm.qza \\\n",
    "  --p-sampling-depth 16600 \\\n",
    "  --o-rarefied-table /projects/dna_extraction_12201/round_02_six_kit_comparison/data/shotgun/04_normalized_data/dna_bothPS_shotgun_woltka_wol_biom_hbm_rar16600.qza\n",
    "\n",
    "qiime feature-table summarize \\\n",
    "  --i-table /projects/dna_extraction_12201/round_02_six_kit_comparison/data/shotgun/04_normalized_data/dna_bothPS_shotgun_woltka_wol_biom_hbm_rar16600.qza \\\n",
    "  --o-visualization /projects/dna_extraction_12201/round_02_six_kit_comparison/data/shotgun/04_normalized_data/dna_bothPS_shotgun_woltka_wol_biom_hbm_rar16600.qzv\n",
    "\n",
    "# There are 503 samples and 5484 features\n"
   ]
  },
  {
   "cell_type": "markdown",
   "metadata": {},
   "source": [
    "High-biomass - excluding controls"
   ]
  },
  {
   "cell_type": "code",
   "execution_count": null,
   "metadata": {},
   "outputs": [],
   "source": [
    "qiime feature-table rarefy \\\n",
    "  --i-table /projects/dna_extraction_12201/round_02_six_kit_comparison/data/shotgun/03_filtered_data/dna_bothPS_shotgun_woltka_wol_biom_noNTCs_noMock_hbm.qza \\\n",
    "  --p-sampling-depth 38000 \\\n",
    "  --o-rarefied-table /projects/dna_extraction_12201/round_02_six_kit_comparison/data/shotgun/04_normalized_data/dna_bothPS_shotgun_woltka_wol_biom_noNTCs_noMock_hbm_rar38k.qza\n",
    "\n",
    "qiime feature-table summarize \\\n",
    "  --i-table /projects/dna_extraction_12201/round_02_six_kit_comparison/data/shotgun/04_normalized_data/dna_bothPS_shotgun_woltka_wol_biom_noNTCs_noMock_hbm_rar38k.qza \\\n",
    "  --o-visualization /projects/dna_extraction_12201/round_02_six_kit_comparison/data/shotgun/04_normalized_data/dna_bothPS_shotgun_woltka_wol_biom_noNTCs_noMock_hbm_rar38k.qzv\n",
    "\n",
    "# There are 441 samples and 5779 features\n"
   ]
  },
  {
   "cell_type": "markdown",
   "metadata": {},
   "source": [
    "Low-biomass - including controls"
   ]
  },
  {
   "cell_type": "code",
   "execution_count": null,
   "metadata": {},
   "outputs": [],
   "source": [
    "qiime feature-table rarefy \\\n",
    "  --i-table /projects/dna_extraction_12201/round_02_six_kit_comparison/data/shotgun/03_filtered_data/dna_bothPS_shotgun_woltka_wol_biom_lbm.qza \\\n",
    "  --p-sampling-depth 485 \\\n",
    "  --o-rarefied-table /projects/dna_extraction_12201/round_02_six_kit_comparison/data/shotgun/04_normalized_data/dna_bothPS_shotgun_woltka_wol_biom_lbm_rar485.qza\n",
    "\n",
    "qiime feature-table summarize \\\n",
    "  --i-table /projects/dna_extraction_12201/round_02_six_kit_comparison/data/shotgun/04_normalized_data/dna_bothPS_shotgun_woltka_wol_biom_lbm_rar485.qza \\\n",
    "  --o-visualization /projects/dna_extraction_12201/round_02_six_kit_comparison/data/shotgun/04_normalized_data/dna_bothPS_shotgun_woltka_wol_biom_lbm_rar485.qzv\n",
    "\n",
    "# There are 498 samples and 3052 features\n"
   ]
  },
  {
   "cell_type": "markdown",
   "metadata": {},
   "source": [
    "Low-biomass - excluding controls"
   ]
  },
  {
   "cell_type": "code",
   "execution_count": null,
   "metadata": {},
   "outputs": [],
   "source": [
    "qiime feature-table rarefy \\\n",
    "  --i-table /projects/dna_extraction_12201/round_02_six_kit_comparison/data/shotgun/03_filtered_data/dna_bothPS_shotgun_woltka_wol_biom_noNTCs_noMock_lbm.qza \\\n",
    "  --p-sampling-depth 600 \\\n",
    "  --o-rarefied-table /projects/dna_extraction_12201/round_02_six_kit_comparison/data/shotgun/04_normalized_data/dna_bothPS_shotgun_woltka_wol_biom_noNTCs_noMock_lbm_rar600.qza\n",
    "\n",
    "qiime feature-table summarize \\\n",
    "  --i-table /projects/dna_extraction_12201/round_02_six_kit_comparison/data/shotgun/04_normalized_data/dna_bothPS_shotgun_woltka_wol_biom_noNTCs_noMock_lbm_rar600.qza \\\n",
    "  --o-visualization /projects/dna_extraction_12201/round_02_six_kit_comparison/data/shotgun/04_normalized_data/dna_bothPS_shotgun_woltka_wol_biom_noNTCs_noMock_lbm_rar600.qzv\n",
    "\n",
    "# There are 343 samples and 3051 features\n"
   ]
  },
  {
   "cell_type": "markdown",
   "metadata": {},
   "source": [
    "# Alpha-diversity"
   ]
  },
  {
   "cell_type": "markdown",
   "metadata": {},
   "source": [
    "## Table excluding round 1 PowerSoil, MagMAX Beta, and Homebrew (for comparisons with sample set for beta-diversity analyses)"
   ]
  },
  {
   "cell_type": "markdown",
   "metadata": {},
   "source": [
    "High biomass"
   ]
  },
  {
   "cell_type": "code",
   "execution_count": null,
   "metadata": {},
   "outputs": [],
   "source": [
    "qiime diversity alpha \\\n",
    "  --i-table /projects/dna_extraction_12201/round_02_six_kit_comparison/data/shotgun/04_normalized_data/dna_all_shotgun_woltka_wol_biom_noNTCs_noMock_hbm_rar39k.qza \\\n",
    "  --p-metric 'observed_features' \\\n",
    "  --o-alpha-diversity /projects/dna_extraction_12201/round_02_six_kit_comparison/data/shotgun/05_alpha_diversity/dna_all_shotgun_woltka_wol_biom_noNTCs_noMock_hbm_rar39k_alpha_richness.qza\n",
    "\n",
    "qiime diversity alpha \\\n",
    "  --i-table /projects/dna_extraction_12201/round_02_six_kit_comparison/data/shotgun/04_normalized_data/dna_all_shotgun_woltka_wol_biom_noNTCs_noMock_hbm_rar39k.qza \\\n",
    "  --p-metric 'shannon' \\\n",
    "  --o-alpha-diversity /projects/dna_extraction_12201/round_02_six_kit_comparison/data/shotgun/05_alpha_diversity/dna_all_shotgun_woltka_wol_biom_noNTCs_noMock_hbm_rar39k_alpha_shannon.qza\n",
    "\n",
    "qiime diversity alpha-phylogenetic \\\n",
    "  --i-table /projects/dna_extraction_12201/round_02_six_kit_comparison/data/shotgun/04_normalized_data/dna_all_shotgun_woltka_wol_biom_noNTCs_noMock_hbm_rar39k.qza \\\n",
    "  --p-metric 'faith_pd' \\\n",
    "  --i-phylogeny /projects/dna_extraction_12201/round_02_six_kit_comparison/data/shotgun/wol_tree.qza \\\n",
    "  --o-alpha-diversity /projects/dna_extraction_12201/round_02_six_kit_comparison/data/shotgun/05_alpha_diversity/dna_all_shotgun_woltka_wol_biom_noNTCs_noMock_hbm_rar39k_alpha_faithspd.qza\n"
   ]
  },
  {
   "cell_type": "markdown",
   "metadata": {},
   "source": [
    "Low biomass"
   ]
  },
  {
   "cell_type": "code",
   "execution_count": null,
   "metadata": {},
   "outputs": [],
   "source": [
    "qiime diversity alpha \\\n",
    "  --i-table /projects/dna_extraction_12201/round_02_six_kit_comparison/data/shotgun/04_normalized_data/dna_all_shotgun_woltka_wol_biom_noNTCs_noMock_lbm_rar725.qza \\\n",
    "  --p-metric 'observed_features' \\\n",
    "  --o-alpha-diversity /projects/dna_extraction_12201/round_02_six_kit_comparison/data/shotgun/05_alpha_diversity/dna_all_shotgun_woltka_wol_biom_noNTCs_noMock_lbm_rar725_alpha_richness.qza\n",
    "\n",
    "qiime diversity alpha \\\n",
    "  --i-table /projects/dna_extraction_12201/round_02_six_kit_comparison/data/shotgun/04_normalized_data/dna_all_shotgun_woltka_wol_biom_noNTCs_noMock_lbm_rar725.qza \\\n",
    "  --p-metric 'shannon' \\\n",
    "  --o-alpha-diversity /projects/dna_extraction_12201/round_02_six_kit_comparison/data/shotgun/05_alpha_diversity/dna_all_shotgun_woltka_wol_biom_noNTCs_noMock_lbm_rar725_alpha_shannon.qza\n",
    "\n",
    "qiime diversity alpha-phylogenetic \\\n",
    "  --i-table /projects/dna_extraction_12201/round_02_six_kit_comparison/data/shotgun/04_normalized_data/dna_all_shotgun_woltka_wol_biom_noNTCs_noMock_lbm_rar725.qza \\\n",
    "  --p-metric 'faith_pd' \\\n",
    "  --i-phylogeny /projects/dna_extraction_12201/round_02_six_kit_comparison/data/shotgun/wol_tree.qza \\\n",
    "  --o-alpha-diversity /projects/dna_extraction_12201/round_02_six_kit_comparison/data/shotgun/05_alpha_diversity/dna_all_shotgun_woltka_wol_biom_noNTCs_noMock_lbm_rar725_alpha_faithspd.qza\n"
   ]
  },
  {
   "cell_type": "markdown",
   "metadata": {},
   "source": [
    "## Table including round 1 PowerSoil (for alpha-diversity analyses)"
   ]
  },
  {
   "cell_type": "markdown",
   "metadata": {},
   "source": [
    "High biomass"
   ]
  },
  {
   "cell_type": "code",
   "execution_count": null,
   "metadata": {},
   "outputs": [],
   "source": [
    "qiime diversity alpha \\\n",
    "  --i-table /projects/dna_extraction_12201/round_02_six_kit_comparison/data/shotgun/04_normalized_data/dna_bothPS_shotgun_woltka_wol_biom_hbm_rar16600.qza \\\n",
    "  --p-metric 'observed_features' \\\n",
    "  --o-alpha-diversity /projects/dna_extraction_12201/round_02_six_kit_comparison/data/shotgun/05_alpha_diversity/dna_bothPS_shotgun_woltka_wol_biom_hbm_rar16600_alpha_richness.qza\n",
    "\n",
    "qiime diversity alpha \\\n",
    "  --i-table /projects/dna_extraction_12201/round_02_six_kit_comparison/data/shotgun/04_normalized_data/dna_bothPS_shotgun_woltka_wol_biom_hbm_rar16600.qza \\\n",
    "  --p-metric 'shannon' \\\n",
    "  --o-alpha-diversity /projects/dna_extraction_12201/round_02_six_kit_comparison/data/shotgun/05_alpha_diversity/dna_bothPS_shotgun_woltka_wol_biom_hbm_rar16600_alpha_shannon.qza\n",
    "\n",
    "qiime diversity alpha-phylogenetic \\\n",
    "  --i-table /projects/dna_extraction_12201/round_02_six_kit_comparison/data/shotgun/04_normalized_data/dna_bothPS_shotgun_woltka_wol_biom_hbm_rar16600.qza \\\n",
    "  --p-metric 'faith_pd' \\\n",
    "  --i-phylogeny /projects/dna_extraction_12201/round_02_six_kit_comparison/data/shotgun/wol_tree.qza \\\n",
    "  --o-alpha-diversity /projects/dna_extraction_12201/round_02_six_kit_comparison/data/shotgun/05_alpha_diversity/dna_bothPS_shotgun_woltka_wol_biom_hbm_rar16600_alpha_faithspd.qza\n"
   ]
  },
  {
   "cell_type": "markdown",
   "metadata": {},
   "source": [
    "Low biomass"
   ]
  },
  {
   "cell_type": "code",
   "execution_count": null,
   "metadata": {},
   "outputs": [],
   "source": [
    "qiime diversity alpha \\\n",
    "  --i-table /projects/dna_extraction_12201/round_02_six_kit_comparison/data/shotgun/04_normalized_data/dna_bothPS_shotgun_woltka_wol_biom_lbm_rar485.qza \\\n",
    "  --p-metric 'observed_features' \\\n",
    "  --o-alpha-diversity /projects/dna_extraction_12201/round_02_six_kit_comparison/data/shotgun/05_alpha_diversity/dna_bothPS_shotgun_woltka_wol_biom_lbm_rar485_alpha_richness.qza\n",
    "\n",
    "qiime diversity alpha \\\n",
    "  --i-table /projects/dna_extraction_12201/round_02_six_kit_comparison/data/shotgun/04_normalized_data/dna_bothPS_shotgun_woltka_wol_biom_lbm_rar485.qza \\\n",
    "  --p-metric 'shannon' \\\n",
    "  --o-alpha-diversity /projects/dna_extraction_12201/round_02_six_kit_comparison/data/shotgun/05_alpha_diversity/dna_bothPS_shotgun_woltka_wol_biom_lbm_rar485_alpha_shannon.qza\n",
    "\n",
    "qiime diversity alpha-phylogenetic \\\n",
    "  --i-table /projects/dna_extraction_12201/round_02_six_kit_comparison/data/shotgun/04_normalized_data/dna_bothPS_shotgun_woltka_wol_biom_lbm_rar485.qza \\\n",
    "  --p-metric 'faith_pd' \\\n",
    "  --i-phylogeny /projects/dna_extraction_12201/round_02_six_kit_comparison/data/shotgun/wol_tree.qza \\\n",
    "  --o-alpha-diversity /projects/dna_extraction_12201/round_02_six_kit_comparison/data/shotgun/05_alpha_diversity/dna_bothPS_shotgun_woltka_wol_biom_lbm_rar485_alpha_faithspd.qza\n"
   ]
  },
  {
   "cell_type": "markdown",
   "metadata": {},
   "source": [
    "# Beta-diversity"
   ]
  },
  {
   "cell_type": "markdown",
   "metadata": {},
   "source": [
    "## Generate distance matrices"
   ]
  },
  {
   "cell_type": "markdown",
   "metadata": {},
   "source": [
    "High-biomass"
   ]
  },
  {
   "cell_type": "code",
   "execution_count": null,
   "metadata": {},
   "outputs": [],
   "source": [
    "qiime diversity beta-phylogenetic \\\n",
    "  --i-table /projects/dna_extraction_12201/round_02_six_kit_comparison/data/shotgun/04_normalized_data/dna_all_shotgun_woltka_wol_biom_noNTCs_noMock_hbm_rar39k.qza \\\n",
    "  --p-metric 'unweighted_unifrac' \\\n",
    "  --i-phylogeny /projects/dna_extraction_12201/round_02_six_kit_comparison/data/shotgun/wol_tree.qza \\\n",
    "  --o-distance-matrix /projects/dna_extraction_12201/round_02_six_kit_comparison/data/shotgun/06_beta_diversity/dna_all_shotgun_woltka_wol_biom_noNTCs_noMock_hbm_rar39k_dist_unifrac.qza\n"
   ]
  },
  {
   "cell_type": "code",
   "execution_count": null,
   "metadata": {},
   "outputs": [],
   "source": [
    "qiime diversity beta-phylogenetic \\\n",
    "  --i-table /projects/dna_extraction_12201/round_02_six_kit_comparison/data/shotgun/04_normalized_data/dna_all_shotgun_woltka_wol_biom_noNTCs_noMock_hbm_rar39k.qza \\\n",
    "  --p-metric 'weighted_unifrac' \\\n",
    "  --i-phylogeny /projects/dna_extraction_12201/round_02_six_kit_comparison/data/shotgun/wol_tree.qza \\\n",
    "  --o-distance-matrix /projects/dna_extraction_12201/round_02_six_kit_comparison/data/shotgun/06_beta_diversity/dna_all_shotgun_woltka_wol_biom_noNTCs_noMock_hbm_rar39k_dist_wunifrac.qza\n"
   ]
  },
  {
   "cell_type": "markdown",
   "metadata": {},
   "source": [
    "Low-biomass"
   ]
  },
  {
   "cell_type": "code",
   "execution_count": null,
   "metadata": {},
   "outputs": [],
   "source": [
    "qiime diversity beta-phylogenetic \\\n",
    "  --i-table /projects/dna_extraction_12201/round_02_six_kit_comparison/data/shotgun/04_normalized_data/dna_all_shotgun_woltka_wol_biom_noNTCs_noMock_lbm_rar725.qza \\\n",
    "  --p-metric 'unweighted_unifrac' \\\n",
    "  --i-phylogeny /projects/dna_extraction_12201/round_02_six_kit_comparison/data/shotgun/wol_tree.qza \\\n",
    "  --o-distance-matrix /projects/dna_extraction_12201/round_02_six_kit_comparison/data/shotgun/06_beta_diversity/dna_all_shotgun_woltka_wol_biom_noNTCs_noMock_lbm_rar725_dist_unifrac.qza\n"
   ]
  },
  {
   "cell_type": "code",
   "execution_count": null,
   "metadata": {},
   "outputs": [],
   "source": [
    "qiime diversity beta-phylogenetic \\\n",
    "  --i-table /projects/dna_extraction_12201/round_02_six_kit_comparison/data/shotgun/04_normalized_data/dna_all_shotgun_woltka_wol_biom_noNTCs_noMock_lbm_rar725.qza \\\n",
    "  --p-metric 'weighted_unifrac' \\\n",
    "  --i-phylogeny /projects/dna_extraction_12201/round_02_six_kit_comparison/data/shotgun/wol_tree.qza \\\n",
    "  --o-distance-matrix /projects/dna_extraction_12201/round_02_six_kit_comparison/data/shotgun/06_beta_diversity/dna_all_shotgun_woltka_wol_biom_noNTCs_noMock_lbm_rar725_dist_wunifrac.qza\n"
   ]
  },
  {
   "cell_type": "markdown",
   "metadata": {},
   "source": [
    "# Perform PCoA"
   ]
  },
  {
   "cell_type": "markdown",
   "metadata": {},
   "source": [
    "High-biomass"
   ]
  },
  {
   "cell_type": "code",
   "execution_count": null,
   "metadata": {},
   "outputs": [],
   "source": [
    "qiime diversity pcoa \\\n",
    "  --i-distance-matrix /projects/dna_extraction_12201/round_02_six_kit_comparison/data/shotgun/06_beta_diversity/dna_all_shotgun_woltka_wol_biom_noNTCs_noMock_hbm_rar39k_dist_unifrac.qza \\\n",
    "  --o-pcoa /projects/dna_extraction_12201/round_02_six_kit_comparison/data/shotgun/06_beta_diversity/dna_all_shotgun_woltka_wol_biom_noNTCs_noMock_hbm_rar39k_pcoa_unifrac.qza\n",
    "\n",
    "qiime diversity pcoa \\\n",
    "  --i-distance-matrix /projects/dna_extraction_12201/round_02_six_kit_comparison/data/shotgun/06_beta_diversity/dna_all_shotgun_woltka_wol_biom_noNTCs_noMock_hbm_rar39k_dist_wunifrac.qza \\\n",
    "  --o-pcoa /projects/dna_extraction_12201/round_02_six_kit_comparison/data/shotgun/06_beta_diversity/dna_all_shotgun_woltka_wol_biom_noNTCs_noMock_hbm_rar39k_pcoa_wunifrac.qza\n"
   ]
  },
  {
   "cell_type": "markdown",
   "metadata": {},
   "source": [
    "Low-biomass"
   ]
  },
  {
   "cell_type": "code",
   "execution_count": null,
   "metadata": {},
   "outputs": [],
   "source": [
    "qiime diversity pcoa \\\n",
    "  --i-distance-matrix /projects/dna_extraction_12201/round_02_six_kit_comparison/data/shotgun/06_beta_diversity/dna_all_shotgun_woltka_wol_biom_noNTCs_noMock_lbm_rar725_dist_unifrac.qza \\\n",
    "  --o-pcoa /projects/dna_extraction_12201/round_02_six_kit_comparison/data/shotgun/06_beta_diversity/dna_all_shotgun_woltka_wol_biom_noNTCs_noMock_lbm_rar725_pcoa_unifrac.qza\n",
    "\n",
    "qiime diversity pcoa \\\n",
    "  --i-distance-matrix /projects/dna_extraction_12201/round_02_six_kit_comparison/data/shotgun/06_beta_diversity/dna_all_shotgun_woltka_wol_biom_noNTCs_noMock_lbm_rar725_dist_wunifrac.qza \\\n",
    "  --o-pcoa /projects/dna_extraction_12201/round_02_six_kit_comparison/data/shotgun/06_beta_diversity/dna_all_shotgun_woltka_wol_biom_noNTCs_noMock_lbm_rar725_pcoa_wunifrac.qza\n"
   ]
  },
  {
   "cell_type": "markdown",
   "metadata": {},
   "source": [
    "# Plot PCoA"
   ]
  },
  {
   "cell_type": "markdown",
   "metadata": {},
   "source": [
    "High-biomass"
   ]
  },
  {
   "cell_type": "code",
   "execution_count": null,
   "metadata": {},
   "outputs": [],
   "source": [
    "qiime emperor plot \\\n",
    "  --i-pcoa /projects/dna_extraction_12201/round_02_six_kit_comparison/data/shotgun/06_beta_diversity/dna_all_shotgun_woltka_wol_biom_noNTCs_noMock_hbm_rar39k_pcoa_unifrac.qza \\\n",
    "  --m-metadata-file /projects/dna_extraction_12201/round_02_six_kit_comparison/sample_metadata/12201_metadata.txt \\\n",
    "  --o-visualization /projects/dna_extraction_12201/round_02_six_kit_comparison/data/shotgun/06_beta_diversity/dna_all_shotgun_woltka_wol_biom_noNTCs_noMock_hbm_rar39k_pcoa_unifrac.qzv\n",
    "\n",
    "qiime emperor plot \\\n",
    "  --i-pcoa /projects/dna_extraction_12201/round_02_six_kit_comparison/data/shotgun/06_beta_diversity/dna_all_shotgun_woltka_wol_biom_noNTCs_noMock_hbm_rar39k_pcoa_wunifrac.qza \\\n",
    "  --m-metadata-file /projects/dna_extraction_12201/round_02_six_kit_comparison/sample_metadata/12201_metadata.txt \\\n",
    "  --o-visualization /projects/dna_extraction_12201/round_02_six_kit_comparison/data/shotgun/06_beta_diversity/dna_all_shotgun_woltka_wol_biom_noNTCs_noMock_hbm_rar39k_pcoa_wunifrac.qzv\n"
   ]
  },
  {
   "cell_type": "markdown",
   "metadata": {},
   "source": [
    "Low-biomass"
   ]
  },
  {
   "cell_type": "code",
   "execution_count": null,
   "metadata": {},
   "outputs": [],
   "source": [
    "qiime emperor plot \\\n",
    "  --i-pcoa /projects/dna_extraction_12201/round_02_six_kit_comparison/data/shotgun/06_beta_diversity/dna_all_shotgun_woltka_wol_biom_noNTCs_noMock_lbm_rar725_pcoa_unifrac.qza \\\n",
    "  --m-metadata-file /projects/dna_extraction_12201/round_02_six_kit_comparison/sample_metadata/12201_metadata.txt \\\n",
    "  --o-visualization /projects/dna_extraction_12201/round_02_six_kit_comparison/data/shotgun/06_beta_diversity/dna_all_shotgun_woltka_wol_biom_noNTCs_noMock_lbm_rar725_pcoa_unifrac.qzv\n",
    "\n",
    "qiime emperor plot \\\n",
    "  --i-pcoa /projects/dna_extraction_12201/round_02_six_kit_comparison/data/shotgun/06_beta_diversity/dna_all_shotgun_woltka_wol_biom_noNTCs_noMock_lbm_rar725_pcoa_wunifrac.qza \\\n",
    "  --m-metadata-file /projects/dna_extraction_12201/round_02_six_kit_comparison/sample_metadata/12201_metadata.txt \\\n",
    "  --o-visualization /projects/dna_extraction_12201/round_02_six_kit_comparison/data/shotgun/06_beta_diversity/dna_all_shotgun_woltka_wol_biom_noNTCs_noMock_lbm_rar725_pcoa_wunifrac.qzv\n"
   ]
  },
  {
   "cell_type": "markdown",
   "metadata": {},
   "source": [
    "# Perform RPCA"
   ]
  },
  {
   "cell_type": "markdown",
   "metadata": {},
   "source": [
    "High-biomass"
   ]
  },
  {
   "cell_type": "code",
   "execution_count": null,
   "metadata": {},
   "outputs": [],
   "source": [
    "qiime deicode rpca \\\n",
    "  --i-table /projects/dna_extraction_12201/round_02_six_kit_comparison/data/shotgun/04_normalized_data/dna_all_shotgun_woltka_wol_biom_noNTCs_noMock_hbm_min39k.qza \\\n",
    "  --p-min-feature-count 0 \\\n",
    "  --p-min-sample-count 0 \\\n",
    "  --p-min-feature-frequency 10 \\\n",
    "  --o-biplot /projects/dna_extraction_12201/round_02_six_kit_comparison/data/shotgun/06_beta_diversity/dna_all_shotgun_woltka_wol_biom_noNTCs_noMock_hbm_min39k_rpca_biplot.qza \\\n",
    "  --o-distance-matrix /projects/dna_extraction_12201/round_02_six_kit_comparison/data/shotgun/06_beta_diversity/dna_all_shotgun_woltka_wol_biom_noNTCs_noMock_hbm_min39k_rpca_dist.qza \\\n",
    "  --verbose\n",
    "\n",
    "qiime emperor biplot \\\n",
    "  --i-biplot /projects/dna_extraction_12201/round_02_six_kit_comparison/data/shotgun/06_beta_diversity/dna_all_shotgun_woltka_wol_biom_noNTCs_noMock_hbm_min39k_rpca_biplot.qza \\\n",
    "  --m-sample-metadata-file /projects/dna_extraction_12201/round_02_six_kit_comparison/sample_metadata/12201_metadata.txt \\\n",
    "  --m-feature-metadata-file /projects/dna_extraction_12201/round_02_six_kit_comparison/data/shotgun/wol_taxonomy.qza \\\n",
    "  --p-number-of-features 10 \\\n",
    "  --o-visualization /projects/dna_extraction_12201/round_02_six_kit_comparison/data/shotgun/06_beta_diversity/dna_all_shotgun_woltka_wol_biom_noNTCs_noMock_hbm_min39k_rpca_biplot.qzv\n"
   ]
  },
  {
   "cell_type": "markdown",
   "metadata": {},
   "source": [
    "Low-biomass"
   ]
  },
  {
   "cell_type": "code",
   "execution_count": null,
   "metadata": {},
   "outputs": [],
   "source": [
    "qiime deicode rpca \\\n",
    "  --i-table /projects/dna_extraction_12201/round_02_six_kit_comparison/data/shotgun/04_normalized_data/dna_all_shotgun_woltka_wol_biom_noNTCs_noMock_lbm_min725.qza \\\n",
    "  --p-min-feature-count 0 \\\n",
    "  --p-min-sample-count 0 \\\n",
    "  --p-min-feature-frequency 10 \\\n",
    "  --o-biplot /projects/dna_extraction_12201/round_02_six_kit_comparison/data/shotgun/06_beta_diversity/dna_all_shotgun_woltka_wol_biom_noNTCs_noMock_lbm_min725_rpca_biplot.qza \\\n",
    "  --o-distance-matrix /projects/dna_extraction_12201/round_02_six_kit_comparison/data/shotgun/06_beta_diversity/dna_all_shotgun_woltka_wol_biom_noNTCs_noMock_lbm_min725_rpca_dist.qza \\\n",
    "  --verbose\n",
    "\n",
    "qiime emperor biplot \\\n",
    "  --i-biplot /projects/dna_extraction_12201/round_02_six_kit_comparison/data/shotgun/06_beta_diversity/dna_all_shotgun_woltka_wol_biom_noNTCs_noMock_lbm_min725_rpca_biplot.qza \\\n",
    "  --m-sample-metadata-file /projects/dna_extraction_12201/round_02_six_kit_comparison/sample_metadata/12201_metadata.txt \\\n",
    "  --m-feature-metadata-file /projects/dna_extraction_12201/round_02_six_kit_comparison/data/shotgun/wol_taxonomy.qza \\\n",
    "  --p-number-of-features 10 \\\n",
    "  --o-visualization /projects/dna_extraction_12201/round_02_six_kit_comparison/data/shotgun/06_beta_diversity/dna_all_shotgun_woltka_wol_biom_noNTCs_noMock_lbm_min725_rpca_biplot.qzv\n"
   ]
  },
  {
   "cell_type": "code",
   "execution_count": null,
   "metadata": {},
   "outputs": [],
   "source": []
  }
 ],
 "metadata": {
  "kernelspec": {
   "display_name": "Python 3",
   "language": "python",
   "name": "python3"
  },
  "language_info": {
   "codemirror_mode": {
    "name": "ipython",
    "version": 3
   },
   "file_extension": ".py",
   "mimetype": "text/x-python",
   "name": "python",
   "nbconvert_exporter": "python",
   "pygments_lexer": "ipython3",
   "version": "3.8.5"
  }
 },
 "nbformat": 4,
 "nbformat_minor": 4
}
