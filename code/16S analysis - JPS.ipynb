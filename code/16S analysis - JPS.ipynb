{
 "cells": [
  {
   "cell_type": "code",
   "execution_count": null,
   "metadata": {},
   "outputs": [],
   "source": [
    "import pandas as pd\n"
   ]
  },
  {
   "cell_type": "code",
   "execution_count": null,
   "metadata": {},
   "outputs": [],
   "source": [
    "conda activate qiime2-2021.11\n"
   ]
  },
  {
   "cell_type": "markdown",
   "metadata": {},
   "source": [
    "# Import FASTQ data - Re-run plates"
   ]
  },
  {
   "cell_type": "markdown",
   "metadata": {},
   "source": [
    "## Original data"
   ]
  },
  {
   "cell_type": "markdown",
   "metadata": {},
   "source": [
    "Plates 1-6"
   ]
  },
  {
   "cell_type": "code",
   "execution_count": null,
   "metadata": {},
   "outputs": [],
   "source": [
    "qiime tools import \\\n",
    "  --type EMPPairedEndSequences \\\n",
    "  --input-path /projects/dna_extraction_12201/round_02_six_kit_comparison/data/16S/01_raw_fastq/original_run1_plates1-6_190219_M05314_0157_000000000-BWL7D/emp-paired-end-sequences \\\n",
    "  --output-path /projects/dna_extraction_12201/round_02_six_kit_comparison/data/16S/02_imported_seqs/dna_og_16S_plates1_6_seqs.qza\n"
   ]
  },
  {
   "cell_type": "markdown",
   "metadata": {},
   "source": [
    "Plates 7-12"
   ]
  },
  {
   "cell_type": "code",
   "execution_count": null,
   "metadata": {},
   "outputs": [],
   "source": [
    "qiime tools import \\\n",
    "  --type EMPPairedEndSequences \\\n",
    "  --input-path /projects/dna_extraction_12201/round_02_six_kit_comparison/data/16S/01_raw_fastq/original_run2_plates7-12_190313_M05314_0158_000000000-CC7GJ/emp-paired-end-sequences \\\n",
    "  --output-path /projects/dna_extraction_12201/round_02_six_kit_comparison/data/16S/02_imported_seqs/dna_og_16S_plates7_12_seqs.qza\n"
   ]
  },
  {
   "cell_type": "markdown",
   "metadata": {},
   "source": [
    "Re-run on eight samples"
   ]
  },
  {
   "cell_type": "code",
   "execution_count": null,
   "metadata": {},
   "outputs": [],
   "source": [
    "qiime tools import \\\n",
    "  --type EMPPairedEndSequences \\\n",
    "  --input-path /projects/dna_extraction_12201/round_02_six_kit_comparison/data/16S/01_raw_fastq/original_run3_eight_sample_redo_190416_M05314_0171_000000000-CCGYH/emp-paired-end-sequences \\\n",
    "  --output-path /projects/dna_extraction_12201/round_02_six_kit_comparison/data/16S/02_imported_seqs/dna_og_16S_plates1_6_8redos_seqs.qza\n"
   ]
  },
  {
   "cell_type": "markdown",
   "metadata": {},
   "source": [
    "## Re-run for four kits"
   ]
  },
  {
   "cell_type": "markdown",
   "metadata": {},
   "source": [
    "High biomass"
   ]
  },
  {
   "cell_type": "code",
   "execution_count": null,
   "metadata": {},
   "outputs": [],
   "source": [
    "qiime tools import \\\n",
    "  --type EMPPairedEndSequences \\\n",
    "  --input-path /projects/dna_extraction_12201/round_02_six_kit_comparison/data/16S/01_raw_fastq/rerun_run1_high_biomass_200323_M05314_0239_000000000-CMW2J/emp-paired-end-sequences \\\n",
    "  --output-path /projects/dna_extraction_12201/round_02_six_kit_comparison/data/16S/02_imported_seqs/dna_rerun_16S_hbm_seqs.qza\n"
   ]
  },
  {
   "cell_type": "markdown",
   "metadata": {},
   "source": [
    "Low biomass"
   ]
  },
  {
   "cell_type": "code",
   "execution_count": null,
   "metadata": {},
   "outputs": [],
   "source": [
    "qiime tools import \\\n",
    "  --type EMPPairedEndSequences \\\n",
    "  --input-path /projects/dna_extraction_12201/round_02_six_kit_comparison/data/16S/01_raw_fastq/rerun_run2_low_biomass_200325_M05314_0240_000000000-CVYC2/emp-paired-end-sequences \\\n",
    "  --output-path /projects/dna_extraction_12201/round_02_six_kit_comparison/data/16S/02_imported_seqs/dna_rerun_16S_lbm_seqs.qza\n"
   ]
  },
  {
   "cell_type": "markdown",
   "metadata": {},
   "source": [
    "# Demultiplex"
   ]
  },
  {
   "cell_type": "markdown",
   "metadata": {},
   "source": [
    "## Original data"
   ]
  },
  {
   "cell_type": "markdown",
   "metadata": {},
   "source": [
    "Plates 1-6"
   ]
  },
  {
   "cell_type": "code",
   "execution_count": null,
   "metadata": {},
   "outputs": [],
   "source": [
    "qiime demux emp-paired \\\n",
    "  --i-seqs /projects/dna_extraction_12201/round_02_six_kit_comparison/data/16S/02_imported_seqs/dna_og_16S_plates1_6_seqs.qza \\\n",
    "  --m-barcodes-file /projects/dna_extraction_12201/round_02_six_kit_comparison/prep_info_files/12201_prep_info_plates1_6_excluding_8redos.txt \\\n",
    "  --m-barcodes-column 'barcode' \\\n",
    "  --p-rev-comp-barcodes \\\n",
    "  --p-rev-comp-mapping-barcodes \\\n",
    "  --o-error-correction-details /projects/dna_extraction_12201/round_02_six_kit_comparison/data/16S/03_demux/dna_og_16S_plates1_6_excluding_8redos_demux_info.qza \\\n",
    "  --o-per-sample-sequences /projects/dna_extraction_12201/round_02_six_kit_comparison/data/16S/03_demux/dna_og_16S_plates1_6_excluding_8redos_demux.qza\n",
    "\n",
    "qiime demux summarize \\\n",
    "  --i-data /projects/dna_extraction_12201/round_02_six_kit_comparison/data/16S/03_demux/dna_og_16S_plates1_6_excluding_8redos_demux.qza \\\n",
    "  --o-visualization /projects/dna_extraction_12201/round_02_six_kit_comparison/data/16S/03_demux/dna_og_16S_plates1_6_excluding_8redos_demux.qzv\n"
   ]
  },
  {
   "cell_type": "markdown",
   "metadata": {},
   "source": [
    "Plates 7-12"
   ]
  },
  {
   "cell_type": "code",
   "execution_count": null,
   "metadata": {},
   "outputs": [],
   "source": [
    "qiime demux emp-paired \\\n",
    "  --i-seqs /projects/dna_extraction_12201/round_02_six_kit_comparison/data/16S/02_imported_seqs/dna_og_16S_plates7_12_seqs.qza \\\n",
    "  --m-barcodes-file /projects/dna_extraction_12201/round_02_six_kit_comparison/prep_info_files/12201_prep_info_plates7_12.txt \\\n",
    "  --m-barcodes-column 'barcode' \\\n",
    "  --p-rev-comp-barcodes \\\n",
    "  --p-rev-comp-mapping-barcodes \\\n",
    "  --o-error-correction-details /projects/dna_extraction_12201/round_02_six_kit_comparison/data/16S/03_demux/dna_og_16S_plates7_12_demux_info.qza \\\n",
    "  --o-per-sample-sequences /projects/dna_extraction_12201/round_02_six_kit_comparison/data/16S/03_demux/dna_og_16S_plates7_12_demux.qza\n",
    "\n",
    "qiime demux summarize \\\n",
    "  --i-data /projects/dna_extraction_12201/round_02_six_kit_comparison/data/16S/03_demux/dna_og_16S_plates7_12_demux.qza \\\n",
    "  --o-visualization /projects/dna_extraction_12201/round_02_six_kit_comparison/data/16S/03_demux/dna_og_16S_plates7_12_demux.qzv\n"
   ]
  },
  {
   "cell_type": "markdown",
   "metadata": {},
   "source": [
    "Plates 1-6, eight sample re-run"
   ]
  },
  {
   "cell_type": "code",
   "execution_count": null,
   "metadata": {},
   "outputs": [],
   "source": [
    "qiime demux emp-paired \\\n",
    "  --i-seqs /projects/dna_extraction_12201/round_02_six_kit_comparison/data/16S/02_imported_seqs/dna_og_16S_plates1_6_8redos_seqs.qza \\\n",
    "  --m-barcodes-file /projects/dna_extraction_12201/round_02_six_kit_comparison/prep_info_files/12201_prep_info_plates1_6_only_8redos.txt \\\n",
    "  --m-barcodes-column 'barcode' \\\n",
    "  --p-rev-comp-barcodes \\\n",
    "  --p-rev-comp-mapping-barcodes \\\n",
    "  --o-error-correction-details /projects/dna_extraction_12201/round_02_six_kit_comparison/data/16S/03_demux/dna_og_16S_plates1_6_8redos_demux_info.qza \\\n",
    "  --o-per-sample-sequences /projects/dna_extraction_12201/round_02_six_kit_comparison/data/16S/03_demux/dna_og_16S_plates1_6_8redos_demux.qza\n",
    "\n",
    "qiime demux summarize \\\n",
    "  --i-data /projects/dna_extraction_12201/round_02_six_kit_comparison/data/16S/03_demux/dna_og_16S_plates1_6_8redos_demux.qza \\\n",
    "  --o-visualization /projects/dna_extraction_12201/round_02_six_kit_comparison/data/16S/03_demux/dna_og_16S_plates1_6_8redos_demux.qzv\n"
   ]
  },
  {
   "cell_type": "markdown",
   "metadata": {},
   "source": [
    "## Re-run for four kits"
   ]
  },
  {
   "cell_type": "markdown",
   "metadata": {},
   "source": [
    "High biomass"
   ]
  },
  {
   "cell_type": "code",
   "execution_count": null,
   "metadata": {},
   "outputs": [],
   "source": [
    "qiime demux emp-paired \\\n",
    "  --i-seqs /projects/dna_extraction_12201/round_02_six_kit_comparison/data/16S/02_imported_seqs/dna_rerun_16S_hbm_seqs.qza \\\n",
    "  --m-barcodes-file /projects/dna_extraction_12201/round_02_six_kit_comparison/prep_info_files/12201_prep_info_rerun_hbm_8670_20201201-082325.txt \\\n",
    "  --m-barcodes-column 'barcode' \\\n",
    "  --p-rev-comp-barcodes \\\n",
    "  --p-rev-comp-mapping-barcodes \\\n",
    "  --o-error-correction-details /projects/dna_extraction_12201/round_02_six_kit_comparison/data/16S/03_demux/dna_rerun_16S_hbm_seqs_demux_info.qza \\\n",
    "  --o-per-sample-sequences /projects/dna_extraction_12201/round_02_six_kit_comparison/data/16S/03_demux/dna_rerun_16S_hbm_seqs_demux.qza\n",
    "\n",
    "qiime demux summarize \\\n",
    "  --i-data /projects/dna_extraction_12201/round_02_six_kit_comparison/data/16S/03_demux/dna_rerun_16S_hbm_seqs_demux.qza \\\n",
    "  --o-visualization /projects/dna_extraction_12201/round_02_six_kit_comparison/data/16S/03_demux/dna_rerun_16S_hbm_seqs_demux.qzv\n"
   ]
  },
  {
   "cell_type": "markdown",
   "metadata": {},
   "source": [
    "Low biomass"
   ]
  },
  {
   "cell_type": "code",
   "execution_count": null,
   "metadata": {},
   "outputs": [],
   "source": [
    "qiime demux emp-paired \\\n",
    "  --i-seqs /projects/dna_extraction_12201/round_02_six_kit_comparison/data/16S/02_imported_seqs/dna_rerun_16S_lbm_seqs.qza \\\n",
    "  --m-barcodes-file /projects/dna_extraction_12201/round_02_six_kit_comparison/prep_info_files/12201_prep_info_rerun_lbm_8674_20201201-082326.txt \\\n",
    "  --m-barcodes-column 'barcode' \\\n",
    "  --p-rev-comp-barcodes \\\n",
    "  --p-rev-comp-mapping-barcodes \\\n",
    "  --o-error-correction-details /projects/dna_extraction_12201/round_02_six_kit_comparison/data/16S/03_demux/dna_rerun_16S_lbm_seqs_demux_info.qza \\\n",
    "  --o-per-sample-sequences /projects/dna_extraction_12201/round_02_six_kit_comparison/data/16S/03_demux/dna_rerun_16S_lbm_seqs_demux.qza\n",
    "\n",
    "qiime demux summarize \\\n",
    "  --i-data /projects/dna_extraction_12201/round_02_six_kit_comparison/data/16S/03_demux/dna_rerun_16S_lbm_seqs_demux.qza \\\n",
    "  --o-visualization /projects/dna_extraction_12201/round_02_six_kit_comparison/data/16S/03_demux/dna_rerun_16S_lbm_seqs_demux.qzv\n"
   ]
  },
  {
   "cell_type": "markdown",
   "metadata": {},
   "source": [
    "# Denoise with deblur"
   ]
  },
  {
   "cell_type": "markdown",
   "metadata": {},
   "source": [
    "## Original data"
   ]
  },
  {
   "cell_type": "markdown",
   "metadata": {},
   "source": [
    "Plates 1-6"
   ]
  },
  {
   "cell_type": "code",
   "execution_count": null,
   "metadata": {},
   "outputs": [],
   "source": [
    "#!/bin/bash\n",
    "#PBS -V\n",
    "#PBS -l nodes=1:ppn=16\n",
    "#PBS -l walltime=12:00:00\n",
    "#PBS -l mem=128gb\n",
    "#PBS -M justinparkshaffer@gmail.com\n",
    "#PBS -m abe\n",
    "\n",
    "source activate qiime2-2021.4\n",
    "\n",
    "qiime deblur denoise-16S \\\n",
    "  --i-demultiplexed-seqs /projects/dna_extraction_12201/round_02_six_kit_comparison/data/16S/03_demux/dna_og_16S_plates1_6_excluding_8redos_demux.qza \\\n",
    "  --p-trim-length 150 \\\n",
    "  --p-jobs-to-start 16 \\\n",
    "  --p-sample-stats \\\n",
    "  --p-no-hashed-feature-ids \\\n",
    "  --o-table /projects/dna_extraction_12201/round_02_six_kit_comparison/data/16S/04_denoise/dna_og_16S_plates1_6_excluding_8redos_deblur_biom.qza \\\n",
    "  --o-representative-sequences /projects/dna_extraction_12201/round_02_six_kit_comparison/data/16S/04_denoise/dna_og_16S_plates1_6_excluding_8redos_deblur_seqs.qza \\\n",
    "  --o-stats /projects/dna_extraction_12201/round_02_six_kit_comparison/data/16S/04_denoise/dna_og_16S_plates1_6_excluding_8redos_deblur_stats.qza\n",
    "\n",
    "qiime feature-table summarize \\\n",
    "  --i-table /projects/dna_extraction_12201/round_02_six_kit_comparison/data/16S/04_denoise/dna_og_16S_plates1_6_excluding_8redos_deblur_biom.qza \\\n",
    "  --o-visualization /projects/dna_extraction_12201/round_02_six_kit_comparison/data/16S/04_denoise/dna_og_16S_plates1_6_excluding_8redos_deblur_biom.qzv\n"
   ]
  },
  {
   "cell_type": "markdown",
   "metadata": {},
   "source": [
    "Plates 7-12"
   ]
  },
  {
   "cell_type": "code",
   "execution_count": null,
   "metadata": {},
   "outputs": [],
   "source": [
    "#!/bin/bash\n",
    "#PBS -V\n",
    "#PBS -l nodes=1:ppn=16\n",
    "#PBS -l walltime=12:00:00\n",
    "#PBS -l mem=128gb\n",
    "#PBS -M justinparkshaffer@gmail.com\n",
    "#PBS -m abe\n",
    "\n",
    "source activate qiime2-2021.4\n",
    "\n",
    "qiime deblur denoise-16S \\\n",
    "  --i-demultiplexed-seqs /projects/dna_extraction_12201/round_02_six_kit_comparison/data/16S/03_demux/dna_og_16S_plates7_12_demux.qza \\\n",
    "  --p-trim-length 150 \\\n",
    "  --p-jobs-to-start 16 \\\n",
    "  --p-sample-stats \\\n",
    "  --p-no-hashed-feature-ids \\\n",
    "  --o-table /projects/dna_extraction_12201/round_02_six_kit_comparison/data/16S/04_denoise/dna_og_16S_plates7_12_deblur_biom.qza \\\n",
    "  --o-representative-sequences /projects/dna_extraction_12201/round_02_six_kit_comparison/data/16S/04_denoise/dna_og_16S_plates7_12_deblur_seqs.qza \\\n",
    "  --o-stats /projects/dna_extraction_12201/round_02_six_kit_comparison/data/16S/04_denoise/dna_og_16S_plates7_12_deblur_stats.qza\n"
   ]
  },
  {
   "cell_type": "markdown",
   "metadata": {},
   "source": [
    "Plates 1-6, eight sample re-run"
   ]
  },
  {
   "cell_type": "code",
   "execution_count": null,
   "metadata": {},
   "outputs": [],
   "source": [
    "#!/bin/bash\n",
    "#PBS -V\n",
    "#PBS -l nodes=1:ppn=16\n",
    "#PBS -l walltime=12:00:00\n",
    "#PBS -l mem=128gb\n",
    "#PBS -M justinparkshaffer@gmail.com\n",
    "#PBS -m abe\n",
    "\n",
    "source activate qiime2-2021.4\n",
    "\n",
    "qiime deblur denoise-16S \\\n",
    "  --i-demultiplexed-seqs /projects/dna_extraction_12201/round_02_six_kit_comparison/data/16S/03_demux/dna_og_16S_plates1_6_8redos_demux.qza \\\n",
    "  --p-trim-length 150 \\\n",
    "  --p-jobs-to-start 16 \\\n",
    "  --p-sample-stats \\\n",
    "  --p-no-hashed-feature-ids \\\n",
    "  --o-table /projects/dna_extraction_12201/round_02_six_kit_comparison/data/16S/04_denoise/dna_og_16S_plates1_6_8redos_deblur_biom.qza \\\n",
    "  --o-representative-sequences /projects/dna_extraction_12201/round_02_six_kit_comparison/data/16S/04_denoise/dna_og_16S_plates1_6_8redos_deblur_seqs.qza \\\n",
    "  --o-stats /projects/dna_extraction_12201/round_02_six_kit_comparison/data/16S/04_denoise/dna_og_16S_plates1_6_8redos_deblur_stats.qza\n"
   ]
  },
  {
   "cell_type": "markdown",
   "metadata": {},
   "source": [
    "## Re-run with four kits"
   ]
  },
  {
   "cell_type": "markdown",
   "metadata": {},
   "source": [
    "High biomass"
   ]
  },
  {
   "cell_type": "code",
   "execution_count": null,
   "metadata": {},
   "outputs": [],
   "source": [
    "#!/bin/bash\n",
    "#PBS -V\n",
    "#PBS -l nodes=1:ppn=16\n",
    "#PBS -l walltime=12:00:00\n",
    "#PBS -l mem=128gb\n",
    "#PBS -M justinparkshaffer@gmail.com\n",
    "#PBS -m abe\n",
    "\n",
    "source activate qiime2-2021.4\n",
    "\n",
    "qiime deblur denoise-16S \\\n",
    "  --i-demultiplexed-seqs /projects/dna_extraction_12201/round_02_six_kit_comparison/data/16S/03_demux/dna_rerun_16S_hbm_seqs_demux.qza \\\n",
    "  --p-trim-length 150 \\\n",
    "  --p-jobs-to-start 16 \\\n",
    "  --p-sample-stats \\\n",
    "  --p-no-hashed-feature-ids \\\n",
    "  --o-table /projects/dna_extraction_12201/round_02_six_kit_comparison/data/16S/04_denoise/dna_rerun_16S_hbm_seqs_deblur_biom.qza \\\n",
    "  --o-representative-sequences /projects/dna_extraction_12201/round_02_six_kit_comparison/data/16S/04_denoise/dna_rerun_16S_hbm_seqs_deblur_seqs.qza \\\n",
    "  --o-stats /projects/dna_extraction_12201/round_02_six_kit_comparison/data/16S/04_denoise/dna_rerun_16S_hbm_seqs_deblur_stats.qza\n"
   ]
  },
  {
   "cell_type": "markdown",
   "metadata": {},
   "source": [
    "Low biomass"
   ]
  },
  {
   "cell_type": "code",
   "execution_count": null,
   "metadata": {},
   "outputs": [],
   "source": [
    "#!/bin/bash\n",
    "#PBS -V\n",
    "#PBS -l nodes=1:ppn=16\n",
    "#PBS -l walltime=12:00:00\n",
    "#PBS -l mem=128gb\n",
    "#PBS -M justinparkshaffer@gmail.com\n",
    "#PBS -m abe\n",
    "\n",
    "source activate qiime2-2021.4\n",
    "\n",
    "qiime deblur denoise-16S \\\n",
    "  --i-demultiplexed-seqs /projects/dna_extraction_12201/round_02_six_kit_comparison/data/16S/03_demux/dna_rerun_16S_lbm_seqs_demux.qza \\\n",
    "  --p-trim-length 150 \\\n",
    "  --p-jobs-to-start 16 \\\n",
    "  --p-sample-stats \\\n",
    "  --p-no-hashed-feature-ids \\\n",
    "  --o-table /projects/dna_extraction_12201/round_02_six_kit_comparison/data/16S/04_denoise/dna_rerun_16S_lbm_seqs_deblur_biom.qza \\\n",
    "  --o-representative-sequences /projects/dna_extraction_12201/round_02_six_kit_comparison/data/16S/04_denoise/dna_rerun_16S_lbm_seqs_deblur_seqs.qza \\\n",
    "  --o-stats /projects/dna_extraction_12201/round_02_six_kit_comparison/data/16S/04_denoise/dna_rerun_16S_lbm_seqs_deblur_stats.qza\n"
   ]
  },
  {
   "cell_type": "markdown",
   "metadata": {},
   "source": [
    "# Merge tables"
   ]
  },
  {
   "cell_type": "markdown",
   "metadata": {},
   "source": [
    "Round 1"
   ]
  },
  {
   "cell_type": "code",
   "execution_count": null,
   "metadata": {},
   "outputs": [],
   "source": [
    "qiime feature-table merge \\\n",
    "  --i-tables /projects/dna_extraction_12201/round_02_six_kit_comparison/data/16S/04_denoise/dna_og_16S_plates1_6_excluding_8redos_deblur_biom.qza \\\n",
    "  --i-tables /projects/dna_extraction_12201/round_02_six_kit_comparison/data/16S/04_denoise/dna_og_16S_plates1_6_8redos_deblur_biom.qza \\\n",
    "  --i-tables /projects/dna_extraction_12201/round_02_six_kit_comparison/data/16S/04_denoise/dna_og_16S_plates7_12_deblur_biom.qza \\\n",
    "  --o-merged-table /projects/dna_extraction_12201/round_02_six_kit_comparison/data/16S/05_merged_data/dna_og_16S_deblur_biom.qza\n",
    "\n",
    "qiime feature-table summarize \\\n",
    "  --i-table /projects/dna_extraction_12201/round_02_six_kit_comparison/data/16S/05_merged_data/dna_og_16S_deblur_biom.qza \\\n",
    "  --o-visualization /projects/dna_extraction_12201/round_02_six_kit_comparison/data/16S/05_merged_data/dna_og_16S_deblur_biom.qzv\n",
    "\n",
    "# There are 1,142 samples and 11,044 features\n",
    "\n"
   ]
  },
  {
   "cell_type": "markdown",
   "metadata": {},
   "source": [
    "Round 2"
   ]
  },
  {
   "cell_type": "code",
   "execution_count": null,
   "metadata": {},
   "outputs": [],
   "source": [
    "qiime feature-table merge \\\n",
    "  --i-tables /projects/dna_extraction_12201/round_02_six_kit_comparison/data/16S/04_denoise/dna_rerun_16S_hbm_deblur_biom.qza \\\n",
    "  --i-tables /projects/dna_extraction_12201/round_02_six_kit_comparison/data/16S/04_denoise/dna_rerun_16S_lbm_deblur_biom.qza \\\n",
    "  --o-merged-table /projects/dna_extraction_12201/round_02_six_kit_comparison/data/16S/05_merged_data/dna_rerun_16S_deblur_biom.qza\n",
    "\n",
    "qiime feature-table summarize \\\n",
    "  --i-table /projects/dna_extraction_12201/round_02_six_kit_comparison/data/16S/05_merged_data/dna_rerun_16S_deblur_biom.qza \\\n",
    "  --o-visualization /projects/dna_extraction_12201/round_02_six_kit_comparison/data/16S/05_merged_data/dna_rerun_16S_deblur_biom.qzv\n",
    "\n",
    "# There are 767 samples and 10,433 features\n"
   ]
  },
  {
   "cell_type": "markdown",
   "metadata": {},
   "source": [
    "## Exclude Zymo kit from round 1"
   ]
  },
  {
   "cell_type": "code",
   "execution_count": null,
   "metadata": {},
   "outputs": [],
   "source": [
    "qiime feature-table filter-samples \\\n",
    "  --i-table /projects/dna_extraction_12201/round_02_six_kit_comparison/data/16S/05_merged_data/dna_og_16S_deblur_biom.qza \\\n",
    "  --m-metadata-file /projects/dna_extraction_12201/round_02_six_kit_comparison/sample_metadata/12201_metadata.txt \\\n",
    "  --p-where \"[extraction_kit]!='Zymo MagBead'\" \\\n",
    "  --o-filtered-table /projects/dna_extraction_12201/round_02_six_kit_comparison/data/16S/05_merged_data/dna_og_good_16S_deblur_biom.qza\n",
    "\n",
    "qiime feature-table summarize \\\n",
    "  --i-table /projects/dna_extraction_12201/round_02_six_kit_comparison/data/16S/05_merged_data/dna_og_good_16S_deblur_biom.qza \\\n",
    "  --o-visualization /projects/dna_extraction_12201/round_02_six_kit_comparison/data/16S/05_merged_data/dna_og_good_16S_deblur_biom.qzv\n",
    "\n",
    "# There are 951 samples and 10,746 features\n"
   ]
  },
  {
   "cell_type": "markdown",
   "metadata": {},
   "source": [
    "## Merge round 1 excluding Zymo with round 2"
   ]
  },
  {
   "cell_type": "code",
   "execution_count": null,
   "metadata": {},
   "outputs": [],
   "source": [
    "qiime feature-table merge \\\n",
    "  --i-tables /projects/dna_extraction_12201/round_02_six_kit_comparison/data/16S/05_merged_data/dna_og_good_16S_deblur_biom.qza \\\n",
    "  --i-tables /projects/dna_extraction_12201/round_02_six_kit_comparison/data/16S/05_merged_data/dna_rerun_16S_deblur_biom.qza \\\n",
    "  --o-merged-table /projects/dna_extraction_12201/round_02_six_kit_comparison/data/16S/05_merged_data/dna_all_16S_deblur_biom.qza\n",
    "\n",
    "qiime feature-table summarize \\\n",
    "  --i-table /projects/dna_extraction_12201/round_02_six_kit_comparison/data/16S/05_merged_data/dna_all_16S_deblur_biom.qza \\\n",
    "  --o-visualization /projects/dna_extraction_12201/round_02_six_kit_comparison/data/16S/05_merged_data/dna_all_16S_deblur_biom.qzv\n",
    "\n",
    "# There are 1,718 samples and 15,754 features\n"
   ]
  },
  {
   "cell_type": "markdown",
   "metadata": {},
   "source": [
    "# Merge sequences"
   ]
  },
  {
   "cell_type": "code",
   "execution_count": null,
   "metadata": {},
   "outputs": [],
   "source": [
    "qiime feature-table merge-seqs \\\n",
    "  --i-data /projects/dna_extraction_12201/round_02_six_kit_comparison/data/16S/04_denoise/dna_og_16S_plates1_6_excluding_8redos_deblur_seqs.qza \\\n",
    "  --i-data /projects/dna_extraction_12201/round_02_six_kit_comparison/data/16S/04_denoise/dna_og_16S_plates1_6_8redos_deblur_seqs.qza \\\n",
    "  --i-data /projects/dna_extraction_12201/round_02_six_kit_comparison/data/16S/04_denoise/dna_og_16S_plates7_12_deblur_seqs.qza \\\n",
    "  --i-data /projects/dna_extraction_12201/round_02_six_kit_comparison/data/16S/04_denoise/dna_rerun_16S_hbm_deblur_seqs.qza \\\n",
    "  --i-data /projects/dna_extraction_12201/round_02_six_kit_comparison/data/16S/04_denoise/dna_rerun_16S_lbm_deblur_seqs.qza \\\n",
    "  --o-merged-data /projects/dna_extraction_12201/round_02_six_kit_comparison/data/16S/05_merged_data/dna_all_16S_deblur_seqs.qza \\\n"
   ]
  },
  {
   "cell_type": "markdown",
   "metadata": {},
   "source": [
    "# Profile taxonomy"
   ]
  },
  {
   "cell_type": "code",
   "execution_count": null,
   "metadata": {},
   "outputs": [],
   "source": [
    "#!/bin/bash\n",
    "#PBS -V\n",
    "#PBS -l nodes=1:ppn=30\n",
    "#PBS -l walltime=48:00:00\n",
    "#PBS -l mem=240gb\n",
    "#PBS -M justinparkshaffer@gmail.com\n",
    "#PBS -m abe\n",
    "\n",
    "source activate qiime2-2021.4\n",
    "\n",
    "qiime feature-classifier classify-sklearn \\\n",
    "  --i-classifier /home/jpshaffer/mapping_db/qiime2-2021.4/silva-138-99-515-806-nb-classifier.qza \\\n",
    "  --i-reads /projects/dna_extraction_12201/round_02_six_kit_comparison/data/16S/05_merged_data/dna_all_16S_deblur_seqs.qza \\\n",
    "  --p-n-jobs 30 \\\n",
    "  --o-classification /projects/dna_extraction_12201/round_02_six_kit_comparison/data/16S/06_taxonomy/dna_all_16S_deblur_seqs_taxonomy_silva138.qza\n"
   ]
  },
  {
   "cell_type": "markdown",
   "metadata": {},
   "source": [
    "Generate barplot for merged table"
   ]
  },
  {
   "cell_type": "code",
   "execution_count": null,
   "metadata": {},
   "outputs": [],
   "source": [
    "qiime taxa barplot \\\n",
    "  --i-table /projects/dna_extraction_12201/round_02_six_kit_comparison/data/16S/05_merged_data/dna_all_16S_deblur_biom.qza \\\n",
    "  --i-taxonomy /projects/dna_extraction_12201/round_02_six_kit_comparison/data/16S/06_taxonomy/dna_all_16S_deblur_seqs_taxonomy_silva138.qza \\\n",
    "  --m-metadata-file /projects/dna_extraction_12201/round_02_six_kit_comparison/sample_metadata/12201_metadata.txt \\\n",
    "  --o-visualization /projects/dna_extraction_12201/round_02_six_kit_comparison/data/16S/05_merged_data/dna_all_16S_deblur_biom_taxa_barplot_silva138.qzv\n"
   ]
  },
  {
   "cell_type": "markdown",
   "metadata": {},
   "source": [
    "# NOTE: At this point Katharoseq analysis was performed and the resultant filtered table is used from this point forward. Preliminary analysis of the full dataset indicated that round 1 PowerSoil samples could be excluded, in addittion to those from MagMAX Beta and Homebrew"
   ]
  },
  {
   "cell_type": "markdown",
   "metadata": {},
   "source": [
    "# Filter mitochondrial and chloroplast features"
   ]
  },
  {
   "cell_type": "markdown",
   "metadata": {},
   "source": [
    "Remove chloroplasts and mitochondria from sequences"
   ]
  },
  {
   "cell_type": "code",
   "execution_count": null,
   "metadata": {},
   "outputs": [],
   "source": [
    "qiime taxa filter-seqs \\\n",
    "  --i-sequences /projects/dna_extraction_12201/round_02_six_kit_comparison/data/16S/05_merged_data/dna_all_16S_deblur_seqs.qza \\\n",
    "  --i-taxonomy /projects/dna_extraction_12201/round_02_six_kit_comparison/data/16S/06_taxonomy/dna_all_16S_deblur_seqs_taxonomy_silva138.qza \\\n",
    "  --p-exclude chloroplast,mitochondria \\\n",
    "  --o-filtered-sequences /projects/dna_extraction_12201/round_02_six_kit_comparison/data/16S/08_filtered_data_organelles/dna_all_16S_deblur_seqs_noChl_noMit.qza\n"
   ]
  },
  {
   "cell_type": "markdown",
   "metadata": {},
   "source": [
    "## Table excluding round 1 PowerSoil, MagMAX Beta, and Homebrew (for beta-diversity analyses)"
   ]
  },
  {
   "cell_type": "markdown",
   "metadata": {},
   "source": [
    "Remove chloroplasts from table"
   ]
  },
  {
   "cell_type": "code",
   "execution_count": null,
   "metadata": {},
   "outputs": [],
   "source": [
    "qiime taxa filter-table \\\n",
    "  --i-table /projects/dna_extraction_12201/round_02_six_kit_comparison/data/16S/07_lod/dna_all_16S_deblur_biom_lod.qza \\\n",
    "  --i-taxonomy /projects/dna_extraction_12201/round_02_six_kit_comparison/data/16S/06_taxonomy/dna_all_16S_deblur_seqs_taxonomy_silva138.qza \\\n",
    "  --p-exclude chloroplast \\\n",
    "  --o-filtered-table /projects/dna_extraction_12201/round_02_six_kit_comparison/data/16S/08_filtered_data_organelles/dna_all_16S_deblur_biom_lod_noChl.qza\n",
    "\n",
    "qiime feature-table summarize \\\n",
    "  --i-table /projects/dna_extraction_12201/round_02_six_kit_comparison/data/16S/08_filtered_data_organelles/dna_all_16S_deblur_biom_lod_noChl.qza \\\n",
    "  --o-visualization /projects/dna_extraction_12201/round_02_six_kit_comparison/data/16S/08_filtered_data_organelles/dna_all_16S_deblur_biom_lod_noChl.qzv\n",
    "\n",
    "# There are 851 samples and 13008 features\n"
   ]
  },
  {
   "cell_type": "markdown",
   "metadata": {},
   "source": [
    "Remove mitochondria from table"
   ]
  },
  {
   "cell_type": "code",
   "execution_count": null,
   "metadata": {},
   "outputs": [],
   "source": [
    "qiime taxa filter-table \\\n",
    "  --i-table /projects/dna_extraction_12201/round_02_six_kit_comparison/data/16S/08_filtered_data_organelles/dna_all_16S_deblur_biom_lod_noChl.qza \\\n",
    "  --i-taxonomy /projects/dna_extraction_12201/round_02_six_kit_comparison/data/16S/06_taxonomy/dna_all_16S_deblur_seqs_taxonomy_silva138.qza \\\n",
    "  --p-exclude mitochondria \\\n",
    "  --o-filtered-table /projects/dna_extraction_12201/round_02_six_kit_comparison/data/16S/08_filtered_data_organelles/dna_all_16S_deblur_biom_lod_noChl_noMit.qza\n",
    "\n",
    "qiime feature-table summarize \\\n",
    "  --i-table /projects/dna_extraction_12201/round_02_six_kit_comparison/data/16S/08_filtered_data_organelles/dna_all_16S_deblur_biom_lod_noChl_noMit.qza \\\n",
    "  --o-visualization /projects/dna_extraction_12201/round_02_six_kit_comparison/data/16S/08_filtered_data_organelles/dna_all_16S_deblur_biom_lod_noChl_noMit.qzv\n",
    "\n",
    "# There are 851 samples and 12952 features\n"
   ]
  },
  {
   "cell_type": "markdown",
   "metadata": {},
   "source": [
    "## Table including round 1 PowerSoil (for alpha-diversity analyses)"
   ]
  },
  {
   "cell_type": "markdown",
   "metadata": {},
   "source": [
    "Remove chloroplasts from table"
   ]
  },
  {
   "cell_type": "code",
   "execution_count": null,
   "metadata": {},
   "outputs": [],
   "source": [
    "qiime taxa filter-table \\\n",
    "  --i-table /projects/dna_extraction_12201/round_02_six_kit_comparison/data/16S/07_lod/dna_bothPS_16S_deblur_biom_lod.qza \\\n",
    "  --i-taxonomy /projects/dna_extraction_12201/round_02_six_kit_comparison/data/16S/06_taxonomy/dna_all_16S_deblur_seqs_taxonomy_silva138.qza \\\n",
    "  --p-exclude chloroplast \\\n",
    "  --o-filtered-table /projects/dna_extraction_12201/round_02_six_kit_comparison/data/16S/08_filtered_data_organelles/dna_bothPS_16S_deblur_biom_lod_noChl.qza\n",
    "\n",
    "qiime feature-table summarize \\\n",
    "  --i-table /projects/dna_extraction_12201/round_02_six_kit_comparison/data/16S/08_filtered_data_organelles/dna_bothPS_16S_deblur_biom_lod_noChl.qza \\\n",
    "  --o-visualization /projects/dna_extraction_12201/round_02_six_kit_comparison/data/16S/08_filtered_data_organelles/dna_bothPS_16S_deblur_biom_lod_noChl.qzv\n",
    "\n",
    "# There are 1025 samples and 13403 features\n"
   ]
  },
  {
   "cell_type": "markdown",
   "metadata": {},
   "source": [
    "Remove mitochondria from table"
   ]
  },
  {
   "cell_type": "code",
   "execution_count": null,
   "metadata": {},
   "outputs": [],
   "source": [
    "qiime taxa filter-table \\\n",
    "  --i-table /projects/dna_extraction_12201/round_02_six_kit_comparison/data/16S/08_filtered_data_organelles/dna_bothPS_16S_deblur_biom_lod_noChl.qza \\\n",
    "  --i-taxonomy /projects/dna_extraction_12201/round_02_six_kit_comparison/data/16S/06_taxonomy/dna_all_16S_deblur_seqs_taxonomy_silva138.qza \\\n",
    "  --p-exclude mitochondria \\\n",
    "  --o-filtered-table /projects/dna_extraction_12201/round_02_six_kit_comparison/data/16S/08_filtered_data_organelles/dna_bothPS_16S_deblur_biom_lod_noChl_noMit.qza\n",
    "\n",
    "qiime feature-table summarize \\\n",
    "  --i-table /projects/dna_extraction_12201/round_02_six_kit_comparison/data/16S/08_filtered_data_organelles/dna_bothPS_16S_deblur_biom_lod_noChl_noMit.qza \\\n",
    "  --o-visualization /projects/dna_extraction_12201/round_02_six_kit_comparison/data/16S/08_filtered_data_organelles/dna_bothPS_16S_deblur_biom_lod_noChl_noMit.qzv\n",
    "\n",
    "# There are 1025 samples and 13347 features\n"
   ]
  },
  {
   "cell_type": "markdown",
   "metadata": {},
   "source": [
    "# Generate a phylogeny and filter unplaced sequences"
   ]
  },
  {
   "cell_type": "markdown",
   "metadata": {},
   "source": [
    "SEPP reference: GreenGenes 13_8"
   ]
  },
  {
   "cell_type": "code",
   "execution_count": null,
   "metadata": {},
   "outputs": [],
   "source": [
    "#!/bin/bash\n",
    "#PBS -V\n",
    "#PBS -l nodes=1:ppn=30\n",
    "#PBS -l walltime=120:00:00\n",
    "#PBS -l mem=240gb\n",
    "#PBS -M justinparkshaffer@gmail.com\n",
    "#PBS -m abe\n",
    "\n",
    "source activate qiime2-2021.11\n",
    "\n",
    "qiime fragment-insertion sepp \\\n",
    "  --i-representative-sequences /projects/dna_extraction_12201/round_02_six_kit_comparison/data/16S/08_filtered_data_organelles/dna_all_16S_deblur_seqs_noChl_noMit.qza \\\n",
    "  --i-reference-database /home/jpshaffer/mapping_db/qiime2-2021.11/sepp-refs-gg-13-8.qza \\\n",
    "  --p-threads 30 \\\n",
    "  --o-tree /projects/dna_extraction_12201/round_02_six_kit_comparison/data/16S/09_fragment_insertion/dna_all_16S_deblur_seqs_noChl_noMit_tree_gg.qza \\\n",
    "  --o-placements /projects/dna_extraction_12201/round_02_six_kit_comparison/data/16S/09_fragment_insertion/dna_all_16S_deblur_seqs_noChl_noMit_tree_gg_placements.qza\n",
    "\n",
    "qiime fragment-insertion filter-features \\\n",
    "  --i-table /projects/dna_extraction_12201/round_02_six_kit_comparison/data/16S/08_filtered_data_organelles/dna_all_16S_deblur_biom_lod_noChl_noMit.qza \\\n",
    "  --i-tree /projects/dna_extraction_12201/round_02_six_kit_comparison/data/16S/09_fragment_insertion/dna_all_16S_deblur_seqs_noChl_noMit_tree_gg.qza \\\n",
    "  --o-filtered-table /projects/dna_extraction_12201/round_02_six_kit_comparison/data/16S/09_fragment_insertion/dna_all_16S_deblur_biom_lod_noChl_noMit_sepp_gg.qza \\\n",
    "  --o-removed-table /projects/dna_extraction_12201/round_02_six_kit_comparison/data/16S/09_fragment_insertion/dna_all_16S_deblur_biom_lod_noChl_noMit_sepp_gg_removed.qza\n",
    "\n",
    "qiime feature-table summarize \\\n",
    "  --i-table /projects/dna_extraction_12201/round_02_six_kit_comparison/data/16S/09_fragment_insertion/dna_all_16S_deblur_biom_lod_noChl_noMit_sepp_gg.qza \\\n",
    "  --o-visualization /projects/dna_extraction_12201/round_02_six_kit_comparison/data/16S/09_fragment_insertion/dna_all_16S_deblur_biom_lod_noChl_noMit_sepp_gg.qzv\n",
    "\n",
    "# There are 851 samples and 12952 features\n"
   ]
  },
  {
   "cell_type": "markdown",
   "metadata": {},
   "source": [
    "## Filter unplaced sequences from table including round 1 PowerSoil (for alpha-diversity analyses)"
   ]
  },
  {
   "cell_type": "code",
   "execution_count": null,
   "metadata": {},
   "outputs": [],
   "source": [
    "qiime fragment-insertion filter-features \\\n",
    "  --i-table /projects/dna_extraction_12201/round_02_six_kit_comparison/data/16S/08_filtered_data_organelles/dna_bothPS_16S_deblur_biom_lod_noChl_noMit.qza \\\n",
    "  --i-tree /projects/dna_extraction_12201/round_02_six_kit_comparison/data/16S/09_fragment_insertion/dna_all_16S_deblur_seqs_noChl_noMit_tree_gg.qza \\\n",
    "  --o-filtered-table /projects/dna_extraction_12201/round_02_six_kit_comparison/data/16S/09_fragment_insertion/dna_bothPS_16S_deblur_biom_lod_noChl_noMit_sepp_gg.qza \\\n",
    "  --o-removed-table /projects/dna_extraction_12201/round_02_six_kit_comparison/data/16S/09_fragment_insertion/dna_bothPS_16S_deblur_biom_lod_noChl_noMit_sepp_gg_removed.qza\n",
    "\n",
    "qiime feature-table summarize \\\n",
    "  --i-table /projects/dna_extraction_12201/round_02_six_kit_comparison/data/16S/09_fragment_insertion/dna_bothPS_16S_deblur_biom_lod_noChl_noMit_sepp_gg.qza \\\n",
    "  --o-visualization /projects/dna_extraction_12201/round_02_six_kit_comparison/data/16S/09_fragment_insertion/dna_bothPS_16S_deblur_biom_lod_noChl_noMit_sepp_gg.qzv\n",
    "\n",
    "# There are 1025 samples and 13347 features\n"
   ]
  },
  {
   "cell_type": "markdown",
   "metadata": {},
   "source": [
    "# Filter negative controls (blanks)"
   ]
  },
  {
   "cell_type": "markdown",
   "metadata": {},
   "source": [
    "## Table excluding round 1 PowerSoil, MagMAX Beta, and Homebrew (for beta-diversity analyses)"
   ]
  },
  {
   "cell_type": "code",
   "execution_count": null,
   "metadata": {},
   "outputs": [],
   "source": [
    "qiime feature-table filter-samples \\\n",
    "  --i-table /projects/dna_extraction_12201/round_02_six_kit_comparison/data/16S/09_fragment_insertion/dna_all_16S_deblur_biom_lod_noChl_noMit_sepp_gg.qza \\\n",
    "  --m-metadata-file /projects/dna_extraction_12201/round_02_six_kit_comparison/sample_metadata/12201_metadata.txt \\\n",
    "  --p-where \"[sample_type]!='control blank'\" \\\n",
    "  --o-filtered-table /projects/dna_extraction_12201/round_02_six_kit_comparison/data/16S/10_filtered_data/dna_all_16S_deblur_biom_lod_noChl_noMit_sepp_gg_noNTCs.qza\n",
    "\n",
    "qiime feature-table summarize \\\n",
    "  --i-table /projects/dna_extraction_12201/round_02_six_kit_comparison/data/16S/10_filtered_data/dna_all_16S_deblur_biom_lod_noChl_noMit_sepp_gg_noNTCs.qza \\\n",
    "  --o-visualization /projects/dna_extraction_12201/round_02_six_kit_comparison/data/16S/10_filtered_data/dna_all_16S_deblur_biom_lod_noChl_noMit_sepp_gg_noNTCs.qzv\n",
    "\n",
    "# There are 826 samples and 12909 features\n"
   ]
  },
  {
   "cell_type": "markdown",
   "metadata": {},
   "source": [
    "## Table including round 1 PowerSoil (for alpha-diversity analyses)"
   ]
  },
  {
   "cell_type": "code",
   "execution_count": null,
   "metadata": {},
   "outputs": [],
   "source": [
    "qiime feature-table filter-samples \\\n",
    "  --i-table /projects/dna_extraction_12201/round_02_six_kit_comparison/data/16S/09_fragment_insertion/dna_bothPS_16S_deblur_biom_lod_noChl_noMit_sepp_gg.qza \\\n",
    "  --m-metadata-file /projects/dna_extraction_12201/round_02_six_kit_comparison/sample_metadata/12201_metadata.txt \\\n",
    "  --p-where \"[sample_type]!='control blank'\" \\\n",
    "  --o-filtered-table /projects/dna_extraction_12201/round_02_six_kit_comparison/data/16S/10_filtered_data/dna_bothPS_16S_deblur_biom_lod_noChl_noMit_sepp_gg_noNTCs.qza\n",
    "\n",
    "qiime feature-table summarize \\\n",
    "  --i-table /projects/dna_extraction_12201/round_02_six_kit_comparison/data/16S/10_filtered_data/dna_bothPS_16S_deblur_biom_lod_noChl_noMit_sepp_gg_noNTCs.qza \\\n",
    "  --o-visualization /projects/dna_extraction_12201/round_02_six_kit_comparison/data/16S/10_filtered_data/dna_bothPS_16S_deblur_biom_lod_noChl_noMit_sepp_gg_noNTCs.qzv\n",
    "\n",
    "# There are 996 samples and 13313 features\n"
   ]
  },
  {
   "cell_type": "markdown",
   "metadata": {},
   "source": [
    "# Filter mock community samples (positive controls)"
   ]
  },
  {
   "cell_type": "markdown",
   "metadata": {},
   "source": [
    "## Table excluding round 1 PowerSoil, MagMAX Beta, and Homebrew (for beta-diversity analyses)"
   ]
  },
  {
   "cell_type": "code",
   "execution_count": null,
   "metadata": {},
   "outputs": [],
   "source": [
    "qiime feature-table filter-samples \\\n",
    "  --i-table /projects/dna_extraction_12201/round_02_six_kit_comparison/data/16S/10_filtered_data/dna_all_16S_deblur_biom_lod_noChl_noMit_sepp_gg_noNTCs.qza \\\n",
    "  --m-metadata-file /projects/dna_extraction_12201/round_02_six_kit_comparison/sample_metadata/12201_metadata.txt \\\n",
    "  --p-where \"[sample_type]!='mock community'\" \\\n",
    "  --o-filtered-table /projects/dna_extraction_12201/round_02_six_kit_comparison/data/16S/10_filtered_data/dna_all_16S_deblur_biom_lod_noChl_noMit_sepp_gg_noNTCs_noMock.qza\n",
    "\n",
    "qiime feature-table summarize \\\n",
    "  --i-table /projects/dna_extraction_12201/round_02_six_kit_comparison/data/16S/10_filtered_data/dna_all_16S_deblur_biom_lod_noChl_noMit_sepp_gg_noNTCs_noMock.qza \\\n",
    "  --o-visualization /projects/dna_extraction_12201/round_02_six_kit_comparison/data/16S/10_filtered_data/dna_all_16S_deblur_biom_lod_noChl_noMit_sepp_gg_noNTCs_noMock.qzv\n",
    "\n",
    "# There are 702 samples and 12815 features\n"
   ]
  },
  {
   "cell_type": "markdown",
   "metadata": {},
   "source": [
    "## Table including round 1 PowerSoil (for alpha-diversity analyses)"
   ]
  },
  {
   "cell_type": "code",
   "execution_count": null,
   "metadata": {},
   "outputs": [],
   "source": [
    "qiime feature-table filter-samples \\\n",
    "  --i-table /projects/dna_extraction_12201/round_02_six_kit_comparison/data/16S/10_filtered_data/dna_bothPS_16S_deblur_biom_lod_noChl_noMit_sepp_gg_noNTCs.qza \\\n",
    "  --m-metadata-file /projects/dna_extraction_12201/round_02_six_kit_comparison/sample_metadata/12201_metadata.txt \\\n",
    "  --p-where \"[sample_type]!='mock community'\" \\\n",
    "  --o-filtered-table /projects/dna_extraction_12201/round_02_six_kit_comparison/data/16S/10_filtered_data/dna_bothPS_16S_deblur_biom_lod_noChl_noMit_sepp_gg_noNTCs_noMock.qza\n",
    "\n",
    "qiime feature-table summarize \\\n",
    "  --i-table /projects/dna_extraction_12201/round_02_six_kit_comparison/data/16S/10_filtered_data/dna_bothPS_16S_deblur_biom_lod_noChl_noMit_sepp_gg_noNTCs_noMock.qza \\\n",
    "  --o-visualization /projects/dna_extraction_12201/round_02_six_kit_comparison/data/16S/10_filtered_data/dna_bothPS_16S_deblur_biom_lod_noChl_noMit_sepp_gg_noNTCs_noMock.qzv\n",
    "\n",
    "# There are 846 samples and 13230 features\n"
   ]
  },
  {
   "cell_type": "markdown",
   "metadata": {},
   "source": [
    "# Separate high- and low-biomass samples"
   ]
  },
  {
   "cell_type": "markdown",
   "metadata": {},
   "source": [
    "## Table excluding round 1 PowerSoil, MagMAX Beta, and Homebrew (for beta-diversity analyses)"
   ]
  },
  {
   "cell_type": "markdown",
   "metadata": {},
   "source": [
    "High-biomass samples"
   ]
  },
  {
   "cell_type": "code",
   "execution_count": null,
   "metadata": {},
   "outputs": [],
   "source": [
    "qiime feature-table filter-samples \\\n",
    "  --i-table /projects/dna_extraction_12201/round_02_six_kit_comparison/data/16S/10_filtered_data/dna_all_16S_deblur_biom_lod_noChl_noMit_sepp_gg_noNTCs_noMock.qza \\\n",
    "  --m-metadata-file /projects/dna_extraction_12201/round_02_six_kit_comparison/sample_metadata/12201_metadata.txt \\\n",
    "  --p-where \"[biomass_plate]='high'\" \\\n",
    "  --o-filtered-table /projects/dna_extraction_12201/round_02_six_kit_comparison/data/16S/10_filtered_data/dna_all_16S_deblur_biom_lod_noChl_noMit_sepp_gg_noNTCs_noMock_hbm.qza\n",
    "\n",
    "qiime feature-table summarize \\\n",
    "  --i-table /projects/dna_extraction_12201/round_02_six_kit_comparison/data/16S/10_filtered_data/dna_all_16S_deblur_biom_lod_noChl_noMit_sepp_gg_noNTCs_noMock_hbm.qza \\\n",
    "  --o-visualization /projects/dna_extraction_12201/round_02_six_kit_comparison/data/16S/10_filtered_data/dna_all_16S_deblur_biom_lod_noChl_noMit_sepp_gg_noNTCs_noMock_hbm.qzv\n",
    "\n",
    "# There are 435 samples and 7482 features\n"
   ]
  },
  {
   "cell_type": "markdown",
   "metadata": {},
   "source": [
    "Low-biomass samples"
   ]
  },
  {
   "cell_type": "code",
   "execution_count": null,
   "metadata": {},
   "outputs": [],
   "source": [
    "qiime feature-table filter-samples \\\n",
    "  --i-table /projects/dna_extraction_12201/round_02_six_kit_comparison/data/16S/10_filtered_data/dna_all_16S_deblur_biom_lod_noChl_noMit_sepp_gg_noNTCs_noMock.qza \\\n",
    "  --m-metadata-file /projects/dna_extraction_12201/round_02_six_kit_comparison/sample_metadata/12201_metadata.txt \\\n",
    "  --p-where \"[biomass_plate]='low'\" \\\n",
    "  --o-filtered-table /projects/dna_extraction_12201/round_02_six_kit_comparison/data/16S/10_filtered_data/dna_all_16S_deblur_biom_lod_noChl_noMit_sepp_gg_noNTCs_noMock_lbm.qza\n",
    "\n",
    "qiime feature-table summarize \\\n",
    "  --i-table /projects/dna_extraction_12201/round_02_six_kit_comparison/data/16S/10_filtered_data/dna_all_16S_deblur_biom_lod_noChl_noMit_sepp_gg_noNTCs_noMock_lbm.qza \\\n",
    "  --o-visualization /projects/dna_extraction_12201/round_02_six_kit_comparison/data/16S/10_filtered_data/dna_all_16S_deblur_biom_lod_noChl_noMit_sepp_gg_noNTCs_noMock_lbm.qzv\n",
    "\n",
    "# There are 267 samples and 6907 features\n"
   ]
  },
  {
   "cell_type": "markdown",
   "metadata": {},
   "source": [
    "## Table including round 1 PowerSoil (for alpha-diversity analyses)"
   ]
  },
  {
   "cell_type": "markdown",
   "metadata": {},
   "source": [
    "High-biomass samples - including controls"
   ]
  },
  {
   "cell_type": "code",
   "execution_count": null,
   "metadata": {},
   "outputs": [],
   "source": [
    "qiime feature-table filter-samples \\\n",
    "  --i-table /projects/dna_extraction_12201/round_02_six_kit_comparison/data/16S/09_fragment_insertion/dna_bothPS_16S_deblur_biom_lod_noChl_noMit_sepp_gg.qza \\\n",
    "  --m-metadata-file /projects/dna_extraction_12201/round_02_six_kit_comparison/sample_metadata/12201_metadata.txt \\\n",
    "  --p-where \"[biomass_plate]='high'\" \\\n",
    "  --o-filtered-table /projects/dna_extraction_12201/round_02_six_kit_comparison/data/16S/10_filtered_data/dna_bothPS_16S_deblur_biom_lod_noChl_noMit_sepp_gg_hbm.qza\n",
    "\n",
    "qiime feature-table summarize \\\n",
    "  --i-table /projects/dna_extraction_12201/round_02_six_kit_comparison/data/16S/10_filtered_data/dna_bothPS_16S_deblur_biom_lod_noChl_noMit_sepp_gg_hbm.qza \\\n",
    "  --o-visualization /projects/dna_extraction_12201/round_02_six_kit_comparison/data/16S/10_filtered_data/dna_bothPS_16S_deblur_biom_lod_noChl_noMit_sepp_gg_hbm.qzv\n",
    "\n",
    "# There are 572 samples and 7654 features\n"
   ]
  },
  {
   "cell_type": "markdown",
   "metadata": {},
   "source": [
    "High-biomass samples - excluding controls"
   ]
  },
  {
   "cell_type": "code",
   "execution_count": null,
   "metadata": {},
   "outputs": [],
   "source": [
    "qiime feature-table filter-samples \\\n",
    "  --i-table /projects/dna_extraction_12201/round_02_six_kit_comparison/data/16S/10_filtered_data/dna_bothPS_16S_deblur_biom_lod_noChl_noMit_sepp_gg_noNTCs_noMock.qza \\\n",
    "  --m-metadata-file /projects/dna_extraction_12201/round_02_six_kit_comparison/sample_metadata/12201_metadata.txt \\\n",
    "  --p-where \"[biomass_plate]='high'\" \\\n",
    "  --o-filtered-table /projects/dna_extraction_12201/round_02_six_kit_comparison/data/16S/10_filtered_data/dna_bothPS_16S_deblur_biom_lod_noChl_noMit_sepp_gg_noNTCs_noMock_hbm.qza\n",
    "\n",
    "qiime feature-table summarize \\\n",
    "  --i-table /projects/dna_extraction_12201/round_02_six_kit_comparison/data/16S/10_filtered_data/dna_bothPS_16S_deblur_biom_lod_noChl_noMit_sepp_gg_noNTCs_noMock_hbm.qza \\\n",
    "  --o-visualization /projects/dna_extraction_12201/round_02_six_kit_comparison/data/16S/10_filtered_data/dna_bothPS_16S_deblur_biom_lod_noChl_noMit_sepp_gg_noNTCs_noMock_hbm.qzv\n",
    "\n",
    "# There are 519 samples and 7610 features\n"
   ]
  },
  {
   "cell_type": "markdown",
   "metadata": {},
   "source": [
    "Low-biomass samples - including controls"
   ]
  },
  {
   "cell_type": "code",
   "execution_count": null,
   "metadata": {},
   "outputs": [],
   "source": [
    "qiime feature-table filter-samples \\\n",
    "  --i-table /projects/dna_extraction_12201/round_02_six_kit_comparison/data/16S/09_fragment_insertion/dna_bothPS_16S_deblur_biom_lod_noChl_noMit_sepp_gg.qza \\\n",
    "  --m-metadata-file /projects/dna_extraction_12201/round_02_six_kit_comparison/sample_metadata/12201_metadata.txt \\\n",
    "  --p-where \"[biomass_plate]='low'\" \\\n",
    "  --o-filtered-table /projects/dna_extraction_12201/round_02_six_kit_comparison/data/16S/10_filtered_data/dna_bothPS_16S_deblur_biom_lod_noChl_noMit_sepp_gg_lbm.qza\n",
    "\n",
    "qiime feature-table summarize \\\n",
    "  --i-table /projects/dna_extraction_12201/round_02_six_kit_comparison/data/16S/10_filtered_data/dna_bothPS_16S_deblur_biom_lod_noChl_noMit_sepp_gg_lbm.qza \\\n",
    "  --o-visualization /projects/dna_extraction_12201/round_02_six_kit_comparison/data/16S/10_filtered_data/dna_bothPS_16S_deblur_biom_lod_noChl_noMit_sepp_gg_lbm.qzv\n",
    "\n",
    "# There are 453 samples and 7723 features\n"
   ]
  },
  {
   "cell_type": "markdown",
   "metadata": {},
   "source": [
    "Low-biomass samples - excluding controls"
   ]
  },
  {
   "cell_type": "code",
   "execution_count": null,
   "metadata": {},
   "outputs": [],
   "source": [
    "qiime feature-table filter-samples \\\n",
    "  --i-table /projects/dna_extraction_12201/round_02_six_kit_comparison/data/16S/10_filtered_data/dna_bothPS_16S_deblur_biom_lod_noChl_noMit_sepp_gg_noNTCs_noMock.qza \\\n",
    "  --m-metadata-file /projects/dna_extraction_12201/round_02_six_kit_comparison/sample_metadata/12201_metadata.txt \\\n",
    "  --p-where \"[biomass_plate]='low'\" \\\n",
    "  --o-filtered-table /projects/dna_extraction_12201/round_02_six_kit_comparison/data/16S/10_filtered_data/dna_bothPS_16S_deblur_biom_lod_noChl_noMit_sepp_gg_noNTCs_noMock_lbm.qza\n",
    "\n",
    "qiime feature-table summarize \\\n",
    "  --i-table /projects/dna_extraction_12201/round_02_six_kit_comparison/data/16S/10_filtered_data/dna_bothPS_16S_deblur_biom_lod_noChl_noMit_sepp_gg_noNTCs_noMock_lbm.qza \\\n",
    "  --o-visualization /projects/dna_extraction_12201/round_02_six_kit_comparison/data/16S/10_filtered_data/dna_bothPS_16S_deblur_biom_lod_noChl_noMit_sepp_gg_noNTCs_noMock_lbm.qzv\n",
    "\n",
    "# There are 327 samples and 7580 features\n"
   ]
  },
  {
   "cell_type": "markdown",
   "metadata": {},
   "source": [
    "# Normalize sampling depth"
   ]
  },
  {
   "cell_type": "markdown",
   "metadata": {},
   "source": [
    "## Table excluding round 1 PowerSoil, MagMAX Beta, and Homebrew (for beta-diversity analyses)"
   ]
  },
  {
   "cell_type": "markdown",
   "metadata": {},
   "source": [
    "### Rarefy"
   ]
  },
  {
   "cell_type": "markdown",
   "metadata": {},
   "source": [
    "High-biomass samples - including controls"
   ]
  },
  {
   "cell_type": "code",
   "execution_count": null,
   "metadata": {},
   "outputs": [],
   "source": [
    "qiime feature-table rarefy \\\n",
    "  --i-table /projects/dna_extraction_12201/round_02_six_kit_comparison/data/16S/10_filtered_data/dna_all_16S_deblur_biom_lod_noChl_noMit_sepp_gg_noNTCs_noMock_hbm.qza \\\n",
    "  --p-sampling-depth 13145 \\\n",
    "  --o-rarefied-table /projects/dna_extraction_12201/round_02_six_kit_comparison/data/16S/11_normalized_data/dna_all_16S_deblur_biom_lod_noChl_noMit_sepp_gg_noNTCs_noMock_hbm_rar13145.qza\n",
    "\n",
    "qiime feature-table summarize \\\n",
    "  --i-table /projects/dna_extraction_12201/round_02_six_kit_comparison/data/16S/11_normalized_data/dna_all_16S_deblur_biom_lod_noChl_noMit_sepp_gg_noNTCs_noMock_hbm_rar13145.qza \\\n",
    "  --o-visualization /projects/dna_extraction_12201/round_02_six_kit_comparison/data/16S/11_normalized_data/dna_all_16S_deblur_biom_lod_noChl_noMit_sepp_gg_noNTCs_noMock_hbm_rar13145.qzv\n",
    "\n",
    "# There are 328 samples and 5919 features\n"
   ]
  },
  {
   "cell_type": "markdown",
   "metadata": {},
   "source": [
    "Low-biomass samples - including controls"
   ]
  },
  {
   "cell_type": "code",
   "execution_count": null,
   "metadata": {},
   "outputs": [],
   "source": [
    "qiime feature-table rarefy \\\n",
    "  --i-table /projects/dna_extraction_12201/round_02_six_kit_comparison/data/16S/10_filtered_data/dna_all_16S_deblur_biom_lod_noChl_noMit_sepp_gg_noNTCs_noMock_lbm.qza \\\n",
    "  --p-sampling-depth 5000 \\\n",
    "  --o-rarefied-table /projects/dna_extraction_12201/round_02_six_kit_comparison/data/16S/11_normalized_data/dna_all_16S_deblur_biom_lod_noChl_noMit_sepp_gg_noNTCs_noMock_lbm_rar4450.qza\n",
    "\n",
    "qiime feature-table summarize \\\n",
    "  --i-table /projects/dna_extraction_12201/round_02_six_kit_comparison/data/16S/11_normalized_data/dna_all_16S_deblur_biom_lod_noChl_noMit_sepp_gg_noNTCs_noMock_lbm_rar4450.qza \\\n",
    "  --o-visualization /projects/dna_extraction_12201/round_02_six_kit_comparison/data/16S/11_normalized_data/dna_all_16S_deblur_biom_lod_noChl_noMit_sepp_gg_noNTCs_noMock_lbm_rar4450.qzv\n",
    "\n",
    "# There are 197 samples and 6616 features\n"
   ]
  },
  {
   "cell_type": "markdown",
   "metadata": {},
   "source": [
    "### Remove low-abundance samples"
   ]
  },
  {
   "cell_type": "markdown",
   "metadata": {},
   "source": [
    "High-biomass samples"
   ]
  },
  {
   "cell_type": "code",
   "execution_count": null,
   "metadata": {},
   "outputs": [],
   "source": [
    "qiime feature-table filter-samples \\\n",
    "  --i-table /projects/dna_extraction_12201/round_02_six_kit_comparison/data/16S/10_filtered_data/dna_all_16S_deblur_biom_lod_noChl_noMit_sepp_gg_noNTCs_noMock_hbm.qza \\\n",
    "  --p-min-frequency 13145 \\\n",
    "  --o-filtered-table /projects/dna_extraction_12201/round_02_six_kit_comparison/data/16S/11_normalized_data/dna_all_16S_deblur_biom_lod_noChl_noMit_sepp_gg_noNTCs_noMock_hbm_min13145.qza\n",
    "\n",
    "qiime feature-table summarize \\\n",
    "  --i-table /projects/dna_extraction_12201/round_02_six_kit_comparison/data/16S/11_normalized_data/dna_all_16S_deblur_biom_lod_noChl_noMit_sepp_gg_noNTCs_noMock_hbm_min13145.qza \\\n",
    "  --o-visualization /projects/dna_extraction_12201/round_02_six_kit_comparison/data/16S/11_normalized_data/dna_all_16S_deblur_biom_lod_noChl_noMit_sepp_gg_noNTCs_noMock_hbm_min13145.qzv\n",
    "\n",
    "# There are 328 samples and 5933 features\n"
   ]
  },
  {
   "cell_type": "markdown",
   "metadata": {},
   "source": [
    "Low-biomass samples"
   ]
  },
  {
   "cell_type": "code",
   "execution_count": null,
   "metadata": {},
   "outputs": [],
   "source": [
    "qiime feature-table filter-samples \\\n",
    "  --i-table /projects/dna_extraction_12201/round_02_six_kit_comparison/data/16S/10_filtered_data/dna_all_16S_deblur_biom_lod_noChl_noMit_sepp_gg_noNTCs_noMock_lbm.qza \\\n",
    "  --p-min-frequency 5000 \\\n",
    "  --o-filtered-table /projects/dna_extraction_12201/round_02_six_kit_comparison/data/16S/11_normalized_data/dna_all_16S_deblur_biom_lod_noChl_noMit_sepp_gg_noNTCs_noMock_lbm_min4450.qza\n",
    "\n",
    "qiime feature-table summarize \\\n",
    "  --i-table /projects/dna_extraction_12201/round_02_six_kit_comparison/data/16S/11_normalized_data/dna_all_16S_deblur_biom_lod_noChl_noMit_sepp_gg_noNTCs_noMock_lbm_min4450.qza \\\n",
    "  --o-visualization /projects/dna_extraction_12201/round_02_six_kit_comparison/data/16S/11_normalized_data/dna_all_16S_deblur_biom_lod_noChl_noMit_sepp_gg_noNTCs_noMock_lbm_min4450.qzv\n",
    "\n",
    "# There are 197 samples and 6754 features\n"
   ]
  },
  {
   "cell_type": "markdown",
   "metadata": {},
   "source": [
    "## Table including round 1 PowerSoil (for alpha-diversity analyses)"
   ]
  },
  {
   "cell_type": "markdown",
   "metadata": {},
   "source": [
    "### Rarefy"
   ]
  },
  {
   "cell_type": "markdown",
   "metadata": {},
   "source": [
    "High-biomass samples - including controls"
   ]
  },
  {
   "cell_type": "code",
   "execution_count": null,
   "metadata": {},
   "outputs": [],
   "source": [
    "qiime feature-table rarefy \\\n",
    "  --i-table /projects/dna_extraction_12201/round_02_six_kit_comparison/data/16S/10_filtered_data/dna_bothPS_16S_deblur_biom_lod_noChl_noMit_sepp_gg_hbm.qza \\\n",
    "  --p-sampling-depth 12150 \\\n",
    "  --o-rarefied-table /projects/dna_extraction_12201/round_02_six_kit_comparison/data/16S/11_normalized_data/dna_bothPS_16S_deblur_biom_lod_noChl_noMit_sepp_gg_hbm_rar12150.qza\n",
    "\n",
    "qiime feature-table summarize \\\n",
    "  --i-table /projects/dna_extraction_12201/round_02_six_kit_comparison/data/16S/11_normalized_data/dna_bothPS_16S_deblur_biom_lod_noChl_noMit_sepp_gg_hbm_rar12150.qza \\\n",
    "  --o-visualization /projects/dna_extraction_12201/round_02_six_kit_comparison/data/16S/11_normalized_data/dna_bothPS_16S_deblur_biom_lod_noChl_noMit_sepp_gg_hbm_rar12150.qzv\n",
    "\n",
    "# There are 429 samples and 7094 features\n"
   ]
  },
  {
   "cell_type": "markdown",
   "metadata": {},
   "source": [
    "High-biomass samples - excluding controls"
   ]
  },
  {
   "cell_type": "code",
   "execution_count": null,
   "metadata": {},
   "outputs": [],
   "source": [
    "qiime feature-table rarefy \\\n",
    "  --i-table /projects/dna_extraction_12201/round_02_six_kit_comparison/data/16S/10_filtered_data/dna_bothPS_16S_deblur_biom_lod_noChl_noMit_sepp_gg_noNTCs_noMock_hbm.qza \\\n",
    "  --p-sampling-depth 12690 \\\n",
    "  --o-rarefied-table /projects/dna_extraction_12201/round_02_six_kit_comparison/data/16S/11_normalized_data/dna_bothPS_16S_deblur_biom_lod_noChl_noMit_sepp_gg_noNTCs_noMock_hbm_rar12690.qza\n",
    "\n",
    "qiime feature-table summarize \\\n",
    "  --i-table /projects/dna_extraction_12201/round_02_six_kit_comparison/data/16S/11_normalized_data/dna_bothPS_16S_deblur_biom_lod_noChl_noMit_sepp_gg_noNTCs_noMock_hbm_rar12690.qza \\\n",
    "  --o-visualization /projects/dna_extraction_12201/round_02_six_kit_comparison/data/16S/11_normalized_data/dna_bothPS_16S_deblur_biom_lod_noChl_noMit_sepp_gg_noNTCs_noMock_hbm_rar12690.qzv\n",
    "\n",
    "# There are 390 samples and 6454 features\n"
   ]
  },
  {
   "cell_type": "markdown",
   "metadata": {},
   "source": [
    "Low-biomass samples - including controls"
   ]
  },
  {
   "cell_type": "code",
   "execution_count": null,
   "metadata": {},
   "outputs": [],
   "source": [
    "qiime feature-table rarefy \\\n",
    "  --i-table /projects/dna_extraction_12201/round_02_six_kit_comparison/data/16S/10_filtered_data/dna_bothPS_16S_deblur_biom_lod_noChl_noMit_sepp_gg_lbm.qza \\\n",
    "  --p-sampling-depth 3150 \\\n",
    "  --o-rarefied-table /projects/dna_extraction_12201/round_02_six_kit_comparison/data/16S/11_normalized_data/dna_bothPS_16S_deblur_biom_lod_noChl_noMit_sepp_gg_lbm_rar3150.qza\n",
    "\n",
    "qiime feature-table summarize \\\n",
    "  --i-table /projects/dna_extraction_12201/round_02_six_kit_comparison/data/16S/11_normalized_data/dna_bothPS_16S_deblur_biom_lod_noChl_noMit_sepp_gg_lbm_rar3150.qza \\\n",
    "  --o-visualization /projects/dna_extraction_12201/round_02_six_kit_comparison/data/16S/11_normalized_data/dna_bothPS_16S_deblur_biom_lod_noChl_noMit_sepp_gg_lbm_rar3150.qzv\n",
    "\n",
    "# There are 340 samples and 7259 features\n"
   ]
  },
  {
   "cell_type": "markdown",
   "metadata": {},
   "source": [
    "Low-biomass samples - excluding controls"
   ]
  },
  {
   "cell_type": "code",
   "execution_count": null,
   "metadata": {},
   "outputs": [],
   "source": [
    "qiime feature-table rarefy \\\n",
    "  --i-table /projects/dna_extraction_12201/round_02_six_kit_comparison/data/16S/10_filtered_data/dna_bothPS_16S_deblur_biom_lod_noChl_noMit_sepp_gg_noNTCs_noMock_lbm.qza \\\n",
    "  --p-sampling-depth 3295 \\\n",
    "  --o-rarefied-table /projects/dna_extraction_12201/round_02_six_kit_comparison/data/16S/11_normalized_data/dna_bothPS_16S_deblur_biom_lod_noChl_noMit_sepp_gg_noNTCs_noMock_lbm_rar3295.qza\n",
    "\n",
    "qiime feature-table summarize \\\n",
    "  --i-table /projects/dna_extraction_12201/round_02_six_kit_comparison/data/16S/11_normalized_data/dna_bothPS_16S_deblur_biom_lod_noChl_noMit_sepp_gg_noNTCs_noMock_lbm_rar3295.qza \\\n",
    "  --o-visualization /projects/dna_extraction_12201/round_02_six_kit_comparison/data/16S/11_normalized_data/dna_bothPS_16S_deblur_biom_lod_noChl_noMit_sepp_gg_noNTCs_noMock_lbm_rar3295.qzv\n",
    "\n",
    "# There are 246 samples and 7171 features\n"
   ]
  },
  {
   "cell_type": "markdown",
   "metadata": {},
   "source": [
    "# Alpha-diversity"
   ]
  },
  {
   "cell_type": "markdown",
   "metadata": {},
   "source": [
    "## Table excluding round 1 PowerSoil, MagMAX Beta, and Homebrew (for beta-diversity analyses)"
   ]
  },
  {
   "cell_type": "markdown",
   "metadata": {},
   "source": [
    "High-biomass"
   ]
  },
  {
   "cell_type": "code",
   "execution_count": null,
   "metadata": {},
   "outputs": [],
   "source": [
    "qiime diversity alpha \\\n",
    "  --i-table /projects/dna_extraction_12201/round_02_six_kit_comparison/data/16S/11_normalized_data/dna_all_16S_deblur_biom_lod_noChl_noMit_sepp_gg_noNTCs_noMock_hbm_rar13145.qza \\\n",
    "  --p-metric 'observed_features' \\\n",
    "  --o-alpha-diversity /projects/dna_extraction_12201/round_02_six_kit_comparison/data/16S/12_alpha_diversity/dna_all_16S_deblur_biom_lod_noChl_noMit_sepp_gg_noNTCs_noMock_hbm_rar13145_alpha_richness.qza\n",
    "\n",
    "qiime diversity alpha \\\n",
    "  --i-table /projects/dna_extraction_12201/round_02_six_kit_comparison/data/16S/11_normalized_data/dna_all_16S_deblur_biom_lod_noChl_noMit_sepp_gg_noNTCs_noMock_hbm_rar13145.qza \\\n",
    "  --p-metric 'shannon' \\\n",
    "  --o-alpha-diversity /projects/dna_extraction_12201/round_02_six_kit_comparison/data/16S/12_alpha_diversity/dna_all_16S_deblur_biom_lod_noChl_noMit_sepp_gg_noNTCs_noMock_hbm_rar13145_alpha_shannon.qza\n",
    "\n",
    "qiime diversity alpha-phylogenetic \\\n",
    "  --i-table /projects/dna_extraction_12201/round_02_six_kit_comparison/data/16S/11_normalized_data/dna_all_16S_deblur_biom_lod_noChl_noMit_sepp_gg_noNTCs_noMock_hbm_rar13145.qza \\\n",
    "  --p-metric 'faith_pd' \\\n",
    "  --i-phylogeny /projects/dna_extraction_12201/round_02_six_kit_comparison/data/16S/09_fragment_insertion/dna_all_16S_deblur_seqs_noChl_noMit_tree_gg.qza \\\n",
    "  --o-alpha-diversity /projects/dna_extraction_12201/round_02_six_kit_comparison/data/16S/12_alpha_diversity/dna_all_16S_deblur_biom_lod_noChl_noMit_sepp_gg_noNTCs_noMock_hbm_rar13145_alpha_faithspd.qza\n"
   ]
  },
  {
   "cell_type": "markdown",
   "metadata": {},
   "source": [
    "Low-biomass"
   ]
  },
  {
   "cell_type": "code",
   "execution_count": null,
   "metadata": {},
   "outputs": [],
   "source": [
    "qiime diversity alpha \\\n",
    "  --i-table /projects/dna_extraction_12201/round_02_six_kit_comparison/data/16S/11_normalized_data/dna_all_16S_deblur_biom_lod_noChl_noMit_sepp_gg_noNTCs_noMock_lbm_rar4450.qza \\\n",
    "  --p-metric 'observed_features' \\\n",
    "  --o-alpha-diversity /projects/dna_extraction_12201/round_02_six_kit_comparison/data/16S/12_alpha_diversity/dna_all_16S_deblur_biom_lod_noChl_noMit_sepp_gg_noNTCs_noMock_lbm_rar4450_alpha_richness.qza\n",
    "\n",
    "qiime diversity alpha \\\n",
    "  --i-table /projects/dna_extraction_12201/round_02_six_kit_comparison/data/16S/11_normalized_data/dna_all_16S_deblur_biom_lod_noChl_noMit_sepp_gg_noNTCs_noMock_lbm_rar4450.qza \\\n",
    "  --p-metric 'shannon' \\\n",
    "  --o-alpha-diversity /projects/dna_extraction_12201/round_02_six_kit_comparison/data/16S/12_alpha_diversity/dna_all_16S_deblur_biom_lod_noChl_noMit_sepp_gg_noNTCs_noMock_lbm_rar4450_alpha_shannon.qza\n",
    "\n",
    "qiime diversity alpha-phylogenetic \\\n",
    "  --i-table /projects/dna_extraction_12201/round_02_six_kit_comparison/data/16S/11_normalized_data/dna_all_16S_deblur_biom_lod_noChl_noMit_sepp_gg_noNTCs_noMock_lbm_rar4450.qza \\\n",
    "  --p-metric 'faith_pd' \\\n",
    "  --i-phylogeny /projects/dna_extraction_12201/round_02_six_kit_comparison/data/16S/09_fragment_insertion/dna_all_16S_deblur_seqs_noChl_noMit_tree_gg.qza \\\n",
    "  --o-alpha-diversity /projects/dna_extraction_12201/round_02_six_kit_comparison/data/16S/12_alpha_diversity/dna_all_16S_deblur_biom_lod_noChl_noMit_sepp_gg_noNTCs_noMock_lbm_rar4450_alpha_faithspd.qza\n"
   ]
  },
  {
   "cell_type": "markdown",
   "metadata": {},
   "source": [
    "## Table including round 1 PowerSoil (for alpha-diversity analyses)"
   ]
  },
  {
   "cell_type": "markdown",
   "metadata": {},
   "source": [
    "High-biomass"
   ]
  },
  {
   "cell_type": "code",
   "execution_count": null,
   "metadata": {},
   "outputs": [],
   "source": [
    "qiime diversity alpha \\\n",
    "  --i-table /projects/dna_extraction_12201/round_02_six_kit_comparison/data/16S/11_normalized_data/dna_bothPS_16S_deblur_biom_lod_noChl_noMit_sepp_gg_hbm_rar12150.qza \\\n",
    "  --p-metric 'observed_features' \\\n",
    "  --o-alpha-diversity /projects/dna_extraction_12201/round_02_six_kit_comparison/data/16S/12_alpha_diversity/dna_bothPS_16S_deblur_biom_lod_noChl_noMit_sepp_gg_hbm_rar12150_alpha_richness.qza\n",
    "\n",
    "qiime diversity alpha \\\n",
    "  --i-table /projects/dna_extraction_12201/round_02_six_kit_comparison/data/16S/11_normalized_data/dna_bothPS_16S_deblur_biom_lod_noChl_noMit_sepp_gg_hbm_rar12150.qza \\\n",
    "  --p-metric 'shannon' \\\n",
    "  --o-alpha-diversity /projects/dna_extraction_12201/round_02_six_kit_comparison/data/16S/12_alpha_diversity/dna_bothPS_16S_deblur_biom_lod_noChl_noMit_sepp_gg_hbm_rar12150_alpha_shannon.qza\n",
    "\n",
    "qiime diversity alpha-phylogenetic \\\n",
    "  --i-table /projects/dna_extraction_12201/round_02_six_kit_comparison/data/16S/11_normalized_data/dna_bothPS_16S_deblur_biom_lod_noChl_noMit_sepp_gg_hbm_rar12150.qza \\\n",
    "  --p-metric 'faith_pd' \\\n",
    "  --i-phylogeny /projects/dna_extraction_12201/round_02_six_kit_comparison/data/16S/09_fragment_insertion/dna_all_16S_deblur_seqs_noChl_noMit_tree_gg.qza \\\n",
    "  --o-alpha-diversity /projects/dna_extraction_12201/round_02_six_kit_comparison/data/16S/12_alpha_diversity/dna_bothPS_16S_deblur_biom_lod_noChl_noMit_sepp_gg_hbm_rar12150_alpha_faithspd.qza\n"
   ]
  },
  {
   "cell_type": "markdown",
   "metadata": {},
   "source": [
    "Low-biomass"
   ]
  },
  {
   "cell_type": "code",
   "execution_count": null,
   "metadata": {},
   "outputs": [],
   "source": [
    "qiime diversity alpha \\\n",
    "  --i-table /projects/dna_extraction_12201/round_02_six_kit_comparison/data/16S/11_normalized_data/dna_bothPS_16S_deblur_biom_lod_noChl_noMit_sepp_gg_lbm_rar3150.qza \\\n",
    "  --p-metric 'observed_features' \\\n",
    "  --o-alpha-diversity /projects/dna_extraction_12201/round_02_six_kit_comparison/data/16S/12_alpha_diversity/dna_bothPS_16S_deblur_biom_lod_noChl_noMit_sepp_gg_lbm_rar3150_alpha_richness.qza\n",
    "\n",
    "qiime diversity alpha \\\n",
    "  --i-table /projects/dna_extraction_12201/round_02_six_kit_comparison/data/16S/11_normalized_data/dna_bothPS_16S_deblur_biom_lod_noChl_noMit_sepp_gg_lbm_rar3150.qza \\\n",
    "  --p-metric 'shannon' \\\n",
    "  --o-alpha-diversity /projects/dna_extraction_12201/round_02_six_kit_comparison/data/16S/12_alpha_diversity/dna_bothPS_16S_deblur_biom_lod_noChl_noMit_sepp_gg_lbm_rar3150_alpha_shannon.qza\n",
    "\n",
    "qiime diversity alpha-phylogenetic \\\n",
    "  --i-table /projects/dna_extraction_12201/round_02_six_kit_comparison/data/16S/11_normalized_data/dna_bothPS_16S_deblur_biom_lod_noChl_noMit_sepp_gg_lbm_rar3150.qza \\\n",
    "  --p-metric 'faith_pd' \\\n",
    "  --i-phylogeny /projects/dna_extraction_12201/round_02_six_kit_comparison/data/16S/09_fragment_insertion/dna_all_16S_deblur_seqs_noChl_noMit_tree_gg.qza \\\n",
    "  --o-alpha-diversity /projects/dna_extraction_12201/round_02_six_kit_comparison/data/16S/12_alpha_diversity/dna_bothPS_16S_deblur_biom_lod_noChl_noMit_sepp_gg_lbm_rar3150_alpha_faithspd.qza\n"
   ]
  },
  {
   "cell_type": "markdown",
   "metadata": {},
   "source": [
    "# Beta-diversity"
   ]
  },
  {
   "cell_type": "markdown",
   "metadata": {},
   "source": [
    "## Generate distance matrices"
   ]
  },
  {
   "cell_type": "markdown",
   "metadata": {},
   "source": [
    "High-biomass"
   ]
  },
  {
   "cell_type": "code",
   "execution_count": null,
   "metadata": {},
   "outputs": [],
   "source": [
    "qiime diversity beta-phylogenetic \\\n",
    "  --i-table /projects/dna_extraction_12201/round_02_six_kit_comparison/data/16S/11_normalized_data/dna_all_16S_deblur_biom_lod_noChl_noMit_sepp_gg_noNTCs_noMock_hbm_rar13145.qza \\\n",
    "  --p-metric 'unweighted_unifrac' \\\n",
    "  --i-phylogeny /projects/dna_extraction_12201/round_02_six_kit_comparison/data/16S/09_fragment_insertion/dna_all_16S_deblur_seqs_noChl_noMit_tree_gg.qza \\\n",
    "  --o-distance-matrix /projects/dna_extraction_12201/round_02_six_kit_comparison/data/16S/13_beta_diversity/dna_all_16S_deblur_biom_lod_noChl_noMit_sepp_gg_noNTCs_noMock_hbm_rar13145_dist_unifrac.qza\n"
   ]
  },
  {
   "cell_type": "code",
   "execution_count": null,
   "metadata": {},
   "outputs": [],
   "source": [
    "qiime diversity beta-phylogenetic \\\n",
    "  --i-table /projects/dna_extraction_12201/round_02_six_kit_comparison/data/16S/11_normalized_data/dna_all_16S_deblur_biom_lod_noChl_noMit_sepp_gg_noNTCs_noMock_hbm_rar13145.qza \\\n",
    "  --p-metric 'weighted_unifrac' \\\n",
    "  --i-phylogeny /projects/dna_extraction_12201/round_02_six_kit_comparison/data/16S/09_fragment_insertion/dna_all_16S_deblur_seqs_noChl_noMit_tree_gg.qza \\\n",
    "  --o-distance-matrix /projects/dna_extraction_12201/round_02_six_kit_comparison/data/16S/13_beta_diversity/dna_all_16S_deblur_biom_lod_noChl_noMit_sepp_gg_noNTCs_noMock_hbm_rar13145_dist_wunifrac.qza\n"
   ]
  },
  {
   "cell_type": "markdown",
   "metadata": {},
   "source": [
    "Low-biomass"
   ]
  },
  {
   "cell_type": "code",
   "execution_count": null,
   "metadata": {},
   "outputs": [],
   "source": [
    "qiime diversity beta-phylogenetic \\\n",
    "  --i-table /projects/dna_extraction_12201/round_02_six_kit_comparison/data/16S/11_normalized_data/dna_all_16S_deblur_biom_lod_noChl_noMit_sepp_gg_noNTCs_noMock_lbm_rar4450.qza \\\n",
    "  --p-metric 'unweighted_unifrac' \\\n",
    "  --i-phylogeny /projects/dna_extraction_12201/round_02_six_kit_comparison/data/16S/09_fragment_insertion/dna_all_16S_deblur_seqs_noChl_noMit_tree_gg.qza \\\n",
    "  --o-distance-matrix /projects/dna_extraction_12201/round_02_six_kit_comparison/data/16S/13_beta_diversity/dna_all_16S_deblur_biom_lod_noChl_noMit_sepp_gg_noNTCs_noMock_lbm_rar4450_dist_unifrac.qza\n"
   ]
  },
  {
   "cell_type": "code",
   "execution_count": null,
   "metadata": {},
   "outputs": [],
   "source": [
    "qiime diversity beta-phylogenetic \\\n",
    "  --i-table /projects/dna_extraction_12201/round_02_six_kit_comparison/data/16S/11_normalized_data/dna_all_16S_deblur_biom_lod_noChl_noMit_sepp_gg_noNTCs_noMock_lbm_rar4450.qza \\\n",
    "  --p-metric 'weighted_unifrac' \\\n",
    "  --i-phylogeny /projects/dna_extraction_12201/round_02_six_kit_comparison/data/16S/09_fragment_insertion/dna_all_16S_deblur_seqs_noChl_noMit_tree_gg.qza \\\n",
    "  --o-distance-matrix /projects/dna_extraction_12201/round_02_six_kit_comparison/data/16S/13_beta_diversity/dna_all_16S_deblur_biom_lod_noChl_noMit_sepp_gg_noNTCs_noMock_lbm_rar4450_dist_wunifrac.qza\n"
   ]
  },
  {
   "cell_type": "markdown",
   "metadata": {},
   "source": [
    "## Perform PCoA"
   ]
  },
  {
   "cell_type": "markdown",
   "metadata": {},
   "source": [
    "High-biomass"
   ]
  },
  {
   "cell_type": "code",
   "execution_count": null,
   "metadata": {},
   "outputs": [],
   "source": [
    "qiime diversity pcoa \\\n",
    "  --i-distance-matrix /projects/dna_extraction_12201/round_02_six_kit_comparison/data/16S/13_beta_diversity/dna_all_16S_deblur_biom_lod_noChl_noMit_sepp_gg_noNTCs_noMock_hbm_rar13145_dist_unifrac.qza \\\n",
    "  --o-pcoa /projects/dna_extraction_12201/round_02_six_kit_comparison/data/16S/13_beta_diversity/dna_all_16S_deblur_biom_lod_noChl_noMit_sepp_gg_noNTCs_noMock_hbm_rar13145_pcoa_unifrac.qza\n",
    "\n",
    "qiime diversity pcoa \\\n",
    "  --i-distance-matrix /projects/dna_extraction_12201/round_02_six_kit_comparison/data/16S/13_beta_diversity/dna_all_16S_deblur_biom_lod_noChl_noMit_sepp_gg_noNTCs_noMock_hbm_rar13145_dist_wunifrac.qza \\\n",
    "  --o-pcoa /projects/dna_extraction_12201/round_02_six_kit_comparison/data/16S/13_beta_diversity/dna_all_16S_deblur_biom_lod_noChl_noMit_sepp_gg_noNTCs_noMock_hbm_rar13145_pcoa_wunifrac.qza\n"
   ]
  },
  {
   "cell_type": "markdown",
   "metadata": {},
   "source": [
    "Low-biomass"
   ]
  },
  {
   "cell_type": "code",
   "execution_count": null,
   "metadata": {},
   "outputs": [],
   "source": [
    "qiime diversity pcoa \\\n",
    "  --i-distance-matrix /projects/dna_extraction_12201/round_02_six_kit_comparison/data/16S/13_beta_diversity/dna_all_16S_deblur_biom_lod_noChl_noMit_sepp_gg_noNTCs_noMock_lbm_rar4450_dist_unifrac.qza \\\n",
    "  --o-pcoa /projects/dna_extraction_12201/round_02_six_kit_comparison/data/16S/13_beta_diversity/dna_all_16S_deblur_biom_lod_noChl_noMit_sepp_gg_noNTCs_noMock_lbm_rar4450_pcoa_unifrac.qza\n",
    "\n",
    "qiime diversity pcoa \\\n",
    "  --i-distance-matrix /projects/dna_extraction_12201/round_02_six_kit_comparison/data/16S/13_beta_diversity/dna_all_16S_deblur_biom_lod_noChl_noMit_sepp_gg_noNTCs_noMock_lbm_rar4450_dist_wunifrac.qza \\\n",
    "  --o-pcoa /projects/dna_extraction_12201/round_02_six_kit_comparison/data/16S/13_beta_diversity/dna_all_16S_deblur_biom_lod_noChl_noMit_sepp_gg_noNTCs_noMock_lbm_rar4450_pcoa_wunifrac.qza\n"
   ]
  },
  {
   "cell_type": "markdown",
   "metadata": {},
   "source": [
    "## Plot PCoA"
   ]
  },
  {
   "cell_type": "markdown",
   "metadata": {},
   "source": [
    "High-biomass"
   ]
  },
  {
   "cell_type": "code",
   "execution_count": null,
   "metadata": {},
   "outputs": [],
   "source": [
    "qiime emperor plot \\\n",
    "  --i-pcoa /projects/dna_extraction_12201/round_02_six_kit_comparison/data/16S/13_beta_diversity/dna_all_16S_deblur_biom_lod_noChl_noMit_sepp_gg_noNTCs_noMock_hbm_rar13145_pcoa_unifrac.qza \\\n",
    "  --m-metadata-file /projects/dna_extraction_12201/round_02_six_kit_comparison/sample_metadata/12201_metadata.txt \\\n",
    "  --o-visualization /projects/dna_extraction_12201/round_02_six_kit_comparison/data/16S/13_beta_diversity/dna_all_16S_deblur_biom_lod_noChl_noMit_sepp_gg_noNTCs_noMock_hbm_rar13145_pcoa_unifrac.qzv\n",
    "\n",
    "qiime emperor plot \\\n",
    "  --i-pcoa /projects/dna_extraction_12201/round_02_six_kit_comparison/data/16S/13_beta_diversity/dna_all_16S_deblur_biom_lod_noChl_noMit_sepp_gg_noNTCs_noMock_hbm_rar13145_pcoa_wunifrac.qza \\\n",
    "  --m-metadata-file /projects/dna_extraction_12201/round_02_six_kit_comparison/sample_metadata/12201_metadata.txt \\\n",
    "  --o-visualization /projects/dna_extraction_12201/round_02_six_kit_comparison/data/16S/13_beta_diversity/dna_all_16S_deblur_biom_lod_noChl_noMit_sepp_gg_noNTCs_noMock_hbm_rar13145_pcoa_wunifrac.qzv\n"
   ]
  },
  {
   "cell_type": "markdown",
   "metadata": {},
   "source": [
    "Low-biomass"
   ]
  },
  {
   "cell_type": "code",
   "execution_count": null,
   "metadata": {},
   "outputs": [],
   "source": [
    "qiime emperor plot \\\n",
    "  --i-pcoa /projects/dna_extraction_12201/round_02_six_kit_comparison/data/16S/13_beta_diversity/dna_all_16S_deblur_biom_lod_noChl_noMit_sepp_gg_noNTCs_noMock_lbm_rar4450_pcoa_unifrac.qza \\\n",
    "  --m-metadata-file /projects/dna_extraction_12201/round_02_six_kit_comparison/sample_metadata/12201_metadata.txt \\\n",
    "  --o-visualization /projects/dna_extraction_12201/round_02_six_kit_comparison/data/16S/13_beta_diversity/dna_all_16S_deblur_biom_lod_noChl_noMit_sepp_gg_noNTCs_noMock_lbm_rar4450_pcoa_unifrac.qzv\n",
    "\n",
    "qiime emperor plot \\\n",
    "  --i-pcoa /projects/dna_extraction_12201/round_02_six_kit_comparison/data/16S/13_beta_diversity/dna_all_16S_deblur_biom_lod_noChl_noMit_sepp_gg_noNTCs_noMock_lbm_rar4450_pcoa_wunifrac.qza \\\n",
    "  --m-metadata-file /projects/dna_extraction_12201/round_02_six_kit_comparison/sample_metadata/12201_metadata.txt \\\n",
    "  --o-visualization /projects/dna_extraction_12201/round_02_six_kit_comparison/data/16S/13_beta_diversity/dna_all_16S_deblur_biom_lod_noChl_noMit_sepp_gg_noNTCs_noMock_lbm_rar4450_pcoa_wunifrac.qzv\n"
   ]
  },
  {
   "cell_type": "markdown",
   "metadata": {},
   "source": [
    "## Perform RPCA"
   ]
  },
  {
   "cell_type": "markdown",
   "metadata": {},
   "source": [
    "High-biomass"
   ]
  },
  {
   "cell_type": "code",
   "execution_count": null,
   "metadata": {},
   "outputs": [],
   "source": [
    "qiime deicode rpca \\\n",
    "  --i-table /projects/dna_extraction_12201/round_02_six_kit_comparison/data/16S/11_normalized_data/dna_all_16S_deblur_biom_lod_noChl_noMit_sepp_gg_noNTCs_noMock_hbm_min13145.qza \\\n",
    "  --p-min-feature-count 0 \\\n",
    "  --p-min-sample-count 0 \\\n",
    "  --p-min-feature-frequency 10 \\\n",
    "  --o-biplot /projects/dna_extraction_12201/round_02_six_kit_comparison/data/16S/13_beta_diversity/dna_all_16S_deblur_biom_lod_noChl_noMit_sepp_gg_noNTCs_noMock_hbm_min13145_rpca_biplot.qza \\\n",
    "  --o-distance-matrix /projects/dna_extraction_12201/round_02_six_kit_comparison/data/16S/13_beta_diversity/dna_all_16S_deblur_biom_lod_noChl_noMit_sepp_gg_noNTCs_noMock_hbm_min13145_rpca_dist.qza \\\n",
    "  --verbose\n",
    "\n",
    "qiime emperor biplot \\\n",
    "  --i-biplot /projects/dna_extraction_12201/round_02_six_kit_comparison/data/16S/13_beta_diversity/dna_all_16S_deblur_biom_lod_noChl_noMit_sepp_gg_noNTCs_noMock_hbm_min13145_rpca_biplot.qza \\\n",
    "  --m-sample-metadata-file /projects/dna_extraction_12201/round_02_six_kit_comparison/sample_metadata/12201_metadata.txt \\\n",
    "  --m-feature-metadata-file /projects/dna_extraction_12201/round_02_six_kit_comparison/data/16S/06_taxonomy/dna_all_16S_deblur_seqs_taxonomy_silva138.qza \\\n",
    "  --p-number-of-features 10 \\\n",
    "  --o-visualization /projects/dna_extraction_12201/round_02_six_kit_comparison/data/16S/13_beta_diversity/dna_all_16S_deblur_biom_lod_noChl_noMit_sepp_gg_noNTCs_noMock_hbm_min13145_rpca_biplot.qzv\n"
   ]
  },
  {
   "cell_type": "markdown",
   "metadata": {},
   "source": [
    "Low-biomass"
   ]
  },
  {
   "cell_type": "code",
   "execution_count": null,
   "metadata": {},
   "outputs": [],
   "source": [
    "qiime deicode rpca \\\n",
    "  --i-table /projects/dna_extraction_12201/round_02_six_kit_comparison/data/16S/11_normalized_data/dna_all_16S_deblur_biom_lod_noChl_noMit_sepp_gg_noNTCs_noMock_lbm_min4450.qza \\\n",
    "  --p-min-feature-count 0 \\\n",
    "  --p-min-sample-count 0 \\\n",
    "  --p-min-feature-frequency 10 \\\n",
    "  --o-biplot /projects/dna_extraction_12201/round_02_six_kit_comparison/data/16S/13_beta_diversity/dna_all_16S_deblur_biom_lod_noChl_noMit_sepp_gg_noNTCs_noMock_lbm_min4450_rpca_biplot.qza \\\n",
    "  --o-distance-matrix /projects/dna_extraction_12201/round_02_six_kit_comparison/data/16S/13_beta_diversity/dna_all_16S_deblur_biom_lod_noChl_noMit_sepp_gg_noNTCs_noMock_lbm_min4450_rpca_dist.qza \\\n",
    "  --verbose\n",
    "\n",
    "qiime emperor biplot \\\n",
    "  --i-biplot /projects/dna_extraction_12201/round_02_six_kit_comparison/data/16S/13_beta_diversity/dna_all_16S_deblur_biom_lod_noChl_noMit_sepp_gg_noNTCs_noMock_lbm_min4450_rpca_biplot.qza \\\n",
    "  --m-sample-metadata-file /projects/dna_extraction_12201/round_02_six_kit_comparison/sample_metadata/12201_metadata.txt \\\n",
    "  --m-feature-metadata-file /projects/dna_extraction_12201/round_02_six_kit_comparison/data/16S/06_taxonomy/dna_all_16S_deblur_seqs_taxonomy_silva138.qza \\\n",
    "  --p-number-of-features 10 \\\n",
    "  --o-visualization /projects/dna_extraction_12201/round_02_six_kit_comparison/data/16S/13_beta_diversity/dna_all_16S_deblur_biom_lod_noChl_noMit_sepp_gg_noNTCs_noMock_lbm_min4450_rpca_biplot.qzv\n"
   ]
  },
  {
   "cell_type": "code",
   "execution_count": null,
   "metadata": {},
   "outputs": [],
   "source": []
  }
 ],
 "metadata": {
  "kernelspec": {
   "display_name": "Python 3",
   "language": "python",
   "name": "python3"
  },
  "language_info": {
   "codemirror_mode": {
    "name": "ipython",
    "version": 3
   },
   "file_extension": ".py",
   "mimetype": "text/x-python",
   "name": "python",
   "nbconvert_exporter": "python",
   "pygments_lexer": "ipython3",
   "version": "3.8.5"
  }
 },
 "nbformat": 4,
 "nbformat_minor": 4
}
