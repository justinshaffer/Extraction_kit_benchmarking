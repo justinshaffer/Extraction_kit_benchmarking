{
 "cells": [
  {
   "cell_type": "markdown",
   "metadata": {},
   "source": [
    "# Import tools - use qiime2-2021.11 kernel"
   ]
  },
  {
   "cell_type": "code",
   "execution_count": 1,
   "metadata": {},
   "outputs": [],
   "source": [
    "import pandas as pd\n",
    "%matplotlib inline\n",
    "import qiime2\n",
    "from qiime2 import Artifact\n",
    "from tempfile import mkdtemp\n",
    "from qiime2.plugins import demux, deblur, quality_filter, \\\n",
    "                           metadata, feature_table, alignment, \\\n",
    "                           phylogeny, diversity, emperor, feature_classifier, \\\n",
    "                           taxa, composition\n",
    "from qiime2.plugins import fragment_insertion\n",
    "from qiime2.plugins.fragment_insertion.methods import filter_features\n",
    "from qiime2.plugins.feature_table.methods import filter_samples\n",
    "from qiime2.plugins.feature_table.visualizers import summarize\n",
    "import seaborn as sns\n",
    "import matplotlib.pyplot as plt\n",
    "import numpy as np\n",
    "import pylab\n",
    "from scipy.optimize import curve_fit\n"
   ]
  },
  {
   "cell_type": "markdown",
   "metadata": {},
   "source": [
    "## Filter feature-table to generate per-extraction plate tables (Barnacle)"
   ]
  },
  {
   "cell_type": "code",
   "execution_count": 5,
   "metadata": {},
   "outputs": [],
   "source": [
    "md = pd.read_csv('/Users/Justin/Mycelium/UCSD/00_Knight_Lab/03_Extraction_test_12201/round_02/sample_metadata/12201_metadata.txt',\n",
    "                sep = '\\t')\n"
   ]
  },
  {
   "cell_type": "code",
   "execution_count": 6,
   "metadata": {},
   "outputs": [
    {
     "data": {
      "text/plain": [
       "round  extraction_kit   \n",
       "1      Homebrew             192\n",
       "       MagMax Beta          192\n",
       "       Norgen               192\n",
       "       PowerSoil            207\n",
       "       PowerSoil Pro        192\n",
       "       Zymo MagBead         192\n",
       "2      MagMAX Microbiome    192\n",
       "       NucleoMag Food       192\n",
       "       PowerSoil            192\n",
       "       Zymo MagBead         192\n",
       "3      MagMAX Microbiome    576\n",
       "       PowerSoil            288\n",
       "dtype: int64"
      ]
     },
     "execution_count": 6,
     "metadata": {},
     "output_type": "execute_result"
    }
   ],
   "source": [
    "md.groupby(['round', 'extraction_kit']).size()\n"
   ]
  },
  {
   "cell_type": "code",
   "execution_count": null,
   "metadata": {},
   "outputs": [],
   "source": [
    "# Round 1 - Homebrew - high biomass\n",
    "qiime feature-table filter-samples \\\n",
    "  --i-table /projects/dna_extraction_12201/round_02_six_kit_comparison/data/ITS/05_merged_data/dna_all_ITS_deblur_biom.qza \\\n",
    "  --m-metadata-file /projects/dna_extraction_12201/round_02_six_kit_comparison/sample_metadata/12201_metadata.txt \\\n",
    "  --p-where \"extraction_kit = 'Homebrew' AND biomass_plate = 'high'\" \\\n",
    "  --o-filtered-table /projects/dna_extraction_12201/round_02_six_kit_comparison/data/ITS/07_lod/dna_all_ITS_deblur_biom_r1_homebrew_high.qza\n",
    "\n",
    "qiime feature-table summarize \\\n",
    "  --i-table /projects/dna_extraction_12201/round_02_six_kit_comparison/data/ITS/07_lod/dna_all_ITS_deblur_biom_r1_homebrew_high.qza \\\n",
    "  --o-visualization /projects/dna_extraction_12201/round_02_six_kit_comparison/data/ITS/07_lod/dna_all_ITS_deblur_biom_r1_homebrew_high.qzv\n",
    "\n",
    "# Round 1 - Homebrew - low biomass\n",
    "qiime feature-table filter-samples \\\n",
    "  --i-table /projects/dna_extraction_12201/round_02_six_kit_comparison/data/ITS/05_merged_data/dna_all_ITS_deblur_biom.qza \\\n",
    "  --m-metadata-file /projects/dna_extraction_12201/round_02_six_kit_comparison/sample_metadata/12201_metadata.txt \\\n",
    "  --p-where \"extraction_kit = 'Homebrew' AND biomass_plate = 'low'\" \\\n",
    "  --o-filtered-table /projects/dna_extraction_12201/round_02_six_kit_comparison/data/ITS/07_lod/dna_all_ITS_deblur_biom_r1_homebrew_low.qza\n",
    "\n",
    "qiime feature-table summarize \\\n",
    "  --i-table /projects/dna_extraction_12201/round_02_six_kit_comparison/data/ITS/07_lod/dna_all_ITS_deblur_biom_r1_homebrew_low.qza \\\n",
    "  --o-visualization /projects/dna_extraction_12201/round_02_six_kit_comparison/data/ITS/07_lod/dna_all_ITS_deblur_biom_r1_homebrew_low.qzv\n",
    "\n",
    "\n",
    "# Round 1 - MagMAX Beta - high biomass\n",
    "qiime feature-table filter-samples \\\n",
    "  --i-table /projects/dna_extraction_12201/round_02_six_kit_comparison/data/ITS/05_merged_data/dna_all_ITS_deblur_biom.qza \\\n",
    "  --m-metadata-file /projects/dna_extraction_12201/round_02_six_kit_comparison/sample_metadata/12201_metadata.txt \\\n",
    "  --p-where \"extraction_kit = 'MagMax Beta' AND biomass_plate = 'high'\" \\\n",
    "  --o-filtered-table /projects/dna_extraction_12201/round_02_six_kit_comparison/data/ITS/07_lod/dna_all_ITS_deblur_biom_r1_magmaxBeta_high.qza\n",
    "\n",
    "qiime feature-table summarize \\\n",
    "  --i-table /projects/dna_extraction_12201/round_02_six_kit_comparison/data/ITS/07_lod/dna_all_ITS_deblur_biom_r1_magmaxBeta_high.qza \\\n",
    "  --o-visualization /projects/dna_extraction_12201/round_02_six_kit_comparison/data/ITS/07_lod/dna_all_ITS_deblur_biom_r1_magmaxBeta_high.qzv\n",
    "\n",
    "# Round 1 - MagMAX Beta - low biomass\n",
    "qiime feature-table filter-samples \\\n",
    "  --i-table /projects/dna_extraction_12201/round_02_six_kit_comparison/data/ITS/05_merged_data/dna_all_ITS_deblur_biom.qza \\\n",
    "  --m-metadata-file /projects/dna_extraction_12201/round_02_six_kit_comparison/sample_metadata/12201_metadata.txt \\\n",
    "  --p-where \"extraction_kit = 'MagMax Beta' AND biomass_plate = 'low'\" \\\n",
    "  --o-filtered-table /projects/dna_extraction_12201/round_02_six_kit_comparison/data/ITS/07_lod/dna_all_ITS_deblur_biom_r1_magmaxBeta_low.qza\n",
    "\n",
    "qiime feature-table summarize \\\n",
    "  --i-table /projects/dna_extraction_12201/round_02_six_kit_comparison/data/ITS/07_lod/dna_all_ITS_deblur_biom_r1_magmaxBeta_low.qza \\\n",
    "  --o-visualization /projects/dna_extraction_12201/round_02_six_kit_comparison/data/ITS/07_lod/dna_all_ITS_deblur_biom_r1_magmaxBeta_low.qzv\n",
    "\n",
    "\n",
    "# Round 1 - Norgen - high biomass\n",
    "qiime feature-table filter-samples \\\n",
    "  --i-table /projects/dna_extraction_12201/round_02_six_kit_comparison/data/ITS/05_merged_data/dna_all_ITS_deblur_biom.qza \\\n",
    "  --m-metadata-file /projects/dna_extraction_12201/round_02_six_kit_comparison/sample_metadata/12201_metadata.txt \\\n",
    "  --p-where \"extraction_kit = 'Norgen' AND biomass_plate = 'high'\" \\\n",
    "  --o-filtered-table /projects/dna_extraction_12201/round_02_six_kit_comparison/data/ITS/07_lod/dna_all_ITS_deblur_biom_r1_norgen_high.qza\n",
    "\n",
    "qiime feature-table summarize \\\n",
    "  --i-table /projects/dna_extraction_12201/round_02_six_kit_comparison/data/ITS/07_lod/dna_all_ITS_deblur_biom_r1_norgen_high.qza \\\n",
    "  --o-visualization /projects/dna_extraction_12201/round_02_six_kit_comparison/data/ITS/07_lod/dna_all_ITS_deblur_biom_r1_norgen_high.qzv\n",
    "\n",
    "# Round 1 - Norgen - low biomass\n",
    "qiime feature-table filter-samples \\\n",
    "  --i-table /projects/dna_extraction_12201/round_02_six_kit_comparison/data/ITS/05_merged_data/dna_all_ITS_deblur_biom.qza \\\n",
    "  --m-metadata-file /projects/dna_extraction_12201/round_02_six_kit_comparison/sample_metadata/12201_metadata.txt \\\n",
    "  --p-where \"extraction_kit = 'Norgen' AND biomass_plate = 'low'\" \\\n",
    "  --o-filtered-table /projects/dna_extraction_12201/round_02_six_kit_comparison/data/ITS/07_lod/dna_all_ITS_deblur_biom_r1_norgen_low.qza\n",
    "\n",
    "qiime feature-table summarize \\\n",
    "  --i-table /projects/dna_extraction_12201/round_02_six_kit_comparison/data/ITS/07_lod/dna_all_ITS_deblur_biom_r1_norgen_low.qza \\\n",
    "  --o-visualization /projects/dna_extraction_12201/round_02_six_kit_comparison/data/ITS/07_lod/dna_all_ITS_deblur_biom_r1_norgen_low.qzv\n",
    "\n",
    "\n",
    "# Round 1 - PowerSoil - high biomass\n",
    "qiime feature-table filter-samples \\\n",
    "  --i-table /projects/dna_extraction_12201/round_02_six_kit_comparison/data/ITS/05_merged_data/dna_all_ITS_deblur_biom.qza \\\n",
    "  --m-metadata-file /projects/dna_extraction_12201/round_02_six_kit_comparison/sample_metadata/12201_metadata.txt \\\n",
    "  --p-where \"round = '1' AND extraction_kit = 'PowerSoil' AND biomass_plate = 'high'\" \\\n",
    "  --o-filtered-table /projects/dna_extraction_12201/round_02_six_kit_comparison/data/ITS/07_lod/dna_all_ITS_deblur_biom_r1_powersoil_high.qza\n",
    "\n",
    "qiime feature-table summarize \\\n",
    "  --i-table /projects/dna_extraction_12201/round_02_six_kit_comparison/data/ITS/07_lod/dna_all_ITS_deblur_biom_r1_powersoil_high.qza \\\n",
    "  --o-visualization /projects/dna_extraction_12201/round_02_six_kit_comparison/data/ITS/07_lod/dna_all_ITS_deblur_biom_r1_powersoil_high.qzv\n",
    "\n",
    "# Round 1 - PowerSoil - low biomass\n",
    "qiime feature-table filter-samples \\\n",
    "  --i-table /projects/dna_extraction_12201/round_02_six_kit_comparison/data/ITS/05_merged_data/dna_all_ITS_deblur_biom.qza \\\n",
    "  --m-metadata-file /projects/dna_extraction_12201/round_02_six_kit_comparison/sample_metadata/12201_metadata.txt \\\n",
    "  --p-where \"round = '1' AND extraction_kit = 'PowerSoil' AND biomass_plate = 'low'\" \\\n",
    "  --o-filtered-table /projects/dna_extraction_12201/round_02_six_kit_comparison/data/ITS/07_lod/dna_all_ITS_deblur_biom_r1_powersoil_low.qza\n",
    "\n",
    "qiime feature-table summarize \\\n",
    "  --i-table /projects/dna_extraction_12201/round_02_six_kit_comparison/data/ITS/07_lod/dna_all_ITS_deblur_biom_r1_powersoil_low.qza \\\n",
    "  --o-visualization /projects/dna_extraction_12201/round_02_six_kit_comparison/data/ITS/07_lod/dna_all_ITS_deblur_biom_r1_powersoil_low.qzv\n",
    "\n",
    "\n",
    "# Round 1 - PowerSoil Pro - high biomass\n",
    "qiime feature-table filter-samples \\\n",
    "  --i-table /projects/dna_extraction_12201/round_02_six_kit_comparison/data/ITS/05_merged_data/dna_all_ITS_deblur_biom.qza \\\n",
    "  --m-metadata-file /projects/dna_extraction_12201/round_02_six_kit_comparison/sample_metadata/12201_metadata.txt \\\n",
    "  --p-where \"extraction_kit = 'PowerSoil Pro' AND biomass_plate = 'high'\" \\\n",
    "  --o-filtered-table /projects/dna_extraction_12201/round_02_six_kit_comparison/data/ITS/07_lod/dna_all_ITS_deblur_biom_r1_pro_high.qza\n",
    "\n",
    "qiime feature-table summarize \\\n",
    "  --i-table /projects/dna_extraction_12201/round_02_six_kit_comparison/data/ITS/07_lod/dna_all_ITS_deblur_biom_r1_pro_high.qza \\\n",
    "  --o-visualization /projects/dna_extraction_12201/round_02_six_kit_comparison/data/ITS/07_lod/dna_all_ITS_deblur_biom_r1_pro_high.qzv\n",
    "\n",
    "# Round 1 - PowerSoil Pro - low biomass\n",
    "qiime feature-table filter-samples \\\n",
    "  --i-table /projects/dna_extraction_12201/round_02_six_kit_comparison/data/ITS/05_merged_data/dna_all_ITS_deblur_biom.qza \\\n",
    "  --m-metadata-file /projects/dna_extraction_12201/round_02_six_kit_comparison/sample_metadata/12201_metadata.txt \\\n",
    "  --p-where \"extraction_kit = 'PowerSoil Pro' AND biomass_plate = 'low'\" \\\n",
    "  --o-filtered-table /projects/dna_extraction_12201/round_02_six_kit_comparison/data/ITS/07_lod/dna_all_ITS_deblur_biom_r1_pro_low.qza\n",
    "\n",
    "qiime feature-table summarize \\\n",
    "  --i-table /projects/dna_extraction_12201/round_02_six_kit_comparison/data/ITS/07_lod/dna_all_ITS_deblur_biom_r1_pro_low.qza \\\n",
    "  --o-visualization /projects/dna_extraction_12201/round_02_six_kit_comparison/data/ITS/07_lod/dna_all_ITS_deblur_biom_r1_pro_low.qzv\n",
    "\n",
    "\n",
    "# Round 2 - MagMAX Microbiome - high biomass\n",
    "qiime feature-table filter-samples \\\n",
    "  --i-table /projects/dna_extraction_12201/round_02_six_kit_comparison/data/ITS/05_merged_data/dna_all_ITS_deblur_biom.qza \\\n",
    "  --m-metadata-file /projects/dna_extraction_12201/round_02_six_kit_comparison/sample_metadata/12201_metadata.txt \\\n",
    "  --p-where \"extraction_kit = 'MagMAX Microbiome' AND biomass_plate = 'high'\" \\\n",
    "  --o-filtered-table /projects/dna_extraction_12201/round_02_six_kit_comparison/data/ITS/07_lod/dna_all_ITS_deblur_biom_r2_magmax_high.qza\n",
    "\n",
    "qiime feature-table summarize \\\n",
    "  --i-table /projects/dna_extraction_12201/round_02_six_kit_comparison/data/ITS/07_lod/dna_all_ITS_deblur_biom_r2_magmax_high.qza \\\n",
    "  --o-visualization /projects/dna_extraction_12201/round_02_six_kit_comparison/data/ITS/07_lod/dna_all_ITS_deblur_biom_r2_magmax_high.qzv\n",
    "\n",
    "# Round 2 - MagMAX Microbiome - low biomass\n",
    "qiime feature-table filter-samples \\\n",
    "  --i-table /projects/dna_extraction_12201/round_02_six_kit_comparison/data/ITS/05_merged_data/dna_all_ITS_deblur_biom.qza \\\n",
    "  --m-metadata-file /projects/dna_extraction_12201/round_02_six_kit_comparison/sample_metadata/12201_metadata.txt \\\n",
    "  --p-where \"extraction_kit = 'MagMAX Microbiome' AND biomass_plate = 'low'\" \\\n",
    "  --o-filtered-table /projects/dna_extraction_12201/round_02_six_kit_comparison/data/ITS/07_lod/dna_all_ITS_deblur_biom_r2_magmax_low.qza\n",
    "\n",
    "qiime feature-table summarize \\\n",
    "  --i-table /projects/dna_extraction_12201/round_02_six_kit_comparison/data/ITS/07_lod/dna_all_ITS_deblur_biom_r2_magmax_low.qza \\\n",
    "  --o-visualization /projects/dna_extraction_12201/round_02_six_kit_comparison/data/ITS/07_lod/dna_all_ITS_deblur_biom_r2_magmax_low.qzv\n",
    "\n",
    "\n",
    "# Round 2 - Nucleomag Food - high biomass\n",
    "qiime feature-table filter-samples \\\n",
    "  --i-table /projects/dna_extraction_12201/round_02_six_kit_comparison/data/ITS/05_merged_data/dna_all_ITS_deblur_biom.qza \\\n",
    "  --m-metadata-file /projects/dna_extraction_12201/round_02_six_kit_comparison/sample_metadata/12201_metadata.txt \\\n",
    "  --p-where \"extraction_kit = 'NucleoMag Food' AND biomass_plate = 'high'\" \\\n",
    "  --o-filtered-table /projects/dna_extraction_12201/round_02_six_kit_comparison/data/ITS/07_lod/dna_all_ITS_deblur_biom_r2_nucleomag_high.qza\n",
    "\n",
    "qiime feature-table summarize \\\n",
    "  --i-table /projects/dna_extraction_12201/round_02_six_kit_comparison/data/ITS/07_lod/dna_all_ITS_deblur_biom_r2_nucleomag_high.qza \\\n",
    "  --o-visualization /projects/dna_extraction_12201/round_02_six_kit_comparison/data/ITS/07_lod/dna_all_ITS_deblur_biom_r2_nucleomag_high.qzv\n",
    "\n",
    "# Round 2 - Nucleomag Food - low biomass\n",
    "qiime feature-table filter-samples \\\n",
    "  --i-table /projects/dna_extraction_12201/round_02_six_kit_comparison/data/ITS/05_merged_data/dna_all_ITS_deblur_biom.qza \\\n",
    "  --m-metadata-file /projects/dna_extraction_12201/round_02_six_kit_comparison/sample_metadata/12201_metadata.txt \\\n",
    "  --p-where \"extraction_kit = 'NucleoMag Food' AND biomass_plate = 'low'\" \\\n",
    "  --o-filtered-table /projects/dna_extraction_12201/round_02_six_kit_comparison/data/ITS/07_lod/dna_all_ITS_deblur_biom_r2_nucleomag_low.qza\n",
    "\n",
    "qiime feature-table summarize \\\n",
    "  --i-table /projects/dna_extraction_12201/round_02_six_kit_comparison/data/ITS/07_lod/dna_all_ITS_deblur_biom_r2_nucleomag_low.qza \\\n",
    "  --o-visualization /projects/dna_extraction_12201/round_02_six_kit_comparison/data/ITS/07_lod/dna_all_ITS_deblur_biom_r2_nucleomag_low.qzv\n",
    "\n",
    "\n",
    "# Round 2 - PowerSoil - high biomass\n",
    "qiime feature-table filter-samples \\\n",
    "  --i-table /projects/dna_extraction_12201/round_02_six_kit_comparison/data/ITS/05_merged_data/dna_all_ITS_deblur_biom.qza \\\n",
    "  --m-metadata-file /projects/dna_extraction_12201/round_02_six_kit_comparison/sample_metadata/12201_metadata.txt \\\n",
    "  --p-where \"round = '2' AND extraction_kit = 'PowerSoil' AND biomass_plate = 'high'\" \\\n",
    "  --o-filtered-table /projects/dna_extraction_12201/round_02_six_kit_comparison/data/ITS/07_lod/dna_all_ITS_deblur_biom_r2_powersoil_high.qza\n",
    "\n",
    "qiime feature-table summarize \\\n",
    "  --i-table /projects/dna_extraction_12201/round_02_six_kit_comparison/data/ITS/07_lod/dna_all_ITS_deblur_biom_r2_powersoil_high.qza \\\n",
    "  --o-visualization /projects/dna_extraction_12201/round_02_six_kit_comparison/data/ITS/07_lod/dna_all_ITS_deblur_biom_r2_powersoil_high.qzv\n",
    "\n",
    "# Round 2 - PowerSoil - low biomass\n",
    "qiime feature-table filter-samples \\\n",
    "  --i-table /projects/dna_extraction_12201/round_02_six_kit_comparison/data/ITS/05_merged_data/dna_all_ITS_deblur_biom.qza \\\n",
    "  --m-metadata-file /projects/dna_extraction_12201/round_02_six_kit_comparison/sample_metadata/12201_metadata.txt \\\n",
    "  --p-where \"round = '2' AND extraction_kit = 'PowerSoil' AND biomass_plate = 'low'\" \\\n",
    "  --o-filtered-table /projects/dna_extraction_12201/round_02_six_kit_comparison/data/ITS/07_lod/dna_all_ITS_deblur_biom_r2_powersoil_low.qza\n",
    "\n",
    "qiime feature-table summarize \\\n",
    "  --i-table /projects/dna_extraction_12201/round_02_six_kit_comparison/data/ITS/07_lod/dna_all_ITS_deblur_biom_r2_powersoil_low.qza \\\n",
    "  --o-visualization /projects/dna_extraction_12201/round_02_six_kit_comparison/data/ITS/07_lod/dna_all_ITS_deblur_biom_r2_powersoil_low.qzv\n",
    "\n",
    "\n",
    "# Round 2 - Zymo MagBead - high biomass\n",
    "qiime feature-table filter-samples \\\n",
    "  --i-table /projects/dna_extraction_12201/round_02_six_kit_comparison/data/ITS/05_merged_data/dna_all_ITS_deblur_biom.qza \\\n",
    "  --m-metadata-file /projects/dna_extraction_12201/round_02_six_kit_comparison/sample_metadata/12201_metadata.txt \\\n",
    "  --p-where \"extraction_kit = 'Zymo MagBead' AND biomass_plate = 'high'\" \\\n",
    "  --o-filtered-table /projects/dna_extraction_12201/round_02_six_kit_comparison/data/ITS/07_lod/dna_all_ITS_deblur_biom_r2_zymo_high.qza\n",
    "\n",
    "qiime feature-table summarize \\\n",
    "  --i-table /projects/dna_extraction_12201/round_02_six_kit_comparison/data/ITS/07_lod/dna_all_ITS_deblur_biom_r2_zymo_high.qza \\\n",
    "  --o-visualization /projects/dna_extraction_12201/round_02_six_kit_comparison/data/ITS/07_lod/dna_all_ITS_deblur_biom_r2_zymo_high.qzv\n",
    "\n",
    "# Round 2 - Zymo MagBead - low biomass\n",
    "qiime feature-table filter-samples \\\n",
    "  --i-table /projects/dna_extraction_12201/round_02_six_kit_comparison/data/ITS/05_merged_data/dna_all_ITS_deblur_biom.qza \\\n",
    "  --m-metadata-file /projects/dna_extraction_12201/round_02_six_kit_comparison/sample_metadata/12201_metadata.txt \\\n",
    "  --p-where \"extraction_kit = 'Zymo MagBead' AND biomass_plate = 'low'\" \\\n",
    "  --o-filtered-table /projects/dna_extraction_12201/round_02_six_kit_comparison/data/ITS/07_lod/dna_all_ITS_deblur_biom_r2_zymo_low.qza\n",
    "\n",
    "qiime feature-table summarize \\\n",
    "  --i-table /projects/dna_extraction_12201/round_02_six_kit_comparison/data/ITS/07_lod/dna_all_ITS_deblur_biom_r2_zymo_low.qza \\\n",
    "  --o-visualization /projects/dna_extraction_12201/round_02_six_kit_comparison/data/ITS/07_lod/dna_all_ITS_deblur_biom_r2_zymo_low.qzv\n"
   ]
  },
  {
   "cell_type": "markdown",
   "metadata": {},
   "source": [
    "## Perform Katharoseq analysis (Local)"
   ]
  },
  {
   "cell_type": "code",
   "execution_count": 3,
   "metadata": {
    "scrolled": true
   },
   "outputs": [
    {
     "name": "stdout",
     "output_type": "stream",
     "text": [
      "/Users/Justin/Mycelium/UCSD/00_Knight_Lab/03_Extraction_test_12201/round_02/data/ITS/07_lod\n"
     ]
    }
   ],
   "source": [
    "cd \"/Users/Justin/Mycelium/UCSD/00_Knight_Lab/03_Extraction_test_12201/round_02/data/ITS/07_lod/\"\n"
   ]
  },
  {
   "cell_type": "code",
   "execution_count": 5,
   "metadata": {},
   "outputs": [],
   "source": [
    "# Import feature tables and taxonomy file\n",
    "table_r1_homebrew_high = Artifact.load('dna_all_ITS_deblur_biom_r1_homebrew_high.qza')\n",
    "table_r1_homebrew_low = Artifact.load('dna_all_ITS_deblur_biom_r1_homebrew_low.qza')\n",
    "\n",
    "table_r1_magmaxBeta_high = Artifact.load('dna_all_ITS_deblur_biom_r1_magmaxBeta_high.qza')\n",
    "table_r1_magmaxBeta_low = Artifact.load('dna_all_ITS_deblur_biom_r1_magmaxBeta_low.qza')\n",
    "\n",
    "table_r1_norgen_high = Artifact.load('dna_all_ITS_deblur_biom_r1_norgen_high.qza')\n",
    "table_r1_norgen_low = Artifact.load('dna_all_ITS_deblur_biom_r1_norgen_low.qza')\n",
    "\n",
    "table_r1_powersoil_high = Artifact.load('dna_all_ITS_deblur_biom_r1_powersoil_high.qza')\n",
    "table_r1_powersoil_low = Artifact.load('dna_all_ITS_deblur_biom_r1_powersoil_low.qza')\n",
    "\n",
    "table_r1_pro_high = Artifact.load('dna_all_ITS_deblur_biom_r1_pro_high.qza')\n",
    "table_r1_pro_low = Artifact.load('dna_all_ITS_deblur_biom_r1_pro_low.qza')\n",
    "\n",
    "table_r2_magmax_high = Artifact.load('dna_all_ITS_deblur_biom_r2_magmax_high.qza')\n",
    "table_r2_magmax_low = Artifact.load('dna_all_ITS_deblur_biom_r2_magmax_low.qza')\n",
    "\n",
    "table_r2_nucleomag_high = Artifact.load('dna_all_ITS_deblur_biom_r2_nucleomag_high.qza')\n",
    "table_r2_nucleomag_low = Artifact.load('dna_all_ITS_deblur_biom_r2_nucleomag_low.qza')\n",
    "\n",
    "table_r2_powersoil_high = Artifact.load('dna_all_ITS_deblur_biom_r2_powersoil_high.qza')\n",
    "table_r2_powersoil_low = Artifact.load('dna_all_ITS_deblur_biom_r2_powersoil_low.qza')\n",
    "\n",
    "table_r2_zymo_high = Artifact.load('dna_all_ITS_deblur_biom_r2_zymo_high.qza')\n",
    "table_r2_zymo_low = Artifact.load('dna_all_ITS_deblur_biom_r2_zymo_low.qza')\n",
    "\n",
    "taxonomy = Artifact.load('/Users/Justin/Mycelium/UCSD/00_Knight_Lab/03_Extraction_test_12201/round_02/data/ITS/06_taxonomy/dna_all_ITS_deblur_seqs_taxonomy_unite8.qza')\n"
   ]
  },
  {
   "cell_type": "markdown",
   "metadata": {},
   "source": [
    "## Collapse and subset data\n",
    "### NOTE: Set 'table' to one of the tables above"
   ]
  },
  {
   "cell_type": "code",
   "execution_count": 213,
   "metadata": {},
   "outputs": [],
   "source": [
    "table = table_r1_pro_low\n"
   ]
  },
  {
   "cell_type": "code",
   "execution_count": 214,
   "metadata": {},
   "outputs": [],
   "source": [
    "# collapsed table to genus level\n",
    "t6 = taxa.methods.collapse(table = table,\n",
    "                           taxonomy = taxonomy,\n",
    "                           level = 6)\n",
    "# import collapsed table as pandas dataframe\n",
    "df = t6.collapsed_table.view(pd.DataFrame)\n",
    "# subset out Zymo mock community samples\n",
    "zymo = df[df.index.str.contains('mock|mc')]\n",
    "# ensure table values are numeric\n",
    "zymo = zymo.astype(float)\n"
   ]
  },
  {
   "cell_type": "code",
   "execution_count": 215,
   "metadata": {},
   "outputs": [
    {
     "data": {
      "text/html": [
       "<div>\n",
       "<style scoped>\n",
       "    .dataframe tbody tr th:only-of-type {\n",
       "        vertical-align: middle;\n",
       "    }\n",
       "\n",
       "    .dataframe tbody tr th {\n",
       "        vertical-align: top;\n",
       "    }\n",
       "\n",
       "    .dataframe thead th {\n",
       "        text-align: right;\n",
       "    }\n",
       "</style>\n",
       "<table border=\"1\" class=\"dataframe\">\n",
       "  <thead>\n",
       "    <tr style=\"text-align: right;\">\n",
       "      <th></th>\n",
       "      <th>12201.mc.d4.3.pro.L</th>\n",
       "      <th>12201.mc.d4.1.pro.L</th>\n",
       "      <th>12201.mc.d4.2.pro.L</th>\n",
       "    </tr>\n",
       "  </thead>\n",
       "  <tbody>\n",
       "    <tr>\n",
       "      <th>k__Fungi;p__Ascomycota;c__Saccharomycetes;o__Saccharomycetales;f__Saccharomycetaceae;g__Saccharomyces</th>\n",
       "      <td>2474.0</td>\n",
       "      <td>1652.0</td>\n",
       "      <td>993.0</td>\n",
       "    </tr>\n",
       "    <tr>\n",
       "      <th>k__Fungi;p__Basidiomycota;c__Wallemiomycetes;o__Wallemiales;f__Wallemiaceae;g__Wallemia</th>\n",
       "      <td>130.0</td>\n",
       "      <td>0.0</td>\n",
       "      <td>0.0</td>\n",
       "    </tr>\n",
       "    <tr>\n",
       "      <th>k__Fungi;p__Ascomycota;c__Saccharomycetes;o__Saccharomycetales;f__Saccharomycetales_fam_Incertae_sedis;g__Candida</th>\n",
       "      <td>87.0</td>\n",
       "      <td>0.0</td>\n",
       "      <td>0.0</td>\n",
       "    </tr>\n",
       "    <tr>\n",
       "      <th>k__Fungi;p__Ascomycota;c__Saccharomycetes;o__Saccharomycetales;f__Saccharomycetaceae;g__Kazachstania</th>\n",
       "      <td>57.0</td>\n",
       "      <td>4.0</td>\n",
       "      <td>3.0</td>\n",
       "    </tr>\n",
       "    <tr>\n",
       "      <th>k__Fungi;p__Ascomycota;c__Eurotiomycetes;o__Eurotiales;f__Aspergillaceae;g__Penicillium</th>\n",
       "      <td>51.0</td>\n",
       "      <td>2.0</td>\n",
       "      <td>3.0</td>\n",
       "    </tr>\n",
       "    <tr>\n",
       "      <th>k__Fungi;p__Ascomycota;c__Leotiomycetes;o__Helotiales;f__Sclerotiniaceae;g__Botrytis</th>\n",
       "      <td>43.0</td>\n",
       "      <td>0.0</td>\n",
       "      <td>0.0</td>\n",
       "    </tr>\n",
       "    <tr>\n",
       "      <th>k__Fungi;p__Olpidiomycota;c__Olpidiomycetes;o__Olpidiales;f__Olpidiaceae;g__Olpidium</th>\n",
       "      <td>4.0</td>\n",
       "      <td>0.0</td>\n",
       "      <td>0.0</td>\n",
       "    </tr>\n",
       "    <tr>\n",
       "      <th>k__Fungi;p__Ascomycota;c__Pezizomycetes;o__Pezizales;f__Pyronemataceae;g__Pustularia</th>\n",
       "      <td>2.0</td>\n",
       "      <td>0.0</td>\n",
       "      <td>0.0</td>\n",
       "    </tr>\n",
       "    <tr>\n",
       "      <th>k__Fungi;p__Ascomycota;c__Pezizomycetes;o__Pezizales;f__Pyronemataceae;g__Picoa</th>\n",
       "      <td>2.0</td>\n",
       "      <td>0.0</td>\n",
       "      <td>0.0</td>\n",
       "    </tr>\n",
       "    <tr>\n",
       "      <th>k__Fungi;p__Basidiomycota;c__Agaricomycetes;o__Polyporales;f__Phanerochaetaceae;g__unidentified</th>\n",
       "      <td>0.0</td>\n",
       "      <td>0.0</td>\n",
       "      <td>0.0</td>\n",
       "    </tr>\n",
       "  </tbody>\n",
       "</table>\n",
       "</div>"
      ],
      "text/plain": [
       "                                                    12201.mc.d4.3.pro.L  \\\n",
       "k__Fungi;p__Ascomycota;c__Saccharomycetes;o__Sa...               2474.0   \n",
       "k__Fungi;p__Basidiomycota;c__Wallemiomycetes;o_...                130.0   \n",
       "k__Fungi;p__Ascomycota;c__Saccharomycetes;o__Sa...                 87.0   \n",
       "k__Fungi;p__Ascomycota;c__Saccharomycetes;o__Sa...                 57.0   \n",
       "k__Fungi;p__Ascomycota;c__Eurotiomycetes;o__Eur...                 51.0   \n",
       "k__Fungi;p__Ascomycota;c__Leotiomycetes;o__Helo...                 43.0   \n",
       "k__Fungi;p__Olpidiomycota;c__Olpidiomycetes;o__...                  4.0   \n",
       "k__Fungi;p__Ascomycota;c__Pezizomycetes;o__Pezi...                  2.0   \n",
       "k__Fungi;p__Ascomycota;c__Pezizomycetes;o__Pezi...                  2.0   \n",
       "k__Fungi;p__Basidiomycota;c__Agaricomycetes;o__...                  0.0   \n",
       "\n",
       "                                                    12201.mc.d4.1.pro.L  \\\n",
       "k__Fungi;p__Ascomycota;c__Saccharomycetes;o__Sa...               1652.0   \n",
       "k__Fungi;p__Basidiomycota;c__Wallemiomycetes;o_...                  0.0   \n",
       "k__Fungi;p__Ascomycota;c__Saccharomycetes;o__Sa...                  0.0   \n",
       "k__Fungi;p__Ascomycota;c__Saccharomycetes;o__Sa...                  4.0   \n",
       "k__Fungi;p__Ascomycota;c__Eurotiomycetes;o__Eur...                  2.0   \n",
       "k__Fungi;p__Ascomycota;c__Leotiomycetes;o__Helo...                  0.0   \n",
       "k__Fungi;p__Olpidiomycota;c__Olpidiomycetes;o__...                  0.0   \n",
       "k__Fungi;p__Ascomycota;c__Pezizomycetes;o__Pezi...                  0.0   \n",
       "k__Fungi;p__Ascomycota;c__Pezizomycetes;o__Pezi...                  0.0   \n",
       "k__Fungi;p__Basidiomycota;c__Agaricomycetes;o__...                  0.0   \n",
       "\n",
       "                                                    12201.mc.d4.2.pro.L  \n",
       "k__Fungi;p__Ascomycota;c__Saccharomycetes;o__Sa...                993.0  \n",
       "k__Fungi;p__Basidiomycota;c__Wallemiomycetes;o_...                  0.0  \n",
       "k__Fungi;p__Ascomycota;c__Saccharomycetes;o__Sa...                  0.0  \n",
       "k__Fungi;p__Ascomycota;c__Saccharomycetes;o__Sa...                  3.0  \n",
       "k__Fungi;p__Ascomycota;c__Eurotiomycetes;o__Eur...                  3.0  \n",
       "k__Fungi;p__Ascomycota;c__Leotiomycetes;o__Helo...                  0.0  \n",
       "k__Fungi;p__Olpidiomycota;c__Olpidiomycetes;o__...                  0.0  \n",
       "k__Fungi;p__Ascomycota;c__Pezizomycetes;o__Pezi...                  0.0  \n",
       "k__Fungi;p__Ascomycota;c__Pezizomycetes;o__Pezi...                  0.0  \n",
       "k__Fungi;p__Basidiomycota;c__Agaricomycetes;o__...                  0.0  "
      ]
     },
     "execution_count": 215,
     "metadata": {},
     "output_type": "execute_result"
    }
   ],
   "source": [
    "# quick visual check that top 7 taxa make up most of the reads in highest input sample (\"d1\")\n",
    "max_input = zymo[zymo.index.str.contains(\"d4\")]\n",
    "zymoT = max_input.T\n",
    "zymoT.sort_values(zymoT.columns[0], ascending = False).head(10)\n"
   ]
  },
  {
   "cell_type": "markdown",
   "metadata": {},
   "source": [
    "## Calculate reads aligning to mock community"
   ]
  },
  {
   "cell_type": "markdown",
   "metadata": {},
   "source": [
    "See this reference for justification of including Kasakstania: https://www.sciencedirect.com/topics/agricultural-and-biological-sciences/kazachstania"
   ]
  },
  {
   "cell_type": "code",
   "execution_count": 198,
   "metadata": {
    "scrolled": true
   },
   "outputs": [],
   "source": [
    "# Calculate the total number of reads per sample\n",
    "zymo['deblur_reads'] = zymo.sum(axis=1)\n",
    "\n",
    "# Calculate the number of reads aligning to the mock community input genera\n",
    "zymo['zymo_reads'] = zymo[['k__Fungi;p__Ascomycota;c__Saccharomycetes;o__Saccharomycetales;f__Saccharomycetaceae;g__Saccharomyces',\n",
    "                           'k__Fungi;p__Basidiomycota;c__Tremellomycetes;o__Tremellales;f__Tremellaceae;g__Cryptococcus']].sum(axis=1)\n",
    "\n",
    "# Calculate the percent correctly assigned\n",
    "zymo['correct_assign'] = zymo['zymo_reads'] / zymo['deblur_reads']\n"
   ]
  },
  {
   "cell_type": "code",
   "execution_count": 199,
   "metadata": {},
   "outputs": [
    {
     "name": "stderr",
     "output_type": "stream",
     "text": [
      "/var/folders/jd/pqrf4k_j2ps8404x4rfp8_500000gn/T/ipykernel_57814/930900228.py:3: SettingWithCopyWarning: \n",
      "A value is trying to be set on a copy of a slice from a DataFrame.\n",
      "Try using .loc[row_indexer,col_indexer] = value instead\n",
      "\n",
      "See the caveats in the documentation: https://pandas.pydata.org/pandas-docs/stable/user_guide/indexing.html#returning-a-view-versus-a-copy\n",
      "  katharo['log_deblur_reads'] = np.log10(katharo['deblur_reads'])\n"
     ]
    }
   ],
   "source": [
    "# subset out KatharoSeq columns and add in logarithim of reads for plotting\n",
    "katharo = zymo[['correct_assign','deblur_reads','zymo_reads']]\n",
    "katharo['log_deblur_reads'] = np.log10(katharo['deblur_reads'])\n"
   ]
  },
  {
   "cell_type": "markdown",
   "metadata": {},
   "source": [
    "## Fit an allosteric sigmoid curve for extrpolating min read count #"
   ]
  },
  {
   "cell_type": "code",
   "execution_count": 200,
   "metadata": {
    "scrolled": true
   },
   "outputs": [
    {
     "name": "stdout",
     "output_type": "stream",
     "text": [
      "[0.54183555 0.156017  ]\n"
     ]
    },
    {
     "data": {
      "image/png": "[encoded data removed]",
      "text/plain": [
       "<Figure size 432x288 with 1 Axes>"
      ]
     },
     "metadata": {
      "needs_background": "light"
     },
     "output_type": "display_data"
    }
   ],
   "source": [
    "# define the allosteric sigmoid equation\n",
    "def allosteric_sigmoid(x, h, k_prime):\n",
    "    y = x ** h / (k_prime + x ** h)\n",
    "    return y\n",
    " \n",
    "# fit the curve to your data\n",
    "popt, pcov = curve_fit(allosteric_sigmoid, katharo['log_deblur_reads'], katharo['correct_assign'], method='dogbox')\n",
    "print(popt)\n",
    "# plot fit curve\n",
    "x = np.linspace(0, 5, 50)\n",
    "y = allosteric_sigmoid(x, *popt)\n",
    "\n",
    "# plot the fit\n",
    "pylab.plot(katharo['log_deblur_reads'], katharo['correct_assign'], 'o', label='data')\n",
    "pylab.plot(x,y, label='fit')\n",
    "pylab.ylim(0, 1.05)\n",
    "pylab.legend(loc='best')\n",
    "pylab.show()\n"
   ]
  },
  {
   "cell_type": "code",
   "execution_count": 201,
   "metadata": {},
   "outputs": [
    {
     "data": {
      "text/plain": [
       "1"
      ]
     },
     "execution_count": 201,
     "metadata": {},
     "output_type": "execute_result"
    }
   ],
   "source": [
    "# assign variables and solve for X (number of reads to pass filter)\n",
    "h = popt[0]  # first value printed above graph\n",
    "k = popt[1]   # second value printed above graph\n",
    "y = 0.5 ## what you want to solve for\n",
    "\n",
    "min_log_reads = np.power((k/(1/y-1)),(1/h))\n",
    "min_freq_50 = np.power(10, min_log_reads).astype(int)\n",
    "min_freq_50\n"
   ]
  },
  {
   "cell_type": "code",
   "execution_count": 202,
   "metadata": {},
   "outputs": [
    {
     "data": {
      "text/plain": [
       "2"
      ]
     },
     "execution_count": 202,
     "metadata": {},
     "output_type": "execute_result"
    }
   ],
   "source": [
    "# assign variables and solve for X (number of reads to pass filter)\n",
    "h = popt[0]  # first value printed above graph\n",
    "k = popt[1]   # second value printed above graph\n",
    "y = 0.8 ## what you want to solve for\n",
    "\n",
    "min_log_reads = np.power((k/(1/y-1)),(1/h))\n",
    "min_freq_80 = np.power(10, min_log_reads).astype(int)\n",
    "min_freq_80\n"
   ]
  },
  {
   "cell_type": "code",
   "execution_count": 203,
   "metadata": {},
   "outputs": [
    {
     "data": {
      "text/plain": [
       "74"
      ]
     },
     "execution_count": 203,
     "metadata": {},
     "output_type": "execute_result"
    }
   ],
   "source": [
    "# assign variables and solve for X (number of reads to pass filter)\n",
    "h = popt[0]  # first value printed above graph\n",
    "k = popt[1]   # second value printed above graph\n",
    "y = 0.9 ## what you want to solve for\n",
    "\n",
    "min_log_reads = np.power((k/(1/y-1)),(1/h))\n",
    "min_freq_90 = np.power(10, min_log_reads).astype(int)\n",
    "min_freq_90\n"
   ]
  },
  {
   "cell_type": "code",
   "execution_count": 204,
   "metadata": {},
   "outputs": [
    {
     "data": {
      "text/plain": [
       "26901301"
      ]
     },
     "execution_count": 204,
     "metadata": {},
     "output_type": "execute_result"
    }
   ],
   "source": [
    "# assign variables and solve for X (number of reads to pass filter)\n",
    "h = popt[0]  # first value printed above graph\n",
    "k = popt[1]   # second value printed above graph\n",
    "y = 0.95 ## what you want to solve for\n",
    "\n",
    "min_log_reads = np.power((k/(1/y-1)),(1/h))\n",
    "min_freq_95 = np.power(10, min_log_reads).astype(int)\n",
    "min_freq_95\n"
   ]
  },
  {
   "cell_type": "markdown",
   "metadata": {},
   "source": [
    "## Remove samples with less than Katharoseq read limit"
   ]
  },
  {
   "cell_type": "code",
   "execution_count": 205,
   "metadata": {},
   "outputs": [],
   "source": [
    "KS_table_50 = feature_table.methods.filter_samples(table = table,\n",
    "                             min_frequency = min_freq_50)\n",
    "df_50 = KS_table_50.filtered_table.view(pd.DataFrame)\n"
   ]
  },
  {
   "cell_type": "code",
   "execution_count": 206,
   "metadata": {},
   "outputs": [],
   "source": [
    "KS_table_80 = feature_table.methods.filter_samples(table = table,\n",
    "                             min_frequency = min_freq_80)\n",
    "df_80 = KS_table_80.filtered_table.view(pd.DataFrame)\n"
   ]
  },
  {
   "cell_type": "code",
   "execution_count": 207,
   "metadata": {},
   "outputs": [],
   "source": [
    "KS_table_90 = feature_table.methods.filter_samples(table = table,\n",
    "                             min_frequency = min_freq_90)\n",
    "df_90 = KS_table_90.filtered_table.view(pd.DataFrame)\n"
   ]
  },
  {
   "cell_type": "code",
   "execution_count": 208,
   "metadata": {},
   "outputs": [],
   "source": [
    "KS_table_95 = feature_table.methods.filter_samples(table = table,\n",
    "                             min_frequency = min_freq_95)\n",
    "df_95 = KS_table_95.filtered_table.view(pd.DataFrame)\n"
   ]
  },
  {
   "cell_type": "code",
   "execution_count": 209,
   "metadata": {},
   "outputs": [
    {
     "name": "stdout",
     "output_type": "stream",
     "text": [
      "total samples = 88 \n",
      " 50% threshold, 88 samples, 1.0 of total, 1 reads \n",
      " 80% threshold, 88 samples, 1.0 of total, 2 reads \n",
      " 90% threshold, 69 samples, 0.7840909090909091 of total, 74 reads \n",
      " 95% threshold, 0 samples, 0.0 of total, 26901301 reads\n"
     ]
    }
   ],
   "source": [
    "# import collapsed table as pandas dataframe\n",
    "print(\"total samples =\", len(df), \"\\n\",\n",
    "      \"50% threshold,\", len(df_50), \"samples,\", len(df_50)/len(df), \"of total,\", min_freq_50, \"reads\", \"\\n\",\n",
    "      \"80% threshold,\", len(df_80), \"samples,\", len(df_80)/len(df), \"of total,\", min_freq_80, \"reads\", \"\\n\",\n",
    "      \"90% threshold,\", len(df_90), \"samples,\", len(df_90)/len(df), \"of total,\", min_freq_90, \"reads\", \"\\n\",\n",
    "      \"95% threshold,\", len(df_95), \"samples,\", len(df_95)/len(df), \"of total,\", min_freq_95, \"reads\")\n"
   ]
  },
  {
   "cell_type": "markdown",
   "metadata": {},
   "source": [
    "### Filter datasets based on 50% threshold read counts"
   ]
  },
  {
   "cell_type": "code",
   "execution_count": null,
   "metadata": {},
   "outputs": [],
   "source": [
    "cd /projects/dna_extraction_12201/round_02_six_kit_comparison/data/ITS/07_lod/\n"
   ]
  },
  {
   "cell_type": "code",
   "execution_count": null,
   "metadata": {},
   "outputs": [],
   "source": [
    "# Homebrew (low-biomass 50% threshold = 5)\n",
    "qiime feature-table filter-samples \\\n",
    "  --i-table dna_all_ITS_deblur_biom_r1_homebrew_high.qza \\\n",
    "  --p-min-frequency 5 \\\n",
    "  --o-filtered-table dna_all_ITS_deblur_biom_r1_homebrew_high_lod.qza\n",
    "\n",
    "qiime feature-table summarize \\\n",
    "  --i-table dna_all_ITS_deblur_biom_r1_homebrew_high_lod.qza \\\n",
    "  --o-visualization dna_all_ITS_deblur_biom_r1_homebrew_high_lod.qzv\n",
    "\n",
    "qiime feature-table filter-samples \\\n",
    "  --i-table dna_all_ITS_deblur_biom_r1_homebrew_low.qza \\\n",
    "  --p-min-frequency 5 \\\n",
    "  --o-filtered-table dna_all_ITS_deblur_biom_r1_homebrew_low_lod.qza\n",
    "\n",
    "qiime feature-table summarize \\\n",
    "  --i-table dna_all_ITS_deblur_biom_r1_homebrew_low_lod.qza \\\n",
    "  --o-visualization dna_all_ITS_deblur_biom_r1_homebrew_low_lod.qzv\n"
   ]
  },
  {
   "cell_type": "code",
   "execution_count": null,
   "metadata": {},
   "outputs": [],
   "source": [
    "# MagMAX Beta (low-biomass 50% threshold = 487)\n",
    "qiime feature-table filter-samples \\\n",
    "  --i-table dna_all_ITS_deblur_biom_r1_magmaxBeta_high.qza \\\n",
    "  --p-min-frequency 487 \\\n",
    "  --o-filtered-table dna_all_ITS_deblur_biom_r1_magmaxBeta_high_lod.qza\n",
    "\n",
    "qiime feature-table summarize \\\n",
    "  --i-table dna_all_ITS_deblur_biom_r1_magmaxBeta_high_lod.qza \\\n",
    "  --o-visualization dna_all_ITS_deblur_biom_r1_magmaxBeta_high_lod.qzv\n",
    "\n",
    "qiime feature-table filter-samples \\\n",
    "  --i-table dna_all_ITS_deblur_biom_r1_magmaxBeta_low.qza \\\n",
    "  --p-min-frequency 487 \\\n",
    "  --o-filtered-table dna_all_ITS_deblur_biom_r1_magmaxBeta_low_lod.qza\n",
    "\n",
    "qiime feature-table summarize \\\n",
    "  --i-table dna_all_ITS_deblur_biom_r1_magmaxBeta_low_lod.qza \\\n",
    "  --o-visualization dna_all_ITS_deblur_biom_r1_magmaxBeta_low_lod.qzv\n"
   ]
  },
  {
   "cell_type": "code",
   "execution_count": null,
   "metadata": {},
   "outputs": [],
   "source": [
    "# Norgen (low-biomass 50% threshold = 2)\n",
    "qiime feature-table filter-samples \\\n",
    "  --i-table dna_all_ITS_deblur_biom_r1_norgen_high.qza \\\n",
    "  --p-min-frequency 2 \\\n",
    "  --o-filtered-table dna_all_ITS_deblur_biom_r1_norgen_high_lod.qza\n",
    "\n",
    "qiime feature-table summarize \\\n",
    "  --i-table dna_all_ITS_deblur_biom_r1_norgen_high_lod.qza \\\n",
    "  --o-visualization dna_all_ITS_deblur_biom_r1_norgen_high_lod.qzv\n",
    "\n",
    "qiime feature-table filter-samples \\\n",
    "  --i-table dna_all_ITS_deblur_biom_r1_norgen_low.qza \\\n",
    "  --p-min-frequency 2 \\\n",
    "  --o-filtered-table dna_all_ITS_deblur_biom_r1_norgen_low_lod.qza\n",
    "\n",
    "qiime feature-table summarize \\\n",
    "  --i-table dna_all_ITS_deblur_biom_r1_norgen_low_lod.qza \\\n",
    "  --o-visualization dna_all_ITS_deblur_biom_r1_norgen_low_lod.qzv\n"
   ]
  },
  {
   "cell_type": "code",
   "execution_count": null,
   "metadata": {},
   "outputs": [],
   "source": [
    "# PowerSoil - Round 1 (low-biomass 50% threshold = 3)\n",
    "qiime feature-table filter-samples \\\n",
    "  --i-table dna_all_ITS_deblur_biom_r1_powersoil_high.qza \\\n",
    "  --p-min-frequency 3 \\\n",
    "  --o-filtered-table dna_all_ITS_deblur_biom_r1_powersoil_high_lod.qza\n",
    "\n",
    "qiime feature-table summarize \\\n",
    "  --i-table dna_all_ITS_deblur_biom_r1_powersoil_high_lod.qza \\\n",
    "  --o-visualization dna_all_ITS_deblur_biom_r1_powersoil_high_lod.qzv\n",
    "\n",
    "qiime feature-table filter-samples \\\n",
    "  --i-table dna_all_ITS_deblur_biom_r1_powersoil_low.qza \\\n",
    "  --p-min-frequency 3 \\\n",
    "  --o-filtered-table dna_all_ITS_deblur_biom_r1_powersoil_low_lod.qza\n",
    "\n",
    "qiime feature-table summarize \\\n",
    "  --i-table dna_all_ITS_deblur_biom_r1_powersoil_low_lod.qza \\\n",
    "  --o-visualization dna_all_ITS_deblur_biom_r1_powersoil_low_lod.qzv\n"
   ]
  },
  {
   "cell_type": "code",
   "execution_count": null,
   "metadata": {},
   "outputs": [],
   "source": [
    "# PowerSoil Pro (low-biomass 50% threshold = 49)\n",
    "qiime feature-table filter-samples \\\n",
    "  --i-table dna_all_ITS_deblur_biom_r1_pro_high.qza \\\n",
    "  --p-min-frequency 49 \\\n",
    "  --o-filtered-table dna_all_ITS_deblur_biom_r1_pro_high_lod.qza\n",
    "\n",
    "qiime feature-table summarize \\\n",
    "  --i-table dna_all_ITS_deblur_biom_r1_pro_high_lod.qza \\\n",
    "  --o-visualization dna_all_ITS_deblur_biom_r1_pro_high_lod.qzv\n",
    "\n",
    "qiime feature-table filter-samples \\\n",
    "  --i-table dna_all_ITS_deblur_biom_r1_pro_low.qza \\\n",
    "  --p-min-frequency 49 \\\n",
    "  --o-filtered-table dna_all_ITS_deblur_biom_r1_pro_low_lod.qza\n",
    "\n",
    "qiime feature-table summarize \\\n",
    "  --i-table dna_all_ITS_deblur_biom_r1_pro_low_lod.qza \\\n",
    "  --o-visualization dna_all_ITS_deblur_biom_r1_pro_low_lod.qzv\n"
   ]
  },
  {
   "cell_type": "code",
   "execution_count": null,
   "metadata": {},
   "outputs": [],
   "source": [
    "# MagMAX Microboime (low-biomass 50% threshold = 5)\n",
    "qiime feature-table filter-samples \\\n",
    "  --i-table dna_all_ITS_deblur_biom_r2_magmax_high.qza \\\n",
    "  --p-min-frequency 5 \\\n",
    "  --o-filtered-table dna_all_ITS_deblur_biom_r2_magmax_high_lod.qza\n",
    "\n",
    "qiime feature-table summarize \\\n",
    "  --i-table dna_all_ITS_deblur_biom_r2_magmax_high_lod.qza \\\n",
    "  --o-visualization dna_all_ITS_deblur_biom_r2_magmax_high_lod.qzv\n",
    "\n",
    "qiime feature-table filter-samples \\\n",
    "  --i-table dna_all_ITS_deblur_biom_r2_magmax_low.qza \\\n",
    "  --p-min-frequency 5 \\\n",
    "  --o-filtered-table dna_all_ITS_deblur_biom_r2_magmax_low_lod.qza\n",
    "\n",
    "qiime feature-table summarize \\\n",
    "  --i-table dna_all_ITS_deblur_biom_r2_magmax_low_lod.qza \\\n",
    "  --o-visualization dna_all_ITS_deblur_biom_r2_magmax_low_lod.qzv\n"
   ]
  },
  {
   "cell_type": "code",
   "execution_count": null,
   "metadata": {},
   "outputs": [],
   "source": [
    "# NucleoMag Food (low-biomass 50% threshold = 1)\n",
    "qiime feature-table filter-samples \\\n",
    "  --i-table dna_all_ITS_deblur_biom_r2_nucleomag_high.qza \\\n",
    "  --p-min-frequency 1 \\\n",
    "  --o-filtered-table dna_all_ITS_deblur_biom_r2_nucleomag_high_lod.qza\n",
    "\n",
    "qiime feature-table summarize \\\n",
    "  --i-table dna_all_ITS_deblur_biom_r2_nucleomag_high_lod.qza \\\n",
    "  --o-visualization dna_all_ITS_deblur_biom_r2_nucleomag_high_lod.qzv\n",
    "\n",
    "qiime feature-table filter-samples \\\n",
    "  --i-table dna_all_ITS_deblur_biom_r2_nucleomag_low.qza \\\n",
    "  --p-min-frequency 1 \\\n",
    "  --o-filtered-table dna_all_ITS_deblur_biom_r2_nucleomag_low_lod.qza\n",
    "\n",
    "qiime feature-table summarize \\\n",
    "  --i-table dna_all_ITS_deblur_biom_r2_nucleomag_low_lod.qza \\\n",
    "  --o-visualization dna_all_ITS_deblur_biom_r2_nucleomag_low_lod.qzv\n"
   ]
  },
  {
   "cell_type": "code",
   "execution_count": null,
   "metadata": {},
   "outputs": [],
   "source": [
    "# PowerSoil - Round 2 (low-biomass 50% threshold = 3)\n",
    "qiime feature-table filter-samples \\\n",
    "  --i-table dna_all_ITS_deblur_biom_r2_powersoil_high.qza \\\n",
    "  --p-min-frequency 3 \\\n",
    "  --o-filtered-table dna_all_ITS_deblur_biom_r2_powersoil_high_lod.qza\n",
    "\n",
    "qiime feature-table summarize \\\n",
    "  --i-table dna_all_ITS_deblur_biom_r2_powersoil_high_lod.qza \\\n",
    "  --o-visualization dna_all_ITS_deblur_biom_r2_powersoil_high_lod.qzv\n",
    "\n",
    "qiime feature-table filter-samples \\\n",
    "  --i-table dna_all_ITS_deblur_biom_r2_powersoil_low.qza \\\n",
    "  --p-min-frequency 3 \\\n",
    "  --o-filtered-table dna_all_ITS_deblur_biom_r2_powersoil_low_lod.qza\n",
    "\n",
    "qiime feature-table summarize \\\n",
    "  --i-table dna_all_ITS_deblur_biom_r2_powersoil_low_lod.qza \\\n",
    "  --o-visualization dna_all_ITS_deblur_biom_r2_powersoil_low_lod.qzv\n"
   ]
  },
  {
   "cell_type": "code",
   "execution_count": null,
   "metadata": {},
   "outputs": [],
   "source": [
    "# Zymo MagBead (low-biomass 50% threshold = 1)\n",
    "qiime feature-table filter-samples \\\n",
    "  --i-table dna_all_ITS_deblur_biom_r2_zymo_high.qza \\\n",
    "  --p-min-frequency 1 \\\n",
    "  --o-filtered-table dna_all_ITS_deblur_biom_r2_zymo_high_lod.qza\n",
    "\n",
    "qiime feature-table summarize \\\n",
    "  --i-table dna_all_ITS_deblur_biom_r2_zymo_high_lod.qza \\\n",
    "  --o-visualization dna_all_ITS_deblur_biom_r2_zymo_high_lod.qzv\n",
    "\n",
    "qiime feature-table filter-samples \\\n",
    "  --i-table dna_all_ITS_deblur_biom_r2_zymo_low.qza \\\n",
    "  --p-min-frequency 1 \\\n",
    "  --o-filtered-table dna_all_ITS_deblur_biom_r2_zymo_low_lod.qza\n",
    "\n",
    "qiime feature-table summarize \\\n",
    "  --i-table dna_all_ITS_deblur_biom_r2_zymo_low_lod.qza \\\n",
    "  --o-visualization dna_all_ITS_deblur_biom_r2_zymo_low_lod.qzv\n"
   ]
  },
  {
   "cell_type": "markdown",
   "metadata": {},
   "source": [
    "# Merge LOD tables"
   ]
  },
  {
   "cell_type": "markdown",
   "metadata": {},
   "source": [
    "# NOTE: Excluding MagMAX Beta kit as it is no longer relevant, as well as PowerSoil from Round 1 as samples from Round 2 are non-different, and Homebrew as it performed poorly with non-stool samples"
   ]
  },
  {
   "cell_type": "code",
   "execution_count": null,
   "metadata": {},
   "outputs": [],
   "source": [
    "qiime feature-table merge \\\n",
    "  --i-tables dna_all_ITS_deblur_biom_r1_norgen_high_lod.qza \\\n",
    "  --i-tables dna_all_ITS_deblur_biom_r1_norgen_low_lod.qza \\\n",
    "  --i-tables dna_all_ITS_deblur_biom_r1_pro_high_lod.qza \\\n",
    "  --i-tables dna_all_ITS_deblur_biom_r1_pro_low_lod.qza \\\n",
    "  --i-tables dna_all_ITS_deblur_biom_r2_magmax_high_lod.qza \\\n",
    "  --i-tables dna_all_ITS_deblur_biom_r2_magmax_low_lod.qza \\\n",
    "  --i-tables dna_all_ITS_deblur_biom_r2_nucleomag_high_lod.qza \\\n",
    "  --i-tables dna_all_ITS_deblur_biom_r2_nucleomag_low_lod.qza \\\n",
    "  --i-tables dna_all_ITS_deblur_biom_r2_powersoil_high_lod.qza \\\n",
    "  --i-tables dna_all_ITS_deblur_biom_r2_powersoil_low_lod.qza \\\n",
    "  --i-tables dna_all_ITS_deblur_biom_r2_zymo_high_lod.qza \\\n",
    "  --i-tables dna_all_ITS_deblur_biom_r2_zymo_low_lod.qza \\\n",
    "  --o-merged-table dna_all_ITS_deblur_biom_lod.qza\n",
    "\n",
    "qiime feature-table summarize \\\n",
    "  --i-table dna_all_ITS_deblur_biom_lod.qza \\\n",
    "  --o-visualization dna_all_ITS_deblur_biom_lod.qzv\n",
    "\n",
    "# There are 1062 samples and 4442 features\n"
   ]
  },
  {
   "cell_type": "markdown",
   "metadata": {},
   "source": [
    "## Table including round 1 PowerSoil (for alpha-diversity analyses)"
   ]
  },
  {
   "cell_type": "code",
   "execution_count": null,
   "metadata": {},
   "outputs": [],
   "source": [
    "qiime feature-table merge \\\n",
    "  --i-tables dna_all_ITS_deblur_biom_r1_powersoil_high_lod.qza \\\n",
    "  --i-tables dna_all_ITS_deblur_biom_r1_powersoil_low_lod.qza \\\n",
    "  --i-tables dna_all_ITS_deblur_biom_r1_norgen_high_lod.qza \\\n",
    "  --i-tables dna_all_ITS_deblur_biom_r1_norgen_low_lod.qza \\\n",
    "  --i-tables dna_all_ITS_deblur_biom_r1_pro_high_lod.qza \\\n",
    "  --i-tables dna_all_ITS_deblur_biom_r1_pro_low_lod.qza \\\n",
    "  --i-tables dna_all_ITS_deblur_biom_r2_magmax_high_lod.qza \\\n",
    "  --i-tables dna_all_ITS_deblur_biom_r2_magmax_low_lod.qza \\\n",
    "  --i-tables dna_all_ITS_deblur_biom_r2_nucleomag_high_lod.qza \\\n",
    "  --i-tables dna_all_ITS_deblur_biom_r2_nucleomag_low_lod.qza \\\n",
    "  --i-tables dna_all_ITS_deblur_biom_r2_powersoil_high_lod.qza \\\n",
    "  --i-tables dna_all_ITS_deblur_biom_r2_powersoil_low_lod.qza \\\n",
    "  --i-tables dna_all_ITS_deblur_biom_r2_zymo_high_lod.qza \\\n",
    "  --i-tables dna_all_ITS_deblur_biom_r2_zymo_low_lod.qza \\\n",
    "  --o-merged-table dna_bothPS_ITS_deblur_biom_lod.qza\n",
    "\n",
    "qiime feature-table summarize \\\n",
    "  --i-table dna_bothPS_ITS_deblur_biom_lod.qza \\\n",
    "  --o-visualization dna_bothPS_ITS_deblur_biom_lod.qzv\n",
    "\n",
    "# There are 1240 samples and 4950 features\n"
   ]
  }
 ],
 "metadata": {
  "kernelspec": {
   "display_name": "Python (qiime2-2021.11)",
   "language": "python",
   "name": "qiime2-2021.11"
  },
  "language_info": {
   "codemirror_mode": {
    "name": "ipython",
    "version": 3
   },
   "file_extension": ".py",
   "mimetype": "text/x-python",
   "name": "python",
   "nbconvert_exporter": "python",
   "pygments_lexer": "ipython3",
   "version": "3.8.12"
  }
 },
 "nbformat": 4,
 "nbformat_minor": 4
}
