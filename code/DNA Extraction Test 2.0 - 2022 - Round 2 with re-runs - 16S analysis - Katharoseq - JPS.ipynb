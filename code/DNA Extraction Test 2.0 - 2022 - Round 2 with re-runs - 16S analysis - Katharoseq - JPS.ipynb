{
 "cells": [
  {
   "cell_type": "markdown",
   "metadata": {},
   "source": [
    "# Import tools - use qiime2-2021.11 kernel"
   ]
  },
  {
   "cell_type": "code",
   "execution_count": 1,
   "metadata": {},
   "outputs": [],
   "source": [
    "import pandas as pd\n",
    "%matplotlib inline\n",
    "import qiime2\n",
    "from qiime2 import Artifact\n",
    "from tempfile import mkdtemp\n",
    "from qiime2.plugins import demux, deblur, quality_filter, \\\n",
    "                           metadata, feature_table, alignment, \\\n",
    "                           phylogeny, diversity, emperor, feature_classifier, \\\n",
    "                           taxa, composition\n",
    "from qiime2.plugins import fragment_insertion\n",
    "from qiime2.plugins.fragment_insertion.methods import filter_features\n",
    "from qiime2.plugins.feature_table.methods import filter_samples\n",
    "from qiime2.plugins.feature_table.visualizers import summarize\n",
    "import seaborn as sns\n",
    "import matplotlib.pyplot as plt\n",
    "import numpy as np\n",
    "import pylab\n",
    "from scipy.optimize import curve_fit\n"
   ]
  },
  {
   "cell_type": "markdown",
   "metadata": {},
   "source": [
    "## Set path"
   ]
  },
  {
   "cell_type": "code",
   "execution_count": 7,
   "metadata": {
    "scrolled": true
   },
   "outputs": [
    {
     "name": "stdout",
     "output_type": "stream",
     "text": [
      "/Users/Justin/Mycelium/UCSD/00_Knight_Lab/03_Extraction_test_12201/round_02/data/16S/09_filtered_data\n"
     ]
    }
   ],
   "source": [
    "cd \"/Users/Justin/Mycelium/UCSD/00_Knight_Lab/03_Extraction_test_12201/round_02/data/16S/09_filtered_data/\"\n"
   ]
  },
  {
   "cell_type": "markdown",
   "metadata": {},
   "source": [
    "## Filter feature-table to generate per-extraction plate tables"
   ]
  },
  {
   "cell_type": "code",
   "execution_count": 5,
   "metadata": {},
   "outputs": [],
   "source": [
    "md = pd.read_csv('/Users/Justin/Mycelium/UCSD/00_Knight_Lab/03_Extraction_test_12201/round_02/sample_metadata/12201_metadata.txt',\n",
    "                sep = '\\t')\n"
   ]
  },
  {
   "cell_type": "code",
   "execution_count": 6,
   "metadata": {},
   "outputs": [
    {
     "data": {
      "text/plain": [
       "round  extraction_kit   \n",
       "1      Homebrew             192\n",
       "       MagMax Beta          192\n",
       "       Norgen               192\n",
       "       PowerSoil            207\n",
       "       PowerSoil Pro        192\n",
       "       Zymo MagBead         192\n",
       "2      MagMAX Microbiome    192\n",
       "       NucleoMag Food       192\n",
       "       PowerSoil            192\n",
       "       Zymo MagBead         192\n",
       "3      MagMAX Microbiome    576\n",
       "       PowerSoil            288\n",
       "dtype: int64"
      ]
     },
     "execution_count": 6,
     "metadata": {},
     "output_type": "execute_result"
    }
   ],
   "source": [
    "md.groupby(['round', 'extraction_kit']).size()\n"
   ]
  },
  {
   "cell_type": "code",
   "execution_count": null,
   "metadata": {},
   "outputs": [],
   "source": [
    "# Round 1 - Homebrew - high biomass\n",
    "qiime feature-table filter-samples \\\n",
    "  --i-table /projects/dna_extraction_12201/round_02_six_kit_comparison/data/16S/05_merged_data/dna_all_16S_deblur_biom.qza \\\n",
    "  --m-metadata-file /projects/dna_extraction_12201/round_02_six_kit_comparison/sample_metadata/12201_metadata.txt \\\n",
    "  --p-where \"extraction_kit = 'Homebrew' AND biomass_plate = 'high'\" \\\n",
    "  --o-filtered-table /projects/dna_extraction_12201/round_02_six_kit_comparison/data/16S/09_filtered_data/dna_all_16S_deblur_biom_r1_homebrew_high.qza\n",
    "\n",
    "qiime feature-table summarize \\\n",
    "  --i-table /projects/dna_extraction_12201/round_02_six_kit_comparison/data/16S/09_filtered_data/dna_all_16S_deblur_biom_r1_homebrew_high.qza \\\n",
    "  --o-visualization /projects/dna_extraction_12201/round_02_six_kit_comparison/data/16S/09_filtered_data/dna_all_16S_deblur_biom_r1_homebrew_high.qzv\n",
    "\n",
    "# Round 1 - Homebrew - low biomass\n",
    "qiime feature-table filter-samples \\\n",
    "  --i-table /projects/dna_extraction_12201/round_02_six_kit_comparison/data/16S/05_merged_data/dna_all_16S_deblur_biom.qza \\\n",
    "  --m-metadata-file /projects/dna_extraction_12201/round_02_six_kit_comparison/sample_metadata/12201_metadata.txt \\\n",
    "  --p-where \"extraction_kit = 'Homebrew' AND biomass_plate = 'low'\" \\\n",
    "  --o-filtered-table /projects/dna_extraction_12201/round_02_six_kit_comparison/data/16S/09_filtered_data/dna_all_16S_deblur_biom_r1_homebrew_low.qza\n",
    "\n",
    "qiime feature-table summarize \\\n",
    "  --i-table /projects/dna_extraction_12201/round_02_six_kit_comparison/data/16S/09_filtered_data/dna_all_16S_deblur_biom_r1_homebrew_low.qza \\\n",
    "  --o-visualization /projects/dna_extraction_12201/round_02_six_kit_comparison/data/16S/09_filtered_data/dna_all_16S_deblur_biom_r1_homebrew_low.qzv\n",
    "\n",
    "\n",
    "# Round 1 - MagMAX Beta - high biomass\n",
    "qiime feature-table filter-samples \\\n",
    "  --i-table /projects/dna_extraction_12201/round_02_six_kit_comparison/data/16S/05_merged_data/dna_all_16S_deblur_biom.qza \\\n",
    "  --m-metadata-file /projects/dna_extraction_12201/round_02_six_kit_comparison/sample_metadata/12201_metadata.txt \\\n",
    "  --p-where \"extraction_kit = 'MagMax Beta' AND biomass_plate = 'high'\" \\\n",
    "  --o-filtered-table /projects/dna_extraction_12201/round_02_six_kit_comparison/data/16S/09_filtered_data/dna_all_16S_deblur_biom_r1_magmaxBeta_high.qza\n",
    "\n",
    "qiime feature-table summarize \\\n",
    "  --i-table /projects/dna_extraction_12201/round_02_six_kit_comparison/data/16S/09_filtered_data/dna_all_16S_deblur_biom_r1_magmaxBeta_high.qza \\\n",
    "  --o-visualization /projects/dna_extraction_12201/round_02_six_kit_comparison/data/16S/09_filtered_data/dna_all_16S_deblur_biom_r1_magmaxBeta_high.qzv\n",
    "\n",
    "# Round 1 - MagMAX Beta - low biomass\n",
    "qiime feature-table filter-samples \\\n",
    "  --i-table /projects/dna_extraction_12201/round_02_six_kit_comparison/data/16S/05_merged_data/dna_all_16S_deblur_biom.qza \\\n",
    "  --m-metadata-file /projects/dna_extraction_12201/round_02_six_kit_comparison/sample_metadata/12201_metadata.txt \\\n",
    "  --p-where \"extraction_kit = 'MagMax Beta' AND biomass_plate = 'low'\" \\\n",
    "  --o-filtered-table /projects/dna_extraction_12201/round_02_six_kit_comparison/data/16S/09_filtered_data/dna_all_16S_deblur_biom_r1_magmaxBeta_low.qza\n",
    "\n",
    "qiime feature-table summarize \\\n",
    "  --i-table /projects/dna_extraction_12201/round_02_six_kit_comparison/data/16S/09_filtered_data/dna_all_16S_deblur_biom_r1_magmaxBeta_low.qza \\\n",
    "  --o-visualization /projects/dna_extraction_12201/round_02_six_kit_comparison/data/16S/09_filtered_data/dna_all_16S_deblur_biom_r1_magmaxBeta_low.qzv\n",
    "\n",
    "\n",
    "# Round 1 - Norgen - high biomass\n",
    "qiime feature-table filter-samples \\\n",
    "  --i-table /projects/dna_extraction_12201/round_02_six_kit_comparison/data/16S/05_merged_data/dna_all_16S_deblur_biom.qza \\\n",
    "  --m-metadata-file /projects/dna_extraction_12201/round_02_six_kit_comparison/sample_metadata/12201_metadata.txt \\\n",
    "  --p-where \"extraction_kit = 'Norgen' AND biomass_plate = 'high'\" \\\n",
    "  --o-filtered-table /projects/dna_extraction_12201/round_02_six_kit_comparison/data/16S/09_filtered_data/dna_all_16S_deblur_biom_r1_norgen_high.qza\n",
    "\n",
    "qiime feature-table summarize \\\n",
    "  --i-table /projects/dna_extraction_12201/round_02_six_kit_comparison/data/16S/09_filtered_data/dna_all_16S_deblur_biom_r1_norgen_high.qza \\\n",
    "  --o-visualization /projects/dna_extraction_12201/round_02_six_kit_comparison/data/16S/09_filtered_data/dna_all_16S_deblur_biom_r1_norgen_high.qzv\n",
    "\n",
    "# Round 1 - Norgen - low biomass\n",
    "qiime feature-table filter-samples \\\n",
    "  --i-table /projects/dna_extraction_12201/round_02_six_kit_comparison/data/16S/05_merged_data/dna_all_16S_deblur_biom.qza \\\n",
    "  --m-metadata-file /projects/dna_extraction_12201/round_02_six_kit_comparison/sample_metadata/12201_metadata.txt \\\n",
    "  --p-where \"extraction_kit = 'Norgen' AND biomass_plate = 'low'\" \\\n",
    "  --o-filtered-table /projects/dna_extraction_12201/round_02_six_kit_comparison/data/16S/09_filtered_data/dna_all_16S_deblur_biom_r1_norgen_low.qza\n",
    "\n",
    "qiime feature-table summarize \\\n",
    "  --i-table /projects/dna_extraction_12201/round_02_six_kit_comparison/data/16S/09_filtered_data/dna_all_16S_deblur_biom_r1_norgen_low.qza \\\n",
    "  --o-visualization /projects/dna_extraction_12201/round_02_six_kit_comparison/data/16S/09_filtered_data/dna_all_16S_deblur_biom_r1_norgen_low.qzv\n",
    "\n",
    "\n",
    "# Round 1 - PowerSoil - high biomass\n",
    "qiime feature-table filter-samples \\\n",
    "  --i-table /projects/dna_extraction_12201/round_02_six_kit_comparison/data/16S/05_merged_data/dna_all_16S_deblur_biom.qza \\\n",
    "  --m-metadata-file /projects/dna_extraction_12201/round_02_six_kit_comparison/sample_metadata/12201_metadata.txt \\\n",
    "  --p-where \"round = '1' AND extraction_kit = 'PowerSoil' AND biomass_plate = 'high'\" \\\n",
    "  --o-filtered-table /projects/dna_extraction_12201/round_02_six_kit_comparison/data/16S/09_filtered_data/dna_all_16S_deblur_biom_r1_powersoil_high.qza\n",
    "\n",
    "qiime feature-table summarize \\\n",
    "  --i-table /projects/dna_extraction_12201/round_02_six_kit_comparison/data/16S/09_filtered_data/dna_all_16S_deblur_biom_r1_powersoil_high.qza \\\n",
    "  --o-visualization /projects/dna_extraction_12201/round_02_six_kit_comparison/data/16S/09_filtered_data/dna_all_16S_deblur_biom_r1_powersoil_high.qzv\n",
    "\n",
    "# Round 1 - PowerSoil - low biomass\n",
    "qiime feature-table filter-samples \\\n",
    "  --i-table /projects/dna_extraction_12201/round_02_six_kit_comparison/data/16S/05_merged_data/dna_all_16S_deblur_biom.qza \\\n",
    "  --m-metadata-file /projects/dna_extraction_12201/round_02_six_kit_comparison/sample_metadata/12201_metadata.txt \\\n",
    "  --p-where \"round = '1' AND extraction_kit = 'PowerSoil' AND biomass_plate = 'low'\" \\\n",
    "  --o-filtered-table /projects/dna_extraction_12201/round_02_six_kit_comparison/data/16S/09_filtered_data/dna_all_16S_deblur_biom_r1_powersoil_low.qza\n",
    "\n",
    "qiime feature-table summarize \\\n",
    "  --i-table /projects/dna_extraction_12201/round_02_six_kit_comparison/data/16S/09_filtered_data/dna_all_16S_deblur_biom_r1_powersoil_low.qza \\\n",
    "  --o-visualization /projects/dna_extraction_12201/round_02_six_kit_comparison/data/16S/09_filtered_data/dna_all_16S_deblur_biom_r1_powersoil_low.qzv\n",
    "\n",
    "\n",
    "# Round 1 - PowerSoil Pro - high biomass\n",
    "qiime feature-table filter-samples \\\n",
    "  --i-table /projects/dna_extraction_12201/round_02_six_kit_comparison/data/16S/05_merged_data/dna_all_16S_deblur_biom.qza \\\n",
    "  --m-metadata-file /projects/dna_extraction_12201/round_02_six_kit_comparison/sample_metadata/12201_metadata.txt \\\n",
    "  --p-where \"extraction_kit = 'PowerSoil Pro' AND biomass_plate = 'high'\" \\\n",
    "  --o-filtered-table /projects/dna_extraction_12201/round_02_six_kit_comparison/data/16S/09_filtered_data/dna_all_16S_deblur_biom_r1_pro_high.qza\n",
    "\n",
    "qiime feature-table summarize \\\n",
    "  --i-table /projects/dna_extraction_12201/round_02_six_kit_comparison/data/16S/09_filtered_data/dna_all_16S_deblur_biom_r1_pro_high.qza \\\n",
    "  --o-visualization /projects/dna_extraction_12201/round_02_six_kit_comparison/data/16S/09_filtered_data/dna_all_16S_deblur_biom_r1_pro_high.qzv\n",
    "\n",
    "# Round 1 - PowerSoil Pro - low biomass\n",
    "qiime feature-table filter-samples \\\n",
    "  --i-table /projects/dna_extraction_12201/round_02_six_kit_comparison/data/16S/05_merged_data/dna_all_16S_deblur_biom.qza \\\n",
    "  --m-metadata-file /projects/dna_extraction_12201/round_02_six_kit_comparison/sample_metadata/12201_metadata.txt \\\n",
    "  --p-where \"extraction_kit = 'PowerSoil Pro' AND biomass_plate = 'low'\" \\\n",
    "  --o-filtered-table /projects/dna_extraction_12201/round_02_six_kit_comparison/data/16S/09_filtered_data/dna_all_16S_deblur_biom_r1_pro_low.qza\n",
    "\n",
    "qiime feature-table summarize \\\n",
    "  --i-table /projects/dna_extraction_12201/round_02_six_kit_comparison/data/16S/09_filtered_data/dna_all_16S_deblur_biom_r1_pro_low.qza \\\n",
    "  --o-visualization /projects/dna_extraction_12201/round_02_six_kit_comparison/data/16S/09_filtered_data/dna_all_16S_deblur_biom_r1_pro_low.qzv\n",
    "\n",
    "\n",
    "# Round 2 - MagMAX Microbiome - high biomass\n",
    "qiime feature-table filter-samples \\\n",
    "  --i-table /projects/dna_extraction_12201/round_02_six_kit_comparison/data/16S/05_merged_data/dna_all_16S_deblur_biom.qza \\\n",
    "  --m-metadata-file /projects/dna_extraction_12201/round_02_six_kit_comparison/sample_metadata/12201_metadata.txt \\\n",
    "  --p-where \"extraction_kit = 'MagMAX Microbiome' AND biomass_plate = 'high'\" \\\n",
    "  --o-filtered-table /projects/dna_extraction_12201/round_02_six_kit_comparison/data/16S/09_filtered_data/dna_all_16S_deblur_biom_r2_magmax_high.qza\n",
    "\n",
    "qiime feature-table summarize \\\n",
    "  --i-table /projects/dna_extraction_12201/round_02_six_kit_comparison/data/16S/09_filtered_data/dna_all_16S_deblur_biom_r2_magmax_high.qza \\\n",
    "  --o-visualization /projects/dna_extraction_12201/round_02_six_kit_comparison/data/16S/09_filtered_data/dna_all_16S_deblur_biom_r2_magmax_high.qzv\n",
    "\n",
    "# Round 2 - MagMAX Microbiome - low biomass\n",
    "qiime feature-table filter-samples \\\n",
    "  --i-table /projects/dna_extraction_12201/round_02_six_kit_comparison/data/16S/05_merged_data/dna_all_16S_deblur_biom.qza \\\n",
    "  --m-metadata-file /projects/dna_extraction_12201/round_02_six_kit_comparison/sample_metadata/12201_metadata.txt \\\n",
    "  --p-where \"extraction_kit = 'MagMAX Microbiome' AND biomass_plate = 'low'\" \\\n",
    "  --o-filtered-table /projects/dna_extraction_12201/round_02_six_kit_comparison/data/16S/09_filtered_data/dna_all_16S_deblur_biom_r2_magmax_low.qza\n",
    "\n",
    "qiime feature-table summarize \\\n",
    "  --i-table /projects/dna_extraction_12201/round_02_six_kit_comparison/data/16S/09_filtered_data/dna_all_16S_deblur_biom_r2_magmax_low.qza \\\n",
    "  --o-visualization /projects/dna_extraction_12201/round_02_six_kit_comparison/data/16S/09_filtered_data/dna_all_16S_deblur_biom_r2_magmax_low.qzv\n",
    "\n",
    "\n",
    "# Round 2 - Nucleomag Food - high biomass\n",
    "qiime feature-table filter-samples \\\n",
    "  --i-table /projects/dna_extraction_12201/round_02_six_kit_comparison/data/16S/05_merged_data/dna_all_16S_deblur_biom.qza \\\n",
    "  --m-metadata-file /projects/dna_extraction_12201/round_02_six_kit_comparison/sample_metadata/12201_metadata.txt \\\n",
    "  --p-where \"extraction_kit = 'NucleoMag Food' AND biomass_plate = 'high'\" \\\n",
    "  --o-filtered-table /projects/dna_extraction_12201/round_02_six_kit_comparison/data/16S/09_filtered_data/dna_all_16S_deblur_biom_r2_nucleomag_high.qza\n",
    "\n",
    "qiime feature-table summarize \\\n",
    "  --i-table /projects/dna_extraction_12201/round_02_six_kit_comparison/data/16S/09_filtered_data/dna_all_16S_deblur_biom_r2_nucleomag_high.qza \\\n",
    "  --o-visualization /projects/dna_extraction_12201/round_02_six_kit_comparison/data/16S/09_filtered_data/dna_all_16S_deblur_biom_r2_nucleomag_high.qzv\n",
    "\n",
    "# Round 2 - Nucleomag Food - low biomass\n",
    "qiime feature-table filter-samples \\\n",
    "  --i-table /projects/dna_extraction_12201/round_02_six_kit_comparison/data/16S/05_merged_data/dna_all_16S_deblur_biom.qza \\\n",
    "  --m-metadata-file /projects/dna_extraction_12201/round_02_six_kit_comparison/sample_metadata/12201_metadata.txt \\\n",
    "  --p-where \"extraction_kit = 'NucleoMag Food' AND biomass_plate = 'low'\" \\\n",
    "  --o-filtered-table /projects/dna_extraction_12201/round_02_six_kit_comparison/data/16S/09_filtered_data/dna_all_16S_deblur_biom_r2_nucleomag_low.qza\n",
    "\n",
    "qiime feature-table summarize \\\n",
    "  --i-table /projects/dna_extraction_12201/round_02_six_kit_comparison/data/16S/09_filtered_data/dna_all_16S_deblur_biom_r2_nucleomag_low.qza \\\n",
    "  --o-visualization /projects/dna_extraction_12201/round_02_six_kit_comparison/data/16S/09_filtered_data/dna_all_16S_deblur_biom_r2_nucleomag_low.qzv\n",
    "\n",
    "\n",
    "# Round 2 - PowerSoil - high biomass\n",
    "qiime feature-table filter-samples \\\n",
    "  --i-table /projects/dna_extraction_12201/round_02_six_kit_comparison/data/16S/05_merged_data/dna_all_16S_deblur_biom.qza \\\n",
    "  --m-metadata-file /projects/dna_extraction_12201/round_02_six_kit_comparison/sample_metadata/12201_metadata.txt \\\n",
    "  --p-where \"round = '2' AND extraction_kit = 'PowerSoil' AND biomass_plate = 'high'\" \\\n",
    "  --o-filtered-table /projects/dna_extraction_12201/round_02_six_kit_comparison/data/16S/09_filtered_data/dna_all_16S_deblur_biom_r2_powersoil_high.qza\n",
    "\n",
    "qiime feature-table summarize \\\n",
    "  --i-table /projects/dna_extraction_12201/round_02_six_kit_comparison/data/16S/09_filtered_data/dna_all_16S_deblur_biom_r2_powersoil_high.qza \\\n",
    "  --o-visualization /projects/dna_extraction_12201/round_02_six_kit_comparison/data/16S/09_filtered_data/dna_all_16S_deblur_biom_r2_powersoil_high.qzv\n",
    "\n",
    "# Round 2 - PowerSoil - low biomass\n",
    "qiime feature-table filter-samples \\\n",
    "  --i-table /projects/dna_extraction_12201/round_02_six_kit_comparison/data/16S/05_merged_data/dna_all_16S_deblur_biom.qza \\\n",
    "  --m-metadata-file /projects/dna_extraction_12201/round_02_six_kit_comparison/sample_metadata/12201_metadata.txt \\\n",
    "  --p-where \"round = '2' AND extraction_kit = 'PowerSoil' AND biomass_plate = 'low'\" \\\n",
    "  --o-filtered-table /projects/dna_extraction_12201/round_02_six_kit_comparison/data/16S/09_filtered_data/dna_all_16S_deblur_biom_r2_powersoil_low.qza\n",
    "\n",
    "qiime feature-table summarize \\\n",
    "  --i-table /projects/dna_extraction_12201/round_02_six_kit_comparison/data/16S/09_filtered_data/dna_all_16S_deblur_biom_r2_powersoil_low.qza \\\n",
    "  --o-visualization /projects/dna_extraction_12201/round_02_six_kit_comparison/data/16S/09_filtered_data/dna_all_16S_deblur_biom_r2_powersoil_low.qzv\n",
    "\n",
    "\n",
    "# Round 2 - Zymo MagBead - high biomass\n",
    "qiime feature-table filter-samples \\\n",
    "  --i-table /projects/dna_extraction_12201/round_02_six_kit_comparison/data/16S/05_merged_data/dna_all_16S_deblur_biom.qza \\\n",
    "  --m-metadata-file /projects/dna_extraction_12201/round_02_six_kit_comparison/sample_metadata/12201_metadata.txt \\\n",
    "  --p-where \"extraction_kit = 'Zymo MagBead' AND biomass_plate = 'high'\" \\\n",
    "  --o-filtered-table /projects/dna_extraction_12201/round_02_six_kit_comparison/data/16S/09_filtered_data/dna_all_16S_deblur_biom_r2_zymo_high.qza\n",
    "\n",
    "qiime feature-table summarize \\\n",
    "  --i-table /projects/dna_extraction_12201/round_02_six_kit_comparison/data/16S/09_filtered_data/dna_all_16S_deblur_biom_r2_zymo_high.qza \\\n",
    "  --o-visualization /projects/dna_extraction_12201/round_02_six_kit_comparison/data/16S/09_filtered_data/dna_all_16S_deblur_biom_r2_zymo_high.qzv\n",
    "\n",
    "# Round 2 - Zymo MagBead - low biomass\n",
    "qiime feature-table filter-samples \\\n",
    "  --i-table /projects/dna_extraction_12201/round_02_six_kit_comparison/data/16S/05_merged_data/dna_all_16S_deblur_biom.qza \\\n",
    "  --m-metadata-file /projects/dna_extraction_12201/round_02_six_kit_comparison/sample_metadata/12201_metadata.txt \\\n",
    "  --p-where \"extraction_kit = 'Zymo MagBead' AND biomass_plate = 'low'\" \\\n",
    "  --o-filtered-table /projects/dna_extraction_12201/round_02_six_kit_comparison/data/16S/09_filtered_data/dna_all_16S_deblur_biom_r2_zymo_low.qza\n",
    "\n",
    "qiime feature-table summarize \\\n",
    "  --i-table /projects/dna_extraction_12201/round_02_six_kit_comparison/data/16S/09_filtered_data/dna_all_16S_deblur_biom_r2_zymo_low.qza \\\n",
    "  --o-visualization /projects/dna_extraction_12201/round_02_six_kit_comparison/data/16S/09_filtered_data/dna_all_16S_deblur_biom_r2_zymo_low.qzv\n"
   ]
  },
  {
   "cell_type": "markdown",
   "metadata": {},
   "source": [
    "## Import data"
   ]
  },
  {
   "cell_type": "code",
   "execution_count": 9,
   "metadata": {},
   "outputs": [],
   "source": [
    "# Import feature tables and taxonomy file\n",
    "table_r1_homebrew_high = Artifact.load('dna_all_16S_deblur_biom_r1_homebrew_high.qza')\n",
    "table_r1_homebrew_low = Artifact.load('dna_all_16S_deblur_biom_r1_homebrew_low.qza')\n",
    "\n",
    "table_r1_magmaxBeta_high = Artifact.load('dna_all_16S_deblur_biom_r1_magmaxBeta_high.qza')\n",
    "table_r1_magmaxBeta_low = Artifact.load('dna_all_16S_deblur_biom_r1_magmaxBeta_low.qza')\n",
    "\n",
    "table_r1_norgen_high = Artifact.load('dna_all_16S_deblur_biom_r1_norgen_high.qza')\n",
    "table_r1_norgen_low = Artifact.load('dna_all_16S_deblur_biom_r1_norgen_low.qza')\n",
    "\n",
    "table_r1_powersoil_high = Artifact.load('dna_all_16S_deblur_biom_r1_powersoil_high.qza')\n",
    "table_r1_powersoil_low = Artifact.load('dna_all_16S_deblur_biom_r1_powersoil_low.qza')\n",
    "\n",
    "table_r1_pro_high = Artifact.load('dna_all_16S_deblur_biom_r1_pro_high.qza')\n",
    "table_r1_pro_low = Artifact.load('dna_all_16S_deblur_biom_r1_pro_low.qza')\n",
    "\n",
    "table_r2_magmax_high = Artifact.load('dna_all_16S_deblur_biom_r2_magmax_high.qza')\n",
    "table_r2_magmax_low = Artifact.load('dna_all_16S_deblur_biom_r2_magmax_low.qza')\n",
    "\n",
    "table_r2_nucleomag_high = Artifact.load('dna_all_16S_deblur_biom_r2_nucleomag_high.qza')\n",
    "table_r2_nucleomag_low = Artifact.load('dna_all_16S_deblur_biom_r2_nucleomag_low.qza')\n",
    "\n",
    "table_r2_powersoil_high = Artifact.load('dna_all_16S_deblur_biom_r2_powersoil_high.qza')\n",
    "table_r2_powersoil_low = Artifact.load('dna_all_16S_deblur_biom_r2_powersoil_low.qza')\n",
    "\n",
    "table_r2_zymo_high = Artifact.load('dna_all_16S_deblur_biom_r2_zymo_high.qza')\n",
    "table_r2_zymo_low = Artifact.load('dna_all_16S_deblur_biom_r2_zymo_low.qza')\n",
    "\n",
    "taxonomy = Artifact.load('/Users/Justin/Mycelium/UCSD/00_Knight_Lab/03_Extraction_test_12201/round_02/data/16S/06_taxonomy/dna_all_16S_deblur_seqs_taxonomy_silva138.qza')\n"
   ]
  },
  {
   "cell_type": "markdown",
   "metadata": {},
   "source": [
    "## Collapse and subset data\n",
    "### NOTE: Set 'table' to one of the tables above"
   ]
  },
  {
   "cell_type": "code",
   "execution_count": 338,
   "metadata": {},
   "outputs": [],
   "source": [
    "table = table_r2_zymo_low\n"
   ]
  },
  {
   "cell_type": "code",
   "execution_count": 339,
   "metadata": {},
   "outputs": [],
   "source": [
    "# collapsed table to genus level\n",
    "t6 = taxa.methods.collapse(table = table,\n",
    "                           taxonomy = taxonomy,\n",
    "                           level = 6)\n",
    "# import collapsed table as pandas dataframe\n",
    "df = t6.collapsed_table.view(pd.DataFrame)\n",
    "# subset out Zymo mock community samples\n",
    "zymo = df[df.index.str.contains('mock|mc')]\n",
    "# ensure table values are numeric\n",
    "zymo = zymo.astype(float)\n"
   ]
  },
  {
   "cell_type": "code",
   "execution_count": 340,
   "metadata": {},
   "outputs": [
    {
     "data": {
      "text/html": [
       "<div>\n",
       "<style scoped>\n",
       "    .dataframe tbody tr th:only-of-type {\n",
       "        vertical-align: middle;\n",
       "    }\n",
       "\n",
       "    .dataframe tbody tr th {\n",
       "        vertical-align: top;\n",
       "    }\n",
       "\n",
       "    .dataframe thead th {\n",
       "        text-align: right;\n",
       "    }\n",
       "</style>\n",
       "<table border=\"1\" class=\"dataframe\">\n",
       "  <thead>\n",
       "    <tr style=\"text-align: right;\">\n",
       "      <th></th>\n",
       "      <th>12201.mock.community.d1.1.zymoMA.L</th>\n",
       "      <th>12201.mock.community.d1.3.zymoMA.L</th>\n",
       "      <th>12201.mock.community.d1.2.zymoMA.L</th>\n",
       "    </tr>\n",
       "  </thead>\n",
       "  <tbody>\n",
       "    <tr>\n",
       "      <th>d__Bacteria;p__Desulfobacterota;c__Desulfuromonadia;o__Desulfuromonadia;f__Geoalkalibacteraceae;g__Geoalkalibacter</th>\n",
       "      <td>68.0</td>\n",
       "      <td>0.0</td>\n",
       "      <td>0.0</td>\n",
       "    </tr>\n",
       "    <tr>\n",
       "      <th>d__Bacteria;p__Actinobacteriota;c__Actinobacteria;o__Propionibacteriales;f__Nocardioidaceae;g__Nocardioides</th>\n",
       "      <td>37.0</td>\n",
       "      <td>0.0</td>\n",
       "      <td>0.0</td>\n",
       "    </tr>\n",
       "    <tr>\n",
       "      <th>d__Bacteria;p__Firmicutes;c__Bacilli;o__Staphylococcales;f__Staphylococcaceae;g__Staphylococcus</th>\n",
       "      <td>15.0</td>\n",
       "      <td>4.0</td>\n",
       "      <td>2159.0</td>\n",
       "    </tr>\n",
       "    <tr>\n",
       "      <th>d__Bacteria;p__Firmicutes;c__Bacilli;o__Bacillales;f__Bacillaceae;g__Geobacillus</th>\n",
       "      <td>12.0</td>\n",
       "      <td>9.0</td>\n",
       "      <td>0.0</td>\n",
       "    </tr>\n",
       "    <tr>\n",
       "      <th>d__Bacteria;p__Proteobacteria;c__Gammaproteobacteria;o__Enterobacterales;f__Enterobacteriaceae;g__Escherichia-Shigella</th>\n",
       "      <td>12.0</td>\n",
       "      <td>2.0</td>\n",
       "      <td>9129.0</td>\n",
       "    </tr>\n",
       "    <tr>\n",
       "      <th>d__Bacteria;p__Bacteroidota;c__Bacteroidia;o__Bacteroidales;f__Bacteroidaceae;g__Bacteroides</th>\n",
       "      <td>7.0</td>\n",
       "      <td>6.0</td>\n",
       "      <td>0.0</td>\n",
       "    </tr>\n",
       "    <tr>\n",
       "      <th>d__Bacteria;p__Deinococcota;c__Deinococci;o__Thermales;f__Thermaceae;g__Thermus</th>\n",
       "      <td>7.0</td>\n",
       "      <td>0.0</td>\n",
       "      <td>0.0</td>\n",
       "    </tr>\n",
       "    <tr>\n",
       "      <th>d__Bacteria;p__Bacteroidota;c__Ignavibacteria;o__Ignavibacteriales;f__PHOS-HE36;g__PHOS-HE36</th>\n",
       "      <td>0.0</td>\n",
       "      <td>0.0</td>\n",
       "      <td>0.0</td>\n",
       "    </tr>\n",
       "    <tr>\n",
       "      <th>d__Bacteria;p__Firmicutes;c__Clostridia;o__Christensenellales;f__Christensenellaceae;g__Christensenellaceae_R-7_group</th>\n",
       "      <td>0.0</td>\n",
       "      <td>0.0</td>\n",
       "      <td>0.0</td>\n",
       "    </tr>\n",
       "    <tr>\n",
       "      <th>d__Bacteria;p__Firmicutes;c__Clostridia;o__Lachnospirales;f__Lachnospiraceae;g__Anaerocolumna</th>\n",
       "      <td>0.0</td>\n",
       "      <td>0.0</td>\n",
       "      <td>0.0</td>\n",
       "    </tr>\n",
       "  </tbody>\n",
       "</table>\n",
       "</div>"
      ],
      "text/plain": [
       "                                                    12201.mock.community.d1.1.zymoMA.L  \\\n",
       "d__Bacteria;p__Desulfobacterota;c__Desulfuromon...                                68.0   \n",
       "d__Bacteria;p__Actinobacteriota;c__Actinobacter...                                37.0   \n",
       "d__Bacteria;p__Firmicutes;c__Bacilli;o__Staphyl...                                15.0   \n",
       "d__Bacteria;p__Firmicutes;c__Bacilli;o__Bacilla...                                12.0   \n",
       "d__Bacteria;p__Proteobacteria;c__Gammaproteobac...                                12.0   \n",
       "d__Bacteria;p__Bacteroidota;c__Bacteroidia;o__B...                                 7.0   \n",
       "d__Bacteria;p__Deinococcota;c__Deinococci;o__Th...                                 7.0   \n",
       "d__Bacteria;p__Bacteroidota;c__Ignavibacteria;o...                                 0.0   \n",
       "d__Bacteria;p__Firmicutes;c__Clostridia;o__Chri...                                 0.0   \n",
       "d__Bacteria;p__Firmicutes;c__Clostridia;o__Lach...                                 0.0   \n",
       "\n",
       "                                                    12201.mock.community.d1.3.zymoMA.L  \\\n",
       "d__Bacteria;p__Desulfobacterota;c__Desulfuromon...                                 0.0   \n",
       "d__Bacteria;p__Actinobacteriota;c__Actinobacter...                                 0.0   \n",
       "d__Bacteria;p__Firmicutes;c__Bacilli;o__Staphyl...                                 4.0   \n",
       "d__Bacteria;p__Firmicutes;c__Bacilli;o__Bacilla...                                 9.0   \n",
       "d__Bacteria;p__Proteobacteria;c__Gammaproteobac...                                 2.0   \n",
       "d__Bacteria;p__Bacteroidota;c__Bacteroidia;o__B...                                 6.0   \n",
       "d__Bacteria;p__Deinococcota;c__Deinococci;o__Th...                                 0.0   \n",
       "d__Bacteria;p__Bacteroidota;c__Ignavibacteria;o...                                 0.0   \n",
       "d__Bacteria;p__Firmicutes;c__Clostridia;o__Chri...                                 0.0   \n",
       "d__Bacteria;p__Firmicutes;c__Clostridia;o__Lach...                                 0.0   \n",
       "\n",
       "                                                    12201.mock.community.d1.2.zymoMA.L  \n",
       "d__Bacteria;p__Desulfobacterota;c__Desulfuromon...                                 0.0  \n",
       "d__Bacteria;p__Actinobacteriota;c__Actinobacter...                                 0.0  \n",
       "d__Bacteria;p__Firmicutes;c__Bacilli;o__Staphyl...                              2159.0  \n",
       "d__Bacteria;p__Firmicutes;c__Bacilli;o__Bacilla...                                 0.0  \n",
       "d__Bacteria;p__Proteobacteria;c__Gammaproteobac...                              9129.0  \n",
       "d__Bacteria;p__Bacteroidota;c__Bacteroidia;o__B...                                 0.0  \n",
       "d__Bacteria;p__Deinococcota;c__Deinococci;o__Th...                                 0.0  \n",
       "d__Bacteria;p__Bacteroidota;c__Ignavibacteria;o...                                 0.0  \n",
       "d__Bacteria;p__Firmicutes;c__Clostridia;o__Chri...                                 0.0  \n",
       "d__Bacteria;p__Firmicutes;c__Clostridia;o__Lach...                                 0.0  "
      ]
     },
     "execution_count": 340,
     "metadata": {},
     "output_type": "execute_result"
    }
   ],
   "source": [
    "# quick visual check that top 7 taxa make up most of the reads in highest input sample (\"d1\")\n",
    "max_input = zymo[zymo.index.str.contains(\"d1\")]\n",
    "zymoT = max_input.T\n",
    "zymoT.sort_values(zymoT.columns[0], ascending = False).head(10)\n"
   ]
  },
  {
   "cell_type": "markdown",
   "metadata": {},
   "source": [
    "## Calculate reads aligning to mock community"
   ]
  },
  {
   "cell_type": "code",
   "execution_count": 341,
   "metadata": {
    "scrolled": true
   },
   "outputs": [],
   "source": [
    "# Calculate the total number of reads per sample\n",
    "zymo['deblur_reads'] = zymo.sum(axis=1)\n",
    "\n",
    "# Calculate the number of reads aligning to the mock community input genera\n",
    "zymo['zymo_reads'] = zymo[['d__Bacteria;p__Firmicutes;c__Bacilli;o__Lactobacillales;f__Listeriaceae;g__Listeria',\n",
    "                           'd__Bacteria;p__Proteobacteria;c__Gammaproteobacteria;o__Pseudomonadales;f__Pseudomonadaceae;g__Pseudomonas',\n",
    "                           'd__Bacteria;p__Firmicutes;c__Bacilli;o__Bacillales;f__Bacillaceae;g__Bacillus',\n",
    "                           'd__Bacteria;p__Proteobacteria;c__Gammaproteobacteria;o__Enterobacterales;f__Enterobacteriaceae;__',\n",
    "                           'd__Bacteria;p__Proteobacteria;c__Gammaproteobacteria;o__Enterobacterales;f__Enterobacteriaceae;g__Escherichia-Shigella',\n",
    "                           'd__Bacteria;p__Firmicutes;c__Bacilli;o__Lactobacillales;f__Lactobacillaceae;g__Lactobacillus',\n",
    "                           'd__Bacteria;p__Firmicutes;c__Bacilli;o__Lactobacillales;f__Enterococcaceae;g__Enterococcus',\n",
    "                           'd__Bacteria;p__Firmicutes;c__Bacilli;o__Staphylococcales;f__Staphylococcaceae;g__Staphylococcus']].sum(axis=1)\n",
    "\n",
    "# Calculate the percent correctly assigned\n",
    "zymo['correct_assign'] = zymo['zymo_reads'] / zymo['deblur_reads']\n"
   ]
  },
  {
   "cell_type": "code",
   "execution_count": 342,
   "metadata": {},
   "outputs": [
    {
     "name": "stderr",
     "output_type": "stream",
     "text": [
      "/var/folders/jd/pqrf4k_j2ps8404x4rfp8_500000gn/T/ipykernel_33473/930900228.py:3: SettingWithCopyWarning: \n",
      "A value is trying to be set on a copy of a slice from a DataFrame.\n",
      "Try using .loc[row_indexer,col_indexer] = value instead\n",
      "\n",
      "See the caveats in the documentation: https://pandas.pydata.org/pandas-docs/stable/user_guide/indexing.html#returning-a-view-versus-a-copy\n",
      "  katharo['log_deblur_reads'] = np.log10(katharo['deblur_reads'])\n"
     ]
    }
   ],
   "source": [
    "# subset out KatharoSeq columns and add in logarithim of reads for plotting\n",
    "katharo = zymo[['correct_assign','deblur_reads','zymo_reads']]\n",
    "katharo['log_deblur_reads'] = np.log10(katharo['deblur_reads'])\n"
   ]
  },
  {
   "cell_type": "markdown",
   "metadata": {},
   "source": [
    "## Fit an allosteric sigmoid curve for extrpolating min read count #"
   ]
  },
  {
   "cell_type": "code",
   "execution_count": 343,
   "metadata": {
    "scrolled": true
   },
   "outputs": [
    {
     "name": "stdout",
     "output_type": "stream",
     "text": [
      "[   7.15598543 1187.9725539 ]\n"
     ]
    },
    {
     "data": {
      "image/png": "[encoded data removed]",
      "text/plain": [
       "<Figure size 432x288 with 1 Axes>"
      ]
     },
     "metadata": {
      "needs_background": "light"
     },
     "output_type": "display_data"
    }
   ],
   "source": [
    "# define the allosteric sigmoid equation\n",
    "def allosteric_sigmoid(x, h, k_prime):\n",
    "    y = x ** h / (k_prime + x ** h)\n",
    "    return y\n",
    " \n",
    "# fit the curve to your data\n",
    "popt, pcov = curve_fit(allosteric_sigmoid, katharo['log_deblur_reads'], katharo['correct_assign'], method='dogbox')\n",
    "print(popt)\n",
    "# plot fit curve\n",
    "x = np.linspace(0, 5, 50)\n",
    "y = allosteric_sigmoid(x, *popt)\n",
    "\n",
    "# plot the fit\n",
    "pylab.plot(katharo['log_deblur_reads'], katharo['correct_assign'], 'o', label='data')\n",
    "pylab.plot(x,y, label='fit')\n",
    "pylab.ylim(0, 1.05)\n",
    "pylab.legend(loc='best')\n",
    "pylab.show()\n"
   ]
  },
  {
   "cell_type": "code",
   "execution_count": 344,
   "metadata": {},
   "outputs": [
    {
     "data": {
      "text/plain": [
       "489"
      ]
     },
     "execution_count": 344,
     "metadata": {},
     "output_type": "execute_result"
    }
   ],
   "source": [
    "# assign variables and solve for X (number of reads to pass filter)\n",
    "h = popt[0]  # first value printed above graph\n",
    "k = popt[1]   # second value printed above graph\n",
    "y = 0.5 ## what you want to solve for\n",
    "\n",
    "min_log_reads = np.power((k/(1/y-1)),(1/h))\n",
    "min_freq_50 = np.power(10, min_log_reads).astype(int)\n",
    "min_freq_50\n"
   ]
  },
  {
   "cell_type": "code",
   "execution_count": 345,
   "metadata": {},
   "outputs": [
    {
     "data": {
      "text/plain": [
       "1838"
      ]
     },
     "execution_count": 345,
     "metadata": {},
     "output_type": "execute_result"
    }
   ],
   "source": [
    "# assign variables and solve for X (number of reads to pass filter)\n",
    "h = popt[0]  # first value printed above graph\n",
    "k = popt[1]   # second value printed above graph\n",
    "y = 0.8 ## what you want to solve for\n",
    "\n",
    "min_log_reads = np.power((k/(1/y-1)),(1/h))\n",
    "min_freq_80 = np.power(10, min_log_reads).astype(int)\n",
    "min_freq_80\n"
   ]
  },
  {
   "cell_type": "code",
   "execution_count": 346,
   "metadata": {},
   "outputs": [
    {
     "data": {
      "text/plain": [
       "4531"
      ]
     },
     "execution_count": 346,
     "metadata": {},
     "output_type": "execute_result"
    }
   ],
   "source": [
    "# assign variables and solve for X (number of reads to pass filter)\n",
    "h = popt[0]  # first value printed above graph\n",
    "k = popt[1]   # second value printed above graph\n",
    "y = 0.9 ## what you want to solve for\n",
    "\n",
    "min_log_reads = np.power((k/(1/y-1)),(1/h))\n",
    "min_freq_90 = np.power(10, min_log_reads).astype(int)\n",
    "min_freq_90\n"
   ]
  },
  {
   "cell_type": "code",
   "execution_count": 347,
   "metadata": {},
   "outputs": [
    {
     "data": {
      "text/plain": [
       "11445"
      ]
     },
     "execution_count": 347,
     "metadata": {},
     "output_type": "execute_result"
    }
   ],
   "source": [
    "# assign variables and solve for X (number of reads to pass filter)\n",
    "h = popt[0]  # first value printed above graph\n",
    "k = popt[1]   # second value printed above graph\n",
    "y = 0.95 ## what you want to solve for\n",
    "\n",
    "min_log_reads = np.power((k/(1/y-1)),(1/h))\n",
    "min_freq_95 = np.power(10, min_log_reads).astype(int)\n",
    "min_freq_95\n"
   ]
  },
  {
   "cell_type": "markdown",
   "metadata": {},
   "source": [
    "## Remove samples with less than Katharoseq read limit"
   ]
  },
  {
   "cell_type": "code",
   "execution_count": 348,
   "metadata": {},
   "outputs": [],
   "source": [
    "KS_table_50 = feature_table.methods.filter_samples(table = table,\n",
    "                             min_frequency = min_freq_50)\n",
    "df_50 = KS_table_50.filtered_table.view(pd.DataFrame)\n"
   ]
  },
  {
   "cell_type": "code",
   "execution_count": 349,
   "metadata": {},
   "outputs": [],
   "source": [
    "KS_table_80 = feature_table.methods.filter_samples(table = table,\n",
    "                             min_frequency = min_freq_80)\n",
    "df_80 = KS_table_80.filtered_table.view(pd.DataFrame)\n"
   ]
  },
  {
   "cell_type": "code",
   "execution_count": 350,
   "metadata": {},
   "outputs": [],
   "source": [
    "KS_table_90 = feature_table.methods.filter_samples(table = table,\n",
    "                             min_frequency = min_freq_90)\n",
    "df_90 = KS_table_90.filtered_table.view(pd.DataFrame)\n"
   ]
  },
  {
   "cell_type": "code",
   "execution_count": 351,
   "metadata": {},
   "outputs": [],
   "source": [
    "KS_table_95 = feature_table.methods.filter_samples(table = table,\n",
    "                             min_frequency = min_freq_95)\n",
    "df_95 = KS_table_95.filtered_table.view(pd.DataFrame)\n"
   ]
  },
  {
   "cell_type": "code",
   "execution_count": 352,
   "metadata": {},
   "outputs": [
    {
     "name": "stdout",
     "output_type": "stream",
     "text": [
      "total samples = 96 \n",
      " 50% threshold, 42 samples, 0.4375 of total, 489 reads \n",
      " 80% threshold, 32 samples, 0.3333333333333333 of total, 1838 reads \n",
      " 90% threshold, 22 samples, 0.22916666666666666 of total, 4531 reads \n",
      " 95% threshold, 10 samples, 0.10416666666666667 of total, 11445 reads\n"
     ]
    }
   ],
   "source": [
    "# import collapsed table as pandas dataframe\n",
    "print(\"total samples =\", len(df), \"\\n\",\n",
    "      \"50% threshold,\", len(df_50), \"samples,\", len(df_50)/len(df), \"of total,\", min_freq_50, \"reads\", \"\\n\",\n",
    "      \"80% threshold,\", len(df_80), \"samples,\", len(df_80)/len(df), \"of total,\", min_freq_80, \"reads\", \"\\n\",\n",
    "      \"90% threshold,\", len(df_90), \"samples,\", len(df_90)/len(df), \"of total,\", min_freq_90, \"reads\", \"\\n\",\n",
    "      \"95% threshold,\", len(df_95), \"samples,\", len(df_95)/len(df), \"of total,\", min_freq_95, \"reads\")\n"
   ]
  },
  {
   "cell_type": "markdown",
   "metadata": {},
   "source": [
    "### Filter datasets based on 50% threshold read counts"
   ]
  },
  {
   "cell_type": "code",
   "execution_count": null,
   "metadata": {},
   "outputs": [],
   "source": [
    "cd /projects/dna_extraction_12201/round_02_six_kit_comparison/data/16S/07_lod/\n"
   ]
  },
  {
   "cell_type": "code",
   "execution_count": null,
   "metadata": {},
   "outputs": [],
   "source": [
    "# Homebrew (low-biomass 50% threshold = 1924)\n",
    "qiime feature-table filter-samples \\\n",
    "  --i-table dna_all_16S_deblur_biom_r1_homebrew_high.qza \\\n",
    "  --p-min-frequency 1924 \\\n",
    "  --o-filtered-table dna_all_16S_deblur_biom_r1_homebrew_high_lod.qza\n",
    "\n",
    "qiime feature-table summarize \\\n",
    "  --i-table dna_all_16S_deblur_biom_r1_homebrew_high_lod.qza \\\n",
    "  --o-visualization dna_all_16S_deblur_biom_r1_homebrew_high_lod.qzv\n",
    "\n",
    "qiime feature-table filter-samples \\\n",
    "  --i-table dna_all_16S_deblur_biom_r1_homebrew_low.qza \\\n",
    "  --p-min-frequency 1924 \\\n",
    "  --o-filtered-table dna_all_16S_deblur_biom_r1_homebrew_low_lod.qza\n",
    "\n",
    "qiime feature-table summarize \\\n",
    "  --i-table dna_all_16S_deblur_biom_r1_homebrew_low_lod.qza \\\n",
    "  --o-visualization dna_all_16S_deblur_biom_r1_homebrew_low_lod.qzv\n"
   ]
  },
  {
   "cell_type": "code",
   "execution_count": null,
   "metadata": {},
   "outputs": [],
   "source": [
    "# MagMAX Beta (low-biomass 50% threshold = 223)\n",
    "qiime feature-table filter-samples \\\n",
    "  --i-table dna_all_16S_deblur_biom_r1_magmaxBeta_high.qza \\\n",
    "  --p-min-frequency 223 \\\n",
    "  --o-filtered-table dna_all_16S_deblur_biom_r1_magmaxBeta_high_lod.qza\n",
    "\n",
    "qiime feature-table summarize \\\n",
    "  --i-table dna_all_16S_deblur_biom_r1_magmaxBeta_high_lod.qza \\\n",
    "  --o-visualization dna_all_16S_deblur_biom_r1_magmaxBeta_high_lod.qzv\n",
    "\n",
    "qiime feature-table filter-samples \\\n",
    "  --i-table dna_all_16S_deblur_biom_r1_magmaxBeta_low.qza \\\n",
    "  --p-min-frequency 223 \\\n",
    "  --o-filtered-table dna_all_16S_deblur_biom_r1_magmaxBeta_low_lod.qza\n",
    "\n",
    "qiime feature-table summarize \\\n",
    "  --i-table dna_all_16S_deblur_biom_r1_magmaxBeta_low_lod.qza \\\n",
    "  --o-visualization dna_all_16S_deblur_biom_r1_magmaxBeta_low_lod.qzv\n"
   ]
  },
  {
   "cell_type": "code",
   "execution_count": null,
   "metadata": {},
   "outputs": [],
   "source": [
    "# Norgen (low-biomass 50% threshold = 1960)\n",
    "qiime feature-table filter-samples \\\n",
    "  --i-table dna_all_16S_deblur_biom_r1_norgen_high.qza \\\n",
    "  --p-min-frequency 1960 \\\n",
    "  --o-filtered-table dna_all_16S_deblur_biom_r1_norgen_high_lod.qza\n",
    "\n",
    "qiime feature-table summarize \\\n",
    "  --i-table dna_all_16S_deblur_biom_r1_norgen_high_lod.qza \\\n",
    "  --o-visualization dna_all_16S_deblur_biom_r1_norgen_high_lod.qzv\n",
    "\n",
    "qiime feature-table filter-samples \\\n",
    "  --i-table dna_all_16S_deblur_biom_r1_norgen_low.qza \\\n",
    "  --p-min-frequency 1960 \\\n",
    "  --o-filtered-table dna_all_16S_deblur_biom_r1_norgen_low_lod.qza\n",
    "\n",
    "qiime feature-table summarize \\\n",
    "  --i-table dna_all_16S_deblur_biom_r1_norgen_low_lod.qza \\\n",
    "  --o-visualization dna_all_16S_deblur_biom_r1_norgen_low_lod.qzv\n"
   ]
  },
  {
   "cell_type": "code",
   "execution_count": null,
   "metadata": {},
   "outputs": [],
   "source": [
    "# PowerSoil - Round 1 (low-biomass 50% threshold = 73)\n",
    "qiime feature-table filter-samples \\\n",
    "  --i-table dna_all_16S_deblur_biom_r1_powersoil_high.qza \\\n",
    "  --p-min-frequency 73 \\\n",
    "  --o-filtered-table dna_all_16S_deblur_biom_r1_powersoil_high_lod.qza\n",
    "\n",
    "qiime feature-table summarize \\\n",
    "  --i-table dna_all_16S_deblur_biom_r1_powersoil_high_lod.qza \\\n",
    "  --o-visualization dna_all_16S_deblur_biom_r1_powersoil_high_lod.qzv\n",
    "\n",
    "qiime feature-table filter-samples \\\n",
    "  --i-table dna_all_16S_deblur_biom_r1_powersoil_low.qza \\\n",
    "  --p-min-frequency 73 \\\n",
    "  --o-filtered-table dna_all_16S_deblur_biom_r1_powersoil_low_lod.qza\n",
    "\n",
    "qiime feature-table summarize \\\n",
    "  --i-table dna_all_16S_deblur_biom_r1_powersoil_low_lod.qza \\\n",
    "  --o-visualization dna_all_16S_deblur_biom_r1_powersoil_low_lod.qzv\n"
   ]
  },
  {
   "cell_type": "code",
   "execution_count": null,
   "metadata": {},
   "outputs": [],
   "source": [
    "# PowerSoil Pro (low-biomass 50% threshold = 46)\n",
    "qiime feature-table filter-samples \\\n",
    "  --i-table dna_all_16S_deblur_biom_r1_pro_high.qza \\\n",
    "  --p-min-frequency 46 \\\n",
    "  --o-filtered-table dna_all_16S_deblur_biom_r1_pro_high_lod.qza\n",
    "\n",
    "qiime feature-table summarize \\\n",
    "  --i-table dna_all_16S_deblur_biom_r1_pro_high_lod.qza \\\n",
    "  --o-visualization dna_all_16S_deblur_biom_r1_pro_high_lod.qzv\n",
    "\n",
    "qiime feature-table filter-samples \\\n",
    "  --i-table dna_all_16S_deblur_biom_r1_pro_low.qza \\\n",
    "  --p-min-frequency 46 \\\n",
    "  --o-filtered-table dna_all_16S_deblur_biom_r1_pro_low_lod.qza\n",
    "\n",
    "qiime feature-table summarize \\\n",
    "  --i-table dna_all_16S_deblur_biom_r1_pro_low_lod.qza \\\n",
    "  --o-visualization dna_all_16S_deblur_biom_r1_pro_low_lod.qzv\n"
   ]
  },
  {
   "cell_type": "code",
   "execution_count": null,
   "metadata": {},
   "outputs": [],
   "source": [
    "# MagMAX Microboime (low-biomass 50% threshold = 1286)\n",
    "qiime feature-table filter-samples \\\n",
    "  --i-table dna_all_16S_deblur_biom_r2_magmax_high.qza \\\n",
    "  --p-min-frequency 1286 \\\n",
    "  --o-filtered-table dna_all_16S_deblur_biom_r2_magmax_high_lod.qza\n",
    "\n",
    "qiime feature-table summarize \\\n",
    "  --i-table dna_all_16S_deblur_biom_r2_magmax_high_lod.qza \\\n",
    "  --o-visualization dna_all_16S_deblur_biom_r2_magmax_high_lod.qzv\n",
    "\n",
    "qiime feature-table filter-samples \\\n",
    "  --i-table dna_all_16S_deblur_biom_r2_magmax_low.qza \\\n",
    "  --p-min-frequency 1286 \\\n",
    "  --o-filtered-table dna_all_16S_deblur_biom_r2_magmax_low_lod.qza\n",
    "\n",
    "qiime feature-table summarize \\\n",
    "  --i-table dna_all_16S_deblur_biom_r2_magmax_low_lod.qza \\\n",
    "  --o-visualization dna_all_16S_deblur_biom_r2_magmax_low_lod.qzv\n"
   ]
  },
  {
   "cell_type": "code",
   "execution_count": null,
   "metadata": {},
   "outputs": [],
   "source": [
    "# NucleoMag Food (low-biomass 50% threshold = 8379)\n",
    "qiime feature-table filter-samples \\\n",
    "  --i-table dna_all_16S_deblur_biom_r2_nucleomag_high.qza \\\n",
    "  --p-min-frequency 8379 \\\n",
    "  --o-filtered-table dna_all_16S_deblur_biom_r2_nucleomag_high_lod.qza\n",
    "\n",
    "qiime feature-table summarize \\\n",
    "  --i-table dna_all_16S_deblur_biom_r2_nucleomag_high_lod.qza \\\n",
    "  --o-visualization dna_all_16S_deblur_biom_r2_nucleomag_high_lod.qzv\n",
    "\n",
    "qiime feature-table filter-samples \\\n",
    "  --i-table dna_all_16S_deblur_biom_r2_nucleomag_low.qza \\\n",
    "  --p-min-frequency 8379 \\\n",
    "  --o-filtered-table dna_all_16S_deblur_biom_r2_nucleomag_low_lod.qza\n",
    "\n",
    "qiime feature-table summarize \\\n",
    "  --i-table dna_all_16S_deblur_biom_r2_nucleomag_low_lod.qza \\\n",
    "  --o-visualization dna_all_16S_deblur_biom_r2_nucleomag_low_lod.qzv\n"
   ]
  },
  {
   "cell_type": "code",
   "execution_count": null,
   "metadata": {},
   "outputs": [],
   "source": [
    "# PowerSoil - Round 2 (low-biomass 50% threshold = 88)\n",
    "qiime feature-table filter-samples \\\n",
    "  --i-table dna_all_16S_deblur_biom_r2_powersoil_high.qza \\\n",
    "  --p-min-frequency 88 \\\n",
    "  --o-filtered-table dna_all_16S_deblur_biom_r2_powersoil_high_lod.qza\n",
    "\n",
    "qiime feature-table summarize \\\n",
    "  --i-table dna_all_16S_deblur_biom_r2_powersoil_high_lod.qza \\\n",
    "  --o-visualization dna_all_16S_deblur_biom_r2_powersoil_high_lod.qzv\n",
    "\n",
    "qiime feature-table filter-samples \\\n",
    "  --i-table dna_all_16S_deblur_biom_r2_powersoil_low.qza \\\n",
    "  --p-min-frequency 88 \\\n",
    "  --o-filtered-table dna_all_16S_deblur_biom_r2_powersoil_low_lod.qza\n",
    "\n",
    "qiime feature-table summarize \\\n",
    "  --i-table dna_all_16S_deblur_biom_r2_powersoil_low_lod.qza \\\n",
    "  --o-visualization dna_all_16S_deblur_biom_r2_powersoil_low_lod.qzv\n"
   ]
  },
  {
   "cell_type": "code",
   "execution_count": null,
   "metadata": {},
   "outputs": [],
   "source": [
    "# Zymo MagBead (low-biomass 50% threshold = 489)\n",
    "qiime feature-table filter-samples \\\n",
    "  --i-table dna_all_16S_deblur_biom_r2_zymo_high.qza \\\n",
    "  --p-min-frequency 489 \\\n",
    "  --o-filtered-table dna_all_16S_deblur_biom_r2_zymo_high_lod.qza\n",
    "\n",
    "qiime feature-table summarize \\\n",
    "  --i-table dna_all_16S_deblur_biom_r2_zymo_high_lod.qza \\\n",
    "  --o-visualization dna_all_16S_deblur_biom_r2_zymo_high_lod.qzv\n",
    "\n",
    "qiime feature-table filter-samples \\\n",
    "  --i-table dna_all_16S_deblur_biom_r2_zymo_low.qza \\\n",
    "  --p-min-frequency 489 \\\n",
    "  --o-filtered-table dna_all_16S_deblur_biom_r2_zymo_low_lod.qza\n",
    "\n",
    "qiime feature-table summarize \\\n",
    "  --i-table dna_all_16S_deblur_biom_r2_zymo_low_lod.qza \\\n",
    "  --o-visualization dna_all_16S_deblur_biom_r2_zymo_low_lod.qzv\n"
   ]
  },
  {
   "cell_type": "markdown",
   "metadata": {},
   "source": [
    "## Merge LOD tables"
   ]
  },
  {
   "cell_type": "markdown",
   "metadata": {},
   "source": [
    "NOTE: Excluding MagMAX Beta kit as it is no longer relevant, PowerSoil from Round 1 as samples from Round 2 are non-different, and Homebrew because it performed poorly on non-stool samples"
   ]
  },
  {
   "cell_type": "code",
   "execution_count": null,
   "metadata": {},
   "outputs": [],
   "source": [
    "qiime feature-table merge \\\n",
    "  --i-tables dna_all_16S_deblur_biom_r1_norgen_high_lod.qza \\\n",
    "  --i-tables dna_all_16S_deblur_biom_r1_norgen_low_lod.qza \\\n",
    "  --i-tables dna_all_16S_deblur_biom_r1_pro_high_lod.qza \\\n",
    "  --i-tables dna_all_16S_deblur_biom_r1_pro_low_lod.qza \\\n",
    "  --i-tables dna_all_16S_deblur_biom_r2_magmax_high_lod.qza \\\n",
    "  --i-tables dna_all_16S_deblur_biom_r2_magmax_low_lod.qza \\\n",
    "  --i-tables dna_all_16S_deblur_biom_r2_nucleomag_high_lod.qza \\\n",
    "  --i-tables dna_all_16S_deblur_biom_r2_nucleomag_low_lod.qza \\\n",
    "  --i-tables dna_all_16S_deblur_biom_r2_powersoil_high_lod.qza \\\n",
    "  --i-tables dna_all_16S_deblur_biom_r2_powersoil_low_lod.qza \\\n",
    "  --i-tables dna_all_16S_deblur_biom_r2_zymo_high_lod.qza \\\n",
    "  --i-tables dna_all_16S_deblur_biom_r2_zymo_low_lod.qza \\\n",
    "  --o-merged-table dna_all_16S_deblur_biom_lod.qza\n",
    "\n",
    "qiime feature-table summarize \\\n",
    "  --i-table dna_all_16S_deblur_biom_lod.qza \\\n",
    "  --o-visualization dna_all_16S_deblur_biom_lod.qzv\n",
    "\n",
    "# There are 851 samples and 13316 features\n"
   ]
  },
  {
   "cell_type": "markdown",
   "metadata": {},
   "source": [
    "Table including both PowerSoil sets for alpha-diversity analyses"
   ]
  },
  {
   "cell_type": "code",
   "execution_count": null,
   "metadata": {},
   "outputs": [],
   "source": [
    "qiime feature-table merge \\\n",
    "  --i-tables dna_all_16S_deblur_biom_r1_powersoil_high_lod.qza \\\n",
    "  --i-tables dna_all_16S_deblur_biom_r1_powersoil_low_lod.qza \\\n",
    "  --i-tables dna_all_16S_deblur_biom_r1_norgen_high_lod.qza \\\n",
    "  --i-tables dna_all_16S_deblur_biom_r1_norgen_low_lod.qza \\\n",
    "  --i-tables dna_all_16S_deblur_biom_r1_pro_high_lod.qza \\\n",
    "  --i-tables dna_all_16S_deblur_biom_r1_pro_low_lod.qza \\\n",
    "  --i-tables dna_all_16S_deblur_biom_r2_magmax_high_lod.qza \\\n",
    "  --i-tables dna_all_16S_deblur_biom_r2_magmax_low_lod.qza \\\n",
    "  --i-tables dna_all_16S_deblur_biom_r2_nucleomag_high_lod.qza \\\n",
    "  --i-tables dna_all_16S_deblur_biom_r2_nucleomag_low_lod.qza \\\n",
    "  --i-tables dna_all_16S_deblur_biom_r2_powersoil_high_lod.qza \\\n",
    "  --i-tables dna_all_16S_deblur_biom_r2_powersoil_low_lod.qza \\\n",
    "  --i-tables dna_all_16S_deblur_biom_r2_zymo_high_lod.qza \\\n",
    "  --i-tables dna_all_16S_deblur_biom_r2_zymo_low_lod.qza \\\n",
    "  --o-merged-table dna_bothPS_16S_deblur_biom_lod.qza\n",
    "\n",
    "qiime feature-table summarize \\\n",
    "  --i-table dna_bothPS_16S_deblur_biom_lod.qza \\\n",
    "  --o-visualization dna_bothPS_16S_deblur_biom_lod.qzv\n",
    "\n",
    "# There are 1025 samples and 13723 features\n"
   ]
  }
 ],
 "metadata": {
  "kernelspec": {
   "display_name": "Python (qiime2-2021.11)",
   "language": "python",
   "name": "qiime2-2021.11"
  },
  "language_info": {
   "codemirror_mode": {
    "name": "ipython",
    "version": 3
   },
   "file_extension": ".py",
   "mimetype": "text/x-python",
   "name": "python",
   "nbconvert_exporter": "python",
   "pygments_lexer": "ipython3",
   "version": "3.8.12"
  }
 },
 "nbformat": 4,
 "nbformat_minor": 4
}
