{
 "cells": [
  {
   "cell_type": "markdown",
   "metadata": {},
   "source": [
    "# Set up notebook environment\n",
    "## NOTE: Use a QIIME2 kernel"
   ]
  },
  {
   "cell_type": "code",
   "execution_count": 1,
   "metadata": {},
   "outputs": [],
   "source": [
    "import pandas as pd\n",
    "import qiime2 as q2\n",
    "import numpy as np\n",
    "import plotnine as pn\n",
    "from biom import Table, load_table\n",
    "from qiime2.plugins.deicode.actions import rpca\n",
    "from qiime2.plugins.diversity.actions import beta_phylogenetic\n",
    "from qiime2.plugins.diversity.actions import beta\n",
    "from qiime2.plugins.diversity.actions import alpha\n",
    "from qiime2.plugins.feature_table.actions import rarefy\n",
    "from skbio import DistanceMatrix\n",
    "\n",
    "s=\"sample\"\n",
    "o=\"observation\"\n",
    "\n",
    "%matplotlib inline\n"
   ]
  },
  {
   "cell_type": "code",
   "execution_count": 2,
   "metadata": {},
   "outputs": [
    {
     "name": "stdout",
     "output_type": "stream",
     "text": [
      "/Users/Justin/Mycelium/UCSD/00_Knight_Lab/03_Extraction_test_12201/round_02\n"
     ]
    }
   ],
   "source": [
    "cd /Users/Justin/Mycelium/UCSD/00_Knight_Lab/03_Extraction_test_12201/round_02/\n"
   ]
  },
  {
   "cell_type": "markdown",
   "metadata": {},
   "source": [
    "# 16S - high biomass"
   ]
  },
  {
   "cell_type": "markdown",
   "metadata": {},
   "source": [
    "## Create function for making taxonomy files human readable"
   ]
  },
  {
   "cell_type": "code",
   "execution_count": 5,
   "metadata": {},
   "outputs": [],
   "source": [
    "def add_taxsplit(taxdf):\n",
    "    # split taxonomy \n",
    "    def tax_split(tax_id, tax_level): return tax_id.split(\n",
    "        tax_level)[1].split(';')[0]\n",
    "    for level, lname in zip(['k__', 'p__', 'c__', 'o__',\n",
    "                             'f__', 'g__', 's__'],\n",
    "                            ['kingdom', 'phylum', 'class',\n",
    "                             'order', 'family', 'genus',\n",
    "                             'species']):\n",
    "        if lname not in taxdf.columns:\n",
    "            taxonomy_tmp = []\n",
    "            for tax in taxdf.Taxon:\n",
    "                if tax is not np.nan and\\\n",
    "                   level in tax and\\\n",
    "                   len(tax_split(tax, level)) > 0:\n",
    "                    taxonomy_tmp.append(tax_split(tax,\n",
    "                                                  level))\n",
    "                else:\n",
    "                    taxonomy_tmp.append(np.nan)\n",
    "            taxdf[lname] = taxonomy_tmp\n",
    "    return taxdf\n"
   ]
  },
  {
   "cell_type": "markdown",
   "metadata": {},
   "source": [
    "## Import data"
   ]
  },
  {
   "cell_type": "code",
   "execution_count": 6,
   "metadata": {},
   "outputs": [],
   "source": [
    "# Data\n",
    "qza = q2.Artifact.load(\"/Users/Justin/Mycelium/UCSD/00_Knight_Lab/03_Extraction_test_12201/round_02/data/16S/10_filtered_data/dna_bothPS_16S_deblur_biom_lod_noChl_noMit_sepp_gg_noNTCs_noMock_hbm.qza\")\n",
    "bt = qza.view(Table)\n",
    "qza_rare = q2.Artifact.load(\"/Users/Justin/Mycelium/UCSD/00_Knight_Lab/03_Extraction_test_12201/round_02/data/16S/11_normalized_data/dna_bothPS_16S_deblur_biom_lod_noChl_noMit_sepp_gg_noNTCs_noMock_hbm_rar12690.qza\")\n",
    "bt_rare = qza_rare.view(Table)\n",
    "\n",
    "# Metadata\n",
    "md = pd.read_csv(\"/Users/Justin/Mycelium/UCSD/00_Knight_Lab/03_Extraction_test_12201/round_02/sample_metadata/12201_metadata.txt\",sep='\\t', index_col=0)\n",
    "md.index.name=\"sample_name\"\n",
    "#md_q2 = q2.Metadata(md)\n",
    "\n",
    "# Taxonomy\n",
    "tax_q2 = q2.Artifact.load(\"/Users/Justin/Mycelium/UCSD/00_Knight_Lab/03_Extraction_test_12201/round_02/data/16S/06_taxonomy/dna_all_16S_deblur_seqs_taxonomy_silva138.qza\")\n",
    "tax_df = pd.DataFrame(tax_q2.view(pd.Series))\n",
    "tax_df = add_taxsplit(tax_df)\n",
    "\n",
    "# Tree\n",
    "tree_q2 = q2.Artifact.load(\"/Users/Justin/Mycelium/UCSD/00_Knight_Lab/03_Extraction_test_12201/round_02/data/16S/09_fragment_insertion/dna_all_16S_deblur_seqs_noChl_noMit_tree_gg.qza\")\n",
    "\n",
    "# Filter samples\n",
    "bt_samples = set(bt.ids(s))\n",
    "md = md[md.index.isin(bt_samples)]\n"
   ]
  },
  {
   "cell_type": "markdown",
   "metadata": {},
   "source": [
    "## Calculate distances"
   ]
  },
  {
   "cell_type": "code",
   "execution_count": 8,
   "metadata": {},
   "outputs": [
    {
     "name": "stderr",
     "output_type": "stream",
     "text": [
      "/Users/Justin/miniconda3/envs/qiime2-2021.11/lib/python3.8/site-packages/sklearn/metrics/pairwise.py:1776: DataConversionWarning: Data was converted to boolean for metric jaccard\n"
     ]
    }
   ],
   "source": [
    "rarefaction_depth = 12690\n",
    "\n",
    "dms = {}\n",
    "\n",
    "# Jaccard\n",
    "dms[\"jaccard\"] = beta(table=qza_rare, metric=\"jaccard\").distance_matrix.view(DistanceMatrix)\n",
    "\n",
    "# weighted unifrac\n",
    "dms[\"weighted_unifrac\"] = beta_phylogenetic(table=qza_rare, phylogeny=tree_q2, metric=\"weighted_unifrac\").distance_matrix.view(DistanceMatrix)\n",
    "\n",
    "# unweighted unifrac\n",
    "dms[\"unweighted_unifrac\"] = beta_phylogenetic(table=qza_rare, phylogeny=tree_q2, metric=\"unweighted_unifrac\").distance_matrix.view(DistanceMatrix)\n",
    "\n",
    "# Deicode\n",
    "bplt, dm= rpca(table=qza,n_components=3, min_sample_count=rarefaction_depth, min_feature_frequency=10)\n",
    "dms[\"deicode\"] = dm.view(DistanceMatrix)\n"
   ]
  },
  {
   "cell_type": "markdown",
   "metadata": {},
   "source": [
    "## Generate dataframes"
   ]
  },
  {
   "cell_type": "code",
   "execution_count": 9,
   "metadata": {},
   "outputs": [],
   "source": [
    "md_sample_type3 = md.loc[:,[\"sample_type_3\",\"extraction_kit_round\"]]\n",
    "out_dfs = {}\n",
    "for metric,dm in dms.items():\n",
    "    df = dm.to_data_frame()\n",
    "    df=df.reset_index().melt(id_vars=\"index\")\n",
    "    df.columns=[\"sample1\",\"sample2\",\"value\"]\n",
    "    df = df.merge(md_sample_type3, right_index=True, left_on=\"sample1\")\n",
    "    df = df.rename(columns={\"sample_type_3\":\"sample1_type\",\"extraction_kit_round\":\"sample1_extraction_kit_round\"})\n",
    "    df = df.merge(md_sample_type3, right_index=True, left_on=\"sample2\")\n",
    "    df = df.rename(columns={\"sample_type_3\":\"sample2_type\",\"extraction_kit_round\":\"sample2_extraction_kit_round\"})\n",
    "    df = df.merge(md.loc[:,[\"sample_type\",\"sample_type_2\",\"biomass_plate\"]], right_index=True, left_on=\"sample1\")\n",
    "    df = df.query('sample1_type==sample2_type & sample1_extraction_kit_round==sample2_extraction_kit_round & sample1!=sample2')\n",
    "    out_dfs[metric] = df\n",
    "    #.groupby([\"sample1_bead_beating\",\"sample1_type\"]).agg({\"value\":[\"mean\",scipy.stats.sem]})\n",
    "    "
   ]
  },
  {
   "cell_type": "markdown",
   "metadata": {},
   "source": [
    "## Export data frames"
   ]
  },
  {
   "cell_type": "code",
   "execution_count": 11,
   "metadata": {},
   "outputs": [],
   "source": [
    "metric=\"jaccard\"\n",
    "df = out_dfs[metric]\n",
    "#df = df.query('sample_type_2 not in [\"doorknob\",\"mouse feces\",\"mouse jejunum tissue\", \"PCR extraction control\", \"two strains\"]')\n",
    "df = df.drop_duplicates(\"value\")\n",
    "df.to_csv(\"/Users/Justin/Mycelium/UCSD/00_Knight_Lab/03_Extraction_test_12201/round_02/results/technical_replicates/data_tech_reps_16S_hbm_jaccard.txt\", sep = '\\t', index = False)\n"
   ]
  },
  {
   "cell_type": "code",
   "execution_count": 12,
   "metadata": {},
   "outputs": [],
   "source": [
    "metric=\"deicode\"\n",
    "df = out_dfs[metric]\n",
    "#df = df.query('sample_type_2 not in [\"doorknob\",\"mouse feces\",\"mouse jejunum tissue\", \"PCR extraction control\"]')\n",
    "df = df.drop_duplicates(\"value\")\n",
    "df.to_csv(\"/Users/Justin/Mycelium/UCSD/00_Knight_Lab/03_Extraction_test_12201/round_02/results/technical_replicates/data_tech_reps_16S_hbm_rpca.txt\", sep = '\\t', index = False)\n"
   ]
  },
  {
   "cell_type": "code",
   "execution_count": 13,
   "metadata": {},
   "outputs": [],
   "source": [
    "metric=\"unweighted_unifrac\"\n",
    "df = out_dfs[metric]\n",
    "#df = df.query('sample_type_2 not in [\"doorknob\",\"mouse feces\",\"mouse jejunum tissue\", \"PCR extraction control\"]')\n",
    "df = df.drop_duplicates(\"value\")\n",
    "df.to_csv(\"/Users/Justin/Mycelium/UCSD/00_Knight_Lab/03_Extraction_test_12201/round_02/results/technical_replicates/data_tech_reps_16S_hbm_unifrac.txt\", sep = '\\t', index = False)\n"
   ]
  },
  {
   "cell_type": "code",
   "execution_count": 14,
   "metadata": {},
   "outputs": [],
   "source": [
    "metric=\"weighted_unifrac\"\n",
    "df = out_dfs[metric]\n",
    "#df = df.query('sample_type_2 not in [\"doorknob\",\"mouse feces\",\"mouse jejunum tissue\", \"PCR extraction control\"]')\n",
    "df = df.drop_duplicates(\"value\")\n",
    "df.to_csv(\"/Users/Justin/Mycelium/UCSD/00_Knight_Lab/03_Extraction_test_12201/round_02/results/technical_replicates/data_tech_reps_16S_hbm_wunifrac.txt\", sep = '\\t', index = False)\n"
   ]
  },
  {
   "cell_type": "markdown",
   "metadata": {},
   "source": [
    "# 16S - low biomass"
   ]
  },
  {
   "cell_type": "markdown",
   "metadata": {},
   "source": [
    "## Create function for making taxonomy files human readable"
   ]
  },
  {
   "cell_type": "code",
   "execution_count": 15,
   "metadata": {},
   "outputs": [],
   "source": [
    "def add_taxsplit(taxdf):\n",
    "    # split taxonomy \n",
    "    def tax_split(tax_id, tax_level): return tax_id.split(\n",
    "        tax_level)[1].split(';')[0]\n",
    "    for level, lname in zip(['k__', 'p__', 'c__', 'o__',\n",
    "                             'f__', 'g__', 's__'],\n",
    "                            ['kingdom', 'phylum', 'class',\n",
    "                             'order', 'family', 'genus',\n",
    "                             'species']):\n",
    "        if lname not in taxdf.columns:\n",
    "            taxonomy_tmp = []\n",
    "            for tax in taxdf.Taxon:\n",
    "                if tax is not np.nan and\\\n",
    "                   level in tax and\\\n",
    "                   len(tax_split(tax, level)) > 0:\n",
    "                    taxonomy_tmp.append(tax_split(tax,\n",
    "                                                  level))\n",
    "                else:\n",
    "                    taxonomy_tmp.append(np.nan)\n",
    "            taxdf[lname] = taxonomy_tmp\n",
    "    return taxdf\n"
   ]
  },
  {
   "cell_type": "markdown",
   "metadata": {},
   "source": [
    "## Import data"
   ]
  },
  {
   "cell_type": "code",
   "execution_count": 16,
   "metadata": {},
   "outputs": [],
   "source": [
    "# Data\n",
    "qza = q2.Artifact.load(\"/Users/Justin/Mycelium/UCSD/00_Knight_Lab/03_Extraction_test_12201/round_02/data/16S/10_filtered_data/dna_bothPS_16S_deblur_biom_lod_noChl_noMit_sepp_gg_noNTCs_noMock_lbm.qza\")\n",
    "bt = qza.view(Table)\n",
    "qza_rare = q2.Artifact.load(\"/Users/Justin/Mycelium/UCSD/00_Knight_Lab/03_Extraction_test_12201/round_02/data/16S/11_normalized_data/dna_bothPS_16S_deblur_biom_lod_noChl_noMit_sepp_gg_noNTCs_noMock_lbm_rar3295.qza\")\n",
    "bt_rare = qza_rare.view(Table)\n",
    "\n",
    "# Metadata\n",
    "md = pd.read_csv(\"/Users/Justin/Mycelium/UCSD/00_Knight_Lab/03_Extraction_test_12201/round_02/sample_metadata/12201_metadata.txt\",sep='\\t', index_col=0)\n",
    "md.index.name=\"sample_name\"\n",
    "#md_q2 = q2.Metadata(md)\n",
    "\n",
    "# Taxonomy\n",
    "tax_q2 = q2.Artifact.load(\"/Users/Justin/Mycelium/UCSD/00_Knight_Lab/03_Extraction_test_12201/round_02/data/16S/06_taxonomy/dna_all_16S_deblur_seqs_taxonomy_silva138.qza\")\n",
    "tax_df = pd.DataFrame(tax_q2.view(pd.Series))\n",
    "tax_df = add_taxsplit(tax_df)\n",
    "\n",
    "# Tree\n",
    "tree_q2 = q2.Artifact.load(\"/Users/Justin/Mycelium/UCSD/00_Knight_Lab/03_Extraction_test_12201/round_02/data/16S/09_fragment_insertion/dna_all_16S_deblur_seqs_noChl_noMit_tree_gg.qza\")\n",
    "\n",
    "# Filter samples\n",
    "bt_samples = set(bt.ids(s))\n",
    "md = md[md.index.isin(bt_samples)]\n"
   ]
  },
  {
   "cell_type": "markdown",
   "metadata": {},
   "source": [
    "## Calculate distances"
   ]
  },
  {
   "cell_type": "code",
   "execution_count": 18,
   "metadata": {},
   "outputs": [
    {
     "name": "stderr",
     "output_type": "stream",
     "text": [
      "/Users/Justin/miniconda3/envs/qiime2-2021.11/lib/python3.8/site-packages/sklearn/metrics/pairwise.py:1776: DataConversionWarning: Data was converted to boolean for metric jaccard\n"
     ]
    }
   ],
   "source": [
    "rarefaction_depth = 3295\n",
    "\n",
    "dms = {}\n",
    "\n",
    "# Jaccard\n",
    "dms[\"jaccard\"] = beta(table=qza_rare, metric=\"jaccard\").distance_matrix.view(DistanceMatrix)\n",
    "\n",
    "# weighted unifrac\n",
    "dms[\"weighted_unifrac\"] = beta_phylogenetic(table=qza_rare, phylogeny=tree_q2, metric=\"weighted_unifrac\").distance_matrix.view(DistanceMatrix)\n",
    "\n",
    "# unweighted unifrac\n",
    "dms[\"unweighted_unifrac\"] = beta_phylogenetic(table=qza_rare, phylogeny=tree_q2, metric=\"unweighted_unifrac\").distance_matrix.view(DistanceMatrix)\n",
    "\n",
    "# Deicode\n",
    "bplt, dm= rpca(table=qza,n_components=3, min_sample_count=rarefaction_depth, min_feature_frequency=10)\n",
    "dms[\"deicode\"] = dm.view(DistanceMatrix)\n"
   ]
  },
  {
   "cell_type": "markdown",
   "metadata": {},
   "source": [
    "## Generate dataframes"
   ]
  },
  {
   "cell_type": "code",
   "execution_count": 19,
   "metadata": {},
   "outputs": [],
   "source": [
    "md_sample_type3 = md.loc[:,[\"sample_type_3\",\"extraction_kit_round\"]]\n",
    "out_dfs = {}\n",
    "for metric,dm in dms.items():\n",
    "    df = dm.to_data_frame()\n",
    "    df=df.reset_index().melt(id_vars=\"index\")\n",
    "    df.columns=[\"sample1\",\"sample2\",\"value\"]\n",
    "    df = df.merge(md_sample_type3, right_index=True, left_on=\"sample1\")\n",
    "    df = df.rename(columns={\"sample_type_3\":\"sample1_type\",\"extraction_kit_round\":\"sample1_extraction_kit_round\"})\n",
    "    df = df.merge(md_sample_type3, right_index=True, left_on=\"sample2\")\n",
    "    df = df.rename(columns={\"sample_type_3\":\"sample2_type\",\"extraction_kit_round\":\"sample2_extraction_kit_round\"})\n",
    "    df = df.merge(md.loc[:,[\"sample_type\",\"sample_type_2\",\"biomass_plate\"]], right_index=True, left_on=\"sample1\")\n",
    "    df = df.query('sample1_type==sample2_type & sample1_extraction_kit_round==sample2_extraction_kit_round & sample1!=sample2')\n",
    "    out_dfs[metric] = df\n",
    "    #.groupby([\"sample1_bead_beating\",\"sample1_type\"]).agg({\"value\":[\"mean\",scipy.stats.sem]})\n",
    "    "
   ]
  },
  {
   "cell_type": "markdown",
   "metadata": {},
   "source": [
    "## Export data frames"
   ]
  },
  {
   "cell_type": "code",
   "execution_count": 21,
   "metadata": {},
   "outputs": [],
   "source": [
    "metric=\"jaccard\"\n",
    "df = out_dfs[metric]\n",
    "#df = df.query('sample_type_2 not in [\"doorknob\",\"mouse feces\",\"mouse jejunum tissue\", \"PCR extraction control\", \"two strains\"]')\n",
    "df = df.drop_duplicates(\"value\")\n",
    "df.to_csv(\"/Users/Justin/Mycelium/UCSD/00_Knight_Lab/03_Extraction_test_12201/round_02/results/technical_replicates/data_tech_reps_16S_lbm_jaccard.txt\", sep = '\\t', index = False)\n"
   ]
  },
  {
   "cell_type": "code",
   "execution_count": 22,
   "metadata": {},
   "outputs": [],
   "source": [
    "metric=\"deicode\"\n",
    "df = out_dfs[metric]\n",
    "#df = df.query('sample_type_2 not in [\"doorknob\",\"mouse feces\",\"mouse jejunum tissue\", \"PCR extraction control\"]')\n",
    "df = df.drop_duplicates(\"value\")\n",
    "df.to_csv(\"/Users/Justin/Mycelium/UCSD/00_Knight_Lab/03_Extraction_test_12201/round_02/results/technical_replicates/data_tech_reps_16S_lbm_rpca.txt\", sep = '\\t', index = False)\n"
   ]
  },
  {
   "cell_type": "code",
   "execution_count": 23,
   "metadata": {},
   "outputs": [],
   "source": [
    "metric=\"unweighted_unifrac\"\n",
    "df = out_dfs[metric]\n",
    "#df = df.query('sample_type_2 not in [\"doorknob\",\"mouse feces\",\"mouse jejunum tissue\", \"PCR extraction control\"]')\n",
    "df = df.drop_duplicates(\"value\")\n",
    "df.to_csv(\"/Users/Justin/Mycelium/UCSD/00_Knight_Lab/03_Extraction_test_12201/round_02/results/technical_replicates/data_tech_reps_16S_lbm_unifrac.txt\", sep = '\\t', index = False)\n"
   ]
  },
  {
   "cell_type": "code",
   "execution_count": 24,
   "metadata": {},
   "outputs": [],
   "source": [
    "metric=\"weighted_unifrac\"\n",
    "df = out_dfs[metric]\n",
    "#df = df.query('sample_type_2 not in [\"doorknob\",\"mouse feces\",\"mouse jejunum tissue\", \"PCR extraction control\"]')\n",
    "df = df.drop_duplicates(\"value\")\n",
    "df.to_csv(\"/Users/Justin/Mycelium/UCSD/00_Knight_Lab/03_Extraction_test_12201/round_02/results/technical_replicates/data_tech_reps_16S_lbm_wunifrac.txt\", sep = '\\t', index = False)\n"
   ]
  },
  {
   "cell_type": "markdown",
   "metadata": {},
   "source": [
    "# ITS - high biomass"
   ]
  },
  {
   "cell_type": "markdown",
   "metadata": {},
   "source": [
    "## Create function for making taxonomy files human readable"
   ]
  },
  {
   "cell_type": "code",
   "execution_count": 3,
   "metadata": {},
   "outputs": [],
   "source": [
    "def add_taxsplit(taxdf):\n",
    "    # split taxonomy \n",
    "    def tax_split(tax_id, tax_level): return tax_id.split(\n",
    "        tax_level)[1].split(';')[0]\n",
    "    for level, lname in zip(['k__', 'p__', 'c__', 'o__',\n",
    "                             'f__', 'g__', 's__'],\n",
    "                            ['kingdom', 'phylum', 'class',\n",
    "                             'order', 'family', 'genus',\n",
    "                             'species']):\n",
    "        if lname not in taxdf.columns:\n",
    "            taxonomy_tmp = []\n",
    "            for tax in taxdf.Taxon:\n",
    "                if tax is not np.nan and\\\n",
    "                   level in tax and\\\n",
    "                   len(tax_split(tax, level)) > 0:\n",
    "                    taxonomy_tmp.append(tax_split(tax,\n",
    "                                                  level))\n",
    "                else:\n",
    "                    taxonomy_tmp.append(np.nan)\n",
    "            taxdf[lname] = taxonomy_tmp\n",
    "    return taxdf\n"
   ]
  },
  {
   "cell_type": "markdown",
   "metadata": {},
   "source": [
    "## Import data"
   ]
  },
  {
   "cell_type": "code",
   "execution_count": 25,
   "metadata": {},
   "outputs": [],
   "source": [
    "# Data\n",
    "qza = q2.Artifact.load(\"/Users/Justin/Mycelium/UCSD/00_Knight_Lab/03_Extraction_test_12201/round_02/data/ITS/08_filtered_data/dna_bothPS_its_deblur_biom_lod_noNTCs_noMock_hbm.qza\")\n",
    "bt = qza.view(Table)\n",
    "qza_rare = q2.Artifact.load(\"/Users/Justin/Mycelium/UCSD/00_Knight_Lab/03_Extraction_test_12201/round_02/data/ITS/09_normalized_data/dna_bothPS_its_deblur_biom_lod_noNTCs_noMock_hbm_rar1491.qza\")\n",
    "bt_rare = qza_rare.view(Table)\n",
    "\n",
    "# Metadata\n",
    "md = pd.read_csv(\"/Users/Justin/Mycelium/UCSD/00_Knight_Lab/03_Extraction_test_12201/round_02/sample_metadata/12201_metadata.txt\",sep='\\t', index_col=0)\n",
    "md.index.name=\"sample_name\"\n",
    "#md_q2 = q2.Metadata(md)\n",
    "\n",
    "# Taxonomy\n",
    "tax_q2 = q2.Artifact.load(\"/Users/Justin/Mycelium/UCSD/00_Knight_Lab/03_Extraction_test_12201/round_02/data/ITS/06_taxonomy/dna_all_ITS_deblur_seqs_taxonomy_unite8.qza\")\n",
    "tax_df = pd.DataFrame(tax_q2.view(pd.Series))\n",
    "tax_df = add_taxsplit(tax_df)\n",
    "\n",
    "# Filter samples\n",
    "bt_samples = set(bt.ids(s))\n",
    "md = md[md.index.isin(bt_samples)]\n"
   ]
  },
  {
   "cell_type": "markdown",
   "metadata": {},
   "source": [
    "## Calculate distances"
   ]
  },
  {
   "cell_type": "code",
   "execution_count": 26,
   "metadata": {},
   "outputs": [
    {
     "name": "stderr",
     "output_type": "stream",
     "text": [
      "/Users/Justin/miniconda3/envs/qiime2-2021.11/lib/python3.8/site-packages/sklearn/metrics/pairwise.py:1776: DataConversionWarning: Data was converted to boolean for metric jaccard\n"
     ]
    }
   ],
   "source": [
    "rarefaction_depth = 1491\n",
    "\n",
    "dms = {}\n",
    "\n",
    "# Jaccard\n",
    "dms[\"jaccard\"] = beta(table=qza_rare, metric=\"jaccard\").distance_matrix.view(DistanceMatrix)\n",
    "\n",
    "# Deicode\n",
    "bplt, dm= rpca(table=qza,n_components=3, min_sample_count=rarefaction_depth, min_feature_frequency=10)\n",
    "dms[\"deicode\"] = dm.view(DistanceMatrix)\n"
   ]
  },
  {
   "cell_type": "markdown",
   "metadata": {},
   "source": [
    "## Generate dataframes"
   ]
  },
  {
   "cell_type": "code",
   "execution_count": 27,
   "metadata": {},
   "outputs": [],
   "source": [
    "md_sample_type3 = md.loc[:,[\"sample_type_3\",\"extraction_kit_round\"]]\n",
    "out_dfs = {}\n",
    "for metric,dm in dms.items():\n",
    "    df = dm.to_data_frame()\n",
    "    df=df.reset_index().melt(id_vars=\"index\")\n",
    "    df.columns=[\"sample1\",\"sample2\",\"value\"]\n",
    "    df = df.merge(md_sample_type3, right_index=True, left_on=\"sample1\")\n",
    "    df = df.rename(columns={\"sample_type_3\":\"sample1_type\",\"extraction_kit_round\":\"sample1_extraction_kit_round\"})\n",
    "    df = df.merge(md_sample_type3, right_index=True, left_on=\"sample2\")\n",
    "    df = df.rename(columns={\"sample_type_3\":\"sample2_type\",\"extraction_kit_round\":\"sample2_extraction_kit_round\"})\n",
    "    df = df.merge(md.loc[:,[\"sample_type\",\"sample_type_2\",\"biomass_plate\"]], right_index=True, left_on=\"sample1\")\n",
    "    df = df.query('sample1_type==sample2_type & sample1_extraction_kit_round==sample2_extraction_kit_round & sample1!=sample2')\n",
    "    out_dfs[metric] = df\n",
    "    #.groupby([\"sample1_bead_beating\",\"sample1_type\"]).agg({\"value\":[\"mean\",scipy.stats.sem]})\n",
    "    "
   ]
  },
  {
   "cell_type": "markdown",
   "metadata": {},
   "source": [
    "## Export data frames"
   ]
  },
  {
   "cell_type": "code",
   "execution_count": 28,
   "metadata": {},
   "outputs": [],
   "source": [
    "metric=\"jaccard\"\n",
    "df = out_dfs[metric]\n",
    "#df = df.query('sample_type_2 not in [\"doorknob\",\"mouse feces\",\"mouse jejunum tissue\", \"PCR extraction control\", \"two strains\"]')\n",
    "df = df.drop_duplicates(\"value\")\n",
    "df.to_csv(\"/Users/Justin/Mycelium/UCSD/00_Knight_Lab/03_Extraction_test_12201/round_02/results/technical_replicates/data_tech_reps_its_hbm_jaccard.txt\", sep = '\\t', index = False)\n"
   ]
  },
  {
   "cell_type": "code",
   "execution_count": 29,
   "metadata": {},
   "outputs": [],
   "source": [
    "metric=\"deicode\"\n",
    "df = out_dfs[metric]\n",
    "#df = df.query('sample_type_2 not in [\"doorknob\",\"mouse feces\",\"mouse jejunum tissue\", \"PCR extraction control\"]')\n",
    "df = df.drop_duplicates(\"value\")\n",
    "df.to_csv(\"/Users/Justin/Mycelium/UCSD/00_Knight_Lab/03_Extraction_test_12201/round_02/results/technical_replicates/data_tech_reps_its_hbm_rpca.txt\", sep = '\\t', index = False)\n"
   ]
  },
  {
   "cell_type": "markdown",
   "metadata": {},
   "source": [
    "# ITS - low biomass"
   ]
  },
  {
   "cell_type": "markdown",
   "metadata": {},
   "source": [
    "## Create function for making taxonomy files human readable"
   ]
  },
  {
   "cell_type": "code",
   "execution_count": 3,
   "metadata": {},
   "outputs": [],
   "source": [
    "def add_taxsplit(taxdf):\n",
    "    # split taxonomy \n",
    "    def tax_split(tax_id, tax_level): return tax_id.split(\n",
    "        tax_level)[1].split(';')[0]\n",
    "    for level, lname in zip(['k__', 'p__', 'c__', 'o__',\n",
    "                             'f__', 'g__', 's__'],\n",
    "                            ['kingdom', 'phylum', 'class',\n",
    "                             'order', 'family', 'genus',\n",
    "                             'species']):\n",
    "        if lname not in taxdf.columns:\n",
    "            taxonomy_tmp = []\n",
    "            for tax in taxdf.Taxon:\n",
    "                if tax is not np.nan and\\\n",
    "                   level in tax and\\\n",
    "                   len(tax_split(tax, level)) > 0:\n",
    "                    taxonomy_tmp.append(tax_split(tax,\n",
    "                                                  level))\n",
    "                else:\n",
    "                    taxonomy_tmp.append(np.nan)\n",
    "            taxdf[lname] = taxonomy_tmp\n",
    "    return taxdf\n"
   ]
  },
  {
   "cell_type": "markdown",
   "metadata": {},
   "source": [
    "## Import data"
   ]
  },
  {
   "cell_type": "code",
   "execution_count": 30,
   "metadata": {},
   "outputs": [],
   "source": [
    "# Data\n",
    "qza = q2.Artifact.load(\"/Users/Justin/Mycelium/UCSD/00_Knight_Lab/03_Extraction_test_12201/round_02/data/ITS/08_filtered_data/dna_bothPS_its_deblur_biom_lod_noNTCs_noMock_lbm.qza\")\n",
    "bt = qza.view(Table)\n",
    "qza_rare = q2.Artifact.load(\"/Users/Justin/Mycelium/UCSD/00_Knight_Lab/03_Extraction_test_12201/round_02/data/ITS/09_normalized_data/dna_bothPS_its_deblur_biom_lod_noNTCs_noMock_lbm_rar344.qza\")\n",
    "bt_rare = qza_rare.view(Table)\n",
    "\n",
    "# Metadata\n",
    "md = pd.read_csv(\"/Users/Justin/Mycelium/UCSD/00_Knight_Lab/03_Extraction_test_12201/round_02/sample_metadata/12201_metadata.txt\",sep='\\t', index_col=0)\n",
    "md.index.name=\"sample_name\"\n",
    "#md_q2 = q2.Metadata(md)\n",
    "\n",
    "# Taxonomy\n",
    "tax_q2 = q2.Artifact.load(\"/Users/Justin/Mycelium/UCSD/00_Knight_Lab/03_Extraction_test_12201/round_02/data/ITS/06_taxonomy/dna_all_its_deblur_seqs_taxonomy_unite8.qza\")\n",
    "tax_df = pd.DataFrame(tax_q2.view(pd.Series))\n",
    "tax_df = add_taxsplit(tax_df)\n",
    "\n",
    "# Filter samples\n",
    "bt_samples = set(bt.ids(s))\n",
    "md = md[md.index.isin(bt_samples)]\n"
   ]
  },
  {
   "cell_type": "markdown",
   "metadata": {},
   "source": [
    "## Calculate distances"
   ]
  },
  {
   "cell_type": "code",
   "execution_count": 31,
   "metadata": {},
   "outputs": [
    {
     "name": "stderr",
     "output_type": "stream",
     "text": [
      "/Users/Justin/miniconda3/envs/qiime2-2021.11/lib/python3.8/site-packages/sklearn/metrics/pairwise.py:1776: DataConversionWarning: Data was converted to boolean for metric jaccard\n"
     ]
    }
   ],
   "source": [
    "rarefaction_depth = 344\n",
    "\n",
    "dms = {}\n",
    "\n",
    "# Jaccard\n",
    "dms[\"jaccard\"] = beta(table=qza_rare, metric=\"jaccard\").distance_matrix.view(DistanceMatrix)\n",
    "\n",
    "# Deicode\n",
    "bplt, dm= rpca(table=qza,n_components=3, min_sample_count=rarefaction_depth, min_feature_frequency=10)\n",
    "dms[\"deicode\"] = dm.view(DistanceMatrix)\n"
   ]
  },
  {
   "cell_type": "markdown",
   "metadata": {},
   "source": [
    "## Generate dataframes"
   ]
  },
  {
   "cell_type": "code",
   "execution_count": 32,
   "metadata": {},
   "outputs": [],
   "source": [
    "md_sample_type3 = md.loc[:,[\"sample_type_3\",\"extraction_kit_round\"]]\n",
    "out_dfs = {}\n",
    "for metric,dm in dms.items():\n",
    "    df = dm.to_data_frame()\n",
    "    df=df.reset_index().melt(id_vars=\"index\")\n",
    "    df.columns=[\"sample1\",\"sample2\",\"value\"]\n",
    "    df = df.merge(md_sample_type3, right_index=True, left_on=\"sample1\")\n",
    "    df = df.rename(columns={\"sample_type_3\":\"sample1_type\",\"extraction_kit_round\":\"sample1_extraction_kit_round\"})\n",
    "    df = df.merge(md_sample_type3, right_index=True, left_on=\"sample2\")\n",
    "    df = df.rename(columns={\"sample_type_3\":\"sample2_type\",\"extraction_kit_round\":\"sample2_extraction_kit_round\"})\n",
    "    df = df.merge(md.loc[:,[\"sample_type\",\"sample_type_2\",\"biomass_plate\"]], right_index=True, left_on=\"sample1\")\n",
    "    df = df.query('sample1_type==sample2_type & sample1_extraction_kit_round==sample2_extraction_kit_round & sample1!=sample2')\n",
    "    out_dfs[metric] = df\n",
    "    #.groupby([\"sample1_bead_beating\",\"sample1_type\"]).agg({\"value\":[\"mean\",scipy.stats.sem]})\n",
    "    "
   ]
  },
  {
   "cell_type": "markdown",
   "metadata": {},
   "source": [
    "## Export data frames"
   ]
  },
  {
   "cell_type": "code",
   "execution_count": 33,
   "metadata": {},
   "outputs": [],
   "source": [
    "metric=\"jaccard\"\n",
    "df = out_dfs[metric]\n",
    "#df = df.query('sample_type_2 not in [\"doorknob\",\"mouse feces\",\"mouse jejunum tissue\", \"PCR extraction control\", \"two strains\"]')\n",
    "df = df.drop_duplicates(\"value\")\n",
    "df.to_csv(\"/Users/Justin/Mycelium/UCSD/00_Knight_Lab/03_Extraction_test_12201/round_02/results/technical_replicates/data_tech_reps_its_lbm_jaccard.txt\", sep = '\\t', index = False)\n"
   ]
  },
  {
   "cell_type": "code",
   "execution_count": 34,
   "metadata": {},
   "outputs": [],
   "source": [
    "metric=\"deicode\"\n",
    "df = out_dfs[metric]\n",
    "#df = df.query('sample_type_2 not in [\"doorknob\",\"mouse feces\",\"mouse jejunum tissue\", \"PCR extraction control\"]')\n",
    "df = df.drop_duplicates(\"value\")\n",
    "df.to_csv(\"/Users/Justin/Mycelium/UCSD/00_Knight_Lab/03_Extraction_test_12201/round_02/results/technical_replicates/data_tech_reps_its_lbm_rpca.txt\", sep = '\\t', index = False)\n"
   ]
  },
  {
   "cell_type": "markdown",
   "metadata": {},
   "source": [
    "# Metagenomic - high biomass"
   ]
  },
  {
   "cell_type": "markdown",
   "metadata": {},
   "source": [
    "## Create function for making taxonomy files human readable"
   ]
  },
  {
   "cell_type": "code",
   "execution_count": 3,
   "metadata": {},
   "outputs": [],
   "source": [
    "def add_taxsplit(taxdf):\n",
    "    # split taxonomy \n",
    "    def tax_split(tax_id, tax_level): return tax_id.split(\n",
    "        tax_level)[1].split(';')[0]\n",
    "    for level, lname in zip(['k__', 'p__', 'c__', 'o__',\n",
    "                             'f__', 'g__', 's__'],\n",
    "                            ['kingdom', 'phylum', 'class',\n",
    "                             'order', 'family', 'genus',\n",
    "                             'species']):\n",
    "        if lname not in taxdf.columns:\n",
    "            taxonomy_tmp = []\n",
    "            for tax in taxdf.Taxon:\n",
    "                if tax is not np.nan and\\\n",
    "                   level in tax and\\\n",
    "                   len(tax_split(tax, level)) > 0:\n",
    "                    taxonomy_tmp.append(tax_split(tax,\n",
    "                                                  level))\n",
    "                else:\n",
    "                    taxonomy_tmp.append(np.nan)\n",
    "            taxdf[lname] = taxonomy_tmp\n",
    "    return taxdf\n"
   ]
  },
  {
   "cell_type": "markdown",
   "metadata": {},
   "source": [
    "## Import data"
   ]
  },
  {
   "cell_type": "code",
   "execution_count": 35,
   "metadata": {},
   "outputs": [],
   "source": [
    "# Data\n",
    "qza = q2.Artifact.load(\"/Users/Justin/Mycelium/UCSD/00_Knight_Lab/03_Extraction_test_12201/round_02/data/shotgun/03_filtered_data/dna_bothPS_shotgun_woltka_wol_biom_noNTCs_noMock_hbm.qza\")\n",
    "bt = qza.view(Table)\n",
    "qza_rare = q2.Artifact.load(\"/Users/Justin/Mycelium/UCSD/00_Knight_Lab/03_Extraction_test_12201/round_02/data/shotgun/04_normalized_data/dna_bothPS_shotgun_woltka_wol_biom_noNTCs_noMock_hbm_rar38k.qza\")\n",
    "bt_rare = qza_rare.view(Table)\n",
    "\n",
    "# Metadata\n",
    "md = pd.read_csv(\"/Users/Justin/Mycelium/UCSD/00_Knight_Lab/03_Extraction_test_12201/round_02/sample_metadata/12201_metadata.txt\",sep='\\t', index_col=0)\n",
    "md.index.name=\"sample_name\"\n",
    "#md_q2 = q2.Metadata(md)\n",
    "\n",
    "# Taxonomy\n",
    "tax_q2 = q2.Artifact.load(\"/Users/Justin/Mycelium/UCSD/00_Knight_Lab/03_Extraction_test_12201/round_02/data/shotgun/wol_taxonomy.qza\")\n",
    "tax_df = pd.DataFrame(tax_q2.view(pd.Series))\n",
    "tax_df = add_taxsplit(tax_df)\n",
    "\n",
    "# Tree\n",
    "tree_q2 = q2.Artifact.load(\"/Users/Justin/Mycelium/UCSD/00_Knight_Lab/03_Extraction_test_12201/round_02/data/shotgun/wol_tree.qza\")\n",
    "\n",
    "# Filter samples\n",
    "bt_samples = set(bt.ids(s))\n",
    "md = md[md.index.isin(bt_samples)]\n"
   ]
  },
  {
   "cell_type": "markdown",
   "metadata": {},
   "source": [
    "## Calculate distances"
   ]
  },
  {
   "cell_type": "code",
   "execution_count": 36,
   "metadata": {},
   "outputs": [
    {
     "name": "stderr",
     "output_type": "stream",
     "text": [
      "/Users/Justin/miniconda3/envs/qiime2-2021.11/lib/python3.8/site-packages/sklearn/metrics/pairwise.py:1776: DataConversionWarning: Data was converted to boolean for metric jaccard\n"
     ]
    }
   ],
   "source": [
    "rarefaction_depth = 38000\n",
    "\n",
    "dms = {}\n",
    "\n",
    "# Jaccard\n",
    "dms[\"jaccard\"] = beta(table=qza_rare, metric=\"jaccard\").distance_matrix.view(DistanceMatrix)\n",
    "\n",
    "# weighted unifrac\n",
    "dms[\"weighted_unifrac\"] = beta_phylogenetic(table=qza_rare, phylogeny=tree_q2, metric=\"weighted_unifrac\").distance_matrix.view(DistanceMatrix)\n",
    "\n",
    "# unweighted unifrac\n",
    "dms[\"unweighted_unifrac\"] = beta_phylogenetic(table=qza_rare, phylogeny=tree_q2, metric=\"unweighted_unifrac\").distance_matrix.view(DistanceMatrix)\n",
    "\n",
    "# Deicode\n",
    "bplt, dm= rpca(table=qza,n_components=3, min_sample_count=rarefaction_depth, min_feature_frequency=10)\n",
    "dms[\"deicode\"] = dm.view(DistanceMatrix)\n"
   ]
  },
  {
   "cell_type": "markdown",
   "metadata": {},
   "source": [
    "## Generate dataframes"
   ]
  },
  {
   "cell_type": "code",
   "execution_count": 37,
   "metadata": {},
   "outputs": [],
   "source": [
    "md_sample_type3 = md.loc[:,[\"sample_type_3\",\"extraction_kit_round\"]]\n",
    "out_dfs = {}\n",
    "for metric,dm in dms.items():\n",
    "    df = dm.to_data_frame()\n",
    "    df=df.reset_index().melt(id_vars=\"index\")\n",
    "    df.columns=[\"sample1\",\"sample2\",\"value\"]\n",
    "    df = df.merge(md_sample_type3, right_index=True, left_on=\"sample1\")\n",
    "    df = df.rename(columns={\"sample_type_3\":\"sample1_type\",\"extraction_kit_round\":\"sample1_extraction_kit_round\"})\n",
    "    df = df.merge(md_sample_type3, right_index=True, left_on=\"sample2\")\n",
    "    df = df.rename(columns={\"sample_type_3\":\"sample2_type\",\"extraction_kit_round\":\"sample2_extraction_kit_round\"})\n",
    "    df = df.merge(md.loc[:,[\"sample_type\",\"sample_type_2\",\"biomass_plate\"]], right_index=True, left_on=\"sample1\")\n",
    "    df = df.query('sample1_type==sample2_type & sample1_extraction_kit_round==sample2_extraction_kit_round & sample1!=sample2')\n",
    "    out_dfs[metric] = df\n",
    "    #.groupby([\"sample1_bead_beating\",\"sample1_type\"]).agg({\"value\":[\"mean\",scipy.stats.sem]})\n",
    "    "
   ]
  },
  {
   "cell_type": "markdown",
   "metadata": {},
   "source": [
    "## Export data frames"
   ]
  },
  {
   "cell_type": "code",
   "execution_count": 38,
   "metadata": {},
   "outputs": [],
   "source": [
    "metric=\"jaccard\"\n",
    "df = out_dfs[metric]\n",
    "#df = df.query('sample_type_2 not in [\"doorknob\",\"mouse feces\",\"mouse jejunum tissue\", \"PCR extraction control\", \"two strains\"]')\n",
    "df = df.drop_duplicates(\"value\")\n",
    "df.to_csv(\"/Users/Justin/Mycelium/UCSD/00_Knight_Lab/03_Extraction_test_12201/round_02/results/technical_replicates/data_tech_reps_shotgun_hbm_jaccard.txt\", sep = '\\t', index = False)\n"
   ]
  },
  {
   "cell_type": "code",
   "execution_count": 39,
   "metadata": {},
   "outputs": [],
   "source": [
    "metric=\"deicode\"\n",
    "df = out_dfs[metric]\n",
    "#df = df.query('sample_type_2 not in [\"doorknob\",\"mouse feces\",\"mouse jejunum tissue\", \"PCR extraction control\"]')\n",
    "df = df.drop_duplicates(\"value\")\n",
    "df.to_csv(\"/Users/Justin/Mycelium/UCSD/00_Knight_Lab/03_Extraction_test_12201/round_02/results/technical_replicates/data_tech_reps_shotgun_hbm_rpca.txt\", sep = '\\t', index = False)\n"
   ]
  },
  {
   "cell_type": "code",
   "execution_count": 40,
   "metadata": {},
   "outputs": [],
   "source": [
    "metric=\"unweighted_unifrac\"\n",
    "df = out_dfs[metric]\n",
    "#df = df.query('sample_type_2 not in [\"doorknob\",\"mouse feces\",\"mouse jejunum tissue\", \"PCR extraction control\"]')\n",
    "df = df.drop_duplicates(\"value\")\n",
    "df.to_csv(\"/Users/Justin/Mycelium/UCSD/00_Knight_Lab/03_Extraction_test_12201/round_02/results/technical_replicates/data_tech_reps_shotgun_hbm_unifrac.txt\", sep = '\\t', index = False)\n"
   ]
  },
  {
   "cell_type": "code",
   "execution_count": 41,
   "metadata": {},
   "outputs": [],
   "source": [
    "metric=\"weighted_unifrac\"\n",
    "df = out_dfs[metric]\n",
    "#df = df.query('sample_type_2 not in [\"doorknob\",\"mouse feces\",\"mouse jejunum tissue\", \"PCR extraction control\"]')\n",
    "df = df.drop_duplicates(\"value\")\n",
    "df.to_csv(\"/Users/Justin/Mycelium/UCSD/00_Knight_Lab/03_Extraction_test_12201/round_02/results/technical_replicates/data_tech_reps_shotgun_hbm_wunifrac.txt\", sep = '\\t', index = False)\n"
   ]
  },
  {
   "cell_type": "markdown",
   "metadata": {},
   "source": [
    "# Metagenomic - low biomass"
   ]
  },
  {
   "cell_type": "markdown",
   "metadata": {},
   "source": [
    "## Create function for making taxonomy files human readable"
   ]
  },
  {
   "cell_type": "code",
   "execution_count": 3,
   "metadata": {},
   "outputs": [],
   "source": [
    "def add_taxsplit(taxdf):\n",
    "    # split taxonomy \n",
    "    def tax_split(tax_id, tax_level): return tax_id.split(\n",
    "        tax_level)[1].split(';')[0]\n",
    "    for level, lname in zip(['k__', 'p__', 'c__', 'o__',\n",
    "                             'f__', 'g__', 's__'],\n",
    "                            ['kingdom', 'phylum', 'class',\n",
    "                             'order', 'family', 'genus',\n",
    "                             'species']):\n",
    "        if lname not in taxdf.columns:\n",
    "            taxonomy_tmp = []\n",
    "            for tax in taxdf.Taxon:\n",
    "                if tax is not np.nan and\\\n",
    "                   level in tax and\\\n",
    "                   len(tax_split(tax, level)) > 0:\n",
    "                    taxonomy_tmp.append(tax_split(tax,\n",
    "                                                  level))\n",
    "                else:\n",
    "                    taxonomy_tmp.append(np.nan)\n",
    "            taxdf[lname] = taxonomy_tmp\n",
    "    return taxdf\n"
   ]
  },
  {
   "cell_type": "markdown",
   "metadata": {},
   "source": [
    "## Import data"
   ]
  },
  {
   "cell_type": "code",
   "execution_count": 42,
   "metadata": {},
   "outputs": [],
   "source": [
    "# Data\n",
    "qza = q2.Artifact.load(\"/Users/Justin/Mycelium/UCSD/00_Knight_Lab/03_Extraction_test_12201/round_02/data/shotgun/03_filtered_data/dna_bothPS_shotgun_woltka_wol_biom_noNTCs_noMock_lbm.qza\")\n",
    "bt = qza.view(Table)\n",
    "qza_rare = q2.Artifact.load(\"/Users/Justin/Mycelium/UCSD/00_Knight_Lab/03_Extraction_test_12201/round_02/data/shotgun/04_normalized_data/dna_bothPS_shotgun_woltka_wol_biom_noNTCs_noMock_lbm_rar600.qza\")\n",
    "bt_rare = qza_rare.view(Table)\n",
    "\n",
    "# Metadata\n",
    "md = pd.read_csv(\"/Users/Justin/Mycelium/UCSD/00_Knight_Lab/03_Extraction_test_12201/round_02/sample_metadata/12201_metadata.txt\",sep='\\t', index_col=0)\n",
    "md.index.name=\"sample_name\"\n",
    "#md_q2 = q2.Metadata(md)\n",
    "\n",
    "# Taxonomy\n",
    "tax_q2 = q2.Artifact.load(\"/Users/Justin/Mycelium/UCSD/00_Knight_Lab/03_Extraction_test_12201/round_02/data/shotgun/wol_taxonomy.qza\")\n",
    "tax_df = pd.DataFrame(tax_q2.view(pd.Series))\n",
    "tax_df = add_taxsplit(tax_df)\n",
    "\n",
    "# Tree\n",
    "tree_q2 = q2.Artifact.load(\"/Users/Justin/Mycelium/UCSD/00_Knight_Lab/03_Extraction_test_12201/round_02/data/shotgun/wol_tree.qza\")\n",
    "\n",
    "# Filter samples\n",
    "bt_samples = set(bt.ids(s))\n",
    "md = md[md.index.isin(bt_samples)]\n"
   ]
  },
  {
   "cell_type": "markdown",
   "metadata": {},
   "source": [
    "## Calculate distances"
   ]
  },
  {
   "cell_type": "code",
   "execution_count": 43,
   "metadata": {},
   "outputs": [
    {
     "name": "stderr",
     "output_type": "stream",
     "text": [
      "/Users/Justin/miniconda3/envs/qiime2-2021.11/lib/python3.8/site-packages/sklearn/metrics/pairwise.py:1776: DataConversionWarning: Data was converted to boolean for metric jaccard\n"
     ]
    }
   ],
   "source": [
    "rarefaction_depth = 600\n",
    "\n",
    "dms = {}\n",
    "\n",
    "# Jaccard\n",
    "dms[\"jaccard\"] = beta(table=qza_rare, metric=\"jaccard\").distance_matrix.view(DistanceMatrix)\n",
    "\n",
    "# weighted unifrac\n",
    "dms[\"weighted_unifrac\"] = beta_phylogenetic(table=qza_rare, phylogeny=tree_q2, metric=\"weighted_unifrac\").distance_matrix.view(DistanceMatrix)\n",
    "\n",
    "# unweighted unifrac\n",
    "dms[\"unweighted_unifrac\"] = beta_phylogenetic(table=qza_rare, phylogeny=tree_q2, metric=\"unweighted_unifrac\").distance_matrix.view(DistanceMatrix)\n",
    "\n",
    "# Deicode\n",
    "bplt, dm= rpca(table=qza,n_components=3, min_sample_count=rarefaction_depth, min_feature_frequency=10)\n",
    "dms[\"deicode\"] = dm.view(DistanceMatrix)\n"
   ]
  },
  {
   "cell_type": "markdown",
   "metadata": {},
   "source": [
    "## Generate dataframes"
   ]
  },
  {
   "cell_type": "code",
   "execution_count": 44,
   "metadata": {},
   "outputs": [],
   "source": [
    "md_sample_type3 = md.loc[:,[\"sample_type_3\",\"extraction_kit_round\"]]\n",
    "out_dfs = {}\n",
    "for metric,dm in dms.items():\n",
    "    df = dm.to_data_frame()\n",
    "    df=df.reset_index().melt(id_vars=\"index\")\n",
    "    df.columns=[\"sample1\",\"sample2\",\"value\"]\n",
    "    df = df.merge(md_sample_type3, right_index=True, left_on=\"sample1\")\n",
    "    df = df.rename(columns={\"sample_type_3\":\"sample1_type\",\"extraction_kit_round\":\"sample1_extraction_kit_round\"})\n",
    "    df = df.merge(md_sample_type3, right_index=True, left_on=\"sample2\")\n",
    "    df = df.rename(columns={\"sample_type_3\":\"sample2_type\",\"extraction_kit_round\":\"sample2_extraction_kit_round\"})\n",
    "    df = df.merge(md.loc[:,[\"sample_type\",\"sample_type_2\",\"biomass_plate\"]], right_index=True, left_on=\"sample1\")\n",
    "    df = df.query('sample1_type==sample2_type & sample1_extraction_kit_round==sample2_extraction_kit_round & sample1!=sample2')\n",
    "    out_dfs[metric] = df\n",
    "    #.groupby([\"sample1_bead_beating\",\"sample1_type\"]).agg({\"value\":[\"mean\",scipy.stats.sem]})\n",
    "    "
   ]
  },
  {
   "cell_type": "markdown",
   "metadata": {},
   "source": [
    "## Export data frames"
   ]
  },
  {
   "cell_type": "code",
   "execution_count": 45,
   "metadata": {},
   "outputs": [],
   "source": [
    "metric=\"jaccard\"\n",
    "df = out_dfs[metric]\n",
    "#df = df.query('sample_type_2 not in [\"doorknob\",\"mouse feces\",\"mouse jejunum tissue\", \"PCR extraction control\", \"two strains\"]')\n",
    "df = df.drop_duplicates(\"value\")\n",
    "df.to_csv(\"/Users/Justin/Mycelium/UCSD/00_Knight_Lab/03_Extraction_test_12201/round_02/results/technical_replicates/data_tech_reps_shotgun_lbm_jaccard.txt\", sep = '\\t', index = False)\n"
   ]
  },
  {
   "cell_type": "code",
   "execution_count": 46,
   "metadata": {},
   "outputs": [],
   "source": [
    "metric=\"deicode\"\n",
    "df = out_dfs[metric]\n",
    "#df = df.query('sample_type_2 not in [\"doorknob\",\"mouse feces\",\"mouse jejunum tissue\", \"PCR extraction control\"]')\n",
    "df = df.drop_duplicates(\"value\")\n",
    "df.to_csv(\"/Users/Justin/Mycelium/UCSD/00_Knight_Lab/03_Extraction_test_12201/round_02/results/technical_replicates/data_tech_reps_shotgun_lbm_rpca.txt\", sep = '\\t', index = False)\n"
   ]
  },
  {
   "cell_type": "code",
   "execution_count": 47,
   "metadata": {},
   "outputs": [],
   "source": [
    "metric=\"unweighted_unifrac\"\n",
    "df = out_dfs[metric]\n",
    "#df = df.query('sample_type_2 not in [\"doorknob\",\"mouse feces\",\"mouse jejunum tissue\", \"PCR extraction control\"]')\n",
    "df = df.drop_duplicates(\"value\")\n",
    "df.to_csv(\"/Users/Justin/Mycelium/UCSD/00_Knight_Lab/03_Extraction_test_12201/round_02/results/technical_replicates/data_tech_reps_shotgun_lbm_unifrac.txt\", sep = '\\t', index = False)\n"
   ]
  },
  {
   "cell_type": "code",
   "execution_count": 48,
   "metadata": {},
   "outputs": [],
   "source": [
    "metric=\"weighted_unifrac\"\n",
    "df = out_dfs[metric]\n",
    "#df = df.query('sample_type_2 not in [\"doorknob\",\"mouse feces\",\"mouse jejunum tissue\", \"PCR extraction control\"]')\n",
    "df = df.drop_duplicates(\"value\")\n",
    "df.to_csv(\"/Users/Justin/Mycelium/UCSD/00_Knight_Lab/03_Extraction_test_12201/round_02/results/technical_replicates/data_tech_reps_shotgun_lbm_wunifrac.txt\", sep = '\\t', index = False)\n"
   ]
  },
  {
   "cell_type": "code",
   "execution_count": null,
   "metadata": {},
   "outputs": [],
   "source": []
  }
 ],
 "metadata": {
  "kernelspec": {
   "display_name": "Python (qiime2-2021.11)",
   "language": "python",
   "name": "qiime2-2021.11"
  },
  "language_info": {
   "codemirror_mode": {
    "name": "ipython",
    "version": 3
   },
   "file_extension": ".py",
   "mimetype": "text/x-python",
   "name": "python",
   "nbconvert_exporter": "python",
   "pygments_lexer": "ipython3",
   "version": "3.8.12"
  }
 },
 "nbformat": 4,
 "nbformat_minor": 4
}
